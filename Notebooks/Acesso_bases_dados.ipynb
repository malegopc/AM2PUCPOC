{
  "nbformat": 4,
  "nbformat_minor": 0,
  "metadata": {
    "colab": {
      "name": "Acesso_bases_dados.ipynb",
      "provenance": [],
      "collapsed_sections": []
    },
    "kernelspec": {
      "name": "python3",
      "display_name": "Python 3"
    }
  },
  "cells": [
    {
      "cell_type": "markdown",
      "metadata": {
        "id": "INl1Ce2XJJDT"
      },
      "source": [
        "\r\n",
        "\r\n",
        "---\r\n",
        "\r\n",
        "---\r\n",
        "# Acesso às bases de dados da disciplina \r\n",
        "\r\n",
        "Esse notebook tem como objetivo apenas testar o acesso aos conjuntos de dados que poderão ser utilizados no decorrer da disciplina disponibilizados no *GitHub* e *Kaggle*.\r\n",
        "\r\n",
        "\r\n",
        "---\r\n",
        "\r\n",
        "---\r\n",
        "\r\n",
        "\r\n",
        "\r\n"
      ]
    },
    {
      "cell_type": "markdown",
      "metadata": {
        "id": "5HZ_obrXJcn3"
      },
      "source": [
        "## Acesso pelo *GitHub*\r\n",
        "\r\n",
        "Basta usar o comando abaixo para clonar o repositório de dados da disciplina disponível no *GitHub* pelo endereço: https://github.com/malegopc/AM2PUCPOC."
      ]
    },
    {
      "cell_type": "code",
      "metadata": {
        "id": "NN23X4hiKGV_"
      },
      "source": [
        "!git clone https://github.com/malegopc/AM2PUCPOC"
      ],
      "execution_count": null,
      "outputs": []
    },
    {
      "cell_type": "markdown",
      "metadata": {
        "id": "mWkZ87oDIHlK"
      },
      "source": [
        "### Ações da Google\r\n",
        "\r\n",
        "Acesso ao arquivo \"GOOG_train.csv\" contendo os valores das ações da Google no período de 02-01-2015 até 30-12-2019."
      ]
    },
    {
      "cell_type": "code",
      "metadata": {
        "id": "x5Af6BKhKiby"
      },
      "source": [
        "import pandas as pd\r\n",
        "# lê arquivo de dados\r\n",
        "df_google = pd.read_csv('/content/AM2PUCPOC/Datasets/Ações_Google/GOOG_train.csv')\r\n",
        "# mostra os dados\r\n",
        "df_google"
      ],
      "execution_count": null,
      "outputs": []
    },
    {
      "cell_type": "markdown",
      "metadata": {
        "id": "eQJx0gHNL6W5"
      },
      "source": [
        "### Tweets\r\n",
        "\r\n",
        "Acesso ao conjunto de dados de aproximadamente 15.000 tweets sobre uma grande companhia aérea dos Estados Unidos."
      ]
    },
    {
      "cell_type": "code",
      "metadata": {
        "id": "nu7DbzWXMQnY"
      },
      "source": [
        "# lê arquivo de dados\r\n",
        "df_tweets = pd.read_csv('/content/AM2PUCPOC/Datasets/Twitter/Tweets.csv')\r\n",
        "# mostra os dados\r\n",
        "df_tweets.head(3)"
      ],
      "execution_count": null,
      "outputs": []
    },
    {
      "cell_type": "markdown",
      "metadata": {
        "id": "F_CL-ht_Gp_k"
      },
      "source": [
        "## Acesso pelo *Kaggle* (sem usar API tokens)\r\n",
        "\r\n",
        "Basta executar o comando \"wget\" no endereço do link utilizado pelo site para fazer o download da base de dados  hospedada no \"Kaggle\"."
      ]
    },
    {
      "cell_type": "markdown",
      "metadata": {
        "id": "f9--MufIMrCY"
      },
      "source": [
        "## Dogs vs Cats \r\n",
        "\r\n",
        "- Dados de treino (dataset_treino): 8.000 imagens = 4.000 imagens de cães e 4.000 imagens de gatos\r\n",
        "\r\n",
        "- Dados de validação (dataset_validação): 2.000 imagens = 1.000 imagens de cães e 1.000 imagens de gatos\r\n",
        "\r\n",
        "- Dados de teste (dataset_teste): 1.000 imagens de cães e gatos\r\n",
        "\r\n",
        "Para acessar a base de dados execute os seguintes passos:\r\n",
        "\r\n",
        "1.   Acesse o endereço: https://www.kaggle.com/mrcioleandrogonalves/dogs-vs-cats\r\n",
        "2.   Clique em \"download\" (e pode cancelar o processo assim que iniciar)\r\n",
        "3.   Copiar o link para este processo na aba de downloads do navegador e colar no espaço entre aspas simples no comando wget abaixo (o endereço é longo!)"
      ]
    },
    {
      "cell_type": "code",
      "metadata": {
        "id": "NQqLSgiyoOj-"
      },
      "source": [
        "!wget ''"
      ],
      "execution_count": null,
      "outputs": []
    },
    {
      "cell_type": "markdown",
      "metadata": {
        "id": "XTsnRfWwoWkk"
      },
      "source": [
        "### Renomear o arquivo (cujo nome fica longo demais)\r\n",
        "\r\n",
        "Copie o nome do arquivo baixado e cole no espaço entre aspas simples do comando abaixo."
      ]
    },
    {
      "cell_type": "code",
      "metadata": {
        "id": "b2QyerekokXP"
      },
      "source": [
        "!mv '' dogs_vs_cats.zip"
      ],
      "execution_count": null,
      "outputs": []
    },
    {
      "cell_type": "markdown",
      "metadata": {
        "id": "5qsU62Z8p9kV"
      },
      "source": [
        "### Descompactar"
      ]
    },
    {
      "cell_type": "code",
      "metadata": {
        "id": "IKoM5Y8cM4zH"
      },
      "source": [
        "!unzip -qu dogs_vs_cats.zip -d Dogs_vs_cats\r\n",
        "!ls -l"
      ],
      "execution_count": null,
      "outputs": []
    },
    {
      "cell_type": "markdown",
      "metadata": {
        "id": "1DTipVXkPcV5"
      },
      "source": [
        "Abaixo seguem visualizações de algumas imagens do conjunto de dados de treinamento (dataset_treino)."
      ]
    },
    {
      "cell_type": "code",
      "metadata": {
        "id": "9E-W4I5PPewO"
      },
      "source": [
        "from IPython.display import Image\r\n",
        "Image(filename = 'Dogs_vs_cats/dataset_treino/cats/cat.7.jpg')"
      ],
      "execution_count": null,
      "outputs": []
    },
    {
      "cell_type": "code",
      "metadata": {
        "id": "BR6iV6sUPilm"
      },
      "source": [
        "Image(filename='Dogs_vs_cats/dataset_treino/dogs/dog.13.jpg')"
      ],
      "execution_count": null,
      "outputs": []
    },
    {
      "cell_type": "code",
      "metadata": {
        "id": "H8SuuVXlPtX0"
      },
      "source": [
        "Image(filename='Dogs_vs_cats/dataset_treino/cats/cat.3901.jpg')"
      ],
      "execution_count": null,
      "outputs": []
    },
    {
      "cell_type": "code",
      "metadata": {
        "id": "2rJJIISmPxLU"
      },
      "source": [
        "Image(filename='Dogs_vs_cats/dataset_treino/dogs/dog.3998.jpg')"
      ],
      "execution_count": null,
      "outputs": []
    },
    {
      "cell_type": "markdown",
      "metadata": {
        "id": "aQ4bPwYcPy3l"
      },
      "source": [
        "## COVID-19\r\n",
        "\r\n",
        "Conjuntos de dados de imagens de tomografias computadorizadas (CT-scans: Computerized Tomography - scans) em duas classes:\r\n",
        "\r\n",
        "- Dados de treino: 1800 imagens = 900 imagens CT de pulmões com COVID e 900 imagens CT de pulmões sem COVID\r\n",
        "\r\n",
        "- Dados de validação: 600 imagens = 300 imagens CT de pulmões com COVID e 300 imagens CT de pulmões sem COVID\r\n",
        "\r\n",
        "- Dados de teste: 60 imagens = 30 imagens de pulmões com COVID e 30 imagens de pulmões sem COVID\r\n",
        "\r\n",
        "Para acessar a base de dados execute os seguintes passos:\r\n",
        "\r\n",
        "1.   Acesse o endereço: https://www.kaggle.com/mrcioleandrogonalves/covid19 \r\n",
        "2.   Clique em \"download\" (e pode cancelar o processo assim que iniciar)\r\n",
        "3.   Copiar o link para este processo na aba de downloads do navegador e colar no espaço entre aspas simples no comando wget abaixo (o endereço é longo!)\r\n"
      ]
    },
    {
      "cell_type": "code",
      "metadata": {
        "id": "1lSs9z4mpuUW"
      },
      "source": [
        "!wget ''"
      ],
      "execution_count": null,
      "outputs": []
    },
    {
      "cell_type": "markdown",
      "metadata": {
        "id": "X5RIBCOwqF1O"
      },
      "source": [
        "### Renomear o arquivo (cujo nome fica longo demais)\r\n",
        "\r\n",
        "Copie o nome do arquivo baixado e cole no espaço entre aspas simples do comando abaixo."
      ]
    },
    {
      "cell_type": "code",
      "metadata": {
        "id": "1cwAerFlqHOl"
      },
      "source": [
        "!mv '' covid-19.zip"
      ],
      "execution_count": null,
      "outputs": []
    },
    {
      "cell_type": "markdown",
      "metadata": {
        "id": "SesQp88dqqNF"
      },
      "source": [
        "### Descompactar"
      ]
    },
    {
      "cell_type": "code",
      "metadata": {
        "id": "sF6IaM7RQ0Cl"
      },
      "source": [
        "!unzip -qu covid-19.zip -d COVID-19\r\n",
        "!ls -l"
      ],
      "execution_count": null,
      "outputs": []
    },
    {
      "cell_type": "markdown",
      "metadata": {
        "id": "6sa5QBtnRBl0"
      },
      "source": [
        "Imagens COVID"
      ]
    },
    {
      "cell_type": "code",
      "metadata": {
        "id": "lZf5ShNpREQ8"
      },
      "source": [
        "import matplotlib.pyplot as plt\r\n",
        "import os\r\n",
        "\r\n",
        "arqs_img = os.listdir('COVID-19/dataset_treino/COVID')\r\n",
        "max_arqs = len(arqs_img)\r\n",
        "rows = 5\r\n",
        "cols = 5\r\n",
        "if (rows*cols < max_arqs):\r\n",
        "  fig, ax = plt.subplots(rows, cols, figsize=(12, 12))\r\n",
        "  n = 0\r\n",
        "  for i in range(rows):\r\n",
        "    for j in range(cols):\r\n",
        "      file_name = 'COVID-19/dataset_treino/COVID/'+arqs_img[n]\r\n",
        "      image = plt.imread(file_name)\r\n",
        "      ax[i, j].set_title(arqs_img[n])\r\n",
        "      ax[i, j].set_xticks([])\r\n",
        "      ax[i, j].set_yticks([])\r\n",
        "      ax[i, j].imshow(image)\r\n",
        "      n += 1"
      ],
      "execution_count": null,
      "outputs": []
    }
  ]
}