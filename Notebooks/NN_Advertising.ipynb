{
  "nbformat": 4,
  "nbformat_minor": 0,
  "metadata": {
    "colab": {
      "name": "NN_Advertising.ipynb",
      "provenance": [],
      "collapsed_sections": []
    },
    "kernelspec": {
      "name": "python3",
      "display_name": "Python 3"
    },
    "accelerator": "GPU"
  },
  "cells": [
    {
      "cell_type": "markdown",
      "metadata": {
        "id": "jZM3XREkvOba"
      },
      "source": [
        "\n",
        "\n",
        "---\n",
        "\n",
        "---\n",
        "## Previsão de vendas por meio de anúncios de publicidade\n",
        "\n",
        "Este notebook implementa uma rede neural para estimar (prever) o aumento ou diminuição nas vendas com base nas modalidades de anúncios (propagandas), e compara o seu resultado com a Regressão Linear do Sklearn.\n",
        "\n",
        "Trata-se de um problema de regressão.\n",
        "\n",
        "---\n",
        "\n",
        "---\n",
        "\n",
        "\n",
        "\n"
      ]
    },
    {
      "cell_type": "markdown",
      "metadata": {
        "id": "IPxitpXn5GFN"
      },
      "source": [
        "## Conjunto de dados\n",
        "\n",
        "Fonte:\n",
        "- https://statlearning.com/Advertising.csv\n",
        "- https://statlearning.com/data.html\n",
        "\n",
        "O conjunto de dados exibe as vendas, em milhares de unidades, em função dos orçamentos de TV, rádio e jornais, em milhares de dólares, para 200 mercados diferentes. \n",
        "\n",
        "- Número de Instâncias: 200\n",
        "\n",
        "- Número de Atributos: 3 atributos numéricos e o target\n",
        "\n",
        "- Informações dos Atributos:\n",
        "  - TV\n",
        "  - Rádio\n",
        "  - Jornais (newspaper)\n",
        "  Obs: orçamentos em milhares de dólares\n",
        "  \n",
        "- Informação da variável de destino: sales (vendas) em milhares de unidades. "
      ]
    },
    {
      "cell_type": "markdown",
      "metadata": {
        "id": "4G6UZT6QC_us"
      },
      "source": [
        "## Leitura e preparação dos dados\n",
        "\n",
        "Leitura do arquivo 'Advertising.csv' utilizando os pandas."
      ]
    },
    {
      "cell_type": "code",
      "metadata": {
        "colab": {
          "base_uri": "https://localhost:8080/",
          "height": 538
        },
        "id": "jGSqUwVE7QvS",
        "outputId": "16b71d23-e8b7-4c53-8247-9d50c611a7a6"
      },
      "source": [
        "import pandas as pd\n",
        "\n",
        "# Clone do repositório de dados do GitHub\n",
        "!git clone https://github.com/malegopc/AM2PUCPOC\n",
        "# Leitura dos dados do arquivo .csv como dataframe \n",
        "advertis = pd.read_csv(\"/content/AM2PUCPOC/Datasets/Advertising/Advertising.csv\")\n",
        "# Mostra as 5 primeiras e 5 últimas linhas\n",
        "advertis"
      ],
      "execution_count": null,
      "outputs": [
        {
          "output_type": "stream",
          "text": [
            "Cloning into 'AM2PUCPOC'...\n",
            "remote: Enumerating objects: 31, done.\u001b[K\n",
            "remote: Counting objects: 100% (31/31), done.\u001b[K\n",
            "remote: Compressing objects: 100% (27/27), done.\u001b[K\n",
            "remote: Total 279 (delta 10), reused 0 (delta 0), pack-reused 248\u001b[K\n",
            "Receiving objects: 100% (279/279), 4.01 MiB | 27.72 MiB/s, done.\n",
            "Resolving deltas: 100% (76/76), done.\n"
          ],
          "name": "stdout"
        },
        {
          "output_type": "execute_result",
          "data": {
            "text/html": [
              "<div>\n",
              "<style scoped>\n",
              "    .dataframe tbody tr th:only-of-type {\n",
              "        vertical-align: middle;\n",
              "    }\n",
              "\n",
              "    .dataframe tbody tr th {\n",
              "        vertical-align: top;\n",
              "    }\n",
              "\n",
              "    .dataframe thead th {\n",
              "        text-align: right;\n",
              "    }\n",
              "</style>\n",
              "<table border=\"1\" class=\"dataframe\">\n",
              "  <thead>\n",
              "    <tr style=\"text-align: right;\">\n",
              "      <th></th>\n",
              "      <th>Unnamed: 0</th>\n",
              "      <th>TV</th>\n",
              "      <th>radio</th>\n",
              "      <th>newspaper</th>\n",
              "      <th>sales</th>\n",
              "    </tr>\n",
              "  </thead>\n",
              "  <tbody>\n",
              "    <tr>\n",
              "      <th>0</th>\n",
              "      <td>1</td>\n",
              "      <td>230.1</td>\n",
              "      <td>37.8</td>\n",
              "      <td>69.2</td>\n",
              "      <td>22.1</td>\n",
              "    </tr>\n",
              "    <tr>\n",
              "      <th>1</th>\n",
              "      <td>2</td>\n",
              "      <td>44.5</td>\n",
              "      <td>39.3</td>\n",
              "      <td>45.1</td>\n",
              "      <td>10.4</td>\n",
              "    </tr>\n",
              "    <tr>\n",
              "      <th>2</th>\n",
              "      <td>3</td>\n",
              "      <td>17.2</td>\n",
              "      <td>45.9</td>\n",
              "      <td>69.3</td>\n",
              "      <td>9.3</td>\n",
              "    </tr>\n",
              "    <tr>\n",
              "      <th>3</th>\n",
              "      <td>4</td>\n",
              "      <td>151.5</td>\n",
              "      <td>41.3</td>\n",
              "      <td>58.5</td>\n",
              "      <td>18.5</td>\n",
              "    </tr>\n",
              "    <tr>\n",
              "      <th>4</th>\n",
              "      <td>5</td>\n",
              "      <td>180.8</td>\n",
              "      <td>10.8</td>\n",
              "      <td>58.4</td>\n",
              "      <td>12.9</td>\n",
              "    </tr>\n",
              "    <tr>\n",
              "      <th>...</th>\n",
              "      <td>...</td>\n",
              "      <td>...</td>\n",
              "      <td>...</td>\n",
              "      <td>...</td>\n",
              "      <td>...</td>\n",
              "    </tr>\n",
              "    <tr>\n",
              "      <th>195</th>\n",
              "      <td>196</td>\n",
              "      <td>38.2</td>\n",
              "      <td>3.7</td>\n",
              "      <td>13.8</td>\n",
              "      <td>7.6</td>\n",
              "    </tr>\n",
              "    <tr>\n",
              "      <th>196</th>\n",
              "      <td>197</td>\n",
              "      <td>94.2</td>\n",
              "      <td>4.9</td>\n",
              "      <td>8.1</td>\n",
              "      <td>9.7</td>\n",
              "    </tr>\n",
              "    <tr>\n",
              "      <th>197</th>\n",
              "      <td>198</td>\n",
              "      <td>177.0</td>\n",
              "      <td>9.3</td>\n",
              "      <td>6.4</td>\n",
              "      <td>12.8</td>\n",
              "    </tr>\n",
              "    <tr>\n",
              "      <th>198</th>\n",
              "      <td>199</td>\n",
              "      <td>283.6</td>\n",
              "      <td>42.0</td>\n",
              "      <td>66.2</td>\n",
              "      <td>25.5</td>\n",
              "    </tr>\n",
              "    <tr>\n",
              "      <th>199</th>\n",
              "      <td>200</td>\n",
              "      <td>232.1</td>\n",
              "      <td>8.6</td>\n",
              "      <td>8.7</td>\n",
              "      <td>13.4</td>\n",
              "    </tr>\n",
              "  </tbody>\n",
              "</table>\n",
              "<p>200 rows × 5 columns</p>\n",
              "</div>"
            ],
            "text/plain": [
              "     Unnamed: 0     TV  radio  newspaper  sales\n",
              "0             1  230.1   37.8       69.2   22.1\n",
              "1             2   44.5   39.3       45.1   10.4\n",
              "2             3   17.2   45.9       69.3    9.3\n",
              "3             4  151.5   41.3       58.5   18.5\n",
              "4             5  180.8   10.8       58.4   12.9\n",
              "..          ...    ...    ...        ...    ...\n",
              "195         196   38.2    3.7       13.8    7.6\n",
              "196         197   94.2    4.9        8.1    9.7\n",
              "197         198  177.0    9.3        6.4   12.8\n",
              "198         199  283.6   42.0       66.2   25.5\n",
              "199         200  232.1    8.6        8.7   13.4\n",
              "\n",
              "[200 rows x 5 columns]"
            ]
          },
          "metadata": {
            "tags": []
          },
          "execution_count": 1
        }
      ]
    },
    {
      "cell_type": "markdown",
      "metadata": {
        "id": "8Sao1JGYEP2R"
      },
      "source": [
        "## Análise prévia dos dados\n",
        "\n",
        "Imprime o número de dados non-null (não ausentes) e o tipo de cada atributo."
      ]
    },
    {
      "cell_type": "code",
      "metadata": {
        "colab": {
          "base_uri": "https://localhost:8080/"
        },
        "id": "rRbFDx1iDCLq",
        "outputId": "b70d6cd1-525d-4f54-fe08-805f9af91a81"
      },
      "source": [
        "# Mostra o número de dados non-null (não ausentes) e o tipo de cada atributo\n",
        "print('Informações sobre os dados:\\n')\n",
        "advertis.info()\n",
        "# Soma o número de dados null (ausentes)\n",
        "print('\\n\\nSoma de dados null (vazios):\\n')\n",
        "advertis.isnull().sum()"
      ],
      "execution_count": null,
      "outputs": [
        {
          "output_type": "stream",
          "text": [
            "Informações sobre os dados:\n",
            "\n",
            "<class 'pandas.core.frame.DataFrame'>\n",
            "RangeIndex: 200 entries, 0 to 199\n",
            "Data columns (total 5 columns):\n",
            " #   Column      Non-Null Count  Dtype  \n",
            "---  ------      --------------  -----  \n",
            " 0   Unnamed: 0  200 non-null    int64  \n",
            " 1   TV          200 non-null    float64\n",
            " 2   radio       200 non-null    float64\n",
            " 3   newspaper   200 non-null    float64\n",
            " 4   sales       200 non-null    float64\n",
            "dtypes: float64(4), int64(1)\n",
            "memory usage: 7.9 KB\n",
            "\n",
            "\n",
            "Soma de dados null (vazios):\n",
            "\n"
          ],
          "name": "stdout"
        },
        {
          "output_type": "execute_result",
          "data": {
            "text/plain": [
              "Unnamed: 0    0\n",
              "TV            0\n",
              "radio         0\n",
              "newspaper     0\n",
              "sales         0\n",
              "dtype: int64"
            ]
          },
          "metadata": {
            "tags": []
          },
          "execution_count": 2
        }
      ]
    },
    {
      "cell_type": "markdown",
      "metadata": {
        "id": "Rb5BrMqzDT9Q"
      },
      "source": [
        "## Eliminação de dados desnecessários\n"
      ]
    },
    {
      "cell_type": "code",
      "metadata": {
        "colab": {
          "base_uri": "https://localhost:8080/",
          "height": 419
        },
        "id": "Uws9ESq9FXDG",
        "outputId": "42dbae38-88ad-4c21-fd0e-697f67fd09ae"
      },
      "source": [
        "# Elimina primeira coluna\n",
        "advertis.drop(advertis.columns[[0]], axis=1, inplace=True)\n",
        "advertis"
      ],
      "execution_count": null,
      "outputs": [
        {
          "output_type": "execute_result",
          "data": {
            "text/html": [
              "<div>\n",
              "<style scoped>\n",
              "    .dataframe tbody tr th:only-of-type {\n",
              "        vertical-align: middle;\n",
              "    }\n",
              "\n",
              "    .dataframe tbody tr th {\n",
              "        vertical-align: top;\n",
              "    }\n",
              "\n",
              "    .dataframe thead th {\n",
              "        text-align: right;\n",
              "    }\n",
              "</style>\n",
              "<table border=\"1\" class=\"dataframe\">\n",
              "  <thead>\n",
              "    <tr style=\"text-align: right;\">\n",
              "      <th></th>\n",
              "      <th>TV</th>\n",
              "      <th>radio</th>\n",
              "      <th>newspaper</th>\n",
              "      <th>sales</th>\n",
              "    </tr>\n",
              "  </thead>\n",
              "  <tbody>\n",
              "    <tr>\n",
              "      <th>0</th>\n",
              "      <td>230.1</td>\n",
              "      <td>37.8</td>\n",
              "      <td>69.2</td>\n",
              "      <td>22.1</td>\n",
              "    </tr>\n",
              "    <tr>\n",
              "      <th>1</th>\n",
              "      <td>44.5</td>\n",
              "      <td>39.3</td>\n",
              "      <td>45.1</td>\n",
              "      <td>10.4</td>\n",
              "    </tr>\n",
              "    <tr>\n",
              "      <th>2</th>\n",
              "      <td>17.2</td>\n",
              "      <td>45.9</td>\n",
              "      <td>69.3</td>\n",
              "      <td>9.3</td>\n",
              "    </tr>\n",
              "    <tr>\n",
              "      <th>3</th>\n",
              "      <td>151.5</td>\n",
              "      <td>41.3</td>\n",
              "      <td>58.5</td>\n",
              "      <td>18.5</td>\n",
              "    </tr>\n",
              "    <tr>\n",
              "      <th>4</th>\n",
              "      <td>180.8</td>\n",
              "      <td>10.8</td>\n",
              "      <td>58.4</td>\n",
              "      <td>12.9</td>\n",
              "    </tr>\n",
              "    <tr>\n",
              "      <th>...</th>\n",
              "      <td>...</td>\n",
              "      <td>...</td>\n",
              "      <td>...</td>\n",
              "      <td>...</td>\n",
              "    </tr>\n",
              "    <tr>\n",
              "      <th>195</th>\n",
              "      <td>38.2</td>\n",
              "      <td>3.7</td>\n",
              "      <td>13.8</td>\n",
              "      <td>7.6</td>\n",
              "    </tr>\n",
              "    <tr>\n",
              "      <th>196</th>\n",
              "      <td>94.2</td>\n",
              "      <td>4.9</td>\n",
              "      <td>8.1</td>\n",
              "      <td>9.7</td>\n",
              "    </tr>\n",
              "    <tr>\n",
              "      <th>197</th>\n",
              "      <td>177.0</td>\n",
              "      <td>9.3</td>\n",
              "      <td>6.4</td>\n",
              "      <td>12.8</td>\n",
              "    </tr>\n",
              "    <tr>\n",
              "      <th>198</th>\n",
              "      <td>283.6</td>\n",
              "      <td>42.0</td>\n",
              "      <td>66.2</td>\n",
              "      <td>25.5</td>\n",
              "    </tr>\n",
              "    <tr>\n",
              "      <th>199</th>\n",
              "      <td>232.1</td>\n",
              "      <td>8.6</td>\n",
              "      <td>8.7</td>\n",
              "      <td>13.4</td>\n",
              "    </tr>\n",
              "  </tbody>\n",
              "</table>\n",
              "<p>200 rows × 4 columns</p>\n",
              "</div>"
            ],
            "text/plain": [
              "        TV  radio  newspaper  sales\n",
              "0    230.1   37.8       69.2   22.1\n",
              "1     44.5   39.3       45.1   10.4\n",
              "2     17.2   45.9       69.3    9.3\n",
              "3    151.5   41.3       58.5   18.5\n",
              "4    180.8   10.8       58.4   12.9\n",
              "..     ...    ...        ...    ...\n",
              "195   38.2    3.7       13.8    7.6\n",
              "196   94.2    4.9        8.1    9.7\n",
              "197  177.0    9.3        6.4   12.8\n",
              "198  283.6   42.0       66.2   25.5\n",
              "199  232.1    8.6        8.7   13.4\n",
              "\n",
              "[200 rows x 4 columns]"
            ]
          },
          "metadata": {
            "tags": []
          },
          "execution_count": 3
        }
      ]
    },
    {
      "cell_type": "markdown",
      "metadata": {
        "id": "VccXvtXmOJy7"
      },
      "source": [
        "## Análise (estatística) descritiva dos dados\n",
        "\n",
        "Análise descritiva dos dados (resumo)."
      ]
    },
    {
      "cell_type": "code",
      "metadata": {
        "colab": {
          "base_uri": "https://localhost:8080/",
          "height": 297
        },
        "id": "WHpUgIoROTpq",
        "outputId": "d1d5140a-9bef-4b16-ac96-acabafd4b3fd"
      },
      "source": [
        "advertis.describe()"
      ],
      "execution_count": null,
      "outputs": [
        {
          "output_type": "execute_result",
          "data": {
            "text/html": [
              "<div>\n",
              "<style scoped>\n",
              "    .dataframe tbody tr th:only-of-type {\n",
              "        vertical-align: middle;\n",
              "    }\n",
              "\n",
              "    .dataframe tbody tr th {\n",
              "        vertical-align: top;\n",
              "    }\n",
              "\n",
              "    .dataframe thead th {\n",
              "        text-align: right;\n",
              "    }\n",
              "</style>\n",
              "<table border=\"1\" class=\"dataframe\">\n",
              "  <thead>\n",
              "    <tr style=\"text-align: right;\">\n",
              "      <th></th>\n",
              "      <th>TV</th>\n",
              "      <th>radio</th>\n",
              "      <th>newspaper</th>\n",
              "      <th>sales</th>\n",
              "    </tr>\n",
              "  </thead>\n",
              "  <tbody>\n",
              "    <tr>\n",
              "      <th>count</th>\n",
              "      <td>200.000000</td>\n",
              "      <td>200.000000</td>\n",
              "      <td>200.000000</td>\n",
              "      <td>200.000000</td>\n",
              "    </tr>\n",
              "    <tr>\n",
              "      <th>mean</th>\n",
              "      <td>147.042500</td>\n",
              "      <td>23.264000</td>\n",
              "      <td>30.554000</td>\n",
              "      <td>14.022500</td>\n",
              "    </tr>\n",
              "    <tr>\n",
              "      <th>std</th>\n",
              "      <td>85.854236</td>\n",
              "      <td>14.846809</td>\n",
              "      <td>21.778621</td>\n",
              "      <td>5.217457</td>\n",
              "    </tr>\n",
              "    <tr>\n",
              "      <th>min</th>\n",
              "      <td>0.700000</td>\n",
              "      <td>0.000000</td>\n",
              "      <td>0.300000</td>\n",
              "      <td>1.600000</td>\n",
              "    </tr>\n",
              "    <tr>\n",
              "      <th>25%</th>\n",
              "      <td>74.375000</td>\n",
              "      <td>9.975000</td>\n",
              "      <td>12.750000</td>\n",
              "      <td>10.375000</td>\n",
              "    </tr>\n",
              "    <tr>\n",
              "      <th>50%</th>\n",
              "      <td>149.750000</td>\n",
              "      <td>22.900000</td>\n",
              "      <td>25.750000</td>\n",
              "      <td>12.900000</td>\n",
              "    </tr>\n",
              "    <tr>\n",
              "      <th>75%</th>\n",
              "      <td>218.825000</td>\n",
              "      <td>36.525000</td>\n",
              "      <td>45.100000</td>\n",
              "      <td>17.400000</td>\n",
              "    </tr>\n",
              "    <tr>\n",
              "      <th>max</th>\n",
              "      <td>296.400000</td>\n",
              "      <td>49.600000</td>\n",
              "      <td>114.000000</td>\n",
              "      <td>27.000000</td>\n",
              "    </tr>\n",
              "  </tbody>\n",
              "</table>\n",
              "</div>"
            ],
            "text/plain": [
              "               TV       radio   newspaper       sales\n",
              "count  200.000000  200.000000  200.000000  200.000000\n",
              "mean   147.042500   23.264000   30.554000   14.022500\n",
              "std     85.854236   14.846809   21.778621    5.217457\n",
              "min      0.700000    0.000000    0.300000    1.600000\n",
              "25%     74.375000    9.975000   12.750000   10.375000\n",
              "50%    149.750000   22.900000   25.750000   12.900000\n",
              "75%    218.825000   36.525000   45.100000   17.400000\n",
              "max    296.400000   49.600000  114.000000   27.000000"
            ]
          },
          "metadata": {
            "tags": []
          },
          "execution_count": 4
        }
      ]
    },
    {
      "cell_type": "markdown",
      "metadata": {
        "id": "TL8-zZUoOxCT"
      },
      "source": [
        "## Mostra um histograma das vendas\n",
        "\n",
        "O objetivo é comparar com as predições do modelo de rede neural e com o método de regressão linear."
      ]
    },
    {
      "cell_type": "code",
      "metadata": {
        "colab": {
          "base_uri": "https://localhost:8080/",
          "height": 296
        },
        "id": "Tpho1mISO2RK",
        "outputId": "47ba5e5e-bdd6-4c19-94f5-fe52d06cb2a9"
      },
      "source": [
        "import seaborn as sns\n",
        "import matplotlib.pyplot as plt\n",
        "\n",
        "plt.figure(figsize=(10,4))\n",
        "sns.histplot(advertis['sales'], kde = True)"
      ],
      "execution_count": null,
      "outputs": [
        {
          "output_type": "execute_result",
          "data": {
            "text/plain": [
              "<matplotlib.axes._subplots.AxesSubplot at 0x7fd6dcc6dc10>"
            ]
          },
          "metadata": {
            "tags": []
          },
          "execution_count": 5
        },
        {
          "output_type": "display_data",
          "data": {
            "image/png": "[encoded data removed]",
            "text/plain": [
              "<Figure size 720x288 with 1 Axes>"
            ]
          },
          "metadata": {
            "tags": [],
            "needs_background": "light"
          }
        }
      ]
    },
    {
      "cell_type": "markdown",
      "metadata": {
        "id": "Gy05_KBoaEXe"
      },
      "source": [
        "## Calcula a correlação entre pares de atributos (colunas)"
      ]
    },
    {
      "cell_type": "code",
      "metadata": {
        "colab": {
          "base_uri": "https://localhost:8080/"
        },
        "id": "WgXsW8B7aKGe",
        "outputId": "6f4c2046-fad7-4e9d-c352-a184b6ffb933"
      },
      "source": [
        "# Correlação entre TV e vendas\n",
        "print('Correlação entre TV e vendas (sales): ',advertis['TV'].corr(advertis['sales']))\n",
        "# Correlação entre Radio e vendas\n",
        "print('Correlação entre radio e vendas (sales): ',advertis['radio'].corr(advertis['sales']))\n",
        "# Correlação entre jornais e vendas\n",
        "print('Correlação entre jornais e vendas (sales): ',advertis['newspaper'].corr(advertis['sales']))"
      ],
      "execution_count": null,
      "outputs": [
        {
          "output_type": "stream",
          "text": [
            "Correlação entre TV e vendas (sales):  0.7822244248616061\n",
            "Correlação entre radio e vendas (sales):  0.5762225745710551\n",
            "Correlação entre jornais e vendas (sales):  0.22829902637616528\n"
          ],
          "name": "stdout"
        }
      ]
    },
    {
      "cell_type": "markdown",
      "metadata": {
        "id": "YYWTnUzoc_yK"
      },
      "source": [
        "# Separa atributos e variável de destino\n",
        "\n",
        "Separa atributos (em X) e variável de destino (em y)."
      ]
    },
    {
      "cell_type": "code",
      "metadata": {
        "colab": {
          "base_uri": "https://localhost:8080/"
        },
        "id": "o-DJ6yPGdPhA",
        "outputId": "0f61d8f2-0895-4f93-aa87-8fa6416c9787"
      },
      "source": [
        "# Separa os atributos da variável de destino (median_house_value)\n",
        "X = advertis.drop('sales',axis=1).values\n",
        "y = advertis['sales'].values\n",
        "print(X.shape)\n",
        "print(y.shape)"
      ],
      "execution_count": null,
      "outputs": [
        {
          "output_type": "stream",
          "text": [
            "(200, 3)\n",
            "(200,)\n"
          ],
          "name": "stdout"
        }
      ]
    },
    {
      "cell_type": "markdown",
      "metadata": {
        "id": "jpLOFqQPeQzg"
      },
      "source": [
        "## Divide o conjunto de dados em treino e teste"
      ]
    },
    {
      "cell_type": "code",
      "metadata": {
        "id": "CjWD0riweoxT"
      },
      "source": [
        "from sklearn.model_selection import train_test_split\n",
        "X_train, X_test, y_train, y_test = train_test_split(X,y,test_size=0.25,random_state=42)"
      ],
      "execution_count": null,
      "outputs": []
    },
    {
      "cell_type": "markdown",
      "metadata": {
        "id": "MhhsCagVNxxP"
      },
      "source": [
        "## Normaliza (padroniza) os dados\n",
        "\n",
        "Transforma os atributos redimensionando para o intervalo [0,1]"
      ]
    },
    {
      "cell_type": "code",
      "metadata": {
        "id": "gAEwiebzOLer"
      },
      "source": [
        "from sklearn.preprocessing import MinMaxScaler\n",
        "scaler = MinMaxScaler()\n",
        "X_train= scaler.fit_transform(X_train)\n",
        "X_test = scaler.transform(X_test)\n",
        "\n",
        "#from sklearn.preprocessing import StandardScaler\n",
        "#scaler = StandardScaler()\n",
        "#X_train = scaler.fit_transform(X_train)\n",
        "#X_test = scaler.transform(X_test)"
      ],
      "execution_count": null,
      "outputs": []
    },
    {
      "cell_type": "markdown",
      "metadata": {
        "id": "ex3_2GzOXe0J"
      },
      "source": [
        "## Cria o modelo de rede neural"
      ]
    },
    {
      "cell_type": "code",
      "metadata": {
        "colab": {
          "base_uri": "https://localhost:8080/"
        },
        "id": "Ay4Tb9OyXimS",
        "outputId": "22653e3f-0db8-4c78-aedb-4da566757d18"
      },
      "source": [
        "from keras.models import Sequential\n",
        "from keras.layers import Dense\n",
        "\n",
        "model = Sequential()\n",
        "# Uma camada escondida com 20 neurônios\n",
        "model.add(Dense(20, input_dim=X_train.shape[1], activation =\"relu\"))\n",
        "# Camada de saída\n",
        "model.add(Dense(1)) # default: função de ativação linear\n",
        "# Sumário do modelo\n",
        "model.summary()"
      ],
      "execution_count": null,
      "outputs": [
        {
          "output_type": "stream",
          "text": [
            "Model: \"sequential\"\n",
            "_________________________________________________________________\n",
            "Layer (type)                 Output Shape              Param #   \n",
            "=================================================================\n",
            "dense (Dense)                (None, 20)                80        \n",
            "_________________________________________________________________\n",
            "dense_1 (Dense)              (None, 1)                 21        \n",
            "=================================================================\n",
            "Total params: 101\n",
            "Trainable params: 101\n",
            "Non-trainable params: 0\n",
            "_________________________________________________________________\n"
          ],
          "name": "stdout"
        }
      ]
    },
    {
      "cell_type": "markdown",
      "metadata": {
        "id": "7mDnXp9HuPM2"
      },
      "source": [
        "## Compila a rede neural"
      ]
    },
    {
      "cell_type": "code",
      "metadata": {
        "id": "Jn95jqw0uWxl"
      },
      "source": [
        "model.compile(optimizer='adam', loss='mean_squared_error', metrics=['mean_squared_error'])"
      ],
      "execution_count": null,
      "outputs": []
    },
    {
      "cell_type": "markdown",
      "metadata": {
        "id": "zowlFWeju9Te"
      },
      "source": [
        "## Treina a rede neural"
      ]
    },
    {
      "cell_type": "code",
      "metadata": {
        "colab": {
          "base_uri": "https://localhost:8080/"
        },
        "id": "kJ6Mk8kBu8NM",
        "outputId": "a43d9f25-24b2-4aec-9575-db2dd262b1e5"
      },
      "source": [
        "history = model.fit(X_train, y_train, epochs=300, batch_size = 5, validation_data=(X_test, y_test))"
      ],
      "execution_count": null,
      "outputs": [
        {
          "output_type": "stream",
          "text": [
            "Epoch 1/300\n",
            "30/30 [==============================] - 3s 13ms/step - loss: 240.9626 - mean_squared_error: 240.9626 - val_loss: 195.9553 - val_mean_squared_error: 195.9553\n",
            "Epoch 2/300\n",
            "30/30 [==============================] - 0s 2ms/step - loss: 219.5510 - mean_squared_error: 219.5510 - val_loss: 188.4505 - val_mean_squared_error: 188.4505\n",
            "Epoch 3/300\n",
            "30/30 [==============================] - 0s 2ms/step - loss: 220.7384 - mean_squared_error: 220.7384 - val_loss: 180.1360 - val_mean_squared_error: 180.1360\n",
            "Epoch 4/300\n",
            "30/30 [==============================] - 0s 2ms/step - loss: 208.7540 - mean_squared_error: 208.7540 - val_loss: 170.8409 - val_mean_squared_error: 170.8409\n",
            "Epoch 5/300\n",
            "30/30 [==============================] - 0s 2ms/step - loss: 192.6787 - mean_squared_error: 192.6787 - val_loss: 160.7522 - val_mean_squared_error: 160.7522\n",
            "Epoch 6/300\n",
            "30/30 [==============================] - 0s 3ms/step - loss: 199.5873 - mean_squared_error: 199.5873 - val_loss: 149.1722 - val_mean_squared_error: 149.1722\n",
            "Epoch 7/300\n",
            "30/30 [==============================] - 0s 2ms/step - loss: 165.0875 - mean_squared_error: 165.0875 - val_loss: 137.4746 - val_mean_squared_error: 137.4746\n",
            "Epoch 8/300\n",
            "30/30 [==============================] - 0s 3ms/step - loss: 152.2696 - mean_squared_error: 152.2696 - val_loss: 124.6812 - val_mean_squared_error: 124.6812\n",
            "Epoch 9/300\n",
            "30/30 [==============================] - 0s 3ms/step - loss: 159.4402 - mean_squared_error: 159.4402 - val_loss: 111.8617 - val_mean_squared_error: 111.8617\n",
            "Epoch 10/300\n",
            "30/30 [==============================] - 0s 2ms/step - loss: 118.0491 - mean_squared_error: 118.0491 - val_loss: 99.1001 - val_mean_squared_error: 99.1001\n",
            "Epoch 11/300\n",
            "30/30 [==============================] - 0s 2ms/step - loss: 94.8383 - mean_squared_error: 94.8383 - val_loss: 86.7930 - val_mean_squared_error: 86.7930\n",
            "Epoch 12/300\n",
            "30/30 [==============================] - 0s 2ms/step - loss: 108.4481 - mean_squared_error: 108.4481 - val_loss: 74.3828 - val_mean_squared_error: 74.3828\n",
            "Epoch 13/300\n",
            "30/30 [==============================] - 0s 2ms/step - loss: 85.5843 - mean_squared_error: 85.5843 - val_loss: 63.4762 - val_mean_squared_error: 63.4762\n",
            "Epoch 14/300\n",
            "30/30 [==============================] - 0s 2ms/step - loss: 64.6111 - mean_squared_error: 64.6111 - val_loss: 53.4499 - val_mean_squared_error: 53.4499\n",
            "Epoch 15/300\n",
            "30/30 [==============================] - 0s 2ms/step - loss: 58.8026 - mean_squared_error: 58.8026 - val_loss: 44.1993 - val_mean_squared_error: 44.1993\n",
            "Epoch 16/300\n",
            "30/30 [==============================] - 0s 2ms/step - loss: 49.0099 - mean_squared_error: 49.0099 - val_loss: 35.8977 - val_mean_squared_error: 35.8977\n",
            "Epoch 17/300\n",
            "30/30 [==============================] - 0s 3ms/step - loss: 39.3259 - mean_squared_error: 39.3259 - val_loss: 28.9555 - val_mean_squared_error: 28.9555\n",
            "Epoch 18/300\n",
            "30/30 [==============================] - 0s 2ms/step - loss: 34.1192 - mean_squared_error: 34.1192 - val_loss: 23.2581 - val_mean_squared_error: 23.2581\n",
            "Epoch 19/300\n",
            "30/30 [==============================] - 0s 3ms/step - loss: 25.1486 - mean_squared_error: 25.1486 - val_loss: 18.8639 - val_mean_squared_error: 18.8639\n",
            "Epoch 20/300\n",
            "30/30 [==============================] - 0s 2ms/step - loss: 25.2873 - mean_squared_error: 25.2873 - val_loss: 15.5305 - val_mean_squared_error: 15.5305\n",
            "Epoch 21/300\n",
            "30/30 [==============================] - 0s 2ms/step - loss: 16.9245 - mean_squared_error: 16.9245 - val_loss: 13.0898 - val_mean_squared_error: 13.0898\n",
            "Epoch 22/300\n",
            "30/30 [==============================] - 0s 2ms/step - loss: 12.2596 - mean_squared_error: 12.2596 - val_loss: 11.5242 - val_mean_squared_error: 11.5242\n",
            "Epoch 23/300\n",
            "30/30 [==============================] - 0s 2ms/step - loss: 11.8328 - mean_squared_error: 11.8328 - val_loss: 10.3892 - val_mean_squared_error: 10.3892\n",
            "Epoch 24/300\n",
            "30/30 [==============================] - 0s 2ms/step - loss: 9.6687 - mean_squared_error: 9.6687 - val_loss: 9.8024 - val_mean_squared_error: 9.8024\n",
            "Epoch 25/300\n",
            "30/30 [==============================] - 0s 2ms/step - loss: 8.4844 - mean_squared_error: 8.4844 - val_loss: 9.4312 - val_mean_squared_error: 9.4312\n",
            "Epoch 26/300\n",
            "30/30 [==============================] - 0s 3ms/step - loss: 9.2921 - mean_squared_error: 9.2921 - val_loss: 9.2209 - val_mean_squared_error: 9.2209\n",
            "Epoch 27/300\n",
            "30/30 [==============================] - 0s 2ms/step - loss: 9.9758 - mean_squared_error: 9.9758 - val_loss: 9.1030 - val_mean_squared_error: 9.1030\n",
            "Epoch 28/300\n",
            "30/30 [==============================] - 0s 2ms/step - loss: 7.6455 - mean_squared_error: 7.6455 - val_loss: 9.0360 - val_mean_squared_error: 9.0360\n",
            "Epoch 29/300\n",
            "30/30 [==============================] - 0s 3ms/step - loss: 8.3931 - mean_squared_error: 8.3931 - val_loss: 8.9900 - val_mean_squared_error: 8.9900\n",
            "Epoch 30/300\n",
            "30/30 [==============================] - 0s 3ms/step - loss: 8.4799 - mean_squared_error: 8.4799 - val_loss: 8.9307 - val_mean_squared_error: 8.9307\n",
            "Epoch 31/300\n",
            "30/30 [==============================] - 0s 2ms/step - loss: 7.8862 - mean_squared_error: 7.8862 - val_loss: 8.8364 - val_mean_squared_error: 8.8364\n",
            "Epoch 32/300\n",
            "30/30 [==============================] - 0s 3ms/step - loss: 6.3416 - mean_squared_error: 6.3416 - val_loss: 8.7739 - val_mean_squared_error: 8.7739\n",
            "Epoch 33/300\n",
            "30/30 [==============================] - 0s 2ms/step - loss: 7.4291 - mean_squared_error: 7.4291 - val_loss: 8.6367 - val_mean_squared_error: 8.6367\n",
            "Epoch 34/300\n",
            "30/30 [==============================] - 0s 2ms/step - loss: 8.4448 - mean_squared_error: 8.4448 - val_loss: 8.5240 - val_mean_squared_error: 8.5240\n",
            "Epoch 35/300\n",
            "30/30 [==============================] - 0s 2ms/step - loss: 6.6180 - mean_squared_error: 6.6180 - val_loss: 8.4202 - val_mean_squared_error: 8.4202\n",
            "Epoch 36/300\n",
            "30/30 [==============================] - 0s 2ms/step - loss: 7.2488 - mean_squared_error: 7.2488 - val_loss: 8.3133 - val_mean_squared_error: 8.3133\n",
            "Epoch 37/300\n",
            "30/30 [==============================] - 0s 2ms/step - loss: 7.3901 - mean_squared_error: 7.3901 - val_loss: 8.1850 - val_mean_squared_error: 8.1850\n",
            "Epoch 38/300\n",
            "30/30 [==============================] - 0s 2ms/step - loss: 6.4861 - mean_squared_error: 6.4861 - val_loss: 8.0255 - val_mean_squared_error: 8.0255\n",
            "Epoch 39/300\n",
            "30/30 [==============================] - 0s 2ms/step - loss: 5.5147 - mean_squared_error: 5.5147 - val_loss: 7.9413 - val_mean_squared_error: 7.9413\n",
            "Epoch 40/300\n",
            "30/30 [==============================] - 0s 2ms/step - loss: 6.5661 - mean_squared_error: 6.5661 - val_loss: 7.7578 - val_mean_squared_error: 7.7578\n",
            "Epoch 41/300\n",
            "30/30 [==============================] - 0s 2ms/step - loss: 6.6004 - mean_squared_error: 6.6004 - val_loss: 7.6279 - val_mean_squared_error: 7.6279\n",
            "Epoch 42/300\n",
            "30/30 [==============================] - 0s 3ms/step - loss: 5.5502 - mean_squared_error: 5.5502 - val_loss: 7.5240 - val_mean_squared_error: 7.5240\n",
            "Epoch 43/300\n",
            "30/30 [==============================] - 0s 3ms/step - loss: 6.4318 - mean_squared_error: 6.4318 - val_loss: 7.3360 - val_mean_squared_error: 7.3360\n",
            "Epoch 44/300\n",
            "30/30 [==============================] - 0s 3ms/step - loss: 6.4238 - mean_squared_error: 6.4238 - val_loss: 7.2449 - val_mean_squared_error: 7.2449\n",
            "Epoch 45/300\n",
            "30/30 [==============================] - 0s 3ms/step - loss: 5.0526 - mean_squared_error: 5.0526 - val_loss: 7.1502 - val_mean_squared_error: 7.1502\n",
            "Epoch 46/300\n",
            "30/30 [==============================] - 0s 2ms/step - loss: 5.6737 - mean_squared_error: 5.6737 - val_loss: 6.9695 - val_mean_squared_error: 6.9695\n",
            "Epoch 47/300\n",
            "30/30 [==============================] - 0s 2ms/step - loss: 5.7115 - mean_squared_error: 5.7115 - val_loss: 6.8211 - val_mean_squared_error: 6.8211\n",
            "Epoch 48/300\n",
            "30/30 [==============================] - 0s 2ms/step - loss: 6.2356 - mean_squared_error: 6.2356 - val_loss: 6.6733 - val_mean_squared_error: 6.6733\n",
            "Epoch 49/300\n",
            "30/30 [==============================] - 0s 2ms/step - loss: 5.0021 - mean_squared_error: 5.0021 - val_loss: 6.5782 - val_mean_squared_error: 6.5782\n",
            "Epoch 50/300\n",
            "30/30 [==============================] - 0s 2ms/step - loss: 6.5563 - mean_squared_error: 6.5563 - val_loss: 6.4529 - val_mean_squared_error: 6.4529\n",
            "Epoch 51/300\n",
            "30/30 [==============================] - 0s 3ms/step - loss: 6.3857 - mean_squared_error: 6.3857 - val_loss: 6.2705 - val_mean_squared_error: 6.2705\n",
            "Epoch 52/300\n",
            "30/30 [==============================] - 0s 3ms/step - loss: 5.0579 - mean_squared_error: 5.0579 - val_loss: 6.1651 - val_mean_squared_error: 6.1651\n",
            "Epoch 53/300\n",
            "30/30 [==============================] - 0s 2ms/step - loss: 5.0160 - mean_squared_error: 5.0160 - val_loss: 6.0520 - val_mean_squared_error: 6.0520\n",
            "Epoch 54/300\n",
            "30/30 [==============================] - 0s 2ms/step - loss: 4.3230 - mean_squared_error: 4.3230 - val_loss: 5.9092 - val_mean_squared_error: 5.9092\n",
            "Epoch 55/300\n",
            "30/30 [==============================] - 0s 2ms/step - loss: 3.9558 - mean_squared_error: 3.9558 - val_loss: 5.7988 - val_mean_squared_error: 5.7988\n",
            "Epoch 56/300\n",
            "30/30 [==============================] - 0s 2ms/step - loss: 4.7231 - mean_squared_error: 4.7231 - val_loss: 5.6373 - val_mean_squared_error: 5.6373\n",
            "Epoch 57/300\n",
            "30/30 [==============================] - 0s 3ms/step - loss: 4.1311 - mean_squared_error: 4.1311 - val_loss: 5.5049 - val_mean_squared_error: 5.5049\n",
            "Epoch 58/300\n",
            "30/30 [==============================] - 0s 3ms/step - loss: 3.8057 - mean_squared_error: 3.8057 - val_loss: 5.4130 - val_mean_squared_error: 5.4130\n",
            "Epoch 59/300\n",
            "30/30 [==============================] - 0s 3ms/step - loss: 4.3492 - mean_squared_error: 4.3492 - val_loss: 5.2848 - val_mean_squared_error: 5.2848\n",
            "Epoch 60/300\n",
            "30/30 [==============================] - 0s 2ms/step - loss: 3.9252 - mean_squared_error: 3.9252 - val_loss: 5.1658 - val_mean_squared_error: 5.1658\n",
            "Epoch 61/300\n",
            "30/30 [==============================] - 0s 3ms/step - loss: 3.3098 - mean_squared_error: 3.3098 - val_loss: 5.0585 - val_mean_squared_error: 5.0585\n",
            "Epoch 62/300\n",
            "30/30 [==============================] - 0s 3ms/step - loss: 3.7947 - mean_squared_error: 3.7947 - val_loss: 4.9333 - val_mean_squared_error: 4.9333\n",
            "Epoch 63/300\n",
            "30/30 [==============================] - 0s 3ms/step - loss: 4.2769 - mean_squared_error: 4.2769 - val_loss: 4.8003 - val_mean_squared_error: 4.8003\n",
            "Epoch 64/300\n",
            "30/30 [==============================] - 0s 2ms/step - loss: 3.3845 - mean_squared_error: 3.3845 - val_loss: 4.6936 - val_mean_squared_error: 4.6936\n",
            "Epoch 65/300\n",
            "30/30 [==============================] - 0s 2ms/step - loss: 5.2903 - mean_squared_error: 5.2903 - val_loss: 4.6117 - val_mean_squared_error: 4.6117\n",
            "Epoch 66/300\n",
            "30/30 [==============================] - 0s 3ms/step - loss: 3.6306 - mean_squared_error: 3.6306 - val_loss: 4.5158 - val_mean_squared_error: 4.5158\n",
            "Epoch 67/300\n",
            "30/30 [==============================] - 0s 2ms/step - loss: 4.2360 - mean_squared_error: 4.2360 - val_loss: 4.3559 - val_mean_squared_error: 4.3559\n",
            "Epoch 68/300\n",
            "30/30 [==============================] - 0s 3ms/step - loss: 3.8077 - mean_squared_error: 3.8077 - val_loss: 4.2965 - val_mean_squared_error: 4.2965\n",
            "Epoch 69/300\n",
            "30/30 [==============================] - 0s 3ms/step - loss: 4.2985 - mean_squared_error: 4.2985 - val_loss: 4.1432 - val_mean_squared_error: 4.1432\n",
            "Epoch 70/300\n",
            "30/30 [==============================] - 0s 3ms/step - loss: 4.5143 - mean_squared_error: 4.5143 - val_loss: 4.0769 - val_mean_squared_error: 4.0769\n",
            "Epoch 71/300\n",
            "30/30 [==============================] - 0s 2ms/step - loss: 3.0565 - mean_squared_error: 3.0565 - val_loss: 3.9835 - val_mean_squared_error: 3.9835\n",
            "Epoch 72/300\n",
            "30/30 [==============================] - 0s 3ms/step - loss: 3.2491 - mean_squared_error: 3.2491 - val_loss: 3.8920 - val_mean_squared_error: 3.8920\n",
            "Epoch 73/300\n",
            "30/30 [==============================] - 0s 2ms/step - loss: 4.0355 - mean_squared_error: 4.0355 - val_loss: 3.8128 - val_mean_squared_error: 3.8128\n",
            "Epoch 74/300\n",
            "30/30 [==============================] - 0s 2ms/step - loss: 2.4907 - mean_squared_error: 2.4907 - val_loss: 3.7066 - val_mean_squared_error: 3.7066\n",
            "Epoch 75/300\n",
            "30/30 [==============================] - 0s 2ms/step - loss: 2.9011 - mean_squared_error: 2.9011 - val_loss: 3.6030 - val_mean_squared_error: 3.6030\n",
            "Epoch 76/300\n",
            "30/30 [==============================] - 0s 2ms/step - loss: 2.9151 - mean_squared_error: 2.9151 - val_loss: 3.5284 - val_mean_squared_error: 3.5284\n",
            "Epoch 77/300\n",
            "30/30 [==============================] - 0s 3ms/step - loss: 3.2959 - mean_squared_error: 3.2959 - val_loss: 3.4412 - val_mean_squared_error: 3.4412\n",
            "Epoch 78/300\n",
            "30/30 [==============================] - 0s 2ms/step - loss: 3.6174 - mean_squared_error: 3.6174 - val_loss: 3.3623 - val_mean_squared_error: 3.3623\n",
            "Epoch 79/300\n",
            "30/30 [==============================] - 0s 3ms/step - loss: 3.2812 - mean_squared_error: 3.2812 - val_loss: 3.2832 - val_mean_squared_error: 3.2832\n",
            "Epoch 80/300\n",
            "30/30 [==============================] - 0s 3ms/step - loss: 4.6624 - mean_squared_error: 4.6624 - val_loss: 3.2167 - val_mean_squared_error: 3.2167\n",
            "Epoch 81/300\n",
            "30/30 [==============================] - 0s 2ms/step - loss: 2.1996 - mean_squared_error: 2.1996 - val_loss: 3.1546 - val_mean_squared_error: 3.1546\n",
            "Epoch 82/300\n",
            "30/30 [==============================] - 0s 2ms/step - loss: 3.4809 - mean_squared_error: 3.4809 - val_loss: 3.0730 - val_mean_squared_error: 3.0730\n",
            "Epoch 83/300\n",
            "30/30 [==============================] - 0s 3ms/step - loss: 3.0383 - mean_squared_error: 3.0383 - val_loss: 3.0119 - val_mean_squared_error: 3.0119\n",
            "Epoch 84/300\n",
            "30/30 [==============================] - 0s 3ms/step - loss: 2.1664 - mean_squared_error: 2.1664 - val_loss: 2.9796 - val_mean_squared_error: 2.9796\n",
            "Epoch 85/300\n",
            "30/30 [==============================] - 0s 2ms/step - loss: 2.3415 - mean_squared_error: 2.3415 - val_loss: 2.9026 - val_mean_squared_error: 2.9026\n",
            "Epoch 86/300\n",
            "30/30 [==============================] - 0s 3ms/step - loss: 3.0644 - mean_squared_error: 3.0644 - val_loss: 2.8331 - val_mean_squared_error: 2.8331\n",
            "Epoch 87/300\n",
            "30/30 [==============================] - 0s 2ms/step - loss: 2.2146 - mean_squared_error: 2.2146 - val_loss: 2.7871 - val_mean_squared_error: 2.7871\n",
            "Epoch 88/300\n",
            "30/30 [==============================] - 0s 3ms/step - loss: 2.7671 - mean_squared_error: 2.7671 - val_loss: 2.7355 - val_mean_squared_error: 2.7355\n",
            "Epoch 89/300\n",
            "30/30 [==============================] - 0s 3ms/step - loss: 2.3779 - mean_squared_error: 2.3779 - val_loss: 2.6761 - val_mean_squared_error: 2.6761\n",
            "Epoch 90/300\n",
            "30/30 [==============================] - 0s 2ms/step - loss: 2.2765 - mean_squared_error: 2.2765 - val_loss: 2.6371 - val_mean_squared_error: 2.6371\n",
            "Epoch 91/300\n",
            "30/30 [==============================] - 0s 2ms/step - loss: 2.7943 - mean_squared_error: 2.7943 - val_loss: 2.5916 - val_mean_squared_error: 2.5916\n",
            "Epoch 92/300\n",
            "30/30 [==============================] - 0s 2ms/step - loss: 2.7831 - mean_squared_error: 2.7831 - val_loss: 2.5381 - val_mean_squared_error: 2.5381\n",
            "Epoch 93/300\n",
            "30/30 [==============================] - 0s 3ms/step - loss: 2.5816 - mean_squared_error: 2.5816 - val_loss: 2.5043 - val_mean_squared_error: 2.5043\n",
            "Epoch 94/300\n",
            "30/30 [==============================] - 0s 2ms/step - loss: 2.3785 - mean_squared_error: 2.3785 - val_loss: 2.4639 - val_mean_squared_error: 2.4639\n",
            "Epoch 95/300\n",
            "30/30 [==============================] - 0s 3ms/step - loss: 2.0499 - mean_squared_error: 2.0499 - val_loss: 2.4168 - val_mean_squared_error: 2.4168\n",
            "Epoch 96/300\n",
            "30/30 [==============================] - 0s 3ms/step - loss: 1.9160 - mean_squared_error: 1.9160 - val_loss: 2.3756 - val_mean_squared_error: 2.3756\n",
            "Epoch 97/300\n",
            "30/30 [==============================] - 0s 3ms/step - loss: 3.5000 - mean_squared_error: 3.5000 - val_loss: 2.3384 - val_mean_squared_error: 2.3384\n",
            "Epoch 98/300\n",
            "30/30 [==============================] - 0s 2ms/step - loss: 3.3132 - mean_squared_error: 3.3132 - val_loss: 2.2995 - val_mean_squared_error: 2.2995\n",
            "Epoch 99/300\n",
            "30/30 [==============================] - 0s 3ms/step - loss: 1.6659 - mean_squared_error: 1.6659 - val_loss: 2.2713 - val_mean_squared_error: 2.2713\n",
            "Epoch 100/300\n",
            "30/30 [==============================] - 0s 2ms/step - loss: 1.5578 - mean_squared_error: 1.5578 - val_loss: 2.2433 - val_mean_squared_error: 2.2433\n",
            "Epoch 101/300\n",
            "30/30 [==============================] - 0s 2ms/step - loss: 1.5876 - mean_squared_error: 1.5876 - val_loss: 2.2062 - val_mean_squared_error: 2.2062\n",
            "Epoch 102/300\n",
            "30/30 [==============================] - 0s 3ms/step - loss: 2.1476 - mean_squared_error: 2.1476 - val_loss: 2.1717 - val_mean_squared_error: 2.1717\n",
            "Epoch 103/300\n",
            "30/30 [==============================] - 0s 3ms/step - loss: 2.3062 - mean_squared_error: 2.3062 - val_loss: 2.1398 - val_mean_squared_error: 2.1398\n",
            "Epoch 104/300\n",
            "30/30 [==============================] - 0s 2ms/step - loss: 1.9706 - mean_squared_error: 1.9706 - val_loss: 2.1122 - val_mean_squared_error: 2.1122\n",
            "Epoch 105/300\n",
            "30/30 [==============================] - 0s 3ms/step - loss: 2.4023 - mean_squared_error: 2.4023 - val_loss: 2.0744 - val_mean_squared_error: 2.0744\n",
            "Epoch 106/300\n",
            "30/30 [==============================] - 0s 2ms/step - loss: 1.9758 - mean_squared_error: 1.9758 - val_loss: 2.0503 - val_mean_squared_error: 2.0503\n",
            "Epoch 107/300\n",
            "30/30 [==============================] - 0s 2ms/step - loss: 1.4665 - mean_squared_error: 1.4665 - val_loss: 2.0209 - val_mean_squared_error: 2.0209\n",
            "Epoch 108/300\n",
            "30/30 [==============================] - 0s 3ms/step - loss: 1.4746 - mean_squared_error: 1.4746 - val_loss: 1.9974 - val_mean_squared_error: 1.9974\n",
            "Epoch 109/300\n",
            "30/30 [==============================] - 0s 2ms/step - loss: 2.5415 - mean_squared_error: 2.5415 - val_loss: 1.9684 - val_mean_squared_error: 1.9684\n",
            "Epoch 110/300\n",
            "30/30 [==============================] - 0s 2ms/step - loss: 2.4214 - mean_squared_error: 2.4214 - val_loss: 1.9412 - val_mean_squared_error: 1.9412\n",
            "Epoch 111/300\n",
            "30/30 [==============================] - 0s 3ms/step - loss: 1.5846 - mean_squared_error: 1.5846 - val_loss: 1.9156 - val_mean_squared_error: 1.9156\n",
            "Epoch 112/300\n",
            "30/30 [==============================] - 0s 2ms/step - loss: 2.3364 - mean_squared_error: 2.3364 - val_loss: 1.8863 - val_mean_squared_error: 1.8863\n",
            "Epoch 113/300\n",
            "30/30 [==============================] - 0s 2ms/step - loss: 2.0520 - mean_squared_error: 2.0520 - val_loss: 1.8628 - val_mean_squared_error: 1.8628\n",
            "Epoch 114/300\n",
            "30/30 [==============================] - 0s 3ms/step - loss: 1.0757 - mean_squared_error: 1.0757 - val_loss: 1.8441 - val_mean_squared_error: 1.8441\n",
            "Epoch 115/300\n",
            "30/30 [==============================] - 0s 2ms/step - loss: 2.2798 - mean_squared_error: 2.2798 - val_loss: 1.8143 - val_mean_squared_error: 1.8143\n",
            "Epoch 116/300\n",
            "30/30 [==============================] - 0s 2ms/step - loss: 1.6617 - mean_squared_error: 1.6617 - val_loss: 1.7881 - val_mean_squared_error: 1.7881\n",
            "Epoch 117/300\n",
            "30/30 [==============================] - 0s 3ms/step - loss: 1.4413 - mean_squared_error: 1.4413 - val_loss: 1.7643 - val_mean_squared_error: 1.7643\n",
            "Epoch 118/300\n",
            "30/30 [==============================] - 0s 2ms/step - loss: 1.2934 - mean_squared_error: 1.2934 - val_loss: 1.7482 - val_mean_squared_error: 1.7482\n",
            "Epoch 119/300\n",
            "30/30 [==============================] - 0s 2ms/step - loss: 1.5070 - mean_squared_error: 1.5070 - val_loss: 1.7199 - val_mean_squared_error: 1.7199\n",
            "Epoch 120/300\n",
            "30/30 [==============================] - 0s 3ms/step - loss: 1.7453 - mean_squared_error: 1.7453 - val_loss: 1.6963 - val_mean_squared_error: 1.6963\n",
            "Epoch 121/300\n",
            "30/30 [==============================] - 0s 2ms/step - loss: 1.4002 - mean_squared_error: 1.4002 - val_loss: 1.6779 - val_mean_squared_error: 1.6779\n",
            "Epoch 122/300\n",
            "30/30 [==============================] - 0s 2ms/step - loss: 1.4719 - mean_squared_error: 1.4719 - val_loss: 1.6529 - val_mean_squared_error: 1.6529\n",
            "Epoch 123/300\n",
            "30/30 [==============================] - 0s 3ms/step - loss: 1.3079 - mean_squared_error: 1.3079 - val_loss: 1.6263 - val_mean_squared_error: 1.6263\n",
            "Epoch 124/300\n",
            "30/30 [==============================] - 0s 3ms/step - loss: 0.9086 - mean_squared_error: 0.9086 - val_loss: 1.6088 - val_mean_squared_error: 1.6088\n",
            "Epoch 125/300\n",
            "30/30 [==============================] - 0s 2ms/step - loss: 1.8338 - mean_squared_error: 1.8338 - val_loss: 1.5870 - val_mean_squared_error: 1.5870\n",
            "Epoch 126/300\n",
            "30/30 [==============================] - 0s 3ms/step - loss: 1.8801 - mean_squared_error: 1.8801 - val_loss: 1.5624 - val_mean_squared_error: 1.5624\n",
            "Epoch 127/300\n",
            "30/30 [==============================] - 0s 3ms/step - loss: 1.0308 - mean_squared_error: 1.0308 - val_loss: 1.5426 - val_mean_squared_error: 1.5426\n",
            "Epoch 128/300\n",
            "30/30 [==============================] - 0s 3ms/step - loss: 1.1910 - mean_squared_error: 1.1910 - val_loss: 1.5240 - val_mean_squared_error: 1.5240\n",
            "Epoch 129/300\n",
            "30/30 [==============================] - 0s 3ms/step - loss: 2.0244 - mean_squared_error: 2.0244 - val_loss: 1.5042 - val_mean_squared_error: 1.5042\n",
            "Epoch 130/300\n",
            "30/30 [==============================] - 0s 3ms/step - loss: 1.7355 - mean_squared_error: 1.7355 - val_loss: 1.4821 - val_mean_squared_error: 1.4821\n",
            "Epoch 131/300\n",
            "30/30 [==============================] - 0s 2ms/step - loss: 1.7301 - mean_squared_error: 1.7301 - val_loss: 1.4633 - val_mean_squared_error: 1.4633\n",
            "Epoch 132/300\n",
            "30/30 [==============================] - 0s 2ms/step - loss: 1.3941 - mean_squared_error: 1.3941 - val_loss: 1.4462 - val_mean_squared_error: 1.4462\n",
            "Epoch 133/300\n",
            "30/30 [==============================] - 0s 3ms/step - loss: 1.1250 - mean_squared_error: 1.1250 - val_loss: 1.4257 - val_mean_squared_error: 1.4257\n",
            "Epoch 134/300\n",
            "30/30 [==============================] - 0s 3ms/step - loss: 1.1531 - mean_squared_error: 1.1531 - val_loss: 1.4055 - val_mean_squared_error: 1.4055\n",
            "Epoch 135/300\n",
            "30/30 [==============================] - 0s 3ms/step - loss: 1.2539 - mean_squared_error: 1.2539 - val_loss: 1.3890 - val_mean_squared_error: 1.3890\n",
            "Epoch 136/300\n",
            "30/30 [==============================] - 0s 2ms/step - loss: 0.9334 - mean_squared_error: 0.9334 - val_loss: 1.3701 - val_mean_squared_error: 1.3701\n",
            "Epoch 137/300\n",
            "30/30 [==============================] - 0s 2ms/step - loss: 1.1852 - mean_squared_error: 1.1852 - val_loss: 1.3572 - val_mean_squared_error: 1.3572\n",
            "Epoch 138/300\n",
            "30/30 [==============================] - 0s 3ms/step - loss: 1.9504 - mean_squared_error: 1.9504 - val_loss: 1.3324 - val_mean_squared_error: 1.3324\n",
            "Epoch 139/300\n",
            "30/30 [==============================] - 0s 3ms/step - loss: 1.1287 - mean_squared_error: 1.1287 - val_loss: 1.3215 - val_mean_squared_error: 1.3215\n",
            "Epoch 140/300\n",
            "30/30 [==============================] - 0s 3ms/step - loss: 0.9817 - mean_squared_error: 0.9817 - val_loss: 1.3041 - val_mean_squared_error: 1.3041\n",
            "Epoch 141/300\n",
            "30/30 [==============================] - 0s 3ms/step - loss: 1.1863 - mean_squared_error: 1.1863 - val_loss: 1.2829 - val_mean_squared_error: 1.2829\n",
            "Epoch 142/300\n",
            "30/30 [==============================] - 0s 3ms/step - loss: 1.3304 - mean_squared_error: 1.3304 - val_loss: 1.2662 - val_mean_squared_error: 1.2662\n",
            "Epoch 143/300\n",
            "30/30 [==============================] - 0s 3ms/step - loss: 0.9438 - mean_squared_error: 0.9438 - val_loss: 1.2537 - val_mean_squared_error: 1.2537\n",
            "Epoch 144/300\n",
            "30/30 [==============================] - 0s 2ms/step - loss: 1.1639 - mean_squared_error: 1.1639 - val_loss: 1.2395 - val_mean_squared_error: 1.2395\n",
            "Epoch 145/300\n",
            "30/30 [==============================] - 0s 3ms/step - loss: 0.9326 - mean_squared_error: 0.9326 - val_loss: 1.2211 - val_mean_squared_error: 1.2211\n",
            "Epoch 146/300\n",
            "30/30 [==============================] - 0s 3ms/step - loss: 1.0375 - mean_squared_error: 1.0375 - val_loss: 1.2053 - val_mean_squared_error: 1.2053\n",
            "Epoch 147/300\n",
            "30/30 [==============================] - 0s 3ms/step - loss: 0.6584 - mean_squared_error: 0.6584 - val_loss: 1.1907 - val_mean_squared_error: 1.1907\n",
            "Epoch 148/300\n",
            "30/30 [==============================] - 0s 3ms/step - loss: 1.2509 - mean_squared_error: 1.2509 - val_loss: 1.1781 - val_mean_squared_error: 1.1781\n",
            "Epoch 149/300\n",
            "30/30 [==============================] - 0s 3ms/step - loss: 0.6770 - mean_squared_error: 0.6770 - val_loss: 1.1609 - val_mean_squared_error: 1.1609\n",
            "Epoch 150/300\n",
            "30/30 [==============================] - 0s 3ms/step - loss: 0.9651 - mean_squared_error: 0.9651 - val_loss: 1.1490 - val_mean_squared_error: 1.1490\n",
            "Epoch 151/300\n",
            "30/30 [==============================] - 0s 3ms/step - loss: 0.8305 - mean_squared_error: 0.8305 - val_loss: 1.1323 - val_mean_squared_error: 1.1323\n",
            "Epoch 152/300\n",
            "30/30 [==============================] - 0s 2ms/step - loss: 0.7497 - mean_squared_error: 0.7497 - val_loss: 1.1242 - val_mean_squared_error: 1.1242\n",
            "Epoch 153/300\n",
            "30/30 [==============================] - 0s 2ms/step - loss: 0.7502 - mean_squared_error: 0.7502 - val_loss: 1.1020 - val_mean_squared_error: 1.1020\n",
            "Epoch 154/300\n",
            "30/30 [==============================] - 0s 3ms/step - loss: 1.6082 - mean_squared_error: 1.6082 - val_loss: 1.0935 - val_mean_squared_error: 1.0935\n",
            "Epoch 155/300\n",
            "30/30 [==============================] - 0s 2ms/step - loss: 0.9351 - mean_squared_error: 0.9351 - val_loss: 1.0808 - val_mean_squared_error: 1.0808\n",
            "Epoch 156/300\n",
            "30/30 [==============================] - 0s 3ms/step - loss: 0.8091 - mean_squared_error: 0.8091 - val_loss: 1.0658 - val_mean_squared_error: 1.0658\n",
            "Epoch 157/300\n",
            "30/30 [==============================] - 0s 3ms/step - loss: 1.3106 - mean_squared_error: 1.3106 - val_loss: 1.0486 - val_mean_squared_error: 1.0486\n",
            "Epoch 158/300\n",
            "30/30 [==============================] - 0s 2ms/step - loss: 0.7130 - mean_squared_error: 0.7130 - val_loss: 1.0420 - val_mean_squared_error: 1.0420\n",
            "Epoch 159/300\n",
            "30/30 [==============================] - 0s 3ms/step - loss: 1.1141 - mean_squared_error: 1.1141 - val_loss: 1.0263 - val_mean_squared_error: 1.0263\n",
            "Epoch 160/300\n",
            "30/30 [==============================] - 0s 3ms/step - loss: 0.7967 - mean_squared_error: 0.7967 - val_loss: 1.0156 - val_mean_squared_error: 1.0156\n",
            "Epoch 161/300\n",
            "30/30 [==============================] - 0s 2ms/step - loss: 0.9461 - mean_squared_error: 0.9461 - val_loss: 1.0038 - val_mean_squared_error: 1.0038\n",
            "Epoch 162/300\n",
            "30/30 [==============================] - 0s 3ms/step - loss: 0.8715 - mean_squared_error: 0.8715 - val_loss: 0.9901 - val_mean_squared_error: 0.9901\n",
            "Epoch 163/300\n",
            "30/30 [==============================] - 0s 3ms/step - loss: 0.8131 - mean_squared_error: 0.8131 - val_loss: 0.9782 - val_mean_squared_error: 0.9782\n",
            "Epoch 164/300\n",
            "30/30 [==============================] - 0s 3ms/step - loss: 0.6888 - mean_squared_error: 0.6888 - val_loss: 0.9741 - val_mean_squared_error: 0.9741\n",
            "Epoch 165/300\n",
            "30/30 [==============================] - 0s 2ms/step - loss: 0.8025 - mean_squared_error: 0.8025 - val_loss: 0.9563 - val_mean_squared_error: 0.9563\n",
            "Epoch 166/300\n",
            "30/30 [==============================] - 0s 2ms/step - loss: 0.7847 - mean_squared_error: 0.7847 - val_loss: 0.9477 - val_mean_squared_error: 0.9477\n",
            "Epoch 167/300\n",
            "30/30 [==============================] - 0s 3ms/step - loss: 0.8693 - mean_squared_error: 0.8693 - val_loss: 0.9336 - val_mean_squared_error: 0.9336\n",
            "Epoch 168/300\n",
            "30/30 [==============================] - 0s 3ms/step - loss: 1.2394 - mean_squared_error: 1.2394 - val_loss: 0.9229 - val_mean_squared_error: 0.9229\n",
            "Epoch 169/300\n",
            "30/30 [==============================] - 0s 3ms/step - loss: 0.9650 - mean_squared_error: 0.9650 - val_loss: 0.9153 - val_mean_squared_error: 0.9153\n",
            "Epoch 170/300\n",
            "30/30 [==============================] - 0s 2ms/step - loss: 0.5761 - mean_squared_error: 0.5761 - val_loss: 0.9011 - val_mean_squared_error: 0.9011\n",
            "Epoch 171/300\n",
            "30/30 [==============================] - 0s 2ms/step - loss: 1.3649 - mean_squared_error: 1.3649 - val_loss: 0.8929 - val_mean_squared_error: 0.8929\n",
            "Epoch 172/300\n",
            "30/30 [==============================] - 0s 3ms/step - loss: 1.2776 - mean_squared_error: 1.2776 - val_loss: 0.8814 - val_mean_squared_error: 0.8814\n",
            "Epoch 173/300\n",
            "30/30 [==============================] - 0s 3ms/step - loss: 0.9259 - mean_squared_error: 0.9259 - val_loss: 0.8720 - val_mean_squared_error: 0.8720\n",
            "Epoch 174/300\n",
            "30/30 [==============================] - 0s 2ms/step - loss: 0.6244 - mean_squared_error: 0.6244 - val_loss: 0.8637 - val_mean_squared_error: 0.8637\n",
            "Epoch 175/300\n",
            "30/30 [==============================] - 0s 3ms/step - loss: 1.1871 - mean_squared_error: 1.1871 - val_loss: 0.8540 - val_mean_squared_error: 0.8540\n",
            "Epoch 176/300\n",
            "30/30 [==============================] - 0s 3ms/step - loss: 0.6770 - mean_squared_error: 0.6770 - val_loss: 0.8440 - val_mean_squared_error: 0.8440\n",
            "Epoch 177/300\n",
            "30/30 [==============================] - 0s 3ms/step - loss: 0.5132 - mean_squared_error: 0.5132 - val_loss: 0.8419 - val_mean_squared_error: 0.8419\n",
            "Epoch 178/300\n",
            "30/30 [==============================] - 0s 3ms/step - loss: 0.7345 - mean_squared_error: 0.7345 - val_loss: 0.8323 - val_mean_squared_error: 0.8323\n",
            "Epoch 179/300\n",
            "30/30 [==============================] - 0s 3ms/step - loss: 0.5353 - mean_squared_error: 0.5353 - val_loss: 0.8183 - val_mean_squared_error: 0.8183\n",
            "Epoch 180/300\n",
            "30/30 [==============================] - 0s 3ms/step - loss: 0.5561 - mean_squared_error: 0.5561 - val_loss: 0.8101 - val_mean_squared_error: 0.8101\n",
            "Epoch 181/300\n",
            "30/30 [==============================] - 0s 3ms/step - loss: 0.7936 - mean_squared_error: 0.7936 - val_loss: 0.8027 - val_mean_squared_error: 0.8027\n",
            "Epoch 182/300\n",
            "30/30 [==============================] - 0s 2ms/step - loss: 0.8784 - mean_squared_error: 0.8784 - val_loss: 0.7975 - val_mean_squared_error: 0.7975\n",
            "Epoch 183/300\n",
            "30/30 [==============================] - 0s 2ms/step - loss: 0.7522 - mean_squared_error: 0.7522 - val_loss: 0.7862 - val_mean_squared_error: 0.7862\n",
            "Epoch 184/300\n",
            "30/30 [==============================] - 0s 3ms/step - loss: 1.3595 - mean_squared_error: 1.3595 - val_loss: 0.7777 - val_mean_squared_error: 0.7777\n",
            "Epoch 185/300\n",
            "30/30 [==============================] - 0s 3ms/step - loss: 1.0336 - mean_squared_error: 1.0336 - val_loss: 0.7706 - val_mean_squared_error: 0.7706\n",
            "Epoch 186/300\n",
            "30/30 [==============================] - 0s 3ms/step - loss: 1.1582 - mean_squared_error: 1.1582 - val_loss: 0.7637 - val_mean_squared_error: 0.7637\n",
            "Epoch 187/300\n",
            "30/30 [==============================] - 0s 2ms/step - loss: 0.7445 - mean_squared_error: 0.7445 - val_loss: 0.7570 - val_mean_squared_error: 0.7570\n",
            "Epoch 188/300\n",
            "30/30 [==============================] - 0s 3ms/step - loss: 0.9828 - mean_squared_error: 0.9828 - val_loss: 0.7611 - val_mean_squared_error: 0.7611\n",
            "Epoch 189/300\n",
            "30/30 [==============================] - 0s 3ms/step - loss: 0.8833 - mean_squared_error: 0.8833 - val_loss: 0.7476 - val_mean_squared_error: 0.7476\n",
            "Epoch 190/300\n",
            "30/30 [==============================] - 0s 3ms/step - loss: 0.5057 - mean_squared_error: 0.5057 - val_loss: 0.7371 - val_mean_squared_error: 0.7371\n",
            "Epoch 191/300\n",
            "30/30 [==============================] - 0s 3ms/step - loss: 0.8163 - mean_squared_error: 0.8163 - val_loss: 0.7359 - val_mean_squared_error: 0.7359\n",
            "Epoch 192/300\n",
            "30/30 [==============================] - 0s 3ms/step - loss: 1.5368 - mean_squared_error: 1.5368 - val_loss: 0.7262 - val_mean_squared_error: 0.7262\n",
            "Epoch 193/300\n",
            "30/30 [==============================] - 0s 3ms/step - loss: 0.9668 - mean_squared_error: 0.9668 - val_loss: 0.7223 - val_mean_squared_error: 0.7223\n",
            "Epoch 194/300\n",
            "30/30 [==============================] - 0s 2ms/step - loss: 0.6215 - mean_squared_error: 0.6215 - val_loss: 0.7140 - val_mean_squared_error: 0.7140\n",
            "Epoch 195/300\n",
            "30/30 [==============================] - 0s 3ms/step - loss: 0.5542 - mean_squared_error: 0.5542 - val_loss: 0.7109 - val_mean_squared_error: 0.7109\n",
            "Epoch 196/300\n",
            "30/30 [==============================] - 0s 3ms/step - loss: 0.4838 - mean_squared_error: 0.4838 - val_loss: 0.7009 - val_mean_squared_error: 0.7009\n",
            "Epoch 197/300\n",
            "30/30 [==============================] - 0s 3ms/step - loss: 0.8160 - mean_squared_error: 0.8160 - val_loss: 0.6973 - val_mean_squared_error: 0.6973\n",
            "Epoch 198/300\n",
            "30/30 [==============================] - 0s 3ms/step - loss: 0.6270 - mean_squared_error: 0.6270 - val_loss: 0.6991 - val_mean_squared_error: 0.6991\n",
            "Epoch 199/300\n",
            "30/30 [==============================] - 0s 3ms/step - loss: 1.6255 - mean_squared_error: 1.6255 - val_loss: 0.6854 - val_mean_squared_error: 0.6854\n",
            "Epoch 200/300\n",
            "30/30 [==============================] - 0s 3ms/step - loss: 0.5289 - mean_squared_error: 0.5289 - val_loss: 0.6863 - val_mean_squared_error: 0.6863\n",
            "Epoch 201/300\n",
            "30/30 [==============================] - 0s 3ms/step - loss: 0.5266 - mean_squared_error: 0.5266 - val_loss: 0.6809 - val_mean_squared_error: 0.6809\n",
            "Epoch 202/300\n",
            "30/30 [==============================] - 0s 3ms/step - loss: 1.0306 - mean_squared_error: 1.0306 - val_loss: 0.6732 - val_mean_squared_error: 0.6732\n",
            "Epoch 203/300\n",
            "30/30 [==============================] - 0s 3ms/step - loss: 0.7857 - mean_squared_error: 0.7857 - val_loss: 0.6688 - val_mean_squared_error: 0.6688\n",
            "Epoch 204/300\n",
            "30/30 [==============================] - 0s 3ms/step - loss: 0.5661 - mean_squared_error: 0.5661 - val_loss: 0.6796 - val_mean_squared_error: 0.6796\n",
            "Epoch 205/300\n",
            "30/30 [==============================] - 0s 3ms/step - loss: 0.6919 - mean_squared_error: 0.6919 - val_loss: 0.6673 - val_mean_squared_error: 0.6673\n",
            "Epoch 206/300\n",
            "30/30 [==============================] - 0s 3ms/step - loss: 0.6210 - mean_squared_error: 0.6210 - val_loss: 0.6549 - val_mean_squared_error: 0.6549\n",
            "Epoch 207/300\n",
            "30/30 [==============================] - 0s 3ms/step - loss: 0.8405 - mean_squared_error: 0.8405 - val_loss: 0.6507 - val_mean_squared_error: 0.6507\n",
            "Epoch 208/300\n",
            "30/30 [==============================] - 0s 3ms/step - loss: 1.1412 - mean_squared_error: 1.1412 - val_loss: 0.6468 - val_mean_squared_error: 0.6468\n",
            "Epoch 209/300\n",
            "30/30 [==============================] - 0s 3ms/step - loss: 0.6151 - mean_squared_error: 0.6151 - val_loss: 0.6506 - val_mean_squared_error: 0.6506\n",
            "Epoch 210/300\n",
            "30/30 [==============================] - 0s 3ms/step - loss: 0.5313 - mean_squared_error: 0.5313 - val_loss: 0.6405 - val_mean_squared_error: 0.6405\n",
            "Epoch 211/300\n",
            "30/30 [==============================] - 0s 3ms/step - loss: 0.7508 - mean_squared_error: 0.7508 - val_loss: 0.6401 - val_mean_squared_error: 0.6401\n",
            "Epoch 212/300\n",
            "30/30 [==============================] - 0s 3ms/step - loss: 0.6117 - mean_squared_error: 0.6117 - val_loss: 0.6387 - val_mean_squared_error: 0.6387\n",
            "Epoch 213/300\n",
            "30/30 [==============================] - 0s 3ms/step - loss: 0.5772 - mean_squared_error: 0.5772 - val_loss: 0.6345 - val_mean_squared_error: 0.6345\n",
            "Epoch 214/300\n",
            "30/30 [==============================] - 0s 3ms/step - loss: 0.7119 - mean_squared_error: 0.7119 - val_loss: 0.6297 - val_mean_squared_error: 0.6297\n",
            "Epoch 215/300\n",
            "30/30 [==============================] - 0s 3ms/step - loss: 0.6790 - mean_squared_error: 0.6790 - val_loss: 0.6272 - val_mean_squared_error: 0.6272\n",
            "Epoch 216/300\n",
            "30/30 [==============================] - 0s 3ms/step - loss: 0.9946 - mean_squared_error: 0.9946 - val_loss: 0.6229 - val_mean_squared_error: 0.6229\n",
            "Epoch 217/300\n",
            "30/30 [==============================] - 0s 2ms/step - loss: 0.5689 - mean_squared_error: 0.5689 - val_loss: 0.6257 - val_mean_squared_error: 0.6257\n",
            "Epoch 218/300\n",
            "30/30 [==============================] - 0s 3ms/step - loss: 0.5845 - mean_squared_error: 0.5845 - val_loss: 0.6165 - val_mean_squared_error: 0.6165\n",
            "Epoch 219/300\n",
            "30/30 [==============================] - 0s 3ms/step - loss: 0.7510 - mean_squared_error: 0.7510 - val_loss: 0.6173 - val_mean_squared_error: 0.6173\n",
            "Epoch 220/300\n",
            "30/30 [==============================] - 0s 3ms/step - loss: 0.6134 - mean_squared_error: 0.6134 - val_loss: 0.6164 - val_mean_squared_error: 0.6164\n",
            "Epoch 221/300\n",
            "30/30 [==============================] - 0s 3ms/step - loss: 0.6599 - mean_squared_error: 0.6599 - val_loss: 0.6132 - val_mean_squared_error: 0.6132\n",
            "Epoch 222/300\n",
            "30/30 [==============================] - 0s 3ms/step - loss: 1.1619 - mean_squared_error: 1.1619 - val_loss: 0.6109 - val_mean_squared_error: 0.6109\n",
            "Epoch 223/300\n",
            "30/30 [==============================] - 0s 3ms/step - loss: 0.4781 - mean_squared_error: 0.4781 - val_loss: 0.6077 - val_mean_squared_error: 0.6077\n",
            "Epoch 224/300\n",
            "30/30 [==============================] - 0s 2ms/step - loss: 0.5525 - mean_squared_error: 0.5525 - val_loss: 0.6089 - val_mean_squared_error: 0.6089\n",
            "Epoch 225/300\n",
            "30/30 [==============================] - 0s 3ms/step - loss: 0.8379 - mean_squared_error: 0.8379 - val_loss: 0.6066 - val_mean_squared_error: 0.6066\n",
            "Epoch 226/300\n",
            "30/30 [==============================] - 0s 3ms/step - loss: 0.6940 - mean_squared_error: 0.6940 - val_loss: 0.6025 - val_mean_squared_error: 0.6025\n",
            "Epoch 227/300\n",
            "30/30 [==============================] - 0s 3ms/step - loss: 0.5259 - mean_squared_error: 0.5259 - val_loss: 0.6001 - val_mean_squared_error: 0.6001\n",
            "Epoch 228/300\n",
            "30/30 [==============================] - 0s 3ms/step - loss: 0.6494 - mean_squared_error: 0.6494 - val_loss: 0.6008 - val_mean_squared_error: 0.6008\n",
            "Epoch 229/300\n",
            "30/30 [==============================] - 0s 3ms/step - loss: 0.8265 - mean_squared_error: 0.8265 - val_loss: 0.6014 - val_mean_squared_error: 0.6014\n",
            "Epoch 230/300\n",
            "30/30 [==============================] - 0s 3ms/step - loss: 0.4803 - mean_squared_error: 0.4803 - val_loss: 0.5965 - val_mean_squared_error: 0.5965\n",
            "Epoch 231/300\n",
            "30/30 [==============================] - 0s 3ms/step - loss: 1.2690 - mean_squared_error: 1.2690 - val_loss: 0.5940 - val_mean_squared_error: 0.5940\n",
            "Epoch 232/300\n",
            "30/30 [==============================] - 0s 3ms/step - loss: 0.6294 - mean_squared_error: 0.6294 - val_loss: 0.5942 - val_mean_squared_error: 0.5942\n",
            "Epoch 233/300\n",
            "30/30 [==============================] - 0s 3ms/step - loss: 0.5344 - mean_squared_error: 0.5344 - val_loss: 0.5971 - val_mean_squared_error: 0.5971\n",
            "Epoch 234/300\n",
            "30/30 [==============================] - 0s 3ms/step - loss: 0.7910 - mean_squared_error: 0.7910 - val_loss: 0.5967 - val_mean_squared_error: 0.5967\n",
            "Epoch 235/300\n",
            "30/30 [==============================] - 0s 3ms/step - loss: 0.5476 - mean_squared_error: 0.5476 - val_loss: 0.5942 - val_mean_squared_error: 0.5942\n",
            "Epoch 236/300\n",
            "30/30 [==============================] - 0s 3ms/step - loss: 1.0080 - mean_squared_error: 1.0080 - val_loss: 0.5923 - val_mean_squared_error: 0.5923\n",
            "Epoch 237/300\n",
            "30/30 [==============================] - 0s 3ms/step - loss: 0.5930 - mean_squared_error: 0.5930 - val_loss: 0.5905 - val_mean_squared_error: 0.5905\n",
            "Epoch 238/300\n",
            "30/30 [==============================] - 0s 3ms/step - loss: 0.4781 - mean_squared_error: 0.4781 - val_loss: 0.5887 - val_mean_squared_error: 0.5887\n",
            "Epoch 239/300\n",
            "30/30 [==============================] - 0s 3ms/step - loss: 0.5487 - mean_squared_error: 0.5487 - val_loss: 0.5961 - val_mean_squared_error: 0.5961\n",
            "Epoch 240/300\n",
            "30/30 [==============================] - 0s 3ms/step - loss: 0.5474 - mean_squared_error: 0.5474 - val_loss: 0.5875 - val_mean_squared_error: 0.5875\n",
            "Epoch 241/300\n",
            "30/30 [==============================] - 0s 3ms/step - loss: 1.0484 - mean_squared_error: 1.0484 - val_loss: 0.5873 - val_mean_squared_error: 0.5873\n",
            "Epoch 242/300\n",
            "30/30 [==============================] - 0s 3ms/step - loss: 0.7699 - mean_squared_error: 0.7699 - val_loss: 0.5852 - val_mean_squared_error: 0.5852\n",
            "Epoch 243/300\n",
            "30/30 [==============================] - 0s 3ms/step - loss: 0.5764 - mean_squared_error: 0.5764 - val_loss: 0.5847 - val_mean_squared_error: 0.5847\n",
            "Epoch 244/300\n",
            "30/30 [==============================] - 0s 3ms/step - loss: 0.5172 - mean_squared_error: 0.5172 - val_loss: 0.5820 - val_mean_squared_error: 0.5820\n",
            "Epoch 245/300\n",
            "30/30 [==============================] - 0s 3ms/step - loss: 0.6264 - mean_squared_error: 0.6264 - val_loss: 0.5891 - val_mean_squared_error: 0.5891\n",
            "Epoch 246/300\n",
            "30/30 [==============================] - 0s 3ms/step - loss: 0.3792 - mean_squared_error: 0.3792 - val_loss: 0.5786 - val_mean_squared_error: 0.5786\n",
            "Epoch 247/300\n",
            "30/30 [==============================] - 0s 3ms/step - loss: 0.4498 - mean_squared_error: 0.4498 - val_loss: 0.5856 - val_mean_squared_error: 0.5856\n",
            "Epoch 248/300\n",
            "30/30 [==============================] - 0s 3ms/step - loss: 0.6172 - mean_squared_error: 0.6172 - val_loss: 0.5802 - val_mean_squared_error: 0.5802\n",
            "Epoch 249/300\n",
            "30/30 [==============================] - 0s 2ms/step - loss: 1.2042 - mean_squared_error: 1.2042 - val_loss: 0.5771 - val_mean_squared_error: 0.5771\n",
            "Epoch 250/300\n",
            "30/30 [==============================] - 0s 3ms/step - loss: 0.5943 - mean_squared_error: 0.5943 - val_loss: 0.5772 - val_mean_squared_error: 0.5772\n",
            "Epoch 251/300\n",
            "30/30 [==============================] - 0s 3ms/step - loss: 0.8451 - mean_squared_error: 0.8451 - val_loss: 0.5701 - val_mean_squared_error: 0.5701\n",
            "Epoch 252/300\n",
            "30/30 [==============================] - 0s 3ms/step - loss: 0.4819 - mean_squared_error: 0.4819 - val_loss: 0.5703 - val_mean_squared_error: 0.5703\n",
            "Epoch 253/300\n",
            "30/30 [==============================] - 0s 3ms/step - loss: 0.4683 - mean_squared_error: 0.4683 - val_loss: 0.5723 - val_mean_squared_error: 0.5723\n",
            "Epoch 254/300\n",
            "30/30 [==============================] - 0s 3ms/step - loss: 0.6771 - mean_squared_error: 0.6771 - val_loss: 0.5671 - val_mean_squared_error: 0.5671\n",
            "Epoch 255/300\n",
            "30/30 [==============================] - 0s 3ms/step - loss: 0.5876 - mean_squared_error: 0.5876 - val_loss: 0.5794 - val_mean_squared_error: 0.5794\n",
            "Epoch 256/300\n",
            "30/30 [==============================] - 0s 3ms/step - loss: 0.4669 - mean_squared_error: 0.4669 - val_loss: 0.5663 - val_mean_squared_error: 0.5663\n",
            "Epoch 257/300\n",
            "30/30 [==============================] - 0s 3ms/step - loss: 0.4324 - mean_squared_error: 0.4324 - val_loss: 0.5645 - val_mean_squared_error: 0.5645\n",
            "Epoch 258/300\n",
            "30/30 [==============================] - 0s 3ms/step - loss: 0.8549 - mean_squared_error: 0.8549 - val_loss: 0.5654 - val_mean_squared_error: 0.5654\n",
            "Epoch 259/300\n",
            "30/30 [==============================] - 0s 3ms/step - loss: 0.8144 - mean_squared_error: 0.8144 - val_loss: 0.5646 - val_mean_squared_error: 0.5646\n",
            "Epoch 260/300\n",
            "30/30 [==============================] - 0s 3ms/step - loss: 0.5621 - mean_squared_error: 0.5621 - val_loss: 0.5588 - val_mean_squared_error: 0.5588\n",
            "Epoch 261/300\n",
            "30/30 [==============================] - 0s 3ms/step - loss: 0.6174 - mean_squared_error: 0.6174 - val_loss: 0.5594 - val_mean_squared_error: 0.5594\n",
            "Epoch 262/300\n",
            "30/30 [==============================] - 0s 3ms/step - loss: 0.7924 - mean_squared_error: 0.7924 - val_loss: 0.5637 - val_mean_squared_error: 0.5637\n",
            "Epoch 263/300\n",
            "30/30 [==============================] - 0s 2ms/step - loss: 0.7473 - mean_squared_error: 0.7473 - val_loss: 0.5589 - val_mean_squared_error: 0.5589\n",
            "Epoch 264/300\n",
            "30/30 [==============================] - 0s 3ms/step - loss: 0.6827 - mean_squared_error: 0.6827 - val_loss: 0.5690 - val_mean_squared_error: 0.5690\n",
            "Epoch 265/300\n",
            "30/30 [==============================] - 0s 3ms/step - loss: 0.4727 - mean_squared_error: 0.4727 - val_loss: 0.5522 - val_mean_squared_error: 0.5522\n",
            "Epoch 266/300\n",
            "30/30 [==============================] - 0s 2ms/step - loss: 0.7444 - mean_squared_error: 0.7444 - val_loss: 0.5522 - val_mean_squared_error: 0.5522\n",
            "Epoch 267/300\n",
            "30/30 [==============================] - 0s 3ms/step - loss: 1.2636 - mean_squared_error: 1.2636 - val_loss: 0.5505 - val_mean_squared_error: 0.5505\n",
            "Epoch 268/300\n",
            "30/30 [==============================] - 0s 3ms/step - loss: 1.1877 - mean_squared_error: 1.1877 - val_loss: 0.5484 - val_mean_squared_error: 0.5484\n",
            "Epoch 269/300\n",
            "30/30 [==============================] - 0s 3ms/step - loss: 0.4782 - mean_squared_error: 0.4782 - val_loss: 0.5528 - val_mean_squared_error: 0.5528\n",
            "Epoch 270/300\n",
            "30/30 [==============================] - 0s 3ms/step - loss: 0.6061 - mean_squared_error: 0.6061 - val_loss: 0.5509 - val_mean_squared_error: 0.5509\n",
            "Epoch 271/300\n",
            "30/30 [==============================] - 0s 3ms/step - loss: 0.6057 - mean_squared_error: 0.6057 - val_loss: 0.5485 - val_mean_squared_error: 0.5485\n",
            "Epoch 272/300\n",
            "30/30 [==============================] - 0s 2ms/step - loss: 0.5556 - mean_squared_error: 0.5556 - val_loss: 0.5511 - val_mean_squared_error: 0.5511\n",
            "Epoch 273/300\n",
            "30/30 [==============================] - 0s 3ms/step - loss: 0.5194 - mean_squared_error: 0.5194 - val_loss: 0.5441 - val_mean_squared_error: 0.5441\n",
            "Epoch 274/300\n",
            "30/30 [==============================] - 0s 3ms/step - loss: 0.6468 - mean_squared_error: 0.6468 - val_loss: 0.5490 - val_mean_squared_error: 0.5490\n",
            "Epoch 275/300\n",
            "30/30 [==============================] - 0s 3ms/step - loss: 0.7316 - mean_squared_error: 0.7316 - val_loss: 0.5425 - val_mean_squared_error: 0.5425\n",
            "Epoch 276/300\n",
            "30/30 [==============================] - 0s 3ms/step - loss: 0.7212 - mean_squared_error: 0.7212 - val_loss: 0.5418 - val_mean_squared_error: 0.5418\n",
            "Epoch 277/300\n",
            "30/30 [==============================] - 0s 3ms/step - loss: 0.5449 - mean_squared_error: 0.5449 - val_loss: 0.5436 - val_mean_squared_error: 0.5436\n",
            "Epoch 278/300\n",
            "30/30 [==============================] - 0s 3ms/step - loss: 0.6305 - mean_squared_error: 0.6305 - val_loss: 0.5439 - val_mean_squared_error: 0.5439\n",
            "Epoch 279/300\n",
            "30/30 [==============================] - 0s 3ms/step - loss: 0.8666 - mean_squared_error: 0.8666 - val_loss: 0.5412 - val_mean_squared_error: 0.5412\n",
            "Epoch 280/300\n",
            "30/30 [==============================] - 0s 3ms/step - loss: 1.1612 - mean_squared_error: 1.1612 - val_loss: 0.5433 - val_mean_squared_error: 0.5433\n",
            "Epoch 281/300\n",
            "30/30 [==============================] - 0s 3ms/step - loss: 0.6174 - mean_squared_error: 0.6174 - val_loss: 0.5380 - val_mean_squared_error: 0.5380\n",
            "Epoch 282/300\n",
            "30/30 [==============================] - 0s 3ms/step - loss: 0.4520 - mean_squared_error: 0.4520 - val_loss: 0.5344 - val_mean_squared_error: 0.5344\n",
            "Epoch 283/300\n",
            "30/30 [==============================] - 0s 3ms/step - loss: 0.6237 - mean_squared_error: 0.6237 - val_loss: 0.5344 - val_mean_squared_error: 0.5344\n",
            "Epoch 284/300\n",
            "30/30 [==============================] - 0s 3ms/step - loss: 0.5843 - mean_squared_error: 0.5843 - val_loss: 0.5348 - val_mean_squared_error: 0.5348\n",
            "Epoch 285/300\n",
            "30/30 [==============================] - 0s 3ms/step - loss: 0.6705 - mean_squared_error: 0.6705 - val_loss: 0.5352 - val_mean_squared_error: 0.5352\n",
            "Epoch 286/300\n",
            "30/30 [==============================] - 0s 3ms/step - loss: 0.6129 - mean_squared_error: 0.6129 - val_loss: 0.5316 - val_mean_squared_error: 0.5316\n",
            "Epoch 287/300\n",
            "30/30 [==============================] - 0s 3ms/step - loss: 0.7028 - mean_squared_error: 0.7028 - val_loss: 0.5322 - val_mean_squared_error: 0.5322\n",
            "Epoch 288/300\n",
            "30/30 [==============================] - 0s 3ms/step - loss: 0.4753 - mean_squared_error: 0.4753 - val_loss: 0.5269 - val_mean_squared_error: 0.5269\n",
            "Epoch 289/300\n",
            "30/30 [==============================] - 0s 3ms/step - loss: 0.6397 - mean_squared_error: 0.6397 - val_loss: 0.5306 - val_mean_squared_error: 0.5306\n",
            "Epoch 290/300\n",
            "30/30 [==============================] - 0s 3ms/step - loss: 0.4834 - mean_squared_error: 0.4834 - val_loss: 0.5302 - val_mean_squared_error: 0.5302\n",
            "Epoch 291/300\n",
            "30/30 [==============================] - 0s 3ms/step - loss: 0.4964 - mean_squared_error: 0.4964 - val_loss: 0.5295 - val_mean_squared_error: 0.5295\n",
            "Epoch 292/300\n",
            "30/30 [==============================] - 0s 3ms/step - loss: 0.6651 - mean_squared_error: 0.6651 - val_loss: 0.5270 - val_mean_squared_error: 0.5270\n",
            "Epoch 293/300\n",
            "30/30 [==============================] - 0s 3ms/step - loss: 0.6563 - mean_squared_error: 0.6563 - val_loss: 0.5295 - val_mean_squared_error: 0.5295\n",
            "Epoch 294/300\n",
            "30/30 [==============================] - 0s 3ms/step - loss: 0.5711 - mean_squared_error: 0.5711 - val_loss: 0.5271 - val_mean_squared_error: 0.5271\n",
            "Epoch 295/300\n",
            "30/30 [==============================] - 0s 3ms/step - loss: 0.4639 - mean_squared_error: 0.4639 - val_loss: 0.5208 - val_mean_squared_error: 0.5208\n",
            "Epoch 296/300\n",
            "30/30 [==============================] - 0s 3ms/step - loss: 0.4977 - mean_squared_error: 0.4977 - val_loss: 0.5242 - val_mean_squared_error: 0.5242\n",
            "Epoch 297/300\n",
            "30/30 [==============================] - 0s 3ms/step - loss: 0.6353 - mean_squared_error: 0.6353 - val_loss: 0.5250 - val_mean_squared_error: 0.5250\n",
            "Epoch 298/300\n",
            "30/30 [==============================] - 0s 3ms/step - loss: 0.6706 - mean_squared_error: 0.6706 - val_loss: 0.5206 - val_mean_squared_error: 0.5206\n",
            "Epoch 299/300\n",
            "30/30 [==============================] - 0s 3ms/step - loss: 0.4687 - mean_squared_error: 0.4687 - val_loss: 0.5178 - val_mean_squared_error: 0.5178\n",
            "Epoch 300/300\n",
            "30/30 [==============================] - 0s 3ms/step - loss: 0.4653 - mean_squared_error: 0.4653 - val_loss: 0.5157 - val_mean_squared_error: 0.5157\n"
          ],
          "name": "stdout"
        }
      ]
    },
    {
      "cell_type": "code",
      "metadata": {
        "colab": {
          "base_uri": "https://localhost:8080/"
        },
        "id": "smXfNXPV0lUY",
        "outputId": "52f10d0b-6346-4b95-8a00-6f20a0ac28ea"
      },
      "source": [
        "mse_test = model.evaluate(X_test, y_test)"
      ],
      "execution_count": null,
      "outputs": [
        {
          "output_type": "stream",
          "text": [
            "2/2 [==============================] - 0s 5ms/step - loss: 0.5157 - mean_squared_error: 0.5157\n"
          ],
          "name": "stdout"
        }
      ]
    },
    {
      "cell_type": "markdown",
      "metadata": {
        "id": "nKPvhrRWX6kN"
      },
      "source": [
        "## Análise da função *loss* (erro/perda)\n",
        "Vamos observar o comportamento da função *loss* para os dados de treino e de validação/teste."
      ]
    },
    {
      "cell_type": "code",
      "metadata": {
        "colab": {
          "base_uri": "https://localhost:8080/",
          "height": 297
        },
        "id": "7X02GavXX7t9",
        "outputId": "bcda0649-14b7-479a-e752-a75396f4b68c"
      },
      "source": [
        "import matplotlib.pyplot as plt\n",
        "plt.plot(history.history['loss'])\n",
        "plt.plot(history.history['val_loss'], '')\n",
        "plt.xlabel(\"Épocas\")\n",
        "plt.ylabel('Erro/loss')\n",
        "plt.title('Função erro/loss')\n",
        "plt.legend(['loss', 'val_loss'])\n",
        "plt.show()"
      ],
      "execution_count": null,
      "outputs": [
        {
          "output_type": "display_data",
          "data": {
            "image/png": "[encoded data removed]",
            "text/plain": [
              "<Figure size 432x288 with 1 Axes>"
            ]
          },
          "metadata": {
            "tags": [],
            "needs_background": "light"
          }
        }
      ]
    },
    {
      "cell_type": "markdown",
      "metadata": {
        "id": "omOk_U0dX_yr"
      },
      "source": [
        "## Análise da métrica de desempenho (acurácia)\n",
        "Vamos observar o desempenho (acurácia) da rede para os dados de treino e de validação/teste."
      ]
    },
    {
      "cell_type": "code",
      "metadata": {
        "colab": {
          "base_uri": "https://localhost:8080/",
          "height": 297
        },
        "id": "apnDE-BiYD38",
        "outputId": "77c02c08-beb6-455f-ca8b-a44e81598db6"
      },
      "source": [
        "plt.plot(history.history['mean_squared_error'])\n",
        "plt.plot(history.history['val_mean_squared_error'], '')\n",
        "plt.xlabel(\"Épocas\")\n",
        "plt.ylabel('mean_squared_error')\n",
        "plt.title('Acurácia')\n",
        "plt.legend(['acurácia', 'val_acurácia'])\n",
        "plt.show()"
      ],
      "execution_count": null,
      "outputs": [
        {
          "output_type": "display_data",
          "data": {
            "image/png": "[encoded data removed]",
            "text/plain": [
              "<Figure size 432x288 with 1 Axes>"
            ]
          },
          "metadata": {
            "tags": [],
            "needs_background": "light"
          }
        }
      ]
    },
    {
      "cell_type": "markdown",
      "metadata": {
        "id": "tXdSC711vw6_"
      },
      "source": [
        "## Fazendo predições"
      ]
    },
    {
      "cell_type": "code",
      "metadata": {
        "id": "_E0dMNb4v03S",
        "colab": {
          "base_uri": "https://localhost:8080/"
        },
        "outputId": "6f8f27e5-1045-4a04-d7f5-5320f2b8b950"
      },
      "source": [
        "import numpy as np\n",
        "\n",
        "predictions = model.predict(X_test)\n",
        "# 5 primeiros casos do conjunto teste\n",
        "for i in range(5):\n",
        "  print('%s => %f (esperado %f)' % (np.round(X_test[i],2).tolist(), predictions[i], y_test[i]))"
      ],
      "execution_count": null,
      "outputs": [
        {
          "output_type": "stream",
          "text": [
            "[0.55, 0.64, 0.52] => 17.862915 (esperado 16.900000)\n",
            "[0.66, 0.96, 0.52] => 22.154345 (esperado 22.400000)\n",
            "[0.99, 0.57, 0.43] => 20.497271 (esperado 21.400000)\n",
            "[0.04, 0.74, 0.45] => 7.898114 (esperado 7.300000)\n",
            "[0.74, 0.99, 0.03] => 23.239544 (esperado 24.700000)\n"
          ],
          "name": "stdout"
        }
      ]
    },
    {
      "cell_type": "markdown",
      "metadata": {
        "id": "G38RBcfWUosv"
      },
      "source": [
        "## Mostra histograma das predições do modelo neural\n",
        "\n",
        "Mostra histograma das predições de vendas para o conjunto de dados completo com o objetico de comparar com o histograma das vendas real."
      ]
    },
    {
      "cell_type": "code",
      "metadata": {
        "colab": {
          "base_uri": "https://localhost:8080/",
          "height": 282
        },
        "id": "c3kYzC0nLCjU",
        "outputId": "eac7dc91-27e1-47e2-c6bb-83bead707c01"
      },
      "source": [
        "# Normaliza o conjunto X de dados\n",
        "X_scaled = scaler.transform(X)\n",
        "# Aplica o modelo\n",
        "prediction = model.predict(X_scaled)\n",
        "# plota histograma\n",
        "plt.figure(figsize=(10,4))\n",
        "sns.histplot(prediction, kde = True)"
      ],
      "execution_count": null,
      "outputs": [
        {
          "output_type": "execute_result",
          "data": {
            "text/plain": [
              "<matplotlib.axes._subplots.AxesSubplot at 0x7fd69000f7d0>"
            ]
          },
          "metadata": {
            "tags": []
          },
          "execution_count": 18
        },
        {
          "output_type": "display_data",
          "data": {
            "image/png": "[encoded data removed]",
            "text/plain": [
              "<Figure size 720x288 with 1 Axes>"
            ]
          },
          "metadata": {
            "tags": [],
            "needs_background": "light"
          }
        }
      ]
    },
    {
      "cell_type": "markdown",
      "metadata": {
        "id": "1mY5k6Um6Ia6"
      },
      "source": [
        "## Regressão Linear (Sklearn)"
      ]
    },
    {
      "cell_type": "code",
      "metadata": {
        "colab": {
          "base_uri": "https://localhost:8080/"
        },
        "id": "U7yPyN4g6Xsp",
        "outputId": "05439140-9575-4224-8615-2d23dac14741"
      },
      "source": [
        "from sklearn.linear_model import LinearRegression\n",
        "from sklearn import metrics\n",
        "\n",
        "reglin = LinearRegression()\n",
        "reglin.fit(X_train,y_train)"
      ],
      "execution_count": null,
      "outputs": [
        {
          "output_type": "execute_result",
          "data": {
            "text/plain": [
              "LinearRegression(copy_X=True, fit_intercept=True, n_jobs=None, normalize=False)"
            ]
          },
          "metadata": {
            "tags": []
          },
          "execution_count": 19
        }
      ]
    },
    {
      "cell_type": "markdown",
      "metadata": {
        "id": "z00jASFs7fOx"
      },
      "source": [
        "## Aplica o modelo de regressão linear no conjunto teste"
      ]
    },
    {
      "cell_type": "code",
      "metadata": {
        "id": "t5aal3rf7ju_"
      },
      "source": [
        "y_reglin = reglin.predict(X_test)"
      ],
      "execution_count": null,
      "outputs": []
    },
    {
      "cell_type": "markdown",
      "metadata": {
        "id": "h0b5fXsB6iEJ"
      },
      "source": [
        "## Calcula o erro quadrático médio"
      ]
    },
    {
      "cell_type": "code",
      "metadata": {
        "colab": {
          "base_uri": "https://localhost:8080/"
        },
        "id": "JFRcfQfH6yv4",
        "outputId": "9eb924de-e071-4d30-c4d8-c17707e7826a"
      },
      "source": [
        "print(metrics.mean_squared_error(y_reglin,y_test))"
      ],
      "execution_count": null,
      "outputs": [
        {
          "output_type": "stream",
          "text": [
            "2.880023730094191\n"
          ],
          "name": "stdout"
        }
      ]
    },
    {
      "cell_type": "markdown",
      "metadata": {
        "id": "MTLBPBkHVqMe"
      },
      "source": [
        "## Fazendo predições"
      ]
    },
    {
      "cell_type": "code",
      "metadata": {
        "colab": {
          "base_uri": "https://localhost:8080/"
        },
        "id": "PjX38ro98N4w",
        "outputId": "3d3962c9-72d2-4944-a060-f0d682246f22"
      },
      "source": [
        "predictions_reg = reglin.predict(X_test)\n",
        "# 5 primeiros casos do conjunto teste\n",
        "for i in range(5):\n",
        "  print('%s => %f (esperado %f)' % (np.round(X_test[i],2).tolist(), predictions_reg[i], y_test[i]))"
      ],
      "execution_count": null,
      "outputs": [
        {
          "output_type": "stream",
          "text": [
            "[0.55, 0.64, 0.52] => 16.383482 (esperado 16.900000)\n",
            "[0.66, 0.96, 0.52] => 20.924350 (esperado 22.400000)\n",
            "[0.99, 0.57, 0.43] => 21.614954 (esperado 21.400000)\n",
            "[0.04, 0.74, 0.45] => 10.490700 (esperado 7.300000)\n",
            "[0.74, 0.99, 0.03] => 22.176905 (esperado 24.700000)\n"
          ],
          "name": "stdout"
        }
      ]
    },
    {
      "cell_type": "markdown",
      "metadata": {
        "id": "VeoFguGfVzcL"
      },
      "source": [
        "## Mostra histograma das predições da Regressão Linear\n",
        "\n",
        "Mostra histograma das predições de vendas para o conjunto de dados completo com o objetico de comparar com o histograma das vendas real."
      ]
    },
    {
      "cell_type": "code",
      "metadata": {
        "colab": {
          "base_uri": "https://localhost:8080/",
          "height": 282
        },
        "id": "mTrtKCOpPdZY",
        "outputId": "4c0c16b1-f457-41d5-e511-68136112b88f"
      },
      "source": [
        "X_scaled = scaler.transform(X)\n",
        "predictions_reg2 = reglin.predict(X_scaled)\n",
        "plt.figure(figsize=(10,4))\n",
        "sns.histplot(predictions_reg2, kde = True)"
      ],
      "execution_count": null,
      "outputs": [
        {
          "output_type": "execute_result",
          "data": {
            "text/plain": [
              "<matplotlib.axes._subplots.AxesSubplot at 0x7fd64606bd50>"
            ]
          },
          "metadata": {
            "tags": []
          },
          "execution_count": 23
        },
        {
          "output_type": "display_data",
          "data": {
            "image/png": "[encoded data removed]",
            "text/plain": [
              "<Figure size 720x288 with 1 Axes>"
            ]
          },
          "metadata": {
            "tags": [],
            "needs_background": "light"
          }
        }
      ]
    }
  ]
}