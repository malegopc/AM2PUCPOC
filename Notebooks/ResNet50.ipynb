{
  "nbformat": 4,
  "nbformat_minor": 0,
  "metadata": {
    "colab": {
      "name": "ResNet50.ipynb",
      "provenance": [],
      "collapsed_sections": []
    },
    "kernelspec": {
      "name": "python3",
      "display_name": "Python 3"
    }
  },
  "cells": [
    {
      "cell_type": "markdown",
      "metadata": {
        "id": "eg9Hi7-FVAKX"
      },
      "source": [
        "# ResNet50"
      ]
    },
    {
      "cell_type": "markdown",
      "metadata": {
        "id": "te5QcMYdU2Ti"
      },
      "source": [
        "## Faz o upload do arquivo (imagem)"
      ]
    },
    {
      "cell_type": "code",
      "metadata": {
        "id": "COJrhxUBTnoS"
      },
      "source": [
        "from google.colab import files\n",
        "uploaded = files.upload()"
      ],
      "execution_count": null,
      "outputs": []
    },
    {
      "cell_type": "markdown",
      "metadata": {
        "id": "dFI4LbPBU-M2"
      },
      "source": [
        "## Mostra a imagem"
      ]
    },
    {
      "cell_type": "code",
      "metadata": {
        "id": "KzUN4MsjUG7r"
      },
      "source": [
        "from IPython.display import Image\n",
        "filename = 'cat.4001.jpg'\n",
        "Image(filename)"
      ],
      "execution_count": null,
      "outputs": []
    },
    {
      "cell_type": "markdown",
      "metadata": {
        "id": "Eqyf9a--hhpe"
      },
      "source": [
        "## Aplica o modelo ResNet50"
      ]
    },
    {
      "cell_type": "code",
      "metadata": {
        "id": "9E2h4hAiTkCT"
      },
      "source": [
        "from tensorflow.keras.applications.resnet50 import ResNet50\n",
        "from tensorflow.keras.preprocessing import image\n",
        "from tensorflow.keras.applications.resnet50 import preprocess_input, decode_predictions\n",
        "import numpy as np\n",
        "\n",
        "# instancia o modelo com pesos treinados no Imagenet\n",
        "model = ResNet50(weights='imagenet')\n",
        "\n",
        "img_path = filename # arquivo com a imagem\n",
        "img = image.load_img(img_path, target_size=(224, 224)) # carrega imagem\n",
        "x = image.img_to_array(img) # converte imagem p/ um array numpy\n",
        "x = np.expand_dims(x, axis=0)  # expande dimensão para o padrão Keras\n",
        "x = preprocess_input(x) # aplica pré-processamento específico para o modelo\n",
        "\n",
        "# realiza a predição/classificação\n",
        "preds = model.predict(x)\n",
        "# decodifica os resultados dentro de uma lista de tuplas (classe, descrição, probabilidade)\n",
        "# (uma lista para cada imagem no batch)\n",
        "print('Predicão:', decode_predictions(preds, top=3)[0])\n",
        "# Predição [(u'n02504013', u'Indian_elephant', 0.82658225), (u'n01871265', u'tusker', 0.1122357), (u'n02504458', u'African_elephant', 0.061040461)]"
      ],
      "execution_count": null,
      "outputs": []
    }
  ]
}