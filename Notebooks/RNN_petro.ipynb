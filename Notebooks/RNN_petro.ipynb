{
  "nbformat": 4,
  "nbformat_minor": 0,
  "metadata": {
    "colab": {
      "name": "RNN_petro.ipynb",
      "provenance": [],
      "collapsed_sections": []
    },
    "kernelspec": {
      "name": "python3",
      "display_name": "Python 3"
    }
  },
  "cells": [
    {
      "cell_type": "markdown",
      "metadata": {
        "id": "xpAuMVCwfWs8"
      },
      "source": [
        "\n",
        "\n",
        "---\n",
        "\n",
        "---\n",
        "# Previsão de ações da Petrobrás \n",
        "\n",
        "Este notebook implementa uma Rede Neural Recorrente (RNN - *Recurrent Neural Net*) para prever o comportamento de ações da Petrobrás.\n",
        "\n",
        "\n",
        "---\n",
        "\n",
        "---\n",
        "\n",
        "\n",
        "\n",
        "\n",
        "\n"
      ]
    },
    {
      "cell_type": "markdown",
      "metadata": {
        "id": "nxJfRe4bfYVA"
      },
      "source": [
        "## Conjuntos de dados\n",
        "\n",
        "Fonte: https://br.financas.yahoo.com/quote/PETR4.SA/history?p=PETR4.SA\n",
        "\n",
        "- Dados de treinamento: valores de abertura (*Open*) da bolsa no período de 02-01-2015 até 27-12-2019 (arquivo: **PETR4_train.csv**)\n",
        "\n",
        "- Dados de teste: valores de abertura (*Open*) da bolsa no período de 02-01-2020 até 30-12-2020 (arquivo: **PETR4_test.csv**)\n",
        "\n",
        "- Defasagem ou lag (*timesteps*): 90 dias\n",
        "\n"
      ]
    },
    {
      "cell_type": "markdown",
      "metadata": {
        "id": "RfbvuLvTwx2w"
      },
      "source": [
        "## Leitura e preparação dos dados\n",
        "\n",
        "Vamos começar importando o arquivo CSV com a base de dados usando o Pandas."
      ]
    },
    {
      "cell_type": "code",
      "metadata": {
        "colab": {
          "base_uri": "https://localhost:8080/",
          "height": 538
        },
        "id": "AIvPtcO1w2KN",
        "outputId": "8e9e0944-ca0a-419a-d66b-bbd4be7a71f3"
      },
      "source": [
        "import pandas as pd\n",
        "# Clone do repositório de dados do GitHub\n",
        "!git clone https://github.com/malegopc/AM2PUCPOC\n",
        "# lê arquivo de dados\n",
        "dataset_train = pd.read_csv('/content/AM2PUCPOC/Datasets/Ações_Petro/PETR4_train.csv')\n",
        "# mostra os dados\n",
        "dataset_train"
      ],
      "execution_count": 1,
      "outputs": [
        {
          "output_type": "stream",
          "text": [
            "Cloning into 'AM2PUCPOC'...\n",
            "remote: Enumerating objects: 658, done.\u001b[K\n",
            "remote: Counting objects: 100% (186/186), done.\u001b[K\n",
            "remote: Compressing objects: 100% (186/186), done.\u001b[K\n",
            "remote: Total 658 (delta 64), reused 0 (delta 0), pack-reused 472\u001b[K\n",
            "Receiving objects: 100% (658/658), 13.48 MiB | 15.88 MiB/s, done.\n",
            "Resolving deltas: 100% (213/213), done.\n"
          ],
          "name": "stdout"
        },
        {
          "output_type": "execute_result",
          "data": {
            "text/html": [
              "<div>\n",
              "<style scoped>\n",
              "    .dataframe tbody tr th:only-of-type {\n",
              "        vertical-align: middle;\n",
              "    }\n",
              "\n",
              "    .dataframe tbody tr th {\n",
              "        vertical-align: top;\n",
              "    }\n",
              "\n",
              "    .dataframe thead th {\n",
              "        text-align: right;\n",
              "    }\n",
              "</style>\n",
              "<table border=\"1\" class=\"dataframe\">\n",
              "  <thead>\n",
              "    <tr style=\"text-align: right;\">\n",
              "      <th></th>\n",
              "      <th>Date</th>\n",
              "      <th>Open</th>\n",
              "      <th>High</th>\n",
              "      <th>Low</th>\n",
              "      <th>Close</th>\n",
              "      <th>Adj Close</th>\n",
              "      <th>Volume</th>\n",
              "    </tr>\n",
              "  </thead>\n",
              "  <tbody>\n",
              "    <tr>\n",
              "      <th>0</th>\n",
              "      <td>2015-01-02</td>\n",
              "      <td>9.990000</td>\n",
              "      <td>9.99</td>\n",
              "      <td>9.350000</td>\n",
              "      <td>9.360000</td>\n",
              "      <td>8.683293</td>\n",
              "      <td>49559500.0</td>\n",
              "    </tr>\n",
              "    <tr>\n",
              "      <th>1</th>\n",
              "      <td>2015-01-05</td>\n",
              "      <td>9.140000</td>\n",
              "      <td>9.19</td>\n",
              "      <td>8.530000</td>\n",
              "      <td>8.560000</td>\n",
              "      <td>7.941135</td>\n",
              "      <td>78385100.0</td>\n",
              "    </tr>\n",
              "    <tr>\n",
              "      <th>2</th>\n",
              "      <td>2015-01-06</td>\n",
              "      <td>8.710000</td>\n",
              "      <td>8.83</td>\n",
              "      <td>8.040000</td>\n",
              "      <td>8.280000</td>\n",
              "      <td>7.681378</td>\n",
              "      <td>84723300.0</td>\n",
              "    </tr>\n",
              "    <tr>\n",
              "      <th>3</th>\n",
              "      <td>2015-01-07</td>\n",
              "      <td>8.560000</td>\n",
              "      <td>8.73</td>\n",
              "      <td>8.360000</td>\n",
              "      <td>8.670000</td>\n",
              "      <td>8.043181</td>\n",
              "      <td>85531000.0</td>\n",
              "    </tr>\n",
              "    <tr>\n",
              "      <th>4</th>\n",
              "      <td>2015-01-08</td>\n",
              "      <td>8.790000</td>\n",
              "      <td>9.39</td>\n",
              "      <td>8.740000</td>\n",
              "      <td>9.230000</td>\n",
              "      <td>8.562695</td>\n",
              "      <td>83306300.0</td>\n",
              "    </tr>\n",
              "    <tr>\n",
              "      <th>...</th>\n",
              "      <td>...</td>\n",
              "      <td>...</td>\n",
              "      <td>...</td>\n",
              "      <td>...</td>\n",
              "      <td>...</td>\n",
              "      <td>...</td>\n",
              "      <td>...</td>\n",
              "    </tr>\n",
              "    <tr>\n",
              "      <th>1237</th>\n",
              "      <td>2019-12-19</td>\n",
              "      <td>30.450001</td>\n",
              "      <td>30.75</td>\n",
              "      <td>30.420000</td>\n",
              "      <td>30.610001</td>\n",
              "      <td>30.189920</td>\n",
              "      <td>39696000.0</td>\n",
              "    </tr>\n",
              "    <tr>\n",
              "      <th>1238</th>\n",
              "      <td>2019-12-20</td>\n",
              "      <td>30.600000</td>\n",
              "      <td>30.60</td>\n",
              "      <td>30.020000</td>\n",
              "      <td>30.260000</td>\n",
              "      <td>29.844723</td>\n",
              "      <td>93064900.0</td>\n",
              "    </tr>\n",
              "    <tr>\n",
              "      <th>1239</th>\n",
              "      <td>2019-12-23</td>\n",
              "      <td>30.190001</td>\n",
              "      <td>30.50</td>\n",
              "      <td>30.030001</td>\n",
              "      <td>30.500000</td>\n",
              "      <td>30.081429</td>\n",
              "      <td>21970200.0</td>\n",
              "    </tr>\n",
              "    <tr>\n",
              "      <th>1240</th>\n",
              "      <td>2019-12-26</td>\n",
              "      <td>30.590000</td>\n",
              "      <td>30.93</td>\n",
              "      <td>30.500000</td>\n",
              "      <td>30.910000</td>\n",
              "      <td>30.485802</td>\n",
              "      <td>24810500.0</td>\n",
              "    </tr>\n",
              "    <tr>\n",
              "      <th>1241</th>\n",
              "      <td>2019-12-27</td>\n",
              "      <td>30.690001</td>\n",
              "      <td>30.92</td>\n",
              "      <td>30.290001</td>\n",
              "      <td>30.520000</td>\n",
              "      <td>30.517742</td>\n",
              "      <td>24995100.0</td>\n",
              "    </tr>\n",
              "  </tbody>\n",
              "</table>\n",
              "<p>1242 rows × 7 columns</p>\n",
              "</div>"
            ],
            "text/plain": [
              "            Date       Open   High        Low      Close  Adj Close      Volume\n",
              "0     2015-01-02   9.990000   9.99   9.350000   9.360000   8.683293  49559500.0\n",
              "1     2015-01-05   9.140000   9.19   8.530000   8.560000   7.941135  78385100.0\n",
              "2     2015-01-06   8.710000   8.83   8.040000   8.280000   7.681378  84723300.0\n",
              "3     2015-01-07   8.560000   8.73   8.360000   8.670000   8.043181  85531000.0\n",
              "4     2015-01-08   8.790000   9.39   8.740000   9.230000   8.562695  83306300.0\n",
              "...          ...        ...    ...        ...        ...        ...         ...\n",
              "1237  2019-12-19  30.450001  30.75  30.420000  30.610001  30.189920  39696000.0\n",
              "1238  2019-12-20  30.600000  30.60  30.020000  30.260000  29.844723  93064900.0\n",
              "1239  2019-12-23  30.190001  30.50  30.030001  30.500000  30.081429  21970200.0\n",
              "1240  2019-12-26  30.590000  30.93  30.500000  30.910000  30.485802  24810500.0\n",
              "1241  2019-12-27  30.690001  30.92  30.290001  30.520000  30.517742  24995100.0\n",
              "\n",
              "[1242 rows x 7 columns]"
            ]
          },
          "metadata": {
            "tags": []
          },
          "execution_count": 1
        }
      ]
    },
    {
      "cell_type": "markdown",
      "metadata": {
        "id": "aRXAJ7dZyxww"
      },
      "source": [
        "## Análise prévia dos dados\n",
        "\n",
        "Imprime o número de dados non-null (não ausentes) e o tipo de cada atributo."
      ]
    },
    {
      "cell_type": "code",
      "metadata": {
        "colab": {
          "base_uri": "https://localhost:8080/"
        },
        "id": "jj678KBvy2pJ",
        "outputId": "80ca3945-b110-47d1-c103-638ec7865f1d"
      },
      "source": [
        "# Mostra o número de dados non-null (não ausentes) e o tipo de cada atributo\n",
        "print('Informações sobre os dados:\\n')\n",
        "dataset_train.info()\n",
        "# Soma o número de dados null (ausentes)\n",
        "print('\\n\\nSoma de dados null (vazios):\\n')\n",
        "dataset_train.isnull().sum()"
      ],
      "execution_count": 2,
      "outputs": [
        {
          "output_type": "stream",
          "text": [
            "Informações sobre os dados:\n",
            "\n",
            "<class 'pandas.core.frame.DataFrame'>\n",
            "RangeIndex: 1242 entries, 0 to 1241\n",
            "Data columns (total 7 columns):\n",
            " #   Column     Non-Null Count  Dtype  \n",
            "---  ------     --------------  -----  \n",
            " 0   Date       1242 non-null   object \n",
            " 1   Open       1240 non-null   float64\n",
            " 2   High       1240 non-null   float64\n",
            " 3   Low        1240 non-null   float64\n",
            " 4   Close      1240 non-null   float64\n",
            " 5   Adj Close  1240 non-null   float64\n",
            " 6   Volume     1240 non-null   float64\n",
            "dtypes: float64(6), object(1)\n",
            "memory usage: 68.0+ KB\n",
            "\n",
            "\n",
            "Soma de dados null (vazios):\n",
            "\n"
          ],
          "name": "stdout"
        },
        {
          "output_type": "execute_result",
          "data": {
            "text/plain": [
              "Date         0\n",
              "Open         2\n",
              "High         2\n",
              "Low          2\n",
              "Close        2\n",
              "Adj Close    2\n",
              "Volume       2\n",
              "dtype: int64"
            ]
          },
          "metadata": {
            "tags": []
          },
          "execution_count": 2
        }
      ]
    },
    {
      "cell_type": "markdown",
      "metadata": {
        "id": "N_y4C4iWSmHM"
      },
      "source": [
        "## Eliminação das linhas null"
      ]
    },
    {
      "cell_type": "code",
      "metadata": {
        "colab": {
          "base_uri": "https://localhost:8080/"
        },
        "id": "j1ON2ZnLStmV",
        "outputId": "5d28af7a-5db8-4bb0-feb2-3250cd823cc6"
      },
      "source": [
        "dataset_train = dataset_train.dropna()\n",
        "print('Soma de dados null (vazios):\\n')\n",
        "dataset_train.isnull().sum()"
      ],
      "execution_count": 3,
      "outputs": [
        {
          "output_type": "stream",
          "text": [
            "Soma de dados null (vazios):\n",
            "\n"
          ],
          "name": "stdout"
        },
        {
          "output_type": "execute_result",
          "data": {
            "text/plain": [
              "Date         0\n",
              "Open         0\n",
              "High         0\n",
              "Low          0\n",
              "Close        0\n",
              "Adj Close    0\n",
              "Volume       0\n",
              "dtype: int64"
            ]
          },
          "metadata": {
            "tags": []
          },
          "execution_count": 3
        }
      ]
    },
    {
      "cell_type": "markdown",
      "metadata": {
        "id": "etnUqceGTinn"
      },
      "source": [
        "## Dimensão da base de dados"
      ]
    },
    {
      "cell_type": "code",
      "metadata": {
        "colab": {
          "base_uri": "https://localhost:8080/"
        },
        "id": "6lKjP-U9Tlff",
        "outputId": "acbaae24-8823-4f1d-9ae1-7ab23d8e4538"
      },
      "source": [
        "dataset_train.shape"
      ],
      "execution_count": 4,
      "outputs": [
        {
          "output_type": "execute_result",
          "data": {
            "text/plain": [
              "(1240, 7)"
            ]
          },
          "metadata": {
            "tags": []
          },
          "execution_count": 4
        }
      ]
    },
    {
      "cell_type": "markdown",
      "metadata": {
        "id": "7j5_rnal0Jhv"
      },
      "source": [
        "## Separa os atributos de treinamento\n",
        "\n",
        "Extrai a coluna \"Open\" (valores de abertura da ação).\n"
      ]
    },
    {
      "cell_type": "code",
      "metadata": {
        "colab": {
          "base_uri": "https://localhost:8080/"
        },
        "id": "yBbVG5Ju0SYP",
        "outputId": "60193475-44fa-4c22-f7bb-ab475a3f6e63"
      },
      "source": [
        "training_set = dataset_train.iloc[:, 1:2].values # coluna 1\n",
        "print(training_set)\n",
        "print(training_set.shape)"
      ],
      "execution_count": 5,
      "outputs": [
        {
          "output_type": "stream",
          "text": [
            "[[ 9.99    ]\n",
            " [ 9.14    ]\n",
            " [ 8.71    ]\n",
            " ...\n",
            " [30.190001]\n",
            " [30.59    ]\n",
            " [30.690001]]\n",
            "(1240, 1)\n"
          ],
          "name": "stdout"
        }
      ]
    },
    {
      "cell_type": "markdown",
      "metadata": {
        "id": "HT8_2UJegtG5"
      },
      "source": [
        "## Escalonamento dos dados\n",
        "\n",
        "Mapeia (transforma) os dados para o intervalo [0,1]."
      ]
    },
    {
      "cell_type": "code",
      "metadata": {
        "id": "OTrF2kR7gx9x"
      },
      "source": [
        "from sklearn.preprocessing import MinMaxScaler\n",
        "sc = MinMaxScaler(feature_range = (0, 1))\n",
        "training_set_scaled = sc.fit_transform(training_set)"
      ],
      "execution_count": 6,
      "outputs": []
    },
    {
      "cell_type": "markdown",
      "metadata": {
        "id": "s3lS-1eX2iGs"
      },
      "source": [
        "## Gráfico dos dados originais e escalonados"
      ]
    },
    {
      "cell_type": "code",
      "metadata": {
        "colab": {
          "base_uri": "https://localhost:8080/",
          "height": 336
        },
        "id": "AlSW4nHsq__u",
        "outputId": "e4fc9290-aa31-4e95-979d-47b590b6ad3e"
      },
      "source": [
        "import matplotlib.pyplot as plt\n",
        "plt.figure(figsize=(15,5))\n",
        "plt.subplot(1, 2, 1)\n",
        "plt.title(\"Dados originais\")\n",
        "plt.plot(training_set)\n",
        "plt.grid(True)\n",
        "\n",
        "plt.subplot(1, 2, 2)\n",
        "plt.title(\"Dados escalonados (pós MinMaxScaler())\")\n",
        "plt.plot(training_set_scaled)\n",
        "plt.grid(True)\n",
        "plt.show()"
      ],
      "execution_count": 7,
      "outputs": [
        {
          "output_type": "display_data",
          "data": {
            "image/png": "[encoded data removed]",
            "text/plain": [
              "<Figure size 1080x360 with 2 Axes>"
            ]
          },
          "metadata": {
            "tags": [],
            "needs_background": "light"
          }
        }
      ]
    },
    {
      "cell_type": "markdown",
      "metadata": {
        "id": "JyYgYocqhNUg"
      },
      "source": [
        "## Cria estrutura de dados de treinamento \n",
        "\n",
        "Cria uma estrutura de dados de treinamento com sequências (*timesteps*) de 90 dias e uma saída (*target*)."
      ]
    },
    {
      "cell_type": "code",
      "metadata": {
        "id": "iofU21B0i6ST"
      },
      "source": [
        "import numpy as np\n",
        "X_train = [] # cria listas para os atributos e target\n",
        "y_train = [] \n",
        "timesteps = 90 # defasagem ou lag\n",
        "for i in range(timesteps, len(training_set)):\n",
        "    X_train.append(training_set_scaled[i-timesteps:i, 0])\n",
        "    y_train.append(training_set_scaled[i, 0])\n",
        "X_train, y_train = np.array(X_train), np.array(y_train)"
      ],
      "execution_count": 8,
      "outputs": []
    },
    {
      "cell_type": "markdown",
      "metadata": {
        "id": "D8yaN7Zvi95l"
      },
      "source": [
        "## Redimensiona o array de treinamento\n",
        "\n",
        "Redimensiona o array de treinamento de modo que fica com as dimensões exigidas pela classe SimpleRNN (um tensor 3D na forma [batch, timesteps, feature]).\n",
        "\n",
        "Ver: https://keras.io/api/layers/recurrent_layers/simple_rnn/"
      ]
    },
    {
      "cell_type": "code",
      "metadata": {
        "id": "FOXqJHmNjBkz",
        "colab": {
          "base_uri": "https://localhost:8080/"
        },
        "outputId": "7c2820d6-dfac-49a4-f551-c9a11d38f05d"
      },
      "source": [
        "X_train = np.reshape(X_train, (X_train.shape[0], X_train.shape[1], 1))\n",
        "X_train.shape"
      ],
      "execution_count": 9,
      "outputs": [
        {
          "output_type": "execute_result",
          "data": {
            "text/plain": [
              "(1150, 90, 1)"
            ]
          },
          "metadata": {
            "tags": []
          },
          "execution_count": 9
        }
      ]
    },
    {
      "cell_type": "markdown",
      "metadata": {
        "id": "ZRRSOJeVjEWV"
      },
      "source": [
        "## Construção da RNN"
      ]
    },
    {
      "cell_type": "code",
      "metadata": {
        "id": "9JRnqsxEjKsD"
      },
      "source": [
        "from keras.models import Sequential\n",
        "from keras.layers import Dense\n",
        "from keras.layers import SimpleRNN\n",
        "from keras.layers import Dropout\n",
        "\n",
        "model = Sequential()\n",
        "# 1a. camada SimpleRNN \n",
        "model.add(SimpleRNN(40, return_sequences = True, input_shape = (X_train.shape[1], 1)))\n",
        "model.add(Dropout(0.3))\n",
        "# 2a. camada SimpleRNN \n",
        "model.add(SimpleRNN(40))\n",
        "model.add(Dropout(0.3))\n",
        "# Camada de saída da rede (uma unidade)\n",
        "model.add(Dense(1))"
      ],
      "execution_count": 10,
      "outputs": []
    },
    {
      "cell_type": "markdown",
      "metadata": {
        "id": "xQugbMui6IVD"
      },
      "source": [
        "## Sumário da rede neural"
      ]
    },
    {
      "cell_type": "code",
      "metadata": {
        "colab": {
          "base_uri": "https://localhost:8080/"
        },
        "id": "4-QXcUyl6LHH",
        "outputId": "cd169a57-68fd-4bfd-f18d-4d5e8e983c19"
      },
      "source": [
        "model.summary()"
      ],
      "execution_count": 11,
      "outputs": [
        {
          "output_type": "stream",
          "text": [
            "Model: \"sequential\"\n",
            "_________________________________________________________________\n",
            "Layer (type)                 Output Shape              Param #   \n",
            "=================================================================\n",
            "simple_rnn (SimpleRNN)       (None, 90, 40)            1680      \n",
            "_________________________________________________________________\n",
            "dropout (Dropout)            (None, 90, 40)            0         \n",
            "_________________________________________________________________\n",
            "simple_rnn_1 (SimpleRNN)     (None, 40)                3240      \n",
            "_________________________________________________________________\n",
            "dropout_1 (Dropout)          (None, 40)                0         \n",
            "_________________________________________________________________\n",
            "dense (Dense)                (None, 1)                 41        \n",
            "=================================================================\n",
            "Total params: 4,961\n",
            "Trainable params: 4,961\n",
            "Non-trainable params: 0\n",
            "_________________________________________________________________\n"
          ],
          "name": "stdout"
        }
      ]
    },
    {
      "cell_type": "markdown",
      "metadata": {
        "id": "zLx4K7uUkPSh"
      },
      "source": [
        "## Compilação da rede neural"
      ]
    },
    {
      "cell_type": "code",
      "metadata": {
        "id": "XTrhVN-tkbko"
      },
      "source": [
        "model.compile(optimizer = 'rmsprop', loss = 'mean_squared_error', metrics = ['mean_absolute_error'])"
      ],
      "execution_count": 12,
      "outputs": []
    },
    {
      "cell_type": "markdown",
      "metadata": {
        "id": "-mPhwKGkkebi"
      },
      "source": [
        "## Ajuste e treinamento da rede neural"
      ]
    },
    {
      "cell_type": "code",
      "metadata": {
        "id": "I06Nkrz5kkb-",
        "colab": {
          "base_uri": "https://localhost:8080/"
        },
        "outputId": "81b9d6a4-bf57-4b32-c65e-5030a1615e40"
      },
      "source": [
        "from keras.callbacks import EarlyStopping\n",
        "\n",
        "early_stop = EarlyStopping(monitor='mean_absolute_error', min_delta = 1e-10, patience=10, restore_best_weights = 'True', verbose=1)\n",
        "history = model.fit(X_train, y_train, epochs = 100, batch_size = 32, callbacks=[early_stop])"
      ],
      "execution_count": 13,
      "outputs": [
        {
          "output_type": "stream",
          "text": [
            "Epoch 1/100\n",
            "36/36 [==============================] - 24s 33ms/step - loss: 0.2843 - mean_absolute_error: 0.3886\n",
            "Epoch 2/100\n",
            "36/36 [==============================] - 1s 34ms/step - loss: 0.0596 - mean_absolute_error: 0.1890\n",
            "Epoch 3/100\n",
            "36/36 [==============================] - 1s 32ms/step - loss: 0.0332 - mean_absolute_error: 0.1391\n",
            "Epoch 4/100\n",
            "36/36 [==============================] - 1s 33ms/step - loss: 0.0193 - mean_absolute_error: 0.1020\n",
            "Epoch 5/100\n",
            "36/36 [==============================] - 1s 33ms/step - loss: 0.0161 - mean_absolute_error: 0.0915\n",
            "Epoch 6/100\n",
            "36/36 [==============================] - 1s 33ms/step - loss: 0.0126 - mean_absolute_error: 0.0817\n",
            "Epoch 7/100\n",
            "36/36 [==============================] - 1s 33ms/step - loss: 0.0099 - mean_absolute_error: 0.0733\n",
            "Epoch 8/100\n",
            "36/36 [==============================] - 1s 34ms/step - loss: 0.0082 - mean_absolute_error: 0.0647\n",
            "Epoch 9/100\n",
            "36/36 [==============================] - 1s 33ms/step - loss: 0.0070 - mean_absolute_error: 0.0590\n",
            "Epoch 10/100\n",
            "36/36 [==============================] - 1s 33ms/step - loss: 0.0071 - mean_absolute_error: 0.0597\n",
            "Epoch 11/100\n",
            "36/36 [==============================] - 1s 33ms/step - loss: 0.0067 - mean_absolute_error: 0.0598\n",
            "Epoch 12/100\n",
            "36/36 [==============================] - 1s 33ms/step - loss: 0.0090 - mean_absolute_error: 0.0644\n",
            "Epoch 13/100\n",
            "36/36 [==============================] - 1s 33ms/step - loss: 0.0062 - mean_absolute_error: 0.0556\n",
            "Epoch 14/100\n",
            "36/36 [==============================] - 1s 34ms/step - loss: 0.0060 - mean_absolute_error: 0.0541\n",
            "Epoch 15/100\n",
            "36/36 [==============================] - 1s 33ms/step - loss: 0.0061 - mean_absolute_error: 0.0546\n",
            "Epoch 16/100\n",
            "36/36 [==============================] - 1s 34ms/step - loss: 0.0053 - mean_absolute_error: 0.0521\n",
            "Epoch 17/100\n",
            "36/36 [==============================] - 1s 33ms/step - loss: 0.0047 - mean_absolute_error: 0.0491\n",
            "Epoch 18/100\n",
            "36/36 [==============================] - 1s 33ms/step - loss: 0.0049 - mean_absolute_error: 0.0496\n",
            "Epoch 19/100\n",
            "36/36 [==============================] - 1s 33ms/step - loss: 0.0060 - mean_absolute_error: 0.0530\n",
            "Epoch 20/100\n",
            "36/36 [==============================] - 1s 34ms/step - loss: 0.0050 - mean_absolute_error: 0.0497\n",
            "Epoch 21/100\n",
            "36/36 [==============================] - 1s 33ms/step - loss: 0.0041 - mean_absolute_error: 0.0450\n",
            "Epoch 22/100\n",
            "36/36 [==============================] - 1s 33ms/step - loss: 0.0044 - mean_absolute_error: 0.0452\n",
            "Epoch 23/100\n",
            "36/36 [==============================] - 1s 33ms/step - loss: 0.0035 - mean_absolute_error: 0.0420\n",
            "Epoch 24/100\n",
            "36/36 [==============================] - 1s 34ms/step - loss: 0.0043 - mean_absolute_error: 0.0457\n",
            "Epoch 25/100\n",
            "36/36 [==============================] - 1s 33ms/step - loss: 0.0044 - mean_absolute_error: 0.0467\n",
            "Epoch 26/100\n",
            "36/36 [==============================] - 1s 34ms/step - loss: 0.0029 - mean_absolute_error: 0.0385\n",
            "Epoch 27/100\n",
            "36/36 [==============================] - 1s 33ms/step - loss: 0.0036 - mean_absolute_error: 0.0426\n",
            "Epoch 28/100\n",
            "36/36 [==============================] - 1s 33ms/step - loss: 0.0035 - mean_absolute_error: 0.0415\n",
            "Epoch 29/100\n",
            "36/36 [==============================] - 1s 33ms/step - loss: 0.0031 - mean_absolute_error: 0.0377\n",
            "Epoch 30/100\n",
            "36/36 [==============================] - 1s 34ms/step - loss: 0.0036 - mean_absolute_error: 0.0395\n",
            "Epoch 31/100\n",
            "36/36 [==============================] - 1s 33ms/step - loss: 0.0030 - mean_absolute_error: 0.0382\n",
            "Epoch 32/100\n",
            "36/36 [==============================] - 1s 33ms/step - loss: 0.0025 - mean_absolute_error: 0.0353\n",
            "Epoch 33/100\n",
            "36/36 [==============================] - 1s 34ms/step - loss: 0.0032 - mean_absolute_error: 0.0386\n",
            "Epoch 34/100\n",
            "36/36 [==============================] - 1s 33ms/step - loss: 0.0033 - mean_absolute_error: 0.0396\n",
            "Epoch 35/100\n",
            "36/36 [==============================] - 1s 33ms/step - loss: 0.0029 - mean_absolute_error: 0.0373\n",
            "Epoch 36/100\n",
            "36/36 [==============================] - 1s 34ms/step - loss: 0.0023 - mean_absolute_error: 0.0339\n",
            "Epoch 37/100\n",
            "36/36 [==============================] - 1s 33ms/step - loss: 0.0025 - mean_absolute_error: 0.0341\n",
            "Epoch 38/100\n",
            "36/36 [==============================] - 1s 34ms/step - loss: 0.0024 - mean_absolute_error: 0.0333\n",
            "Epoch 39/100\n",
            "36/36 [==============================] - 1s 34ms/step - loss: 0.0023 - mean_absolute_error: 0.0341\n",
            "Epoch 40/100\n",
            "36/36 [==============================] - 1s 33ms/step - loss: 0.0022 - mean_absolute_error: 0.0344\n",
            "Epoch 41/100\n",
            "36/36 [==============================] - 1s 34ms/step - loss: 0.0028 - mean_absolute_error: 0.0369\n",
            "Epoch 42/100\n",
            "36/36 [==============================] - 1s 34ms/step - loss: 0.0025 - mean_absolute_error: 0.0339\n",
            "Epoch 43/100\n",
            "36/36 [==============================] - 1s 34ms/step - loss: 0.0022 - mean_absolute_error: 0.0335\n",
            "Epoch 44/100\n",
            "36/36 [==============================] - 1s 34ms/step - loss: 0.0024 - mean_absolute_error: 0.0344\n",
            "Epoch 45/100\n",
            "36/36 [==============================] - 1s 33ms/step - loss: 0.0023 - mean_absolute_error: 0.0333\n",
            "Epoch 46/100\n",
            "36/36 [==============================] - 1s 34ms/step - loss: 0.0022 - mean_absolute_error: 0.0336\n",
            "Epoch 47/100\n",
            "36/36 [==============================] - 1s 34ms/step - loss: 0.0021 - mean_absolute_error: 0.0313\n",
            "Epoch 48/100\n",
            "36/36 [==============================] - 1s 35ms/step - loss: 0.0022 - mean_absolute_error: 0.0315\n",
            "Epoch 49/100\n",
            "36/36 [==============================] - 1s 34ms/step - loss: 0.0019 - mean_absolute_error: 0.0305\n",
            "Epoch 50/100\n",
            "36/36 [==============================] - 1s 33ms/step - loss: 0.0023 - mean_absolute_error: 0.0333\n",
            "Epoch 51/100\n",
            "36/36 [==============================] - 1s 33ms/step - loss: 0.0021 - mean_absolute_error: 0.0310\n",
            "Epoch 52/100\n",
            "36/36 [==============================] - 1s 33ms/step - loss: 0.0022 - mean_absolute_error: 0.0324\n",
            "Epoch 53/100\n",
            "36/36 [==============================] - 1s 33ms/step - loss: 0.0025 - mean_absolute_error: 0.0349\n",
            "Epoch 54/100\n",
            "36/36 [==============================] - 1s 35ms/step - loss: 0.0022 - mean_absolute_error: 0.0337\n",
            "Epoch 55/100\n",
            "36/36 [==============================] - 1s 33ms/step - loss: 0.0021 - mean_absolute_error: 0.0317\n",
            "Epoch 56/100\n",
            "36/36 [==============================] - 1s 34ms/step - loss: 0.0020 - mean_absolute_error: 0.0310\n",
            "Epoch 57/100\n",
            "36/36 [==============================] - 1s 33ms/step - loss: 0.0019 - mean_absolute_error: 0.0306\n",
            "Epoch 58/100\n",
            "36/36 [==============================] - 1s 34ms/step - loss: 0.0018 - mean_absolute_error: 0.0296\n",
            "Epoch 59/100\n",
            "36/36 [==============================] - 1s 34ms/step - loss: 0.0018 - mean_absolute_error: 0.0305\n",
            "Epoch 60/100\n",
            "36/36 [==============================] - 1s 34ms/step - loss: 0.0018 - mean_absolute_error: 0.0295\n",
            "Epoch 61/100\n",
            "36/36 [==============================] - 1s 34ms/step - loss: 0.0023 - mean_absolute_error: 0.0334\n",
            "Epoch 62/100\n",
            "36/36 [==============================] - 1s 35ms/step - loss: 0.0017 - mean_absolute_error: 0.0295\n",
            "Epoch 63/100\n",
            "36/36 [==============================] - 1s 35ms/step - loss: 0.0018 - mean_absolute_error: 0.0296\n",
            "Epoch 64/100\n",
            "36/36 [==============================] - 1s 34ms/step - loss: 0.0019 - mean_absolute_error: 0.0298\n",
            "Epoch 65/100\n",
            "36/36 [==============================] - 1s 33ms/step - loss: 0.0019 - mean_absolute_error: 0.0315\n",
            "Epoch 66/100\n",
            "36/36 [==============================] - 1s 34ms/step - loss: 0.0019 - mean_absolute_error: 0.0305\n",
            "Epoch 67/100\n",
            "36/36 [==============================] - 1s 34ms/step - loss: 0.0017 - mean_absolute_error: 0.0301\n",
            "Epoch 68/100\n",
            "36/36 [==============================] - 1s 34ms/step - loss: 0.0016 - mean_absolute_error: 0.0292\n",
            "Epoch 69/100\n",
            "36/36 [==============================] - 1s 34ms/step - loss: 0.0019 - mean_absolute_error: 0.0307\n",
            "Epoch 70/100\n",
            "36/36 [==============================] - 1s 35ms/step - loss: 0.0017 - mean_absolute_error: 0.0301\n",
            "Epoch 71/100\n",
            "36/36 [==============================] - 1s 34ms/step - loss: 0.0015 - mean_absolute_error: 0.0287\n",
            "Epoch 72/100\n",
            "36/36 [==============================] - 1s 35ms/step - loss: 0.0016 - mean_absolute_error: 0.0290\n",
            "Epoch 73/100\n",
            "36/36 [==============================] - 1s 34ms/step - loss: 0.0018 - mean_absolute_error: 0.0310\n",
            "Epoch 74/100\n",
            "36/36 [==============================] - 1s 34ms/step - loss: 0.0021 - mean_absolute_error: 0.0326\n",
            "Epoch 75/100\n",
            "36/36 [==============================] - 1s 35ms/step - loss: 0.0019 - mean_absolute_error: 0.0305\n",
            "Epoch 76/100\n",
            "36/36 [==============================] - 1s 34ms/step - loss: 0.0016 - mean_absolute_error: 0.0292\n",
            "Epoch 77/100\n",
            "36/36 [==============================] - 1s 35ms/step - loss: 0.0019 - mean_absolute_error: 0.0303\n",
            "Epoch 78/100\n",
            "36/36 [==============================] - 1s 35ms/step - loss: 0.0017 - mean_absolute_error: 0.0292\n",
            "Epoch 79/100\n",
            "36/36 [==============================] - 1s 34ms/step - loss: 0.0016 - mean_absolute_error: 0.0290\n",
            "Epoch 80/100\n",
            "36/36 [==============================] - 1s 34ms/step - loss: 0.0022 - mean_absolute_error: 0.0319\n",
            "Epoch 81/100\n",
            "36/36 [==============================] - 1s 34ms/step - loss: 0.0017 - mean_absolute_error: 0.0304\n",
            "Epoch 82/100\n",
            "36/36 [==============================] - 1s 35ms/step - loss: 0.0019 - mean_absolute_error: 0.0314\n",
            "Epoch 83/100\n",
            "36/36 [==============================] - 1s 35ms/step - loss: 0.0018 - mean_absolute_error: 0.0300\n",
            "Epoch 84/100\n",
            "36/36 [==============================] - 1s 36ms/step - loss: 0.0016 - mean_absolute_error: 0.0286\n",
            "Epoch 85/100\n",
            "36/36 [==============================] - 1s 35ms/step - loss: 0.0014 - mean_absolute_error: 0.0272\n",
            "Epoch 86/100\n",
            "36/36 [==============================] - 1s 34ms/step - loss: 0.0018 - mean_absolute_error: 0.0301\n",
            "Epoch 87/100\n",
            "36/36 [==============================] - 1s 35ms/step - loss: 0.0014 - mean_absolute_error: 0.0267\n",
            "Epoch 88/100\n",
            "36/36 [==============================] - 1s 34ms/step - loss: 0.0015 - mean_absolute_error: 0.0286\n",
            "Epoch 89/100\n",
            "36/36 [==============================] - 1s 34ms/step - loss: 0.0017 - mean_absolute_error: 0.0295\n",
            "Restoring model weights from the end of the best epoch.\n",
            "Epoch 00089: early stopping\n"
          ],
          "name": "stdout"
        }
      ]
    },
    {
      "cell_type": "markdown",
      "metadata": {
        "id": "c2vE-oiV7KgU"
      },
      "source": [
        "## Análise da função *loss* (erro/perda)\n",
        "Comportamento da função *loss* para os dados de treino e de validação."
      ]
    },
    {
      "cell_type": "code",
      "metadata": {
        "colab": {
          "base_uri": "https://localhost:8080/",
          "height": 295
        },
        "id": "xPI-d3pT7O24",
        "outputId": "0221751f-f2ea-4667-f457-298be35d2f6b"
      },
      "source": [
        "import matplotlib.pyplot as plt\n",
        "plt.plot(history.history['loss'])\n",
        "plt.xlabel(\"Epochs\")\n",
        "plt.ylabel('Loss')\n",
        "plt.title('Change of Loss over Epochs')\n",
        "plt.legend(['loss'])\n",
        "plt.show()"
      ],
      "execution_count": 14,
      "outputs": [
        {
          "output_type": "display_data",
          "data": {
            "image/png": "[encoded data removed]",
            "text/plain": [
              "<Figure size 432x288 with 1 Axes>"
            ]
          },
          "metadata": {
            "tags": [],
            "needs_background": "light"
          }
        }
      ]
    },
    {
      "cell_type": "markdown",
      "metadata": {
        "id": "SgJO6qEDksxD"
      },
      "source": [
        "## Leitura do conjunto de dados de teste\n",
        "\n",
        "Leitura dos dados de teste para fazer a previsão dos valores de abertura das ações no primero ano de 2020."
      ]
    },
    {
      "cell_type": "code",
      "metadata": {
        "id": "FmBT2zqukxTz",
        "colab": {
          "base_uri": "https://localhost:8080/",
          "height": 419
        },
        "outputId": "0f092326-d610-4e28-b2e9-e28d66c05cab"
      },
      "source": [
        "dataset_test = pd.read_csv('/content/AM2PUCPOC/Datasets/Ações_Petro/PETR4_test.csv')\n",
        "dataset_test"
      ],
      "execution_count": 15,
      "outputs": [
        {
          "output_type": "execute_result",
          "data": {
            "text/html": [
              "<div>\n",
              "<style scoped>\n",
              "    .dataframe tbody tr th:only-of-type {\n",
              "        vertical-align: middle;\n",
              "    }\n",
              "\n",
              "    .dataframe tbody tr th {\n",
              "        vertical-align: top;\n",
              "    }\n",
              "\n",
              "    .dataframe thead th {\n",
              "        text-align: right;\n",
              "    }\n",
              "</style>\n",
              "<table border=\"1\" class=\"dataframe\">\n",
              "  <thead>\n",
              "    <tr style=\"text-align: right;\">\n",
              "      <th></th>\n",
              "      <th>Date</th>\n",
              "      <th>Open</th>\n",
              "      <th>High</th>\n",
              "      <th>Low</th>\n",
              "      <th>Close</th>\n",
              "      <th>Adj Close</th>\n",
              "      <th>Volume</th>\n",
              "    </tr>\n",
              "  </thead>\n",
              "  <tbody>\n",
              "    <tr>\n",
              "      <th>0</th>\n",
              "      <td>2020-01-02</td>\n",
              "      <td>30.510000</td>\n",
              "      <td>30.700001</td>\n",
              "      <td>30.309999</td>\n",
              "      <td>30.700001</td>\n",
              "      <td>30.697731</td>\n",
              "      <td>37774500.0</td>\n",
              "    </tr>\n",
              "    <tr>\n",
              "      <th>1</th>\n",
              "      <td>2020-01-03</td>\n",
              "      <td>30.879999</td>\n",
              "      <td>31.240000</td>\n",
              "      <td>30.450001</td>\n",
              "      <td>30.450001</td>\n",
              "      <td>30.447748</td>\n",
              "      <td>71595600.0</td>\n",
              "    </tr>\n",
              "    <tr>\n",
              "      <th>2</th>\n",
              "      <td>2020-01-06</td>\n",
              "      <td>30.430000</td>\n",
              "      <td>30.940001</td>\n",
              "      <td>29.950001</td>\n",
              "      <td>30.809999</td>\n",
              "      <td>30.807720</td>\n",
              "      <td>81844000.0</td>\n",
              "    </tr>\n",
              "    <tr>\n",
              "      <th>3</th>\n",
              "      <td>2020-01-07</td>\n",
              "      <td>30.820000</td>\n",
              "      <td>30.879999</td>\n",
              "      <td>30.469999</td>\n",
              "      <td>30.690001</td>\n",
              "      <td>30.687731</td>\n",
              "      <td>32822000.0</td>\n",
              "    </tr>\n",
              "    <tr>\n",
              "      <th>4</th>\n",
              "      <td>2020-01-08</td>\n",
              "      <td>30.690001</td>\n",
              "      <td>30.770000</td>\n",
              "      <td>30.240000</td>\n",
              "      <td>30.500000</td>\n",
              "      <td>30.497744</td>\n",
              "      <td>48215600.0</td>\n",
              "    </tr>\n",
              "    <tr>\n",
              "      <th>...</th>\n",
              "      <td>...</td>\n",
              "      <td>...</td>\n",
              "      <td>...</td>\n",
              "      <td>...</td>\n",
              "      <td>...</td>\n",
              "      <td>...</td>\n",
              "      <td>...</td>\n",
              "    </tr>\n",
              "    <tr>\n",
              "      <th>243</th>\n",
              "      <td>2020-12-22</td>\n",
              "      <td>27.200001</td>\n",
              "      <td>27.469999</td>\n",
              "      <td>27.049999</td>\n",
              "      <td>27.280001</td>\n",
              "      <td>27.280001</td>\n",
              "      <td>46513200.0</td>\n",
              "    </tr>\n",
              "    <tr>\n",
              "      <th>244</th>\n",
              "      <td>2020-12-23</td>\n",
              "      <td>27.430000</td>\n",
              "      <td>28.250000</td>\n",
              "      <td>27.350000</td>\n",
              "      <td>27.950001</td>\n",
              "      <td>27.950001</td>\n",
              "      <td>49038900.0</td>\n",
              "    </tr>\n",
              "    <tr>\n",
              "      <th>245</th>\n",
              "      <td>2020-12-28</td>\n",
              "      <td>28.360001</td>\n",
              "      <td>28.520000</td>\n",
              "      <td>28.180000</td>\n",
              "      <td>28.180000</td>\n",
              "      <td>28.180000</td>\n",
              "      <td>36313300.0</td>\n",
              "    </tr>\n",
              "    <tr>\n",
              "      <th>246</th>\n",
              "      <td>2020-12-29</td>\n",
              "      <td>28.379999</td>\n",
              "      <td>28.430000</td>\n",
              "      <td>27.990000</td>\n",
              "      <td>28.270000</td>\n",
              "      <td>28.270000</td>\n",
              "      <td>29891100.0</td>\n",
              "    </tr>\n",
              "    <tr>\n",
              "      <th>247</th>\n",
              "      <td>2020-12-30</td>\n",
              "      <td>28.350000</td>\n",
              "      <td>28.490000</td>\n",
              "      <td>28.200001</td>\n",
              "      <td>28.340000</td>\n",
              "      <td>28.340000</td>\n",
              "      <td>36968200.0</td>\n",
              "    </tr>\n",
              "  </tbody>\n",
              "</table>\n",
              "<p>248 rows × 7 columns</p>\n",
              "</div>"
            ],
            "text/plain": [
              "           Date       Open       High  ...      Close  Adj Close      Volume\n",
              "0    2020-01-02  30.510000  30.700001  ...  30.700001  30.697731  37774500.0\n",
              "1    2020-01-03  30.879999  31.240000  ...  30.450001  30.447748  71595600.0\n",
              "2    2020-01-06  30.430000  30.940001  ...  30.809999  30.807720  81844000.0\n",
              "3    2020-01-07  30.820000  30.879999  ...  30.690001  30.687731  32822000.0\n",
              "4    2020-01-08  30.690001  30.770000  ...  30.500000  30.497744  48215600.0\n",
              "..          ...        ...        ...  ...        ...        ...         ...\n",
              "243  2020-12-22  27.200001  27.469999  ...  27.280001  27.280001  46513200.0\n",
              "244  2020-12-23  27.430000  28.250000  ...  27.950001  27.950001  49038900.0\n",
              "245  2020-12-28  28.360001  28.520000  ...  28.180000  28.180000  36313300.0\n",
              "246  2020-12-29  28.379999  28.430000  ...  28.270000  28.270000  29891100.0\n",
              "247  2020-12-30  28.350000  28.490000  ...  28.340000  28.340000  36968200.0\n",
              "\n",
              "[248 rows x 7 columns]"
            ]
          },
          "metadata": {
            "tags": []
          },
          "execution_count": 15
        }
      ]
    },
    {
      "cell_type": "markdown",
      "metadata": {
        "id": "3fC77G_ErIgR"
      },
      "source": [
        "## Análise prévia dos dados de teste\n",
        "\n",
        "Verifica se há dados null."
      ]
    },
    {
      "cell_type": "code",
      "metadata": {
        "colab": {
          "base_uri": "https://localhost:8080/"
        },
        "id": "iq8cQAlirmrq",
        "outputId": "423aa73f-59ec-4e35-af1b-1697806e79e0"
      },
      "source": [
        "# Soma o número de dados null (ausentes)\n",
        "print('\\n\\nSoma de dados null (vazios):\\n')\n",
        "dataset_test.isnull().sum()"
      ],
      "execution_count": 16,
      "outputs": [
        {
          "output_type": "stream",
          "text": [
            "\n",
            "\n",
            "Soma de dados null (vazios):\n",
            "\n"
          ],
          "name": "stdout"
        },
        {
          "output_type": "execute_result",
          "data": {
            "text/plain": [
              "Date         0\n",
              "Open         1\n",
              "High         1\n",
              "Low          1\n",
              "Close        1\n",
              "Adj Close    1\n",
              "Volume       1\n",
              "dtype: int64"
            ]
          },
          "metadata": {
            "tags": []
          },
          "execution_count": 16
        }
      ]
    },
    {
      "cell_type": "markdown",
      "metadata": {
        "id": "KUHaUrw8sEZ4"
      },
      "source": [
        "## Eliminação das linhas null dos dados de teste"
      ]
    },
    {
      "cell_type": "code",
      "metadata": {
        "colab": {
          "base_uri": "https://localhost:8080/"
        },
        "id": "9O5DYKHosGOI",
        "outputId": "4cd97ee8-0fa5-4970-e716-f063c006c913"
      },
      "source": [
        "dataset_test = dataset_test.dropna()\n",
        "print('Soma de dados null (vazios):\\n')\n",
        "dataset_test.isnull().sum()"
      ],
      "execution_count": 17,
      "outputs": [
        {
          "output_type": "stream",
          "text": [
            "Soma de dados null (vazios):\n",
            "\n"
          ],
          "name": "stdout"
        },
        {
          "output_type": "execute_result",
          "data": {
            "text/plain": [
              "Date         0\n",
              "Open         0\n",
              "High         0\n",
              "Low          0\n",
              "Close        0\n",
              "Adj Close    0\n",
              "Volume       0\n",
              "dtype: int64"
            ]
          },
          "metadata": {
            "tags": []
          },
          "execution_count": 17
        }
      ]
    },
    {
      "cell_type": "markdown",
      "metadata": {
        "id": "8zD1uI9isX7J"
      },
      "source": [
        "## Dimensão da base de dados de teste"
      ]
    },
    {
      "cell_type": "code",
      "metadata": {
        "colab": {
          "base_uri": "https://localhost:8080/"
        },
        "id": "8nsHWg-UsfKG",
        "outputId": "22939325-a2d2-4149-b40b-fafbc90a4688"
      },
      "source": [
        "dataset_test.shape"
      ],
      "execution_count": 18,
      "outputs": [
        {
          "output_type": "execute_result",
          "data": {
            "text/plain": [
              "(247, 7)"
            ]
          },
          "metadata": {
            "tags": []
          },
          "execution_count": 18
        }
      ]
    },
    {
      "cell_type": "markdown",
      "metadata": {
        "id": "Yn_psJm8uewH"
      },
      "source": [
        "## Separa os atributos de treinamento\n",
        "\n",
        "Extrai a coluna \"Open\" (valores de abertura da ação) da base de dados de teste.\n"
      ]
    },
    {
      "cell_type": "code",
      "metadata": {
        "colab": {
          "base_uri": "https://localhost:8080/"
        },
        "id": "Ff9USkKXr4ZR",
        "outputId": "61254d5f-268e-4ebe-f425-bfe2c93ff569"
      },
      "source": [
        "valor_real = dataset_test.iloc[:, 1:2].values # coluna 1\n",
        "print(valor_real)\n",
        "print(valor_real.shape)"
      ],
      "execution_count": 19,
      "outputs": [
        {
          "output_type": "stream",
          "text": [
            "[[30.51    ]\n",
            " [30.879999]\n",
            " [30.43    ]\n",
            " [30.82    ]\n",
            " [30.690001]\n",
            " [30.469999]\n",
            " [30.389999]\n",
            " [30.35    ]\n",
            " [30.23    ]\n",
            " [29.9     ]\n",
            " [29.6     ]\n",
            " [29.719999]\n",
            " [29.700001]\n",
            " [29.799999]\n",
            " [29.73    ]\n",
            " [29.09    ]\n",
            " [29.559999]\n",
            " [28.629999]\n",
            " [28.43    ]\n",
            " [29.      ]\n",
            " [28.280001]\n",
            " [28.629999]\n",
            " [28.52    ]\n",
            " [28.65    ]\n",
            " [29.049999]\n",
            " [28.700001]\n",
            " [29.      ]\n",
            " [28.889999]\n",
            " [29.4     ]\n",
            " [29.639999]\n",
            " [29.77    ]\n",
            " [29.860001]\n",
            " [29.629999]\n",
            " [29.059999]\n",
            " [29.870001]\n",
            " [30.799999]\n",
            " [29.51    ]\n",
            " [25.719999]\n",
            " [25.16    ]\n",
            " [25.5     ]\n",
            " [26.57    ]\n",
            " [26.91    ]\n",
            " [26.33    ]\n",
            " [24.1     ]\n",
            " [17.809999]\n",
            " [18.65    ]\n",
            " [16.700001]\n",
            " [13.66    ]\n",
            " [15.1     ]\n",
            " [12.91    ]\n",
            " [13.6     ]\n",
            " [11.79    ]\n",
            " [11.07    ]\n",
            " [13.11    ]\n",
            " [12.11    ]\n",
            " [12.57    ]\n",
            " [13.24    ]\n",
            " [14.4     ]\n",
            " [13.3     ]\n",
            " [13.15    ]\n",
            " [13.6     ]\n",
            " [13.45    ]\n",
            " [15.4     ]\n",
            " [16.299999]\n",
            " [16.049999]\n",
            " [16.610001]\n",
            " [16.5     ]\n",
            " [17.940001]\n",
            " [16.82    ]\n",
            " [17.02    ]\n",
            " [16.040001]\n",
            " [16.67    ]\n",
            " [15.75    ]\n",
            " [15.48    ]\n",
            " [15.85    ]\n",
            " [17.200001]\n",
            " [16.690001]\n",
            " [16.139999]\n",
            " [17.040001]\n",
            " [17.799999]\n",
            " [17.98    ]\n",
            " [17.43    ]\n",
            " [17.9     ]\n",
            " [17.870001]\n",
            " [17.75    ]\n",
            " [17.74    ]\n",
            " [18.299999]\n",
            " [18.530001]\n",
            " [18.26    ]\n",
            " [17.4     ]\n",
            " [17.99    ]\n",
            " [18.1     ]\n",
            " [18.51    ]\n",
            " [19.09    ]\n",
            " [19.5     ]\n",
            " [18.799999]\n",
            " [19.48    ]\n",
            " [19.98    ]\n",
            " [19.799999]\n",
            " [19.690001]\n",
            " [19.549999]\n",
            " [20.15    ]\n",
            " [20.75    ]\n",
            " [21.860001]\n",
            " [21.389999]\n",
            " [22.290001]\n",
            " [22.549999]\n",
            " [22.030001]\n",
            " [21.889999]\n",
            " [20.620001]\n",
            " [19.809999]\n",
            " [21.559999]\n",
            " [21.48    ]\n",
            " [21.18    ]\n",
            " [22.      ]\n",
            " [21.6     ]\n",
            " [21.219999]\n",
            " [21.49    ]\n",
            " [20.91    ]\n",
            " [21.209999]\n",
            " [21.1     ]\n",
            " [21.34    ]\n",
            " [21.75    ]\n",
            " [22.1     ]\n",
            " [21.950001]\n",
            " [22.389999]\n",
            " [22.34    ]\n",
            " [22.450001]\n",
            " [22.780001]\n",
            " [22.190001]\n",
            " [22.610001]\n",
            " [22.129999]\n",
            " [23.200001]\n",
            " [23.16    ]\n",
            " [22.83    ]\n",
            " [22.700001]\n",
            " [23.15    ]\n",
            " [23.299999]\n",
            " [23.16    ]\n",
            " [22.540001]\n",
            " [22.870001]\n",
            " [23.040001]\n",
            " [23.030001]\n",
            " [22.92    ]\n",
            " [22.92    ]\n",
            " [22.540001]\n",
            " [21.459999]\n",
            " [22.23    ]\n",
            " [23.280001]\n",
            " [22.860001]\n",
            " [22.9     ]\n",
            " [23.709999]\n",
            " [23.360001]\n",
            " [23.450001]\n",
            " [22.77    ]\n",
            " [22.68    ]\n",
            " [22.93    ]\n",
            " [22.950001]\n",
            " [22.52    ]\n",
            " [22.540001]\n",
            " [22.860001]\n",
            " [23.09    ]\n",
            " [22.780001]\n",
            " [22.32    ]\n",
            " [22.25    ]\n",
            " [22.32    ]\n",
            " [22.200001]\n",
            " [22.93    ]\n",
            " [22.610001]\n",
            " [23.      ]\n",
            " [22.5     ]\n",
            " [22.49    ]\n",
            " [22.58    ]\n",
            " [22.120001]\n",
            " [21.940001]\n",
            " [21.98    ]\n",
            " [21.85    ]\n",
            " [21.51    ]\n",
            " [21.99    ]\n",
            " [21.290001]\n",
            " [20.959999]\n",
            " [20.799999]\n",
            " [20.24    ]\n",
            " [20.15    ]\n",
            " [20.33    ]\n",
            " [19.629999]\n",
            " [19.5     ]\n",
            " [19.639999]\n",
            " [19.73    ]\n",
            " [19.360001]\n",
            " [20.469999]\n",
            " [20.      ]\n",
            " [20.040001]\n",
            " [20.34    ]\n",
            " [19.91    ]\n",
            " [20.09    ]\n",
            " [19.620001]\n",
            " [19.67    ]\n",
            " [19.41    ]\n",
            " [19.67    ]\n",
            " [20.16    ]\n",
            " [20.1     ]\n",
            " [20.940001]\n",
            " [20.33    ]\n",
            " [20.26    ]\n",
            " [19.35    ]\n",
            " [18.43    ]\n",
            " [19.139999]\n",
            " [19.51    ]\n",
            " [20.01    ]\n",
            " [19.950001]\n",
            " [19.549999]\n",
            " [21.110001]\n",
            " [21.889999]\n",
            " [23.35    ]\n",
            " [22.74    ]\n",
            " [22.02    ]\n",
            " [23.200001]\n",
            " [23.049999]\n",
            " [23.99    ]\n",
            " [23.549999]\n",
            " [24.049999]\n",
            " [25.639999]\n",
            " [26.200001]\n",
            " [25.940001]\n",
            " [25.92    ]\n",
            " [25.26    ]\n",
            " [25.4     ]\n",
            " [25.6     ]\n",
            " [26.15    ]\n",
            " [27.190001]\n",
            " [27.27    ]\n",
            " [26.809999]\n",
            " [26.629999]\n",
            " [27.190001]\n",
            " [27.49    ]\n",
            " [28.030001]\n",
            " [27.620001]\n",
            " [27.85    ]\n",
            " [28.299999]\n",
            " [28.1     ]\n",
            " [27.190001]\n",
            " [27.200001]\n",
            " [27.43    ]\n",
            " [28.360001]\n",
            " [28.379999]\n",
            " [28.35    ]]\n",
            "(247, 1)\n"
          ],
          "name": "stdout"
        }
      ]
    },
    {
      "cell_type": "markdown",
      "metadata": {
        "id": "GrvrLblxkz42"
      },
      "source": [
        "## Monta a estrutura de dados de teste\n",
        "\n"
      ]
    },
    {
      "cell_type": "code",
      "metadata": {
        "id": "emikTvUpk3Ck"
      },
      "source": [
        "dataset_total = pd.concat((dataset_train['Open'], dataset_test['Open']), axis = 0) # concatena dados de treino e teste\n",
        "inputs = dataset_total[len(dataset_total) - len(dataset_test) - timesteps:].values # armazena em inputs os 90 útimos valores de train + test\n",
        "inputs = inputs.reshape(-1,1) # remodela com uma coluna\n",
        "inputs = sc.transform(inputs) # escalonamento dos dados (minmax)\n",
        "X_test = []\n",
        "for i in range(timesteps, len(inputs)):  \n",
        "    X_test.append(inputs[i-timesteps:i, 0])\n",
        "X_test = np.array(X_test)\n",
        "X_test = np.reshape(X_test, (X_test.shape[0], X_test.shape[1], 1)) # redimensiona para um tensor 3D na forma [batch, timesteps, feature]\n",
        "valor_previsto = model.predict(X_test)\n",
        "valor_previsto = sc.inverse_transform(valor_previsto) # mapeia os valores para a escala original"
      ],
      "execution_count": 20,
      "outputs": []
    },
    {
      "cell_type": "markdown",
      "metadata": {
        "id": "iFTNs3YHk6FQ"
      },
      "source": [
        "### Visualização dos resultados"
      ]
    },
    {
      "cell_type": "code",
      "metadata": {
        "id": "8OUI8U49k9tH",
        "colab": {
          "base_uri": "https://localhost:8080/",
          "height": 323
        },
        "outputId": "c68b7b10-ac78-4210-9fde-922f767faebb"
      },
      "source": [
        "plt.figure(figsize=(8,4), dpi = 80, facecolor='w', edgecolor='k')\n",
        "plt.plot(valor_real, color = 'orange', label = 'Valor real')\n",
        "plt.plot(valor_previsto, color = 'blue', label = 'Valor previsto - RNN')\n",
        "plt.title('Previsão das ações PETR4.SA')\n",
        "plt.xlabel('Tempo (dias)')\n",
        "plt.ylabel('Preço das ações da Google')\n",
        "plt.grid(True)\n",
        "plt.legend()\n",
        "plt.show()"
      ],
      "execution_count": 21,
      "outputs": [
        {
          "output_type": "display_data",
          "data": {
            "image/png": "[encoded data removed]",
            "text/plain": [
              "<Figure size 640x320 with 1 Axes>"
            ]
          },
          "metadata": {
            "tags": []
          }
        }
      ]
    }
  ]
}