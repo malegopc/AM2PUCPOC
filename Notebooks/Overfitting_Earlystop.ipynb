{
  "nbformat": 4,
  "nbformat_minor": 0,
  "metadata": {
    "kernelspec": {
      "display_name": "Python 3",
      "language": "python",
      "name": "python3"
    },
    "language_info": {
      "codemirror_mode": {
        "name": "ipython",
        "version": 3
      },
      "file_extension": ".py",
      "mimetype": "text/x-python",
      "name": "python",
      "nbconvert_exporter": "python",
      "pygments_lexer": "ipython3",
      "version": "3.7.3"
    },
    "colab": {
      "name": "Overfitting_Earlystop.ipynb",
      "provenance": [],
      "collapsed_sections": []
    }
  },
  "cells": [
    {
      "cell_type": "markdown",
      "metadata": {
        "id": "Z7K0SeDgzjL2"
      },
      "source": [
        "---\n",
        "\n",
        "\n",
        "\n",
        "---\n",
        "\n",
        "# Predição de partido político baseado em votações (uso da função EarlyStopping para controle de Overfitting)\n",
        "\n",
        "Este notebook implementa uma rede neural para predizer (descobrir) qual partido político de um congressista americano com base nos seus votos **utilizando a função EarlyStopping para controle de Overfitting**.\n",
        "\n",
        "Utiliza-se um conjunto de dados públicos de como os congressistas dos EUA votaram em 17 questões diferentes. \n",
        "\n",
        "Nos Estados Unidos há dois principais partidos políticos: \"Democrata\" e \"Republicano\". Nos tempos modernos, eles representam ideologias progressistas e conservadoras, respectivamente.\n",
        "\n",
        "Trata-se de um problema de classificação binária.\n",
        "\n",
        "\n",
        "---\n",
        "\n",
        "\n",
        "\n",
        "---"
      ]
    },
    {
      "cell_type": "markdown",
      "metadata": {
        "id": "PcWx36BdDBX0"
      },
      "source": [
        "## Conjunto de dados\n",
        "\n",
        "Arquivo: **votes_data.txt**:\n",
        "\n",
        "1. Banco de dados de registros de votação do Congresso dos Estados Unidos de 1984\n",
        "\n",
        "2. Informações da fonte:\n",
        "    * Fonte: Congressional Quarterly Almanac, 98º Congresso,\n",
        "                 2ª sessão 1984, Volume XL: Congressional Quarterly Inc.\n",
        "                 Washington, D.C., 1985.\n",
        "    * Doador: Jeff Schlimmer (Jeffrey.Schlimmer@a.gp.cs.cmu.edu)\n",
        "    * Data: 27 de abril de 1987\n",
        "\n",
        "3. Uso anterior\n",
        "   - Publicações\n",
        "     1. Schlimmer, J. C. (1987). Aquisição de conceito através de\n",
        "        ajuste representacional. Tese de doutorado, Departamento de\n",
        "        Informação e Ciência da Computação, Universidade da Califórnia, Irvine, CA.\n",
        "        - Resultados: cerca de 90% -95% de precisão parece ser a assíntota de STAGGER\n",
        "        - Atributo previsto: afiliação partidária (2 classes)\n",
        "\n",
        "4. Número de instâncias: 435 (267 democratas, 168 republicanos)\n",
        "\n",
        "5. Número de atributos: 16 + nome da classe/partido = 17 (todos com valor booleano)\n",
        "\n",
        "6. Informação de Atributo:\n",
        "   1. Nome da classe: (democrata, republicano)\n",
        "   2. Crianças deficientes: (y, n)\n",
        "   3. Compartilhamento de custos do projeto de água: (y, n)\n",
        "   4. Resolução de adoção do orçamento: (y, n)\n",
        "   5. Congelamento de honorários médicos: (y, n)\n",
        "   6. Ajuda El Salvador: (y, n)\n",
        "   7. Grupos religiosos nas escolas: (y, n)\n",
        "   8. Proibição de teste anti-satélite: (y, n)\n",
        "   9. Ajuda para contras nicaraguenses: (y, n)\n",
        "  10. Míssil Mx: (y, n)\n",
        "  11. Imigração: (y, n)\n",
        "  12. Corte de corporação de combustíveis Syn: (y, n)\n",
        "  13. Gastos com educação: (y, n)\n",
        "  14. Super fundo direto: (y, n)\n",
        "  15. Crime: (y, n)\n",
        "  16. Exportações com isenção de impostos: (y, n)\n",
        "  17. Exportação África do Sul: (y, n)\n",
        "\n"
      ]
    },
    {
      "cell_type": "markdown",
      "metadata": {
        "id": "LWXwGCqvIwgN"
      },
      "source": [
        "## Leitura e preparação dos dados\n",
        "\n",
        "Vamos começar importando o arquivo CSV bruto usando o Pandas e fazer um DataFrame dele inserindo rótulos (nomes) em cada coluna (atributo)"
      ]
    },
    {
      "cell_type": "code",
      "metadata": {
        "scrolled": true,
        "colab": {
          "base_uri": "https://localhost:8080/",
          "height": 411
        },
        "id": "LM6AT7tPzjL6",
        "outputId": "1d00517f-c7a3-4313-cdf2-578500ae97a6"
      },
      "source": [
        "import pandas as pd\n",
        "\n",
        "# Clone do repositório de dados do GitHub\n",
        "!git clone https://github.com/malegopc/AM2PUCPOC\n",
        "# cria vetor com os rótulos de cada atributo\n",
        "nomes_atributos = ['Partido', 'Crianças deficientes', 'Compartilhamento de custos do projeto de água',\n",
        "                    'Resolução de adoção do orçamento', 'Congelamento de honorários médicos',\n",
        "                    'Ajuda El Salvador', 'Grupos religiosos nas escolas',\n",
        "                    'Proibição de teste anti-satélite', 'Ajuda a contras nicaraguenses',\n",
        "                    'Míssil MX', 'Imigração', 'Corte de corporação de combustíveis Syn',\n",
        "                    'Gastos com educação', ' Super fundo direto', 'Crime',\n",
        "                    'Exportações isentas de impostos', 'Exportação África do Sul']\n",
        "\n",
        "# lê arquivo de dados, atribue NaN para dados faltantes e rótulos em cada coluna\n",
        "dados_votacao = pd.read_csv('/content/AM2PUCPOC/Datasets/Predicao_Politica/votes_data.txt', na_values=['?'], names = nomes_atributos)\n",
        "# imprime as 5 primeiras linha dos dados montados\n",
        "dados_votacao.head()"
      ],
      "execution_count": 1,
      "outputs": [
        {
          "output_type": "stream",
          "text": [
            "Cloning into 'AM2PUCPOC'...\n",
            "remote: Enumerating objects: 120, done.\u001b[K\n",
            "remote: Counting objects: 100% (120/120), done.\u001b[K\n",
            "remote: Compressing objects: 100% (115/115), done.\u001b[K\n",
            "remote: Total 368 (delta 40), reused 0 (delta 0), pack-reused 248\u001b[K\n",
            "Receiving objects: 100% (368/368), 5.09 MiB | 11.36 MiB/s, done.\n",
            "Resolving deltas: 100% (106/106), done.\n"
          ],
          "name": "stdout"
        },
        {
          "output_type": "execute_result",
          "data": {
            "text/html": [
              "<div>\n",
              "<style scoped>\n",
              "    .dataframe tbody tr th:only-of-type {\n",
              "        vertical-align: middle;\n",
              "    }\n",
              "\n",
              "    .dataframe tbody tr th {\n",
              "        vertical-align: top;\n",
              "    }\n",
              "\n",
              "    .dataframe thead th {\n",
              "        text-align: right;\n",
              "    }\n",
              "</style>\n",
              "<table border=\"1\" class=\"dataframe\">\n",
              "  <thead>\n",
              "    <tr style=\"text-align: right;\">\n",
              "      <th></th>\n",
              "      <th>Partido</th>\n",
              "      <th>Crianças deficientes</th>\n",
              "      <th>Compartilhamento de custos do projeto de água</th>\n",
              "      <th>Resolução de adoção do orçamento</th>\n",
              "      <th>Congelamento de honorários médicos</th>\n",
              "      <th>Ajuda El Salvador</th>\n",
              "      <th>Grupos religiosos nas escolas</th>\n",
              "      <th>Proibição de teste anti-satélite</th>\n",
              "      <th>Ajuda a contras nicaraguenses</th>\n",
              "      <th>Míssil MX</th>\n",
              "      <th>Imigração</th>\n",
              "      <th>Corte de corporação de combustíveis Syn</th>\n",
              "      <th>Gastos com educação</th>\n",
              "      <th>Super fundo direto</th>\n",
              "      <th>Crime</th>\n",
              "      <th>Exportações isentas de impostos</th>\n",
              "      <th>Exportação África do Sul</th>\n",
              "    </tr>\n",
              "  </thead>\n",
              "  <tbody>\n",
              "    <tr>\n",
              "      <th>0</th>\n",
              "      <td>republican</td>\n",
              "      <td>n</td>\n",
              "      <td>y</td>\n",
              "      <td>n</td>\n",
              "      <td>y</td>\n",
              "      <td>y</td>\n",
              "      <td>y</td>\n",
              "      <td>n</td>\n",
              "      <td>n</td>\n",
              "      <td>n</td>\n",
              "      <td>y</td>\n",
              "      <td>NaN</td>\n",
              "      <td>y</td>\n",
              "      <td>y</td>\n",
              "      <td>y</td>\n",
              "      <td>n</td>\n",
              "      <td>y</td>\n",
              "    </tr>\n",
              "    <tr>\n",
              "      <th>1</th>\n",
              "      <td>republican</td>\n",
              "      <td>n</td>\n",
              "      <td>y</td>\n",
              "      <td>n</td>\n",
              "      <td>y</td>\n",
              "      <td>y</td>\n",
              "      <td>y</td>\n",
              "      <td>n</td>\n",
              "      <td>n</td>\n",
              "      <td>n</td>\n",
              "      <td>n</td>\n",
              "      <td>n</td>\n",
              "      <td>y</td>\n",
              "      <td>y</td>\n",
              "      <td>y</td>\n",
              "      <td>n</td>\n",
              "      <td>NaN</td>\n",
              "    </tr>\n",
              "    <tr>\n",
              "      <th>2</th>\n",
              "      <td>democrat</td>\n",
              "      <td>NaN</td>\n",
              "      <td>y</td>\n",
              "      <td>y</td>\n",
              "      <td>NaN</td>\n",
              "      <td>y</td>\n",
              "      <td>y</td>\n",
              "      <td>n</td>\n",
              "      <td>n</td>\n",
              "      <td>n</td>\n",
              "      <td>n</td>\n",
              "      <td>y</td>\n",
              "      <td>n</td>\n",
              "      <td>y</td>\n",
              "      <td>y</td>\n",
              "      <td>n</td>\n",
              "      <td>n</td>\n",
              "    </tr>\n",
              "    <tr>\n",
              "      <th>3</th>\n",
              "      <td>democrat</td>\n",
              "      <td>n</td>\n",
              "      <td>y</td>\n",
              "      <td>y</td>\n",
              "      <td>n</td>\n",
              "      <td>NaN</td>\n",
              "      <td>y</td>\n",
              "      <td>n</td>\n",
              "      <td>n</td>\n",
              "      <td>n</td>\n",
              "      <td>n</td>\n",
              "      <td>y</td>\n",
              "      <td>n</td>\n",
              "      <td>y</td>\n",
              "      <td>n</td>\n",
              "      <td>n</td>\n",
              "      <td>y</td>\n",
              "    </tr>\n",
              "    <tr>\n",
              "      <th>4</th>\n",
              "      <td>democrat</td>\n",
              "      <td>y</td>\n",
              "      <td>y</td>\n",
              "      <td>y</td>\n",
              "      <td>n</td>\n",
              "      <td>y</td>\n",
              "      <td>y</td>\n",
              "      <td>n</td>\n",
              "      <td>n</td>\n",
              "      <td>n</td>\n",
              "      <td>n</td>\n",
              "      <td>y</td>\n",
              "      <td>NaN</td>\n",
              "      <td>y</td>\n",
              "      <td>y</td>\n",
              "      <td>y</td>\n",
              "      <td>y</td>\n",
              "    </tr>\n",
              "  </tbody>\n",
              "</table>\n",
              "</div>"
            ],
            "text/plain": [
              "      Partido  ... Exportação África do Sul\n",
              "0  republican  ...                        y\n",
              "1  republican  ...                      NaN\n",
              "2    democrat  ...                        n\n",
              "3    democrat  ...                        y\n",
              "4    democrat  ...                        y\n",
              "\n",
              "[5 rows x 17 columns]"
            ]
          },
          "metadata": {
            "tags": []
          },
          "execution_count": 1
        }
      ]
    },
    {
      "cell_type": "markdown",
      "metadata": {
        "id": "qW6o_Dn0mB-E"
      },
      "source": [
        "## Número de instâncias"
      ]
    },
    {
      "cell_type": "code",
      "metadata": {
        "colab": {
          "base_uri": "https://localhost:8080/"
        },
        "id": "U9TOyn0Pj3tu",
        "outputId": "b875da00-bbe3-43e3-fec8-a82181a9ee3d"
      },
      "source": [
        "len(dados_votacao)"
      ],
      "execution_count": 3,
      "outputs": [
        {
          "output_type": "execute_result",
          "data": {
            "text/plain": [
              "435"
            ]
          },
          "metadata": {
            "tags": []
          },
          "execution_count": 3
        }
      ]
    },
    {
      "cell_type": "markdown",
      "metadata": {
        "id": "HVm9d_FmzjL_"
      },
      "source": [
        "## Eliminação de dados ausentes \n",
        "\n",
        "Alguns políticos se abstiveram em algumas votações ou simplesmente não estavam presentes no momento da votação. Para contornar esse problema vamos simplesmente eliminar as linhas com dados ausentes para mantê-lo simples, mas na prática é importante ter certeza de que isso não introduziu nenhum tipo de viés em sua análise (se uma parte se abstiver mais do que outra, isso poderia ser problemático)\n"
      ]
    },
    {
      "cell_type": "code",
      "metadata": {
        "colab": {
          "base_uri": "https://localhost:8080/",
          "height": 261
        },
        "id": "c6gfguVAzjL_",
        "outputId": "a05395ce-b659-4a40-df26-38040e27f37a"
      },
      "source": [
        "# Remove dados faltantes na própria variável \n",
        "dados_votacao.dropna(inplace=True)\n",
        "dados_votacao.describe()"
      ],
      "execution_count": 4,
      "outputs": [
        {
          "output_type": "execute_result",
          "data": {
            "text/html": [
              "<div>\n",
              "<style scoped>\n",
              "    .dataframe tbody tr th:only-of-type {\n",
              "        vertical-align: middle;\n",
              "    }\n",
              "\n",
              "    .dataframe tbody tr th {\n",
              "        vertical-align: top;\n",
              "    }\n",
              "\n",
              "    .dataframe thead th {\n",
              "        text-align: right;\n",
              "    }\n",
              "</style>\n",
              "<table border=\"1\" class=\"dataframe\">\n",
              "  <thead>\n",
              "    <tr style=\"text-align: right;\">\n",
              "      <th></th>\n",
              "      <th>Partido</th>\n",
              "      <th>Crianças deficientes</th>\n",
              "      <th>Compartilhamento de custos do projeto de água</th>\n",
              "      <th>Resolução de adoção do orçamento</th>\n",
              "      <th>Congelamento de honorários médicos</th>\n",
              "      <th>Ajuda El Salvador</th>\n",
              "      <th>Grupos religiosos nas escolas</th>\n",
              "      <th>Proibição de teste anti-satélite</th>\n",
              "      <th>Ajuda a contras nicaraguenses</th>\n",
              "      <th>Míssil MX</th>\n",
              "      <th>Imigração</th>\n",
              "      <th>Corte de corporação de combustíveis Syn</th>\n",
              "      <th>Gastos com educação</th>\n",
              "      <th>Super fundo direto</th>\n",
              "      <th>Crime</th>\n",
              "      <th>Exportações isentas de impostos</th>\n",
              "      <th>Exportação África do Sul</th>\n",
              "    </tr>\n",
              "  </thead>\n",
              "  <tbody>\n",
              "    <tr>\n",
              "      <th>count</th>\n",
              "      <td>232</td>\n",
              "      <td>232</td>\n",
              "      <td>232</td>\n",
              "      <td>232</td>\n",
              "      <td>232</td>\n",
              "      <td>232</td>\n",
              "      <td>232</td>\n",
              "      <td>232</td>\n",
              "      <td>232</td>\n",
              "      <td>232</td>\n",
              "      <td>232</td>\n",
              "      <td>232</td>\n",
              "      <td>232</td>\n",
              "      <td>232</td>\n",
              "      <td>232</td>\n",
              "      <td>232</td>\n",
              "      <td>232</td>\n",
              "    </tr>\n",
              "    <tr>\n",
              "      <th>unique</th>\n",
              "      <td>2</td>\n",
              "      <td>2</td>\n",
              "      <td>2</td>\n",
              "      <td>2</td>\n",
              "      <td>2</td>\n",
              "      <td>2</td>\n",
              "      <td>2</td>\n",
              "      <td>2</td>\n",
              "      <td>2</td>\n",
              "      <td>2</td>\n",
              "      <td>2</td>\n",
              "      <td>2</td>\n",
              "      <td>2</td>\n",
              "      <td>2</td>\n",
              "      <td>2</td>\n",
              "      <td>2</td>\n",
              "      <td>2</td>\n",
              "    </tr>\n",
              "    <tr>\n",
              "      <th>top</th>\n",
              "      <td>democrat</td>\n",
              "      <td>n</td>\n",
              "      <td>n</td>\n",
              "      <td>y</td>\n",
              "      <td>n</td>\n",
              "      <td>y</td>\n",
              "      <td>y</td>\n",
              "      <td>y</td>\n",
              "      <td>y</td>\n",
              "      <td>n</td>\n",
              "      <td>y</td>\n",
              "      <td>n</td>\n",
              "      <td>n</td>\n",
              "      <td>y</td>\n",
              "      <td>y</td>\n",
              "      <td>n</td>\n",
              "      <td>y</td>\n",
              "    </tr>\n",
              "    <tr>\n",
              "      <th>freq</th>\n",
              "      <td>124</td>\n",
              "      <td>136</td>\n",
              "      <td>125</td>\n",
              "      <td>123</td>\n",
              "      <td>119</td>\n",
              "      <td>128</td>\n",
              "      <td>149</td>\n",
              "      <td>124</td>\n",
              "      <td>119</td>\n",
              "      <td>119</td>\n",
              "      <td>128</td>\n",
              "      <td>152</td>\n",
              "      <td>124</td>\n",
              "      <td>127</td>\n",
              "      <td>149</td>\n",
              "      <td>146</td>\n",
              "      <td>189</td>\n",
              "    </tr>\n",
              "  </tbody>\n",
              "</table>\n",
              "</div>"
            ],
            "text/plain": [
              "         Partido  ... Exportação África do Sul\n",
              "count        232  ...                      232\n",
              "unique         2  ...                        2\n",
              "top     democrat  ...                        y\n",
              "freq         124  ...                      189\n",
              "\n",
              "[4 rows x 17 columns]"
            ]
          },
          "metadata": {
            "tags": []
          },
          "execution_count": 4
        }
      ]
    },
    {
      "cell_type": "markdown",
      "metadata": {
        "id": "QzU81rWymGty"
      },
      "source": [
        "## Número de instâncias após eliminação de dados faltantes"
      ]
    },
    {
      "cell_type": "code",
      "metadata": {
        "colab": {
          "base_uri": "https://localhost:8080/"
        },
        "id": "iZbrJd0amTG7",
        "outputId": "b779edd0-630e-4bd9-fec8-66d706774311"
      },
      "source": [
        "len(dados_votacao)"
      ],
      "execution_count": 5,
      "outputs": [
        {
          "output_type": "execute_result",
          "data": {
            "text/plain": [
              "232"
            ]
          },
          "metadata": {
            "tags": []
          },
          "execution_count": 5
        }
      ]
    },
    {
      "cell_type": "markdown",
      "metadata": {
        "id": "f0ziTMDEzjMA"
      },
      "source": [
        "## Transforma dados categóricos (y e n) em números (1 e 0) "
      ]
    },
    {
      "cell_type": "code",
      "metadata": {
        "colab": {
          "base_uri": "https://localhost:8080/",
          "height": 292
        },
        "id": "IE4ekFOTzjMA",
        "outputId": "d8d39ae2-e2c7-4cde-f783-838b791735f4"
      },
      "source": [
        "dados_votacao.replace(('y', 'n'), (1, 0), inplace=True)\n",
        "dados_votacao.replace(('democrat', 'republican'), (1, 0), inplace=True)\n",
        "dados_votacao.head()"
      ],
      "execution_count": 6,
      "outputs": [
        {
          "output_type": "execute_result",
          "data": {
            "text/html": [
              "<div>\n",
              "<style scoped>\n",
              "    .dataframe tbody tr th:only-of-type {\n",
              "        vertical-align: middle;\n",
              "    }\n",
              "\n",
              "    .dataframe tbody tr th {\n",
              "        vertical-align: top;\n",
              "    }\n",
              "\n",
              "    .dataframe thead th {\n",
              "        text-align: right;\n",
              "    }\n",
              "</style>\n",
              "<table border=\"1\" class=\"dataframe\">\n",
              "  <thead>\n",
              "    <tr style=\"text-align: right;\">\n",
              "      <th></th>\n",
              "      <th>Partido</th>\n",
              "      <th>Crianças deficientes</th>\n",
              "      <th>Compartilhamento de custos do projeto de água</th>\n",
              "      <th>Resolução de adoção do orçamento</th>\n",
              "      <th>Congelamento de honorários médicos</th>\n",
              "      <th>Ajuda El Salvador</th>\n",
              "      <th>Grupos religiosos nas escolas</th>\n",
              "      <th>Proibição de teste anti-satélite</th>\n",
              "      <th>Ajuda a contras nicaraguenses</th>\n",
              "      <th>Míssil MX</th>\n",
              "      <th>Imigração</th>\n",
              "      <th>Corte de corporação de combustíveis Syn</th>\n",
              "      <th>Gastos com educação</th>\n",
              "      <th>Super fundo direto</th>\n",
              "      <th>Crime</th>\n",
              "      <th>Exportações isentas de impostos</th>\n",
              "      <th>Exportação África do Sul</th>\n",
              "    </tr>\n",
              "  </thead>\n",
              "  <tbody>\n",
              "    <tr>\n",
              "      <th>5</th>\n",
              "      <td>1</td>\n",
              "      <td>0</td>\n",
              "      <td>1</td>\n",
              "      <td>1</td>\n",
              "      <td>0</td>\n",
              "      <td>1</td>\n",
              "      <td>1</td>\n",
              "      <td>0</td>\n",
              "      <td>0</td>\n",
              "      <td>0</td>\n",
              "      <td>0</td>\n",
              "      <td>0</td>\n",
              "      <td>0</td>\n",
              "      <td>1</td>\n",
              "      <td>1</td>\n",
              "      <td>1</td>\n",
              "      <td>1</td>\n",
              "    </tr>\n",
              "    <tr>\n",
              "      <th>8</th>\n",
              "      <td>0</td>\n",
              "      <td>0</td>\n",
              "      <td>1</td>\n",
              "      <td>0</td>\n",
              "      <td>1</td>\n",
              "      <td>1</td>\n",
              "      <td>1</td>\n",
              "      <td>0</td>\n",
              "      <td>0</td>\n",
              "      <td>0</td>\n",
              "      <td>0</td>\n",
              "      <td>0</td>\n",
              "      <td>1</td>\n",
              "      <td>1</td>\n",
              "      <td>1</td>\n",
              "      <td>0</td>\n",
              "      <td>1</td>\n",
              "    </tr>\n",
              "    <tr>\n",
              "      <th>19</th>\n",
              "      <td>1</td>\n",
              "      <td>1</td>\n",
              "      <td>1</td>\n",
              "      <td>1</td>\n",
              "      <td>0</td>\n",
              "      <td>0</td>\n",
              "      <td>0</td>\n",
              "      <td>1</td>\n",
              "      <td>1</td>\n",
              "      <td>1</td>\n",
              "      <td>0</td>\n",
              "      <td>1</td>\n",
              "      <td>0</td>\n",
              "      <td>0</td>\n",
              "      <td>0</td>\n",
              "      <td>1</td>\n",
              "      <td>1</td>\n",
              "    </tr>\n",
              "    <tr>\n",
              "      <th>23</th>\n",
              "      <td>1</td>\n",
              "      <td>1</td>\n",
              "      <td>1</td>\n",
              "      <td>1</td>\n",
              "      <td>0</td>\n",
              "      <td>0</td>\n",
              "      <td>0</td>\n",
              "      <td>1</td>\n",
              "      <td>1</td>\n",
              "      <td>1</td>\n",
              "      <td>0</td>\n",
              "      <td>0</td>\n",
              "      <td>0</td>\n",
              "      <td>0</td>\n",
              "      <td>0</td>\n",
              "      <td>1</td>\n",
              "      <td>1</td>\n",
              "    </tr>\n",
              "    <tr>\n",
              "      <th>25</th>\n",
              "      <td>1</td>\n",
              "      <td>1</td>\n",
              "      <td>0</td>\n",
              "      <td>1</td>\n",
              "      <td>0</td>\n",
              "      <td>0</td>\n",
              "      <td>0</td>\n",
              "      <td>1</td>\n",
              "      <td>1</td>\n",
              "      <td>1</td>\n",
              "      <td>1</td>\n",
              "      <td>0</td>\n",
              "      <td>0</td>\n",
              "      <td>0</td>\n",
              "      <td>0</td>\n",
              "      <td>1</td>\n",
              "      <td>1</td>\n",
              "    </tr>\n",
              "  </tbody>\n",
              "</table>\n",
              "</div>"
            ],
            "text/plain": [
              "    Partido  ...  Exportação África do Sul\n",
              "5         1  ...                         1\n",
              "8         0  ...                         1\n",
              "19        1  ...                         1\n",
              "23        1  ...                         1\n",
              "25        1  ...                         1\n",
              "\n",
              "[5 rows x 17 columns]"
            ]
          },
          "metadata": {
            "tags": []
          },
          "execution_count": 6
        }
      ]
    },
    {
      "cell_type": "markdown",
      "metadata": {
        "id": "yabMrBvezjMC"
      },
      "source": [
        "## Separa os atributos das classes\n",
        "\n",
        "Extrai os atributos e as classes (rótulos) colocando-os em duas variáveis separadas (na forma que o Keras espera)."
      ]
    },
    {
      "cell_type": "code",
      "metadata": {
        "colab": {
          "base_uri": "https://localhost:8080/"
        },
        "id": "9pK51IcczjMC",
        "outputId": "7556903a-a201-4866-bd2b-066479de062a"
      },
      "source": [
        "X = dados_votacao[nomes_atributos].drop('Partido', axis=1).values\n",
        "y = dados_votacao['Partido'].values\n",
        "print(X.shape)\n",
        "print(y.shape)"
      ],
      "execution_count": 7,
      "outputs": [
        {
          "output_type": "stream",
          "text": [
            "(232, 16)\n",
            "(232,)\n"
          ],
          "name": "stdout"
        }
      ]
    },
    {
      "cell_type": "markdown",
      "metadata": {
        "id": "OhhPEpwNm4z2"
      },
      "source": [
        "## Divide o conjunto de dados em treino e teste"
      ]
    },
    {
      "cell_type": "code",
      "metadata": {
        "colab": {
          "base_uri": "https://localhost:8080/"
        },
        "id": "R2rzqlBYm8CD",
        "outputId": "5717fc8b-f9ab-46a5-9bf7-e013dea75eba"
      },
      "source": [
        "from sklearn.model_selection import train_test_split\n",
        "X_train, X_test, y_train, y_test = train_test_split(X,y,test_size=0.25,random_state=42)\n",
        "print(X_train.shape)\n",
        "print(X_test.shape)"
      ],
      "execution_count": 8,
      "outputs": [
        {
          "output_type": "stream",
          "text": [
            "(174, 16)\n",
            "(58, 16)\n"
          ],
          "name": "stdout"
        }
      ]
    },
    {
      "cell_type": "markdown",
      "metadata": {
        "id": "zyWHf7bCzjMD"
      },
      "source": [
        "## Criação do modelo de rede neural\n"
      ]
    },
    {
      "cell_type": "code",
      "metadata": {
        "colab": {
          "base_uri": "https://localhost:8080/"
        },
        "id": "uwpVybNDzjME",
        "outputId": "0192cb8e-eed9-47df-b933-0524da11f1af"
      },
      "source": [
        "from keras.layers import Dense\n",
        "from keras.models import Sequential\n",
        "from sklearn.model_selection import cross_val_score\n",
        "\n",
        "model = Sequential()\n",
        "# 1a. camada escondida com 32 neurônios - 16 entradas (atributos)\n",
        "model.add(Dense(32, input_dim=16, kernel_initializer = 'he_uniform', activation='relu'))\n",
        "# 2a. camada escondida com 16 neurônios\n",
        "model.add(Dense(16, kernel_initializer = 'he_uniform', activation='relu'))\n",
        "# Camada de saída com 01 neurônio - Classificação binária (Democrat or Republican)\n",
        "model.add(Dense(1, activation='sigmoid'))\n",
        "# Sumário do modelo\n",
        "model.summary()"
      ],
      "execution_count": 9,
      "outputs": [
        {
          "output_type": "stream",
          "text": [
            "Model: \"sequential\"\n",
            "_________________________________________________________________\n",
            "Layer (type)                 Output Shape              Param #   \n",
            "=================================================================\n",
            "dense (Dense)                (None, 32)                544       \n",
            "_________________________________________________________________\n",
            "dense_1 (Dense)              (None, 16)                528       \n",
            "_________________________________________________________________\n",
            "dense_2 (Dense)              (None, 1)                 17        \n",
            "=================================================================\n",
            "Total params: 1,089\n",
            "Trainable params: 1,089\n",
            "Non-trainable params: 0\n",
            "_________________________________________________________________\n"
          ],
          "name": "stdout"
        }
      ]
    },
    {
      "cell_type": "markdown",
      "metadata": {
        "id": "wHhaiOZfcPR1"
      },
      "source": [
        "## Compila o modelo"
      ]
    },
    {
      "cell_type": "code",
      "metadata": {
        "id": "HWM1ThWlzjMF"
      },
      "source": [
        "model.compile(optimizer='adam', loss='binary_crossentropy', metrics=['accuracy'])"
      ],
      "execution_count": 10,
      "outputs": []
    },
    {
      "cell_type": "markdown",
      "metadata": {
        "id": "n2dOhpdZceL0"
      },
      "source": [
        "## Treina o modelo\n",
        "\n",
        "Você pode executar este notebook fazendo uso ou não da função EarlyStopping para verificar o efeito da mesma sobre o controle de Overfitting."
      ]
    },
    {
      "cell_type": "code",
      "metadata": {
        "colab": {
          "base_uri": "https://localhost:8080/"
        },
        "id": "M-OXJQ3vciV1",
        "outputId": "2b0d68bd-3ed3-4899-c989-c1ca6469c554"
      },
      "source": [
        "from keras.callbacks import EarlyStopping, ModelCheckpoint\n",
        "\n",
        "early_stop = EarlyStopping(monitor='val_loss', min_delta = 1e-4, patience=5, restore_best_weights = 'True', verbose=1)\n",
        "history = model.fit(X_train, y_train, epochs=150, batch_size = 8, validation_data=(X_test, y_test), callbacks=[early_stop])"
      ],
      "execution_count": 11,
      "outputs": [
        {
          "output_type": "stream",
          "text": [
            "Epoch 1/150\n",
            "22/22 [==============================] - 1s 24ms/step - loss: 0.6363 - accuracy: 0.6234 - val_loss: 0.5334 - val_accuracy: 0.7414\n",
            "Epoch 2/150\n",
            "22/22 [==============================] - 0s 4ms/step - loss: 0.4737 - accuracy: 0.8122 - val_loss: 0.3682 - val_accuracy: 0.9483\n",
            "Epoch 3/150\n",
            "22/22 [==============================] - 0s 3ms/step - loss: 0.4016 - accuracy: 0.8736 - val_loss: 0.2629 - val_accuracy: 0.9828\n",
            "Epoch 4/150\n",
            "22/22 [==============================] - 0s 3ms/step - loss: 0.2927 - accuracy: 0.9209 - val_loss: 0.1989 - val_accuracy: 0.9828\n",
            "Epoch 5/150\n",
            "22/22 [==============================] - 0s 4ms/step - loss: 0.2825 - accuracy: 0.9023 - val_loss: 0.1604 - val_accuracy: 0.9828\n",
            "Epoch 6/150\n",
            "22/22 [==============================] - 0s 4ms/step - loss: 0.2037 - accuracy: 0.9315 - val_loss: 0.1347 - val_accuracy: 0.9828\n",
            "Epoch 7/150\n",
            "22/22 [==============================] - 0s 3ms/step - loss: 0.1656 - accuracy: 0.9370 - val_loss: 0.1149 - val_accuracy: 0.9828\n",
            "Epoch 8/150\n",
            "22/22 [==============================] - 0s 3ms/step - loss: 0.1956 - accuracy: 0.9143 - val_loss: 0.1089 - val_accuracy: 0.9828\n",
            "Epoch 9/150\n",
            "22/22 [==============================] - 0s 3ms/step - loss: 0.1172 - accuracy: 0.9674 - val_loss: 0.0954 - val_accuracy: 0.9828\n",
            "Epoch 10/150\n",
            "22/22 [==============================] - 0s 4ms/step - loss: 0.1552 - accuracy: 0.9283 - val_loss: 0.0912 - val_accuracy: 0.9828\n",
            "Epoch 11/150\n",
            "22/22 [==============================] - 0s 4ms/step - loss: 0.1377 - accuracy: 0.9458 - val_loss: 0.0838 - val_accuracy: 0.9828\n",
            "Epoch 12/150\n",
            "22/22 [==============================] - 0s 3ms/step - loss: 0.1151 - accuracy: 0.9446 - val_loss: 0.0799 - val_accuracy: 0.9828\n",
            "Epoch 13/150\n",
            "22/22 [==============================] - 0s 4ms/step - loss: 0.1309 - accuracy: 0.9382 - val_loss: 0.0774 - val_accuracy: 0.9828\n",
            "Epoch 14/150\n",
            "22/22 [==============================] - 0s 3ms/step - loss: 0.1140 - accuracy: 0.9359 - val_loss: 0.0705 - val_accuracy: 0.9828\n",
            "Epoch 15/150\n",
            "22/22 [==============================] - 0s 4ms/step - loss: 0.0957 - accuracy: 0.9497 - val_loss: 0.0667 - val_accuracy: 0.9828\n",
            "Epoch 16/150\n",
            "22/22 [==============================] - 0s 3ms/step - loss: 0.0759 - accuracy: 0.9680 - val_loss: 0.0688 - val_accuracy: 0.9828\n",
            "Epoch 17/150\n",
            "22/22 [==============================] - 0s 3ms/step - loss: 0.1015 - accuracy: 0.9672 - val_loss: 0.0640 - val_accuracy: 0.9828\n",
            "Epoch 18/150\n",
            "22/22 [==============================] - 0s 3ms/step - loss: 0.0721 - accuracy: 0.9745 - val_loss: 0.0660 - val_accuracy: 0.9828\n",
            "Epoch 19/150\n",
            "22/22 [==============================] - 0s 3ms/step - loss: 0.0610 - accuracy: 0.9917 - val_loss: 0.0712 - val_accuracy: 0.9828\n",
            "Epoch 20/150\n",
            "22/22 [==============================] - 0s 4ms/step - loss: 0.0619 - accuracy: 0.9937 - val_loss: 0.0583 - val_accuracy: 0.9828\n",
            "Epoch 21/150\n",
            "22/22 [==============================] - 0s 3ms/step - loss: 0.0451 - accuracy: 0.9899 - val_loss: 0.0630 - val_accuracy: 0.9828\n",
            "Epoch 22/150\n",
            "22/22 [==============================] - 0s 3ms/step - loss: 0.0746 - accuracy: 0.9796 - val_loss: 0.0788 - val_accuracy: 0.9655\n",
            "Epoch 23/150\n",
            "22/22 [==============================] - 0s 4ms/step - loss: 0.0609 - accuracy: 0.9990 - val_loss: 0.0670 - val_accuracy: 0.9828\n",
            "Epoch 24/150\n",
            "22/22 [==============================] - 0s 3ms/step - loss: 0.0507 - accuracy: 0.9881 - val_loss: 0.0712 - val_accuracy: 0.9655\n",
            "Epoch 25/150\n",
            "22/22 [==============================] - 0s 3ms/step - loss: 0.0411 - accuracy: 0.9956 - val_loss: 0.0766 - val_accuracy: 0.9655\n",
            "Restoring model weights from the end of the best epoch.\n",
            "Epoch 00025: early stopping\n"
          ],
          "name": "stdout"
        }
      ]
    },
    {
      "cell_type": "markdown",
      "metadata": {
        "id": "l48BhF4PlZkM"
      },
      "source": [
        "## Análise da função *loss* (erro/perda)\n",
        "Vamos observar o comportamento da função *loss* para os dados de treino e de validação/teste."
      ]
    },
    {
      "cell_type": "code",
      "metadata": {
        "colab": {
          "base_uri": "https://localhost:8080/",
          "height": 297
        },
        "id": "oscCHzuRldf7",
        "outputId": "9f244881-3f56-49a4-bf78-c83a21d450d2"
      },
      "source": [
        "import matplotlib.pyplot as plt\n",
        "plt.plot(history.history['loss'])\n",
        "plt.plot(history.history['val_loss'], '')\n",
        "plt.xlabel(\"Épocas\")\n",
        "plt.ylabel('Erro/loss')\n",
        "plt.title('Função erro/loss')\n",
        "plt.legend(['loss', 'val_loss'])\n",
        "plt.show()"
      ],
      "execution_count": 12,
      "outputs": [
        {
          "output_type": "display_data",
          "data": {
            "image/png": "[encoded data removed]",
            "text/plain": [
              "<Figure size 432x288 with 1 Axes>"
            ]
          },
          "metadata": {
            "tags": [],
            "needs_background": "light"
          }
        }
      ]
    },
    {
      "cell_type": "markdown",
      "metadata": {
        "id": "CnOywLpjliYD"
      },
      "source": [
        "## Análise da métrica de desempenho (acurácia)\n",
        "Vamos observar o desempenho (acurácia) da rede para os dados de treino e de validação/teste."
      ]
    },
    {
      "cell_type": "code",
      "metadata": {
        "colab": {
          "base_uri": "https://localhost:8080/",
          "height": 297
        },
        "id": "47nLbRc_llb9",
        "outputId": "6e3c7347-4692-4de8-f9e3-0951dc7929e8"
      },
      "source": [
        "plt.plot(history.history['accuracy'])\n",
        "plt.plot(history.history['val_accuracy'], '')\n",
        "plt.xlabel(\"Épocas\")\n",
        "plt.ylabel('Acurácia')\n",
        "plt.title('Acurácia')\n",
        "plt.legend(['acurácia', 'val_acurácia'])\n",
        "plt.show()"
      ],
      "execution_count": 13,
      "outputs": [
        {
          "output_type": "display_data",
          "data": {
            "image/png": "[encoded data removed]",
            "text/plain": [
              "<Figure size 432x288 with 1 Axes>"
            ]
          },
          "metadata": {
            "tags": [],
            "needs_background": "light"
          }
        }
      ]
    },
    {
      "cell_type": "markdown",
      "metadata": {
        "id": "UnCzp7cqefpF"
      },
      "source": [
        "## Classifica os dados de teste"
      ]
    },
    {
      "cell_type": "code",
      "metadata": {
        "id": "55GxDLXLeoJK"
      },
      "source": [
        "y_pred = model.predict(X_test)\n",
        "y_pred = (y_pred > 0.5)"
      ],
      "execution_count": 14,
      "outputs": []
    },
    {
      "cell_type": "markdown",
      "metadata": {
        "id": "lhcvQZaLe6hx"
      },
      "source": [
        "## Calcula a matriz de confusão sobre os dados de teste"
      ]
    },
    {
      "cell_type": "code",
      "metadata": {
        "colab": {
          "base_uri": "https://localhost:8080/"
        },
        "id": "XxuZT6jxfD0H",
        "outputId": "e134b4d9-396c-4a81-fe0f-67bc46b57363"
      },
      "source": [
        "from sklearn.metrics import confusion_matrix\n",
        "cm = confusion_matrix(y_test, y_pred)\n",
        "print(cm)"
      ],
      "execution_count": 15,
      "outputs": [
        {
          "output_type": "stream",
          "text": [
            "[[30  1]\n",
            " [ 0 27]]\n"
          ],
          "name": "stdout"
        }
      ]
    },
    {
      "cell_type": "markdown",
      "metadata": {
        "id": "1-bBUClVowa6"
      },
      "source": [
        "## Classifica o conjunto de dados inteiro"
      ]
    },
    {
      "cell_type": "code",
      "metadata": {
        "id": "ufS7LzNno3oR"
      },
      "source": [
        "y_pred2 = model.predict(X)\n",
        "y_pred2 = (y_pred2 > 0.5)"
      ],
      "execution_count": 16,
      "outputs": []
    },
    {
      "cell_type": "markdown",
      "metadata": {
        "id": "Cn9dwVGuo-8j"
      },
      "source": [
        "## Calcula a matriz de confusão sobre o conjunto inteiro de dados"
      ]
    },
    {
      "cell_type": "code",
      "metadata": {
        "colab": {
          "base_uri": "https://localhost:8080/"
        },
        "id": "oGSUOV9WpDNg",
        "outputId": "1bf0edd5-8a56-4f61-b9a2-3fa0b5bd488e"
      },
      "source": [
        "from sklearn.metrics import confusion_matrix\n",
        "cm2 = confusion_matrix(y, y_pred2)\n",
        "print(cm2)"
      ],
      "execution_count": 17,
      "outputs": [
        {
          "output_type": "stream",
          "text": [
            "[[107   1]\n",
            " [  3 121]]\n"
          ],
          "name": "stdout"
        }
      ]
    }
  ]
}