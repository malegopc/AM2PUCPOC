{
  "nbformat": 4,
  "nbformat_minor": 0,
  "metadata": {
    "kernelspec": {
      "display_name": "Python 3",
      "language": "python",
      "name": "python3"
    },
    "language_info": {
      "codemirror_mode": {
        "name": "ipython",
        "version": 3
      },
      "file_extension": ".py",
      "mimetype": "text/x-python",
      "name": "python",
      "nbconvert_exporter": "python",
      "pygments_lexer": "ipython3",
      "version": "3.7.3"
    },
    "colab": {
      "name": "CSVLogger_callback.ipynb",
      "provenance": [],
      "collapsed_sections": []
    }
  },
  "cells": [
    {
      "cell_type": "markdown",
      "metadata": {
        "id": "Z7K0SeDgzjL2"
      },
      "source": [
        "---\n",
        "\n",
        "---\n",
        "\n",
        "# Predição de diabetes\n",
        "\n",
        "Este notebook aplica uma rede neural para predizer se um paciente tem diabetes ou não com base em certas medidas diagnósticas incluídas no conjunto de dados.\n",
        "\n",
        "O conjunto de dados utilizado descreve os dados do prontuário médico do paciente dos [índios Pima](https://pt.wikipedia.org/wiki/Pima) e se eles começaram a desenvolver diabetes em cinco anos.\n",
        "\n",
        "Trata-se de um problema de classificação binária (início do diabetes como 1 ou não como 0). Todas as variáveis ​​de entrada que descrevem cada paciente são numéricas.\n",
        "\n",
        "Utiliza-se a API callback **CSVLogger.**\n",
        "\n",
        "*Obs: o modelo apresentado aqui não está otimizado uma vez que o objetivo deste notebook é o de apresentar a aplicação da função callback CSVLogger.*\n",
        "\n",
        "---\n",
        "\n",
        "\n",
        "\n",
        "---\n",
        "\n",
        "\n"
      ]
    },
    {
      "cell_type": "markdown",
      "metadata": {
        "id": "PcWx36BdDBX0"
      },
      "source": [
        "## Conjunto de dados\n",
        "\n",
        "- Fonte: https://www.kaggle.com/uciml/pima-indians-diabetes-database\n",
        "- Proprietários originais: National Institute of Diabetes and Digestive and Kidney Diseases\n",
        "- Doadores da base de dados: Vincent Sigillito (vgs@aplcen.apl.jhu.edu), \n",
        "Research Center, RMI Group Leader, Applied Physics Laboratory, The Johns Hopkins University (1990)\n",
        "\n",
        "Detalhes sobre o conjunto de dados:\n",
        "\n",
        "1. Número de instâncias: 768\n",
        "\n",
        "2. Número de atributos: 8 (mais classe target)\n",
        "\n",
        "3. Atributos: (todos com valor numérico)\n",
        "   1. Número de vezes que engravidou (*Pregnancies*)\n",
        "   2. Concentração de glicose plasmática a 2 horas em um teste de tolerância à glicose oral (*Glucose*)\n",
        "   3. Pressão arterial diastólica (mm Hg) (*BloodPressure*)\n",
        "   4. Espessura da dobra da pele do tríceps (mm) (*SkinThickness*)\n",
        "   5. Insulina sérica de 2 horas (mu U / ml) (*Insulin*)\n",
        "   6. Índice de massa corporal (peso em kg / (altura em m) ^ 2) (*BMI*)\n",
        "   7. Função de pedigree de diabetes (*DiabetesPedigreeFunction*)\n",
        "   8. Idade (anos) (*Age*)\n",
        "   \n",
        "4. Variável target (classe): 0 ou 1 (valor de classe 1 é interpretado como \"teste positivo para diabetes\")\n",
        "\n",
        "   Classe Valor Número de instâncias\n",
        "   - 500 => 0\n",
        "   - 268 => 1\n",
        "\n",
        " "
      ]
    },
    {
      "cell_type": "markdown",
      "metadata": {
        "id": "LWXwGCqvIwgN"
      },
      "source": [
        "## Leitura e preparação dos dados\n",
        "\n",
        "Vamos começar importando o arquivo CSV bruto usando o Pandas."
      ]
    },
    {
      "cell_type": "code",
      "metadata": {
        "scrolled": true,
        "colab": {
          "base_uri": "https://localhost:8080/",
          "height": 221
        },
        "id": "LM6AT7tPzjL6",
        "outputId": "a9da5df0-70a0-4909-dde7-44913de9aa59"
      },
      "source": [
        "import pandas as pd\n",
        "\n",
        "# Clone do repositório de dados do GitHub\n",
        "!git clone https://github.com/malegopc/AM2PUCPOC\n",
        "# lê arquivo de dados, atribue NaN para dados faltantes e rótulos em cada coluna\n",
        "diabetes = pd.read_csv('/content/AM2PUCPOC/Datasets/Indians_Diabetes/diabetes.csv', na_values=['?'])\n",
        "# imprime as 5 primeiras linhas dos dados montados\n",
        "diabetes.head()"
      ],
      "execution_count": 6,
      "outputs": [
        {
          "output_type": "stream",
          "text": [
            "fatal: destination path 'AM2PUCPOC' already exists and is not an empty directory.\n"
          ],
          "name": "stdout"
        },
        {
          "output_type": "execute_result",
          "data": {
            "text/html": [
              "<div>\n",
              "<style scoped>\n",
              "    .dataframe tbody tr th:only-of-type {\n",
              "        vertical-align: middle;\n",
              "    }\n",
              "\n",
              "    .dataframe tbody tr th {\n",
              "        vertical-align: top;\n",
              "    }\n",
              "\n",
              "    .dataframe thead th {\n",
              "        text-align: right;\n",
              "    }\n",
              "</style>\n",
              "<table border=\"1\" class=\"dataframe\">\n",
              "  <thead>\n",
              "    <tr style=\"text-align: right;\">\n",
              "      <th></th>\n",
              "      <th>Pregnancies</th>\n",
              "      <th>Glucose</th>\n",
              "      <th>BloodPressure</th>\n",
              "      <th>SkinThickness</th>\n",
              "      <th>Insulin</th>\n",
              "      <th>BMI</th>\n",
              "      <th>DiabetesPedigreeFunction</th>\n",
              "      <th>Age</th>\n",
              "      <th>Outcome</th>\n",
              "    </tr>\n",
              "  </thead>\n",
              "  <tbody>\n",
              "    <tr>\n",
              "      <th>0</th>\n",
              "      <td>6</td>\n",
              "      <td>148</td>\n",
              "      <td>72</td>\n",
              "      <td>35</td>\n",
              "      <td>0</td>\n",
              "      <td>33.6</td>\n",
              "      <td>0.627</td>\n",
              "      <td>50</td>\n",
              "      <td>1</td>\n",
              "    </tr>\n",
              "    <tr>\n",
              "      <th>1</th>\n",
              "      <td>1</td>\n",
              "      <td>85</td>\n",
              "      <td>66</td>\n",
              "      <td>29</td>\n",
              "      <td>0</td>\n",
              "      <td>26.6</td>\n",
              "      <td>0.351</td>\n",
              "      <td>31</td>\n",
              "      <td>0</td>\n",
              "    </tr>\n",
              "    <tr>\n",
              "      <th>2</th>\n",
              "      <td>8</td>\n",
              "      <td>183</td>\n",
              "      <td>64</td>\n",
              "      <td>0</td>\n",
              "      <td>0</td>\n",
              "      <td>23.3</td>\n",
              "      <td>0.672</td>\n",
              "      <td>32</td>\n",
              "      <td>1</td>\n",
              "    </tr>\n",
              "    <tr>\n",
              "      <th>3</th>\n",
              "      <td>1</td>\n",
              "      <td>89</td>\n",
              "      <td>66</td>\n",
              "      <td>23</td>\n",
              "      <td>94</td>\n",
              "      <td>28.1</td>\n",
              "      <td>0.167</td>\n",
              "      <td>21</td>\n",
              "      <td>0</td>\n",
              "    </tr>\n",
              "    <tr>\n",
              "      <th>4</th>\n",
              "      <td>0</td>\n",
              "      <td>137</td>\n",
              "      <td>40</td>\n",
              "      <td>35</td>\n",
              "      <td>168</td>\n",
              "      <td>43.1</td>\n",
              "      <td>2.288</td>\n",
              "      <td>33</td>\n",
              "      <td>1</td>\n",
              "    </tr>\n",
              "  </tbody>\n",
              "</table>\n",
              "</div>"
            ],
            "text/plain": [
              "   Pregnancies  Glucose  BloodPressure  ...  DiabetesPedigreeFunction  Age  Outcome\n",
              "0            6      148             72  ...                     0.627   50        1\n",
              "1            1       85             66  ...                     0.351   31        0\n",
              "2            8      183             64  ...                     0.672   32        1\n",
              "3            1       89             66  ...                     0.167   21        0\n",
              "4            0      137             40  ...                     2.288   33        1\n",
              "\n",
              "[5 rows x 9 columns]"
            ]
          },
          "metadata": {
            "tags": []
          },
          "execution_count": 6
        }
      ]
    },
    {
      "cell_type": "markdown",
      "metadata": {
        "id": "yabMrBvezjMC"
      },
      "source": [
        "## Separa os atributos das classes\n",
        "\n",
        "Extrai os atributos e as classes (rótulos) colocando-os em duas variáveis separadas (na forma que o Keras espera)."
      ]
    },
    {
      "cell_type": "code",
      "metadata": {
        "colab": {
          "base_uri": "https://localhost:8080/"
        },
        "id": "9pK51IcczjMC",
        "outputId": "71b74f05-ed25-4d49-9e8a-43aedca4d6bd"
      },
      "source": [
        "X = diabetes.drop('Outcome', axis=1).values\n",
        "y = diabetes['Outcome'].values\n",
        "print(X.shape)\n",
        "print(y.shape)"
      ],
      "execution_count": 7,
      "outputs": [
        {
          "output_type": "stream",
          "text": [
            "(768, 8)\n",
            "(768,)\n"
          ],
          "name": "stdout"
        }
      ]
    },
    {
      "cell_type": "markdown",
      "metadata": {
        "id": "4FDcvELVsUKP"
      },
      "source": [
        "## Divide o conjunto de dados em treino e teste"
      ]
    },
    {
      "cell_type": "code",
      "metadata": {
        "colab": {
          "base_uri": "https://localhost:8080/"
        },
        "id": "sw238KjusYNf",
        "outputId": "91715d81-abcc-4374-9240-44e3c7e90af8"
      },
      "source": [
        "from sklearn.model_selection import train_test_split\n",
        "X_train, X_test, y_train, y_test = train_test_split(X,y,test_size=0.25,random_state=42)\n",
        "print(X_train.shape)\n",
        "print(y_train.shape)\n",
        "print(X_test.shape)\n",
        "print(y_test.shape)"
      ],
      "execution_count": 8,
      "outputs": [
        {
          "output_type": "stream",
          "text": [
            "(576, 8)\n",
            "(576,)\n",
            "(192, 8)\n",
            "(192,)\n"
          ],
          "name": "stdout"
        }
      ]
    },
    {
      "cell_type": "markdown",
      "metadata": {
        "id": "zyWHf7bCzjMD"
      },
      "source": [
        "## Criação do modelo de rede neural\n",
        "\n",
        "\n"
      ]
    },
    {
      "cell_type": "code",
      "metadata": {
        "colab": {
          "base_uri": "https://localhost:8080/"
        },
        "id": "uwpVybNDzjME",
        "outputId": "ed1b9e56-03c4-470c-90b4-590352797a83"
      },
      "source": [
        "from keras.models import Sequential\n",
        "from keras.layers import Dense\n",
        "from keras.utils import plot_model\n",
        "\n",
        "model = Sequential()\n",
        "# 1a. camada oculta com 20 neurônios (definição das entradas)\n",
        "model.add(Dense(20, input_dim=X_train.shape[1], activation='relu'))\n",
        "# 2a. camada oculta com 10 neurônios\n",
        "model.add(Dense(10, activation='relu'))\n",
        "# camada de saída com um neurônio\n",
        "model.add(Dense(1, activation='sigmoid'))\n",
        "# sumário (resumo) do modelo\n",
        "model.summary()"
      ],
      "execution_count": 9,
      "outputs": [
        {
          "output_type": "stream",
          "text": [
            "Model: \"sequential_1\"\n",
            "_________________________________________________________________\n",
            "Layer (type)                 Output Shape              Param #   \n",
            "=================================================================\n",
            "dense_3 (Dense)              (None, 20)                180       \n",
            "_________________________________________________________________\n",
            "dense_4 (Dense)              (None, 10)                210       \n",
            "_________________________________________________________________\n",
            "dense_5 (Dense)              (None, 1)                 11        \n",
            "=================================================================\n",
            "Total params: 401\n",
            "Trainable params: 401\n",
            "Non-trainable params: 0\n",
            "_________________________________________________________________\n"
          ],
          "name": "stdout"
        }
      ]
    },
    {
      "cell_type": "markdown",
      "metadata": {
        "id": "wHhaiOZfcPR1"
      },
      "source": [
        "## Compilação do modelo"
      ]
    },
    {
      "cell_type": "code",
      "metadata": {
        "id": "HWM1ThWlzjMF"
      },
      "source": [
        "model.compile(loss='binary_crossentropy', optimizer='adam', metrics=['accuracy'])"
      ],
      "execution_count": 10,
      "outputs": []
    },
    {
      "cell_type": "markdown",
      "metadata": {
        "id": "n2dOhpdZceL0"
      },
      "source": [
        "## Treinamento do modelo"
      ]
    },
    {
      "cell_type": "code",
      "metadata": {
        "colab": {
          "base_uri": "https://localhost:8080/"
        },
        "id": "M-OXJQ3vciV1",
        "outputId": "e9c32a96-d060-4184-9c90-50ee5281e5fa"
      },
      "source": [
        "from keras.callbacks import CSVLogger\n",
        "\n",
        "csvlog = CSVLogger('results.csv', separator=\",\", append=False)\n",
        "history = model.fit(X_train,y_train, validation_data=(X_test,y_test), batch_size=8, epochs=200, callbacks=[csvlog])"
      ],
      "execution_count": 11,
      "outputs": [
        {
          "output_type": "stream",
          "text": [
            "Epoch 1/200\n",
            "72/72 [==============================] - 1s 8ms/step - loss: 11.4985 - accuracy: 0.4105 - val_loss: 2.1666 - val_accuracy: 0.5469\n",
            "Epoch 2/200\n",
            "72/72 [==============================] - 0s 2ms/step - loss: 2.1619 - accuracy: 0.5553 - val_loss: 1.8774 - val_accuracy: 0.5625\n",
            "Epoch 3/200\n",
            "72/72 [==============================] - 0s 2ms/step - loss: 1.7565 - accuracy: 0.5586 - val_loss: 1.4965 - val_accuracy: 0.5885\n",
            "Epoch 4/200\n",
            "72/72 [==============================] - 0s 2ms/step - loss: 1.4035 - accuracy: 0.5371 - val_loss: 1.2560 - val_accuracy: 0.5521\n",
            "Epoch 5/200\n",
            "72/72 [==============================] - 0s 2ms/step - loss: 1.0203 - accuracy: 0.5895 - val_loss: 1.0746 - val_accuracy: 0.6250\n",
            "Epoch 6/200\n",
            "72/72 [==============================] - 0s 2ms/step - loss: 0.9937 - accuracy: 0.6056 - val_loss: 0.9517 - val_accuracy: 0.6198\n",
            "Epoch 7/200\n",
            "72/72 [==============================] - 0s 2ms/step - loss: 0.8362 - accuracy: 0.6228 - val_loss: 0.9545 - val_accuracy: 0.5677\n",
            "Epoch 8/200\n",
            "72/72 [==============================] - 0s 2ms/step - loss: 0.7780 - accuracy: 0.6588 - val_loss: 0.8605 - val_accuracy: 0.6198\n",
            "Epoch 9/200\n",
            "72/72 [==============================] - 0s 2ms/step - loss: 0.6779 - accuracy: 0.6734 - val_loss: 0.9871 - val_accuracy: 0.6354\n",
            "Epoch 10/200\n",
            "72/72 [==============================] - 0s 2ms/step - loss: 0.7383 - accuracy: 0.6493 - val_loss: 0.8599 - val_accuracy: 0.6354\n",
            "Epoch 11/200\n",
            "72/72 [==============================] - 0s 2ms/step - loss: 0.8001 - accuracy: 0.6416 - val_loss: 0.9648 - val_accuracy: 0.6562\n",
            "Epoch 12/200\n",
            "72/72 [==============================] - 0s 2ms/step - loss: 0.6877 - accuracy: 0.7038 - val_loss: 0.8339 - val_accuracy: 0.6250\n",
            "Epoch 13/200\n",
            "72/72 [==============================] - 0s 2ms/step - loss: 0.7214 - accuracy: 0.6777 - val_loss: 0.8774 - val_accuracy: 0.6510\n",
            "Epoch 14/200\n",
            "72/72 [==============================] - 0s 2ms/step - loss: 0.7396 - accuracy: 0.6308 - val_loss: 0.7389 - val_accuracy: 0.6510\n",
            "Epoch 15/200\n",
            "72/72 [==============================] - 0s 2ms/step - loss: 0.6449 - accuracy: 0.7034 - val_loss: 0.7869 - val_accuracy: 0.5625\n",
            "Epoch 16/200\n",
            "72/72 [==============================] - 0s 2ms/step - loss: 0.7288 - accuracy: 0.6886 - val_loss: 0.7123 - val_accuracy: 0.6771\n",
            "Epoch 17/200\n",
            "72/72 [==============================] - 0s 2ms/step - loss: 0.6596 - accuracy: 0.6915 - val_loss: 0.9198 - val_accuracy: 0.6250\n",
            "Epoch 18/200\n",
            "72/72 [==============================] - 0s 2ms/step - loss: 0.7794 - accuracy: 0.6563 - val_loss: 0.7521 - val_accuracy: 0.5990\n",
            "Epoch 19/200\n",
            "72/72 [==============================] - 0s 3ms/step - loss: 0.7577 - accuracy: 0.6456 - val_loss: 0.8006 - val_accuracy: 0.6615\n",
            "Epoch 20/200\n",
            "72/72 [==============================] - 0s 2ms/step - loss: 0.6464 - accuracy: 0.6813 - val_loss: 0.7036 - val_accuracy: 0.6979\n",
            "Epoch 21/200\n",
            "72/72 [==============================] - 0s 2ms/step - loss: 0.5896 - accuracy: 0.7161 - val_loss: 0.7234 - val_accuracy: 0.6406\n",
            "Epoch 22/200\n",
            "72/72 [==============================] - 0s 2ms/step - loss: 0.7054 - accuracy: 0.6778 - val_loss: 0.8952 - val_accuracy: 0.5156\n",
            "Epoch 23/200\n",
            "72/72 [==============================] - 0s 2ms/step - loss: 0.6373 - accuracy: 0.6842 - val_loss: 0.6742 - val_accuracy: 0.6823\n",
            "Epoch 24/200\n",
            "72/72 [==============================] - 0s 2ms/step - loss: 0.6445 - accuracy: 0.6888 - val_loss: 0.7166 - val_accuracy: 0.5990\n",
            "Epoch 25/200\n",
            "72/72 [==============================] - 0s 2ms/step - loss: 0.6958 - accuracy: 0.6701 - val_loss: 0.7781 - val_accuracy: 0.6042\n",
            "Epoch 26/200\n",
            "72/72 [==============================] - 0s 2ms/step - loss: 0.6649 - accuracy: 0.6537 - val_loss: 0.6755 - val_accuracy: 0.6406\n",
            "Epoch 27/200\n",
            "72/72 [==============================] - 0s 2ms/step - loss: 0.6267 - accuracy: 0.6693 - val_loss: 0.6961 - val_accuracy: 0.6302\n",
            "Epoch 28/200\n",
            "72/72 [==============================] - 0s 2ms/step - loss: 0.6125 - accuracy: 0.6892 - val_loss: 0.7582 - val_accuracy: 0.6667\n",
            "Epoch 29/200\n",
            "72/72 [==============================] - 0s 2ms/step - loss: 0.7280 - accuracy: 0.6647 - val_loss: 0.6622 - val_accuracy: 0.6875\n",
            "Epoch 30/200\n",
            "72/72 [==============================] - 0s 2ms/step - loss: 0.6210 - accuracy: 0.7033 - val_loss: 0.7422 - val_accuracy: 0.5990\n",
            "Epoch 31/200\n",
            "72/72 [==============================] - 0s 2ms/step - loss: 0.6092 - accuracy: 0.7158 - val_loss: 0.7303 - val_accuracy: 0.6562\n",
            "Epoch 32/200\n",
            "72/72 [==============================] - 0s 2ms/step - loss: 0.5636 - accuracy: 0.7510 - val_loss: 0.6671 - val_accuracy: 0.6510\n",
            "Epoch 33/200\n",
            "72/72 [==============================] - 0s 2ms/step - loss: 0.6579 - accuracy: 0.6822 - val_loss: 0.8380 - val_accuracy: 0.6562\n",
            "Epoch 34/200\n",
            "72/72 [==============================] - 0s 2ms/step - loss: 0.6345 - accuracy: 0.7396 - val_loss: 0.6482 - val_accuracy: 0.7083\n",
            "Epoch 35/200\n",
            "72/72 [==============================] - 0s 2ms/step - loss: 0.6340 - accuracy: 0.6935 - val_loss: 0.6754 - val_accuracy: 0.6823\n",
            "Epoch 36/200\n",
            "72/72 [==============================] - 0s 3ms/step - loss: 0.5386 - accuracy: 0.7449 - val_loss: 0.7191 - val_accuracy: 0.6667\n",
            "Epoch 37/200\n",
            "72/72 [==============================] - 0s 2ms/step - loss: 0.6525 - accuracy: 0.6916 - val_loss: 0.6428 - val_accuracy: 0.6979\n",
            "Epoch 38/200\n",
            "72/72 [==============================] - 0s 2ms/step - loss: 0.5599 - accuracy: 0.6895 - val_loss: 0.6754 - val_accuracy: 0.6667\n",
            "Epoch 39/200\n",
            "72/72 [==============================] - 0s 2ms/step - loss: 0.5755 - accuracy: 0.7047 - val_loss: 0.6036 - val_accuracy: 0.6979\n",
            "Epoch 40/200\n",
            "72/72 [==============================] - 0s 2ms/step - loss: 0.5703 - accuracy: 0.7192 - val_loss: 0.6088 - val_accuracy: 0.6823\n",
            "Epoch 41/200\n",
            "72/72 [==============================] - 0s 2ms/step - loss: 0.5399 - accuracy: 0.7249 - val_loss: 0.7168 - val_accuracy: 0.6302\n",
            "Epoch 42/200\n",
            "72/72 [==============================] - 0s 2ms/step - loss: 0.6090 - accuracy: 0.6986 - val_loss: 0.5996 - val_accuracy: 0.7083\n",
            "Epoch 43/200\n",
            "72/72 [==============================] - 0s 2ms/step - loss: 0.6787 - accuracy: 0.6608 - val_loss: 0.6301 - val_accuracy: 0.6875\n",
            "Epoch 44/200\n",
            "72/72 [==============================] - 0s 2ms/step - loss: 0.5378 - accuracy: 0.7067 - val_loss: 0.8338 - val_accuracy: 0.6042\n",
            "Epoch 45/200\n",
            "72/72 [==============================] - 0s 2ms/step - loss: 0.5796 - accuracy: 0.7306 - val_loss: 0.6067 - val_accuracy: 0.7031\n",
            "Epoch 46/200\n",
            "72/72 [==============================] - 0s 2ms/step - loss: 0.5334 - accuracy: 0.7285 - val_loss: 0.9044 - val_accuracy: 0.5625\n",
            "Epoch 47/200\n",
            "72/72 [==============================] - 0s 2ms/step - loss: 0.6124 - accuracy: 0.6998 - val_loss: 0.6160 - val_accuracy: 0.7031\n",
            "Epoch 48/200\n",
            "72/72 [==============================] - 0s 2ms/step - loss: 0.5590 - accuracy: 0.7202 - val_loss: 0.6169 - val_accuracy: 0.6875\n",
            "Epoch 49/200\n",
            "72/72 [==============================] - 0s 2ms/step - loss: 0.5143 - accuracy: 0.7438 - val_loss: 0.7380 - val_accuracy: 0.6823\n",
            "Epoch 50/200\n",
            "72/72 [==============================] - 0s 2ms/step - loss: 0.6617 - accuracy: 0.7146 - val_loss: 0.5978 - val_accuracy: 0.6875\n",
            "Epoch 51/200\n",
            "72/72 [==============================] - 0s 2ms/step - loss: 0.5902 - accuracy: 0.7506 - val_loss: 0.8089 - val_accuracy: 0.6771\n",
            "Epoch 52/200\n",
            "72/72 [==============================] - 0s 2ms/step - loss: 0.6259 - accuracy: 0.6678 - val_loss: 0.5844 - val_accuracy: 0.7188\n",
            "Epoch 53/200\n",
            "72/72 [==============================] - 0s 2ms/step - loss: 0.5455 - accuracy: 0.7399 - val_loss: 0.5818 - val_accuracy: 0.7240\n",
            "Epoch 54/200\n",
            "72/72 [==============================] - 0s 2ms/step - loss: 0.5508 - accuracy: 0.7196 - val_loss: 0.6420 - val_accuracy: 0.6875\n",
            "Epoch 55/200\n",
            "72/72 [==============================] - 0s 2ms/step - loss: 0.6785 - accuracy: 0.6751 - val_loss: 0.5889 - val_accuracy: 0.7188\n",
            "Epoch 56/200\n",
            "72/72 [==============================] - 0s 2ms/step - loss: 0.5301 - accuracy: 0.7387 - val_loss: 0.7479 - val_accuracy: 0.5885\n",
            "Epoch 57/200\n",
            "72/72 [==============================] - 0s 2ms/step - loss: 0.5758 - accuracy: 0.6779 - val_loss: 0.5923 - val_accuracy: 0.6927\n",
            "Epoch 58/200\n",
            "72/72 [==============================] - 0s 2ms/step - loss: 0.5391 - accuracy: 0.7580 - val_loss: 0.6009 - val_accuracy: 0.7083\n",
            "Epoch 59/200\n",
            "72/72 [==============================] - 0s 2ms/step - loss: 0.5775 - accuracy: 0.7276 - val_loss: 0.6814 - val_accuracy: 0.6250\n",
            "Epoch 60/200\n",
            "72/72 [==============================] - 0s 2ms/step - loss: 0.5411 - accuracy: 0.7131 - val_loss: 0.5942 - val_accuracy: 0.7135\n",
            "Epoch 61/200\n",
            "72/72 [==============================] - 0s 2ms/step - loss: 0.4855 - accuracy: 0.7758 - val_loss: 0.5840 - val_accuracy: 0.7031\n",
            "Epoch 62/200\n",
            "72/72 [==============================] - 0s 2ms/step - loss: 0.5237 - accuracy: 0.7414 - val_loss: 0.6804 - val_accuracy: 0.7240\n",
            "Epoch 63/200\n",
            "72/72 [==============================] - 0s 2ms/step - loss: 0.5059 - accuracy: 0.7569 - val_loss: 0.5752 - val_accuracy: 0.7292\n",
            "Epoch 64/200\n",
            "72/72 [==============================] - 0s 2ms/step - loss: 0.4916 - accuracy: 0.7406 - val_loss: 0.5936 - val_accuracy: 0.7292\n",
            "Epoch 65/200\n",
            "72/72 [==============================] - 0s 2ms/step - loss: 0.5788 - accuracy: 0.7109 - val_loss: 0.8159 - val_accuracy: 0.6771\n",
            "Epoch 66/200\n",
            "72/72 [==============================] - 0s 2ms/step - loss: 0.6131 - accuracy: 0.7036 - val_loss: 0.6115 - val_accuracy: 0.7292\n",
            "Epoch 67/200\n",
            "72/72 [==============================] - 0s 2ms/step - loss: 0.6343 - accuracy: 0.7025 - val_loss: 1.0478 - val_accuracy: 0.5677\n",
            "Epoch 68/200\n",
            "72/72 [==============================] - 0s 3ms/step - loss: 0.6728 - accuracy: 0.6955 - val_loss: 0.6412 - val_accuracy: 0.6927\n",
            "Epoch 69/200\n",
            "72/72 [==============================] - 0s 2ms/step - loss: 0.5266 - accuracy: 0.7390 - val_loss: 0.6275 - val_accuracy: 0.7083\n",
            "Epoch 70/200\n",
            "72/72 [==============================] - 0s 2ms/step - loss: 0.5414 - accuracy: 0.7454 - val_loss: 0.6681 - val_accuracy: 0.6771\n",
            "Epoch 71/200\n",
            "72/72 [==============================] - 0s 2ms/step - loss: 0.5134 - accuracy: 0.7550 - val_loss: 0.6007 - val_accuracy: 0.7240\n",
            "Epoch 72/200\n",
            "72/72 [==============================] - 0s 2ms/step - loss: 0.4935 - accuracy: 0.7697 - val_loss: 0.6104 - val_accuracy: 0.7292\n",
            "Epoch 73/200\n",
            "72/72 [==============================] - 0s 2ms/step - loss: 0.5456 - accuracy: 0.7380 - val_loss: 0.6013 - val_accuracy: 0.6719\n",
            "Epoch 74/200\n",
            "72/72 [==============================] - 0s 2ms/step - loss: 0.5706 - accuracy: 0.7073 - val_loss: 0.7708 - val_accuracy: 0.7083\n",
            "Epoch 75/200\n",
            "72/72 [==============================] - 0s 2ms/step - loss: 0.5891 - accuracy: 0.7433 - val_loss: 0.6075 - val_accuracy: 0.6927\n",
            "Epoch 76/200\n",
            "72/72 [==============================] - 0s 2ms/step - loss: 0.5551 - accuracy: 0.7414 - val_loss: 0.6180 - val_accuracy: 0.7396\n",
            "Epoch 77/200\n",
            "72/72 [==============================] - 0s 2ms/step - loss: 0.4749 - accuracy: 0.7801 - val_loss: 0.6304 - val_accuracy: 0.6823\n",
            "Epoch 78/200\n",
            "72/72 [==============================] - 0s 2ms/step - loss: 0.6022 - accuracy: 0.7218 - val_loss: 0.5801 - val_accuracy: 0.7188\n",
            "Epoch 79/200\n",
            "72/72 [==============================] - 0s 2ms/step - loss: 0.5010 - accuracy: 0.7710 - val_loss: 0.6327 - val_accuracy: 0.7240\n",
            "Epoch 80/200\n",
            "72/72 [==============================] - 0s 3ms/step - loss: 0.4968 - accuracy: 0.7393 - val_loss: 0.6317 - val_accuracy: 0.7240\n",
            "Epoch 81/200\n",
            "72/72 [==============================] - 0s 2ms/step - loss: 0.5443 - accuracy: 0.7289 - val_loss: 0.6659 - val_accuracy: 0.7083\n",
            "Epoch 82/200\n",
            "72/72 [==============================] - 0s 2ms/step - loss: 0.5655 - accuracy: 0.7500 - val_loss: 0.6112 - val_accuracy: 0.6771\n",
            "Epoch 83/200\n",
            "72/72 [==============================] - 0s 2ms/step - loss: 0.5347 - accuracy: 0.7391 - val_loss: 0.6289 - val_accuracy: 0.7396\n",
            "Epoch 84/200\n",
            "72/72 [==============================] - 0s 2ms/step - loss: 0.5049 - accuracy: 0.7425 - val_loss: 0.5673 - val_accuracy: 0.7448\n",
            "Epoch 85/200\n",
            "72/72 [==============================] - 0s 2ms/step - loss: 0.6035 - accuracy: 0.7165 - val_loss: 0.8132 - val_accuracy: 0.6094\n",
            "Epoch 86/200\n",
            "72/72 [==============================] - 0s 2ms/step - loss: 0.6283 - accuracy: 0.6964 - val_loss: 0.6203 - val_accuracy: 0.7188\n",
            "Epoch 87/200\n",
            "72/72 [==============================] - 0s 2ms/step - loss: 0.5187 - accuracy: 0.7131 - val_loss: 0.6653 - val_accuracy: 0.6615\n",
            "Epoch 88/200\n",
            "72/72 [==============================] - 0s 2ms/step - loss: 0.5132 - accuracy: 0.7424 - val_loss: 0.6632 - val_accuracy: 0.6771\n",
            "Epoch 89/200\n",
            "72/72 [==============================] - 0s 2ms/step - loss: 0.5258 - accuracy: 0.7437 - val_loss: 0.5702 - val_accuracy: 0.7292\n",
            "Epoch 90/200\n",
            "72/72 [==============================] - 0s 2ms/step - loss: 0.5674 - accuracy: 0.7171 - val_loss: 0.5714 - val_accuracy: 0.7292\n",
            "Epoch 91/200\n",
            "72/72 [==============================] - 0s 2ms/step - loss: 0.5386 - accuracy: 0.7287 - val_loss: 0.8524 - val_accuracy: 0.6719\n",
            "Epoch 92/200\n",
            "72/72 [==============================] - 0s 2ms/step - loss: 0.6106 - accuracy: 0.7369 - val_loss: 0.5962 - val_accuracy: 0.7292\n",
            "Epoch 93/200\n",
            "72/72 [==============================] - 0s 2ms/step - loss: 0.5674 - accuracy: 0.7378 - val_loss: 0.5722 - val_accuracy: 0.7344\n",
            "Epoch 94/200\n",
            "72/72 [==============================] - 0s 2ms/step - loss: 0.4740 - accuracy: 0.7907 - val_loss: 0.5670 - val_accuracy: 0.7292\n",
            "Epoch 95/200\n",
            "72/72 [==============================] - 0s 2ms/step - loss: 0.5785 - accuracy: 0.7102 - val_loss: 0.6144 - val_accuracy: 0.7344\n",
            "Epoch 96/200\n",
            "72/72 [==============================] - 0s 2ms/step - loss: 0.5430 - accuracy: 0.7121 - val_loss: 0.7566 - val_accuracy: 0.6042\n",
            "Epoch 97/200\n",
            "72/72 [==============================] - 0s 2ms/step - loss: 0.5391 - accuracy: 0.7540 - val_loss: 0.6343 - val_accuracy: 0.6823\n",
            "Epoch 98/200\n",
            "72/72 [==============================] - 0s 3ms/step - loss: 0.5019 - accuracy: 0.7710 - val_loss: 0.7108 - val_accuracy: 0.6823\n",
            "Epoch 99/200\n",
            "72/72 [==============================] - 0s 2ms/step - loss: 0.5459 - accuracy: 0.7506 - val_loss: 0.5710 - val_accuracy: 0.7240\n",
            "Epoch 100/200\n",
            "72/72 [==============================] - 0s 2ms/step - loss: 0.5207 - accuracy: 0.7377 - val_loss: 0.6061 - val_accuracy: 0.7292\n",
            "Epoch 101/200\n",
            "72/72 [==============================] - 0s 2ms/step - loss: 0.5283 - accuracy: 0.7282 - val_loss: 0.6387 - val_accuracy: 0.7240\n",
            "Epoch 102/200\n",
            "72/72 [==============================] - 0s 2ms/step - loss: 0.4740 - accuracy: 0.7767 - val_loss: 0.6952 - val_accuracy: 0.6510\n",
            "Epoch 103/200\n",
            "72/72 [==============================] - 0s 2ms/step - loss: 0.5830 - accuracy: 0.6947 - val_loss: 0.6203 - val_accuracy: 0.7083\n",
            "Epoch 104/200\n",
            "72/72 [==============================] - 0s 2ms/step - loss: 0.5017 - accuracy: 0.7450 - val_loss: 0.6804 - val_accuracy: 0.6510\n",
            "Epoch 105/200\n",
            "72/72 [==============================] - 0s 2ms/step - loss: 0.5202 - accuracy: 0.7372 - val_loss: 0.5846 - val_accuracy: 0.7292\n",
            "Epoch 106/200\n",
            "72/72 [==============================] - 0s 2ms/step - loss: 0.4670 - accuracy: 0.7664 - val_loss: 0.5621 - val_accuracy: 0.7604\n",
            "Epoch 107/200\n",
            "72/72 [==============================] - 0s 2ms/step - loss: 0.4922 - accuracy: 0.7780 - val_loss: 0.5813 - val_accuracy: 0.7240\n",
            "Epoch 108/200\n",
            "72/72 [==============================] - 0s 2ms/step - loss: 0.5062 - accuracy: 0.7599 - val_loss: 0.5786 - val_accuracy: 0.7292\n",
            "Epoch 109/200\n",
            "72/72 [==============================] - 0s 2ms/step - loss: 0.5029 - accuracy: 0.7452 - val_loss: 0.5802 - val_accuracy: 0.7188\n",
            "Epoch 110/200\n",
            "72/72 [==============================] - 0s 2ms/step - loss: 0.5153 - accuracy: 0.7358 - val_loss: 0.5697 - val_accuracy: 0.7240\n",
            "Epoch 111/200\n",
            "72/72 [==============================] - 0s 3ms/step - loss: 0.4810 - accuracy: 0.7713 - val_loss: 0.6867 - val_accuracy: 0.6615\n",
            "Epoch 112/200\n",
            "72/72 [==============================] - 0s 2ms/step - loss: 0.5015 - accuracy: 0.7494 - val_loss: 0.5622 - val_accuracy: 0.7344\n",
            "Epoch 113/200\n",
            "72/72 [==============================] - 0s 2ms/step - loss: 0.5812 - accuracy: 0.7438 - val_loss: 0.5824 - val_accuracy: 0.7031\n",
            "Epoch 114/200\n",
            "72/72 [==============================] - 0s 2ms/step - loss: 0.4848 - accuracy: 0.7728 - val_loss: 0.6175 - val_accuracy: 0.6719\n",
            "Epoch 115/200\n",
            "72/72 [==============================] - 0s 2ms/step - loss: 0.5059 - accuracy: 0.7533 - val_loss: 0.5804 - val_accuracy: 0.7188\n",
            "Epoch 116/200\n",
            "72/72 [==============================] - 0s 2ms/step - loss: 0.5310 - accuracy: 0.7372 - val_loss: 0.6492 - val_accuracy: 0.6823\n",
            "Epoch 117/200\n",
            "72/72 [==============================] - 0s 2ms/step - loss: 0.5196 - accuracy: 0.7491 - val_loss: 0.6058 - val_accuracy: 0.7135\n",
            "Epoch 118/200\n",
            "72/72 [==============================] - 0s 2ms/step - loss: 0.5293 - accuracy: 0.7473 - val_loss: 0.7020 - val_accuracy: 0.6667\n",
            "Epoch 119/200\n",
            "72/72 [==============================] - 0s 2ms/step - loss: 0.5986 - accuracy: 0.7463 - val_loss: 0.6027 - val_accuracy: 0.6875\n",
            "Epoch 120/200\n",
            "72/72 [==============================] - 0s 2ms/step - loss: 0.5359 - accuracy: 0.7202 - val_loss: 0.6168 - val_accuracy: 0.6927\n",
            "Epoch 121/200\n",
            "72/72 [==============================] - 0s 2ms/step - loss: 0.5251 - accuracy: 0.7596 - val_loss: 0.5969 - val_accuracy: 0.7292\n",
            "Epoch 122/200\n",
            "72/72 [==============================] - 0s 2ms/step - loss: 0.4640 - accuracy: 0.7965 - val_loss: 0.5844 - val_accuracy: 0.7188\n",
            "Epoch 123/200\n",
            "72/72 [==============================] - 0s 2ms/step - loss: 0.4915 - accuracy: 0.7733 - val_loss: 0.6426 - val_accuracy: 0.7188\n",
            "Epoch 124/200\n",
            "72/72 [==============================] - 0s 2ms/step - loss: 0.4904 - accuracy: 0.7483 - val_loss: 0.7325 - val_accuracy: 0.6771\n",
            "Epoch 125/200\n",
            "72/72 [==============================] - 0s 2ms/step - loss: 0.4840 - accuracy: 0.7273 - val_loss: 0.5815 - val_accuracy: 0.6979\n",
            "Epoch 126/200\n",
            "72/72 [==============================] - 0s 2ms/step - loss: 0.4775 - accuracy: 0.7467 - val_loss: 0.5938 - val_accuracy: 0.7188\n",
            "Epoch 127/200\n",
            "72/72 [==============================] - 0s 2ms/step - loss: 0.5212 - accuracy: 0.7502 - val_loss: 0.5608 - val_accuracy: 0.7292\n",
            "Epoch 128/200\n",
            "72/72 [==============================] - 0s 2ms/step - loss: 0.4821 - accuracy: 0.7819 - val_loss: 0.6144 - val_accuracy: 0.7292\n",
            "Epoch 129/200\n",
            "72/72 [==============================] - 0s 2ms/step - loss: 0.4511 - accuracy: 0.7744 - val_loss: 0.6088 - val_accuracy: 0.7292\n",
            "Epoch 130/200\n",
            "72/72 [==============================] - 0s 2ms/step - loss: 0.5428 - accuracy: 0.7448 - val_loss: 0.5739 - val_accuracy: 0.7083\n",
            "Epoch 131/200\n",
            "72/72 [==============================] - 0s 2ms/step - loss: 0.4682 - accuracy: 0.7897 - val_loss: 0.5881 - val_accuracy: 0.6979\n",
            "Epoch 132/200\n",
            "72/72 [==============================] - 0s 2ms/step - loss: 0.5203 - accuracy: 0.7398 - val_loss: 0.5716 - val_accuracy: 0.7188\n",
            "Epoch 133/200\n",
            "72/72 [==============================] - 0s 2ms/step - loss: 0.5018 - accuracy: 0.7526 - val_loss: 0.5752 - val_accuracy: 0.7031\n",
            "Epoch 134/200\n",
            "72/72 [==============================] - 0s 2ms/step - loss: 0.4650 - accuracy: 0.7728 - val_loss: 0.6705 - val_accuracy: 0.7031\n",
            "Epoch 135/200\n",
            "72/72 [==============================] - 0s 3ms/step - loss: 0.5130 - accuracy: 0.7606 - val_loss: 0.5638 - val_accuracy: 0.7344\n",
            "Epoch 136/200\n",
            "72/72 [==============================] - 0s 2ms/step - loss: 0.4923 - accuracy: 0.7507 - val_loss: 0.5792 - val_accuracy: 0.6979\n",
            "Epoch 137/200\n",
            "72/72 [==============================] - 0s 2ms/step - loss: 0.4347 - accuracy: 0.8007 - val_loss: 0.6383 - val_accuracy: 0.6927\n",
            "Epoch 138/200\n",
            "72/72 [==============================] - 0s 2ms/step - loss: 0.5138 - accuracy: 0.7424 - val_loss: 0.5672 - val_accuracy: 0.7188\n",
            "Epoch 139/200\n",
            "72/72 [==============================] - 0s 2ms/step - loss: 0.5121 - accuracy: 0.7821 - val_loss: 0.6148 - val_accuracy: 0.7344\n",
            "Epoch 140/200\n",
            "72/72 [==============================] - 0s 2ms/step - loss: 0.5065 - accuracy: 0.7447 - val_loss: 0.5530 - val_accuracy: 0.7188\n",
            "Epoch 141/200\n",
            "72/72 [==============================] - 0s 2ms/step - loss: 0.4940 - accuracy: 0.7578 - val_loss: 0.5717 - val_accuracy: 0.7188\n",
            "Epoch 142/200\n",
            "72/72 [==============================] - 0s 2ms/step - loss: 0.4934 - accuracy: 0.7659 - val_loss: 0.5560 - val_accuracy: 0.7292\n",
            "Epoch 143/200\n",
            "72/72 [==============================] - 0s 2ms/step - loss: 0.4333 - accuracy: 0.8205 - val_loss: 0.6159 - val_accuracy: 0.7292\n",
            "Epoch 144/200\n",
            "72/72 [==============================] - 0s 3ms/step - loss: 0.4361 - accuracy: 0.7915 - val_loss: 0.5890 - val_accuracy: 0.6979\n",
            "Epoch 145/200\n",
            "72/72 [==============================] - 0s 2ms/step - loss: 0.4498 - accuracy: 0.7960 - val_loss: 0.8167 - val_accuracy: 0.6875\n",
            "Epoch 146/200\n",
            "72/72 [==============================] - 0s 2ms/step - loss: 0.6058 - accuracy: 0.7276 - val_loss: 0.5509 - val_accuracy: 0.7500\n",
            "Epoch 147/200\n",
            "72/72 [==============================] - 0s 2ms/step - loss: 0.4982 - accuracy: 0.7474 - val_loss: 0.5707 - val_accuracy: 0.7031\n",
            "Epoch 148/200\n",
            "72/72 [==============================] - 0s 2ms/step - loss: 0.4321 - accuracy: 0.7963 - val_loss: 0.5740 - val_accuracy: 0.6979\n",
            "Epoch 149/200\n",
            "72/72 [==============================] - 0s 2ms/step - loss: 0.5088 - accuracy: 0.7537 - val_loss: 0.5666 - val_accuracy: 0.7135\n",
            "Epoch 150/200\n",
            "72/72 [==============================] - 0s 2ms/step - loss: 0.4354 - accuracy: 0.8013 - val_loss: 0.6665 - val_accuracy: 0.6979\n",
            "Epoch 151/200\n",
            "72/72 [==============================] - 0s 2ms/step - loss: 0.5602 - accuracy: 0.7339 - val_loss: 0.6104 - val_accuracy: 0.7292\n",
            "Epoch 152/200\n",
            "72/72 [==============================] - 0s 2ms/step - loss: 0.6252 - accuracy: 0.7365 - val_loss: 0.6054 - val_accuracy: 0.7344\n",
            "Epoch 153/200\n",
            "72/72 [==============================] - 0s 2ms/step - loss: 0.5166 - accuracy: 0.7375 - val_loss: 0.7233 - val_accuracy: 0.7083\n",
            "Epoch 154/200\n",
            "72/72 [==============================] - 0s 2ms/step - loss: 0.4713 - accuracy: 0.7645 - val_loss: 0.5791 - val_accuracy: 0.7240\n",
            "Epoch 155/200\n",
            "72/72 [==============================] - 0s 2ms/step - loss: 0.4399 - accuracy: 0.8060 - val_loss: 0.5555 - val_accuracy: 0.7344\n",
            "Epoch 156/200\n",
            "72/72 [==============================] - 0s 2ms/step - loss: 0.4615 - accuracy: 0.7703 - val_loss: 0.5426 - val_accuracy: 0.7396\n",
            "Epoch 157/200\n",
            "72/72 [==============================] - 0s 2ms/step - loss: 0.4489 - accuracy: 0.7963 - val_loss: 0.5553 - val_accuracy: 0.7240\n",
            "Epoch 158/200\n",
            "72/72 [==============================] - 0s 2ms/step - loss: 0.4523 - accuracy: 0.7902 - val_loss: 0.5935 - val_accuracy: 0.7083\n",
            "Epoch 159/200\n",
            "72/72 [==============================] - 0s 2ms/step - loss: 0.4627 - accuracy: 0.7596 - val_loss: 0.5608 - val_accuracy: 0.7396\n",
            "Epoch 160/200\n",
            "72/72 [==============================] - 0s 2ms/step - loss: 0.5020 - accuracy: 0.7490 - val_loss: 0.5511 - val_accuracy: 0.7292\n",
            "Epoch 161/200\n",
            "72/72 [==============================] - 0s 2ms/step - loss: 0.4820 - accuracy: 0.7461 - val_loss: 0.5760 - val_accuracy: 0.7396\n",
            "Epoch 162/200\n",
            "72/72 [==============================] - 0s 2ms/step - loss: 0.5003 - accuracy: 0.7815 - val_loss: 0.6259 - val_accuracy: 0.7240\n",
            "Epoch 163/200\n",
            "72/72 [==============================] - 0s 2ms/step - loss: 0.4580 - accuracy: 0.7722 - val_loss: 0.6450 - val_accuracy: 0.7240\n",
            "Epoch 164/200\n",
            "72/72 [==============================] - 0s 2ms/step - loss: 0.4949 - accuracy: 0.7500 - val_loss: 0.6534 - val_accuracy: 0.6979\n",
            "Epoch 165/200\n",
            "72/72 [==============================] - 0s 2ms/step - loss: 0.5084 - accuracy: 0.7591 - val_loss: 0.5677 - val_accuracy: 0.7240\n",
            "Epoch 166/200\n",
            "72/72 [==============================] - 0s 2ms/step - loss: 0.4895 - accuracy: 0.7705 - val_loss: 0.5907 - val_accuracy: 0.7604\n",
            "Epoch 167/200\n",
            "72/72 [==============================] - 0s 2ms/step - loss: 0.4656 - accuracy: 0.7739 - val_loss: 0.6129 - val_accuracy: 0.7292\n",
            "Epoch 168/200\n",
            "72/72 [==============================] - 0s 2ms/step - loss: 0.4908 - accuracy: 0.7685 - val_loss: 0.6851 - val_accuracy: 0.6719\n",
            "Epoch 169/200\n",
            "72/72 [==============================] - 0s 2ms/step - loss: 0.4926 - accuracy: 0.7541 - val_loss: 0.6184 - val_accuracy: 0.7292\n",
            "Epoch 170/200\n",
            "72/72 [==============================] - 0s 2ms/step - loss: 0.4826 - accuracy: 0.7705 - val_loss: 0.5629 - val_accuracy: 0.7240\n",
            "Epoch 171/200\n",
            "72/72 [==============================] - 0s 2ms/step - loss: 0.4178 - accuracy: 0.7999 - val_loss: 0.6268 - val_accuracy: 0.6719\n",
            "Epoch 172/200\n",
            "72/72 [==============================] - 0s 2ms/step - loss: 0.4889 - accuracy: 0.7764 - val_loss: 0.5831 - val_accuracy: 0.7188\n",
            "Epoch 173/200\n",
            "72/72 [==============================] - 0s 2ms/step - loss: 0.4576 - accuracy: 0.7555 - val_loss: 0.5585 - val_accuracy: 0.7344\n",
            "Epoch 174/200\n",
            "72/72 [==============================] - 0s 2ms/step - loss: 0.4489 - accuracy: 0.7902 - val_loss: 0.6448 - val_accuracy: 0.7188\n",
            "Epoch 175/200\n",
            "72/72 [==============================] - 0s 2ms/step - loss: 0.4670 - accuracy: 0.8068 - val_loss: 0.6230 - val_accuracy: 0.7292\n",
            "Epoch 176/200\n",
            "72/72 [==============================] - 0s 3ms/step - loss: 0.4598 - accuracy: 0.7619 - val_loss: 0.5952 - val_accuracy: 0.7448\n",
            "Epoch 177/200\n",
            "72/72 [==============================] - 0s 2ms/step - loss: 0.4800 - accuracy: 0.7710 - val_loss: 0.6930 - val_accuracy: 0.6927\n",
            "Epoch 178/200\n",
            "72/72 [==============================] - 0s 2ms/step - loss: 0.4858 - accuracy: 0.7804 - val_loss: 0.5947 - val_accuracy: 0.7344\n",
            "Epoch 179/200\n",
            "72/72 [==============================] - 0s 2ms/step - loss: 0.4890 - accuracy: 0.7617 - val_loss: 0.5597 - val_accuracy: 0.7396\n",
            "Epoch 180/200\n",
            "72/72 [==============================] - 0s 2ms/step - loss: 0.4683 - accuracy: 0.7831 - val_loss: 0.6638 - val_accuracy: 0.7135\n",
            "Epoch 181/200\n",
            "72/72 [==============================] - 0s 3ms/step - loss: 0.5723 - accuracy: 0.7446 - val_loss: 0.5531 - val_accuracy: 0.7448\n",
            "Epoch 182/200\n",
            "72/72 [==============================] - 0s 3ms/step - loss: 0.4530 - accuracy: 0.7801 - val_loss: 0.6158 - val_accuracy: 0.7031\n",
            "Epoch 183/200\n",
            "72/72 [==============================] - 0s 3ms/step - loss: 0.4163 - accuracy: 0.8084 - val_loss: 0.5797 - val_accuracy: 0.7031\n",
            "Epoch 184/200\n",
            "72/72 [==============================] - 0s 2ms/step - loss: 0.4756 - accuracy: 0.7668 - val_loss: 0.5693 - val_accuracy: 0.7344\n",
            "Epoch 185/200\n",
            "72/72 [==============================] - 0s 2ms/step - loss: 0.4644 - accuracy: 0.7826 - val_loss: 0.6132 - val_accuracy: 0.6979\n",
            "Epoch 186/200\n",
            "72/72 [==============================] - 0s 2ms/step - loss: 0.4643 - accuracy: 0.7548 - val_loss: 0.5923 - val_accuracy: 0.7500\n",
            "Epoch 187/200\n",
            "72/72 [==============================] - 0s 2ms/step - loss: 0.4198 - accuracy: 0.8119 - val_loss: 0.5902 - val_accuracy: 0.7344\n",
            "Epoch 188/200\n",
            "72/72 [==============================] - 0s 2ms/step - loss: 0.4475 - accuracy: 0.7785 - val_loss: 0.7207 - val_accuracy: 0.7135\n",
            "Epoch 189/200\n",
            "72/72 [==============================] - 0s 2ms/step - loss: 0.4586 - accuracy: 0.7835 - val_loss: 0.8983 - val_accuracy: 0.6302\n",
            "Epoch 190/200\n",
            "72/72 [==============================] - 0s 2ms/step - loss: 0.4947 - accuracy: 0.7585 - val_loss: 0.6312 - val_accuracy: 0.7031\n",
            "Epoch 191/200\n",
            "72/72 [==============================] - 0s 3ms/step - loss: 0.4360 - accuracy: 0.7948 - val_loss: 0.7122 - val_accuracy: 0.7083\n",
            "Epoch 192/200\n",
            "72/72 [==============================] - 0s 2ms/step - loss: 0.4350 - accuracy: 0.7949 - val_loss: 0.5861 - val_accuracy: 0.7240\n",
            "Epoch 193/200\n",
            "72/72 [==============================] - 0s 2ms/step - loss: 0.4319 - accuracy: 0.8031 - val_loss: 0.8642 - val_accuracy: 0.6198\n",
            "Epoch 194/200\n",
            "72/72 [==============================] - 0s 2ms/step - loss: 0.5145 - accuracy: 0.7510 - val_loss: 0.5872 - val_accuracy: 0.7292\n",
            "Epoch 195/200\n",
            "72/72 [==============================] - 0s 2ms/step - loss: 0.4705 - accuracy: 0.7739 - val_loss: 0.5925 - val_accuracy: 0.6979\n",
            "Epoch 196/200\n",
            "72/72 [==============================] - 0s 2ms/step - loss: 0.4478 - accuracy: 0.8030 - val_loss: 0.6485 - val_accuracy: 0.6771\n",
            "Epoch 197/200\n",
            "72/72 [==============================] - 0s 2ms/step - loss: 0.4544 - accuracy: 0.7697 - val_loss: 0.5857 - val_accuracy: 0.7135\n",
            "Epoch 198/200\n",
            "72/72 [==============================] - 0s 2ms/step - loss: 0.4727 - accuracy: 0.7610 - val_loss: 0.5725 - val_accuracy: 0.7344\n",
            "Epoch 199/200\n",
            "72/72 [==============================] - 0s 2ms/step - loss: 0.4979 - accuracy: 0.7637 - val_loss: 0.5917 - val_accuracy: 0.7240\n",
            "Epoch 200/200\n",
            "72/72 [==============================] - 0s 2ms/step - loss: 0.4368 - accuracy: 0.7850 - val_loss: 0.6368 - val_accuracy: 0.7240\n"
          ],
          "name": "stdout"
        }
      ]
    },
    {
      "cell_type": "markdown",
      "metadata": {
        "id": "t0kqMCg_lrT6"
      },
      "source": [
        "## Função Erro/loss"
      ]
    },
    {
      "cell_type": "code",
      "metadata": {
        "colab": {
          "base_uri": "https://localhost:8080/"
        },
        "id": "9y1el1TAkon8",
        "outputId": "7010ddd8-01b1-49c7-ecf4-2089552fd0b9"
      },
      "source": [
        "precisao = model.evaluate(X_test, y_test, verbose=0)\n",
        "print(\"Função de erro/loss = %.4f\" % precisao[0])"
      ],
      "execution_count": 12,
      "outputs": [
        {
          "output_type": "stream",
          "text": [
            "Função de erro/loss = 0.6368\n"
          ],
          "name": "stdout"
        }
      ]
    },
    {
      "cell_type": "markdown",
      "metadata": {
        "id": "uyKm2az5rK1l"
      },
      "source": [
        "## Análise da função loss (erro/perda)"
      ]
    },
    {
      "cell_type": "code",
      "metadata": {
        "id": "sAa0vfeorRu1",
        "colab": {
          "base_uri": "https://localhost:8080/",
          "height": 297
        },
        "outputId": "e826c9b2-b02d-4b21-dbc2-6747e05ed062"
      },
      "source": [
        "import matplotlib.pyplot as plt\n",
        "plt.plot(history.history['loss'])\n",
        "plt.plot(history.history['val_loss'], '')\n",
        "plt.xlabel(\"Épocas\")\n",
        "plt.ylabel('Loss')\n",
        "plt.title('Função de erro/loss durante o treinamento')\n",
        "plt.legend(['loss', 'val_loss'])\n",
        "plt.show()"
      ],
      "execution_count": 13,
      "outputs": [
        {
          "output_type": "display_data",
          "data": {
            "image/png": "[encoded data removed]",
            "text/plain": [
              "<Figure size 432x288 with 1 Axes>"
            ]
          },
          "metadata": {
            "tags": [],
            "needs_background": "light"
          }
        }
      ]
    },
    {
      "cell_type": "markdown",
      "metadata": {
        "id": "2WAubPVjrbaq"
      },
      "source": [
        "## Análise da métrica de desempenho (acurácia)"
      ]
    },
    {
      "cell_type": "code",
      "metadata": {
        "id": "DDwxEB_EsBLz",
        "colab": {
          "base_uri": "https://localhost:8080/",
          "height": 295
        },
        "outputId": "257bae65-b3c1-4f27-8464-06992ae60828"
      },
      "source": [
        "plt.plot(history.history['accuracy'])\n",
        "plt.plot(history.history['val_accuracy'], '')\n",
        "plt.xlabel(\"Epochs\")\n",
        "plt.ylabel('accuracy')\n",
        "plt.title('Change of accuracy over Epochs')\n",
        "plt.legend(['accuracy', 'val_accuracy'])\n",
        "plt.show()"
      ],
      "execution_count": 14,
      "outputs": [
        {
          "output_type": "display_data",
          "data": {
            "image/png": "[encoded data removed]",
            "text/plain": [
              "<Figure size 432x288 with 1 Axes>"
            ]
          },
          "metadata": {
            "tags": [],
            "needs_background": "light"
          }
        }
      ]
    }
  ]
}