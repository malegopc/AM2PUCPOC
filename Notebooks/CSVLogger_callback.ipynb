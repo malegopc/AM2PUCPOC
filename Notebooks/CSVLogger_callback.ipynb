{
  "nbformat": 4,
  "nbformat_minor": 0,
  "metadata": {
    "kernelspec": {
      "display_name": "Python 3",
      "language": "python",
      "name": "python3"
    },
    "language_info": {
      "codemirror_mode": {
        "name": "ipython",
        "version": 3
      },
      "file_extension": ".py",
      "mimetype": "text/x-python",
      "name": "python",
      "nbconvert_exporter": "python",
      "pygments_lexer": "ipython3",
      "version": "3.7.3"
    },
    "colab": {
      "name": "CSVLogger_callback.ipynb",
      "provenance": [],
      "collapsed_sections": []
    }
  },
  "cells": [
    {
      "cell_type": "markdown",
      "metadata": {
        "id": "Z7K0SeDgzjL2"
      },
      "source": [
        "---\n",
        "\n",
        "---\n",
        "\n",
        "# Predição de diabetes\n",
        "\n",
        "Este notebook aplica uma rede neural para predizer se um paciente tem diabetes ou não com base em certas medidas diagnósticas incluídas no conjunto de dados.\n",
        "\n",
        "O conjunto de dados utilizado descreve os dados do prontuário médico do paciente dos [índios Pima](https://pt.wikipedia.org/wiki/Pima) e se eles começaram a desenvolver diabetes em cinco anos.\n",
        "\n",
        "Trata-se de um problema de classificação binária (início do diabetes como 1 ou não como 0). Todas as variáveis ​​de entrada que descrevem cada paciente são numéricas.\n",
        "\n",
        "Utiliza-se a API callback **CSVLogger.**\n",
        "\n",
        "*Obs: o modelo apresentado aqui não está otimizado uma vez que o objetivo deste notebook é o de apresentar a aplicação da função callback CSVLogger.*\n",
        "\n",
        "---\n",
        "\n",
        "\n",
        "\n",
        "---\n",
        "\n",
        "\n"
      ]
    },
    {
      "cell_type": "markdown",
      "metadata": {
        "id": "PcWx36BdDBX0"
      },
      "source": [
        "## Conjunto de dados\n",
        "\n",
        "- Fonte: https://www.kaggle.com/uciml/pima-indians-diabetes-database\n",
        "- Proprietários originais: National Institute of Diabetes and Digestive and Kidney Diseases\n",
        "- Doadores da base de dados: Vincent Sigillito (vgs@aplcen.apl.jhu.edu), \n",
        "Research Center, RMI Group Leader, Applied Physics Laboratory, The Johns Hopkins University (1990)\n",
        "\n",
        "Detalhes sobre o conjunto de dados:\n",
        "\n",
        "1. Número de instâncias: 768\n",
        "\n",
        "2. Número de atributos: 8 (mais classe target)\n",
        "\n",
        "3. Atributos: (todos com valor numérico)\n",
        "   1. Número de vezes que engravidou (*Pregnancies*)\n",
        "   2. Concentração de glicose plasmática a 2 horas em um teste de tolerância à glicose oral (*Glucose*)\n",
        "   3. Pressão arterial diastólica (mm Hg) (*BloodPressure*)\n",
        "   4. Espessura da dobra da pele do tríceps (mm) (*SkinThickness*)\n",
        "   5. Insulina sérica de 2 horas (mu U / ml) (*Insulin*)\n",
        "   6. Índice de massa corporal (peso em kg / (altura em m) ^ 2) (*BMI*)\n",
        "   7. Função de pedigree de diabetes (*DiabetesPedigreeFunction*)\n",
        "   8. Idade (anos) (*Age*)\n",
        "   \n",
        "4. Variável target (classe): 0 ou 1 (valor de classe 1 é interpretado como \"teste positivo para diabetes\")\n",
        "\n",
        "   Classe Valor Número de instâncias\n",
        "   - 500 => 0\n",
        "   - 268 => 1\n",
        "\n",
        " "
      ]
    },
    {
      "cell_type": "markdown",
      "metadata": {
        "id": "LWXwGCqvIwgN"
      },
      "source": [
        "## Leitura e preparação dos dados\n",
        "\n",
        "Vamos começar importando o arquivo CSV bruto usando o Pandas."
      ]
    },
    {
      "cell_type": "code",
      "metadata": {
        "scrolled": true,
        "colab": {
          "base_uri": "https://localhost:8080/",
          "height": 323
        },
        "id": "LM6AT7tPzjL6",
        "outputId": "65c6d49b-83a7-4f7d-cd4f-f1cbf852ebf4"
      },
      "source": [
        "import pandas as pd\n",
        "\n",
        "# Clone do repositório de dados do GitHub\n",
        "!git clone https://github.com/malegopc/AM2PUCPOC\n",
        "# lê arquivo de dados, atribue NaN para dados faltantes e rótulos em cada coluna\n",
        "diabetes = pd.read_csv('/content/AM2PUCPOC/Datasets/Indians_Diabetes/diabetes.csv', na_values=['?'])\n",
        "# imprime as 5 primeiras linhas dos dados montados\n",
        "diabetes.head()"
      ],
      "execution_count": 1,
      "outputs": [
        {
          "output_type": "stream",
          "text": [
            "Cloning into 'AM2PUCPOC'...\n",
            "remote: Enumerating objects: 556, done.\u001b[K\n",
            "remote: Counting objects: 100% (84/84), done.\u001b[K\n",
            "remote: Compressing objects: 100% (84/84), done.\u001b[K\n",
            "remote: Total 556 (delta 29), reused 0 (delta 0), pack-reused 472\u001b[K\n",
            "Receiving objects: 100% (556/556), 8.13 MiB | 14.32 MiB/s, done.\n",
            "Resolving deltas: 100% (178/178), done.\n"
          ],
          "name": "stdout"
        },
        {
          "output_type": "execute_result",
          "data": {
            "text/html": [
              "<div>\n",
              "<style scoped>\n",
              "    .dataframe tbody tr th:only-of-type {\n",
              "        vertical-align: middle;\n",
              "    }\n",
              "\n",
              "    .dataframe tbody tr th {\n",
              "        vertical-align: top;\n",
              "    }\n",
              "\n",
              "    .dataframe thead th {\n",
              "        text-align: right;\n",
              "    }\n",
              "</style>\n",
              "<table border=\"1\" class=\"dataframe\">\n",
              "  <thead>\n",
              "    <tr style=\"text-align: right;\">\n",
              "      <th></th>\n",
              "      <th>Pregnancies</th>\n",
              "      <th>Glucose</th>\n",
              "      <th>BloodPressure</th>\n",
              "      <th>SkinThickness</th>\n",
              "      <th>Insulin</th>\n",
              "      <th>BMI</th>\n",
              "      <th>DiabetesPedigreeFunction</th>\n",
              "      <th>Age</th>\n",
              "      <th>Outcome</th>\n",
              "    </tr>\n",
              "  </thead>\n",
              "  <tbody>\n",
              "    <tr>\n",
              "      <th>0</th>\n",
              "      <td>6</td>\n",
              "      <td>148</td>\n",
              "      <td>72</td>\n",
              "      <td>35</td>\n",
              "      <td>0</td>\n",
              "      <td>33.6</td>\n",
              "      <td>0.627</td>\n",
              "      <td>50</td>\n",
              "      <td>1</td>\n",
              "    </tr>\n",
              "    <tr>\n",
              "      <th>1</th>\n",
              "      <td>1</td>\n",
              "      <td>85</td>\n",
              "      <td>66</td>\n",
              "      <td>29</td>\n",
              "      <td>0</td>\n",
              "      <td>26.6</td>\n",
              "      <td>0.351</td>\n",
              "      <td>31</td>\n",
              "      <td>0</td>\n",
              "    </tr>\n",
              "    <tr>\n",
              "      <th>2</th>\n",
              "      <td>8</td>\n",
              "      <td>183</td>\n",
              "      <td>64</td>\n",
              "      <td>0</td>\n",
              "      <td>0</td>\n",
              "      <td>23.3</td>\n",
              "      <td>0.672</td>\n",
              "      <td>32</td>\n",
              "      <td>1</td>\n",
              "    </tr>\n",
              "    <tr>\n",
              "      <th>3</th>\n",
              "      <td>1</td>\n",
              "      <td>89</td>\n",
              "      <td>66</td>\n",
              "      <td>23</td>\n",
              "      <td>94</td>\n",
              "      <td>28.1</td>\n",
              "      <td>0.167</td>\n",
              "      <td>21</td>\n",
              "      <td>0</td>\n",
              "    </tr>\n",
              "    <tr>\n",
              "      <th>4</th>\n",
              "      <td>0</td>\n",
              "      <td>137</td>\n",
              "      <td>40</td>\n",
              "      <td>35</td>\n",
              "      <td>168</td>\n",
              "      <td>43.1</td>\n",
              "      <td>2.288</td>\n",
              "      <td>33</td>\n",
              "      <td>1</td>\n",
              "    </tr>\n",
              "  </tbody>\n",
              "</table>\n",
              "</div>"
            ],
            "text/plain": [
              "   Pregnancies  Glucose  BloodPressure  ...  DiabetesPedigreeFunction  Age  Outcome\n",
              "0            6      148             72  ...                     0.627   50        1\n",
              "1            1       85             66  ...                     0.351   31        0\n",
              "2            8      183             64  ...                     0.672   32        1\n",
              "3            1       89             66  ...                     0.167   21        0\n",
              "4            0      137             40  ...                     2.288   33        1\n",
              "\n",
              "[5 rows x 9 columns]"
            ]
          },
          "metadata": {
            "tags": []
          },
          "execution_count": 1
        }
      ]
    },
    {
      "cell_type": "markdown",
      "metadata": {
        "id": "yabMrBvezjMC"
      },
      "source": [
        "## Separa os atributos das classes\n",
        "\n",
        "Extrai os atributos e as classes (rótulos) colocando-os em duas variáveis separadas (na forma que o Keras espera)."
      ]
    },
    {
      "cell_type": "code",
      "metadata": {
        "colab": {
          "base_uri": "https://localhost:8080/"
        },
        "id": "9pK51IcczjMC",
        "outputId": "dacce19a-5d33-4ff0-8c1a-71be6ed07a46"
      },
      "source": [
        "X = diabetes.drop('Outcome', axis=1).values\n",
        "y = diabetes['Outcome'].values\n",
        "print(X.shape)\n",
        "print(y.shape)"
      ],
      "execution_count": 2,
      "outputs": [
        {
          "output_type": "stream",
          "text": [
            "(768, 8)\n",
            "(768,)\n"
          ],
          "name": "stdout"
        }
      ]
    },
    {
      "cell_type": "markdown",
      "metadata": {
        "id": "4FDcvELVsUKP"
      },
      "source": [
        "## Divide o conjunto de dados em treino e teste"
      ]
    },
    {
      "cell_type": "code",
      "metadata": {
        "colab": {
          "base_uri": "https://localhost:8080/"
        },
        "id": "sw238KjusYNf",
        "outputId": "2e7a9f24-6103-45a2-ac31-6f61076b3586"
      },
      "source": [
        "from sklearn.model_selection import train_test_split\n",
        "X_train, X_test, y_train, y_test = train_test_split(X,y,test_size=0.25,random_state=42)\n",
        "print(X_train.shape)\n",
        "print(y_train.shape)\n",
        "print(X_test.shape)\n",
        "print(y_test.shape)"
      ],
      "execution_count": 3,
      "outputs": [
        {
          "output_type": "stream",
          "text": [
            "(576, 8)\n",
            "(576,)\n",
            "(192, 8)\n",
            "(192,)\n"
          ],
          "name": "stdout"
        }
      ]
    },
    {
      "cell_type": "markdown",
      "metadata": {
        "id": "zyWHf7bCzjMD"
      },
      "source": [
        "## Criação do modelo de rede neural\n",
        "\n",
        "\n"
      ]
    },
    {
      "cell_type": "code",
      "metadata": {
        "colab": {
          "base_uri": "https://localhost:8080/"
        },
        "id": "uwpVybNDzjME",
        "outputId": "3d366317-60f2-4261-a9aa-95d53a26f224"
      },
      "source": [
        "from keras.models import Sequential\n",
        "from keras.layers import Dense\n",
        "\n",
        "model = Sequential()\n",
        "# 1a. camada oculta com 20 neurônios (definição das entradas)\n",
        "model.add(Dense(20, input_dim=X_train.shape[1], activation='relu'))\n",
        "# 2a. camada oculta com 10 neurônios\n",
        "model.add(Dense(10, activation='relu'))\n",
        "# camada de saída com um neurônio\n",
        "model.add(Dense(1, activation='sigmoid'))\n",
        "# sumário (resumo) do modelo\n",
        "model.summary()"
      ],
      "execution_count": 4,
      "outputs": [
        {
          "output_type": "stream",
          "text": [
            "Model: \"sequential\"\n",
            "_________________________________________________________________\n",
            "Layer (type)                 Output Shape              Param #   \n",
            "=================================================================\n",
            "dense (Dense)                (None, 20)                180       \n",
            "_________________________________________________________________\n",
            "dense_1 (Dense)              (None, 10)                210       \n",
            "_________________________________________________________________\n",
            "dense_2 (Dense)              (None, 1)                 11        \n",
            "=================================================================\n",
            "Total params: 401\n",
            "Trainable params: 401\n",
            "Non-trainable params: 0\n",
            "_________________________________________________________________\n"
          ],
          "name": "stdout"
        }
      ]
    },
    {
      "cell_type": "markdown",
      "metadata": {
        "id": "wHhaiOZfcPR1"
      },
      "source": [
        "## Compilação do modelo"
      ]
    },
    {
      "cell_type": "code",
      "metadata": {
        "id": "HWM1ThWlzjMF"
      },
      "source": [
        "model.compile(loss='binary_crossentropy', optimizer='adam', metrics=['accuracy'])"
      ],
      "execution_count": 5,
      "outputs": []
    },
    {
      "cell_type": "markdown",
      "metadata": {
        "id": "n2dOhpdZceL0"
      },
      "source": [
        "## Treinamento do modelo"
      ]
    },
    {
      "cell_type": "code",
      "metadata": {
        "colab": {
          "base_uri": "https://localhost:8080/"
        },
        "id": "M-OXJQ3vciV1",
        "outputId": "9c0cd174-0bda-437d-e128-44cf19093fa6"
      },
      "source": [
        "from keras.callbacks import CSVLogger\n",
        "\n",
        "csvlog = CSVLogger('results.csv', separator=\",\", append=False)\n",
        "history = model.fit(X_train,y_train, validation_data=(X_test,y_test), batch_size=8, epochs=200, callbacks=[csvlog])"
      ],
      "execution_count": 6,
      "outputs": [
        {
          "output_type": "stream",
          "text": [
            "Epoch 1/200\n",
            "72/72 [==============================] - 14s 9ms/step - loss: 6.7336 - accuracy: 0.6210 - val_loss: 1.4906 - val_accuracy: 0.6302\n",
            "Epoch 2/200\n",
            "72/72 [==============================] - 0s 2ms/step - loss: 1.6046 - accuracy: 0.5713 - val_loss: 1.2775 - val_accuracy: 0.6250\n",
            "Epoch 3/200\n",
            "72/72 [==============================] - 0s 3ms/step - loss: 1.1657 - accuracy: 0.6121 - val_loss: 1.1342 - val_accuracy: 0.6719\n",
            "Epoch 4/200\n",
            "72/72 [==============================] - 0s 2ms/step - loss: 1.1142 - accuracy: 0.6248 - val_loss: 0.9066 - val_accuracy: 0.7135\n",
            "Epoch 5/200\n",
            "72/72 [==============================] - 0s 2ms/step - loss: 0.8493 - accuracy: 0.6866 - val_loss: 0.7433 - val_accuracy: 0.7031\n",
            "Epoch 6/200\n",
            "72/72 [==============================] - 0s 3ms/step - loss: 0.7486 - accuracy: 0.6886 - val_loss: 0.8201 - val_accuracy: 0.6823\n",
            "Epoch 7/200\n",
            "72/72 [==============================] - 0s 2ms/step - loss: 0.7343 - accuracy: 0.6959 - val_loss: 0.7549 - val_accuracy: 0.7292\n",
            "Epoch 8/200\n",
            "72/72 [==============================] - 0s 2ms/step - loss: 0.8175 - accuracy: 0.7019 - val_loss: 0.7027 - val_accuracy: 0.7448\n",
            "Epoch 9/200\n",
            "72/72 [==============================] - 0s 2ms/step - loss: 0.6551 - accuracy: 0.7318 - val_loss: 0.6793 - val_accuracy: 0.7083\n",
            "Epoch 10/200\n",
            "72/72 [==============================] - 0s 2ms/step - loss: 0.7140 - accuracy: 0.6562 - val_loss: 0.6742 - val_accuracy: 0.6823\n",
            "Epoch 11/200\n",
            "72/72 [==============================] - 0s 3ms/step - loss: 0.6335 - accuracy: 0.6932 - val_loss: 0.6156 - val_accuracy: 0.7188\n",
            "Epoch 12/200\n",
            "72/72 [==============================] - 0s 2ms/step - loss: 0.6954 - accuracy: 0.6966 - val_loss: 0.6263 - val_accuracy: 0.6979\n",
            "Epoch 13/200\n",
            "72/72 [==============================] - 0s 2ms/step - loss: 0.6126 - accuracy: 0.7406 - val_loss: 0.6153 - val_accuracy: 0.7240\n",
            "Epoch 14/200\n",
            "72/72 [==============================] - 0s 2ms/step - loss: 0.5743 - accuracy: 0.7166 - val_loss: 0.6027 - val_accuracy: 0.7396\n",
            "Epoch 15/200\n",
            "72/72 [==============================] - 0s 2ms/step - loss: 0.5975 - accuracy: 0.7220 - val_loss: 0.6064 - val_accuracy: 0.7292\n",
            "Epoch 16/200\n",
            "72/72 [==============================] - 0s 2ms/step - loss: 0.5926 - accuracy: 0.7036 - val_loss: 0.6167 - val_accuracy: 0.7500\n",
            "Epoch 17/200\n",
            "72/72 [==============================] - 0s 2ms/step - loss: 0.6043 - accuracy: 0.7193 - val_loss: 0.6303 - val_accuracy: 0.7135\n",
            "Epoch 18/200\n",
            "72/72 [==============================] - 0s 2ms/step - loss: 0.5677 - accuracy: 0.7273 - val_loss: 0.6029 - val_accuracy: 0.7240\n",
            "Epoch 19/200\n",
            "72/72 [==============================] - 0s 2ms/step - loss: 0.5559 - accuracy: 0.7220 - val_loss: 0.6133 - val_accuracy: 0.7083\n",
            "Epoch 20/200\n",
            "72/72 [==============================] - 0s 2ms/step - loss: 0.5754 - accuracy: 0.7110 - val_loss: 0.6592 - val_accuracy: 0.7240\n",
            "Epoch 21/200\n",
            "72/72 [==============================] - 0s 2ms/step - loss: 0.5778 - accuracy: 0.6829 - val_loss: 0.6340 - val_accuracy: 0.7240\n",
            "Epoch 22/200\n",
            "72/72 [==============================] - 0s 2ms/step - loss: 0.5680 - accuracy: 0.7070 - val_loss: 0.6177 - val_accuracy: 0.6823\n",
            "Epoch 23/200\n",
            "72/72 [==============================] - 0s 2ms/step - loss: 0.5476 - accuracy: 0.7441 - val_loss: 0.6449 - val_accuracy: 0.7448\n",
            "Epoch 24/200\n",
            "72/72 [==============================] - 0s 2ms/step - loss: 0.5882 - accuracy: 0.7252 - val_loss: 0.5954 - val_accuracy: 0.7240\n",
            "Epoch 25/200\n",
            "72/72 [==============================] - 0s 2ms/step - loss: 0.5605 - accuracy: 0.7330 - val_loss: 0.6128 - val_accuracy: 0.6823\n",
            "Epoch 26/200\n",
            "72/72 [==============================] - 0s 2ms/step - loss: 0.5423 - accuracy: 0.7110 - val_loss: 0.6145 - val_accuracy: 0.6979\n",
            "Epoch 27/200\n",
            "72/72 [==============================] - 0s 2ms/step - loss: 0.5465 - accuracy: 0.7221 - val_loss: 0.6536 - val_accuracy: 0.7031\n",
            "Epoch 28/200\n",
            "72/72 [==============================] - 0s 2ms/step - loss: 0.5362 - accuracy: 0.7543 - val_loss: 0.8103 - val_accuracy: 0.6719\n",
            "Epoch 29/200\n",
            "72/72 [==============================] - 0s 2ms/step - loss: 0.6033 - accuracy: 0.7107 - val_loss: 0.6660 - val_accuracy: 0.7292\n",
            "Epoch 30/200\n",
            "72/72 [==============================] - 0s 2ms/step - loss: 0.5754 - accuracy: 0.7389 - val_loss: 0.6753 - val_accuracy: 0.6302\n",
            "Epoch 31/200\n",
            "72/72 [==============================] - 0s 2ms/step - loss: 0.5368 - accuracy: 0.7421 - val_loss: 0.6678 - val_accuracy: 0.7292\n",
            "Epoch 32/200\n",
            "72/72 [==============================] - 0s 2ms/step - loss: 0.6151 - accuracy: 0.6950 - val_loss: 0.6340 - val_accuracy: 0.7344\n",
            "Epoch 33/200\n",
            "72/72 [==============================] - 0s 2ms/step - loss: 0.5286 - accuracy: 0.7531 - val_loss: 0.6748 - val_accuracy: 0.6823\n",
            "Epoch 34/200\n",
            "72/72 [==============================] - 0s 2ms/step - loss: 0.5685 - accuracy: 0.7156 - val_loss: 0.6369 - val_accuracy: 0.6927\n",
            "Epoch 35/200\n",
            "72/72 [==============================] - 0s 2ms/step - loss: 0.5393 - accuracy: 0.7149 - val_loss: 0.7519 - val_accuracy: 0.6302\n",
            "Epoch 36/200\n",
            "72/72 [==============================] - 0s 2ms/step - loss: 0.5765 - accuracy: 0.7363 - val_loss: 0.6240 - val_accuracy: 0.7031\n",
            "Epoch 37/200\n",
            "72/72 [==============================] - 0s 2ms/step - loss: 0.5261 - accuracy: 0.7222 - val_loss: 0.6671 - val_accuracy: 0.6875\n",
            "Epoch 38/200\n",
            "72/72 [==============================] - 0s 2ms/step - loss: 0.5506 - accuracy: 0.7233 - val_loss: 0.7361 - val_accuracy: 0.6927\n",
            "Epoch 39/200\n",
            "72/72 [==============================] - 0s 3ms/step - loss: 0.5336 - accuracy: 0.7405 - val_loss: 0.6198 - val_accuracy: 0.7240\n",
            "Epoch 40/200\n",
            "72/72 [==============================] - 0s 2ms/step - loss: 0.5368 - accuracy: 0.7471 - val_loss: 0.6661 - val_accuracy: 0.7083\n",
            "Epoch 41/200\n",
            "72/72 [==============================] - 0s 2ms/step - loss: 0.6026 - accuracy: 0.7240 - val_loss: 0.6664 - val_accuracy: 0.6875\n",
            "Epoch 42/200\n",
            "72/72 [==============================] - 0s 2ms/step - loss: 0.4811 - accuracy: 0.7917 - val_loss: 0.6266 - val_accuracy: 0.7396\n",
            "Epoch 43/200\n",
            "72/72 [==============================] - 0s 2ms/step - loss: 0.5466 - accuracy: 0.7456 - val_loss: 0.6831 - val_accuracy: 0.6979\n",
            "Epoch 44/200\n",
            "72/72 [==============================] - 0s 2ms/step - loss: 0.5450 - accuracy: 0.7598 - val_loss: 0.6372 - val_accuracy: 0.7240\n",
            "Epoch 45/200\n",
            "72/72 [==============================] - 0s 2ms/step - loss: 0.5283 - accuracy: 0.7572 - val_loss: 0.6919 - val_accuracy: 0.6979\n",
            "Epoch 46/200\n",
            "72/72 [==============================] - 0s 2ms/step - loss: 0.5251 - accuracy: 0.7527 - val_loss: 0.6416 - val_accuracy: 0.6719\n",
            "Epoch 47/200\n",
            "72/72 [==============================] - 0s 3ms/step - loss: 0.5139 - accuracy: 0.7637 - val_loss: 0.6350 - val_accuracy: 0.7031\n",
            "Epoch 48/200\n",
            "72/72 [==============================] - 0s 2ms/step - loss: 0.5156 - accuracy: 0.7860 - val_loss: 0.6141 - val_accuracy: 0.7344\n",
            "Epoch 49/200\n",
            "72/72 [==============================] - 0s 2ms/step - loss: 0.5021 - accuracy: 0.7741 - val_loss: 0.6859 - val_accuracy: 0.6771\n",
            "Epoch 50/200\n",
            "72/72 [==============================] - 0s 2ms/step - loss: 0.5246 - accuracy: 0.7738 - val_loss: 0.6760 - val_accuracy: 0.7135\n",
            "Epoch 51/200\n",
            "72/72 [==============================] - 0s 2ms/step - loss: 0.5173 - accuracy: 0.7349 - val_loss: 0.6865 - val_accuracy: 0.7500\n",
            "Epoch 52/200\n",
            "72/72 [==============================] - 0s 2ms/step - loss: 0.6154 - accuracy: 0.7211 - val_loss: 0.6375 - val_accuracy: 0.7188\n",
            "Epoch 53/200\n",
            "72/72 [==============================] - 0s 2ms/step - loss: 0.5283 - accuracy: 0.7708 - val_loss: 0.6416 - val_accuracy: 0.7292\n",
            "Epoch 54/200\n",
            "72/72 [==============================] - 0s 2ms/step - loss: 0.4700 - accuracy: 0.7902 - val_loss: 0.6616 - val_accuracy: 0.7240\n",
            "Epoch 55/200\n",
            "72/72 [==============================] - 0s 2ms/step - loss: 0.5098 - accuracy: 0.7383 - val_loss: 0.7526 - val_accuracy: 0.6667\n",
            "Epoch 56/200\n",
            "72/72 [==============================] - 0s 2ms/step - loss: 0.5314 - accuracy: 0.7592 - val_loss: 0.6740 - val_accuracy: 0.7448\n",
            "Epoch 57/200\n",
            "72/72 [==============================] - 0s 2ms/step - loss: 0.5258 - accuracy: 0.7556 - val_loss: 0.6387 - val_accuracy: 0.6979\n",
            "Epoch 58/200\n",
            "72/72 [==============================] - 0s 2ms/step - loss: 0.5357 - accuracy: 0.7330 - val_loss: 0.6871 - val_accuracy: 0.6875\n",
            "Epoch 59/200\n",
            "72/72 [==============================] - 0s 2ms/step - loss: 0.4909 - accuracy: 0.7617 - val_loss: 0.6446 - val_accuracy: 0.7031\n",
            "Epoch 60/200\n",
            "72/72 [==============================] - 0s 2ms/step - loss: 0.5174 - accuracy: 0.7545 - val_loss: 0.6533 - val_accuracy: 0.6927\n",
            "Epoch 61/200\n",
            "72/72 [==============================] - 0s 3ms/step - loss: 0.5090 - accuracy: 0.7587 - val_loss: 0.6285 - val_accuracy: 0.7188\n",
            "Epoch 62/200\n",
            "72/72 [==============================] - 0s 2ms/step - loss: 0.4711 - accuracy: 0.7580 - val_loss: 0.6714 - val_accuracy: 0.6979\n",
            "Epoch 63/200\n",
            "72/72 [==============================] - 0s 2ms/step - loss: 0.5300 - accuracy: 0.7490 - val_loss: 0.6018 - val_accuracy: 0.7344\n",
            "Epoch 64/200\n",
            "72/72 [==============================] - 0s 2ms/step - loss: 0.5296 - accuracy: 0.7534 - val_loss: 0.6436 - val_accuracy: 0.6875\n",
            "Epoch 65/200\n",
            "72/72 [==============================] - 0s 2ms/step - loss: 0.5213 - accuracy: 0.7526 - val_loss: 0.6247 - val_accuracy: 0.6719\n",
            "Epoch 66/200\n",
            "72/72 [==============================] - 0s 2ms/step - loss: 0.4938 - accuracy: 0.7623 - val_loss: 0.7081 - val_accuracy: 0.6823\n",
            "Epoch 67/200\n",
            "72/72 [==============================] - 0s 2ms/step - loss: 0.5187 - accuracy: 0.7679 - val_loss: 0.6673 - val_accuracy: 0.7188\n",
            "Epoch 68/200\n",
            "72/72 [==============================] - 0s 2ms/step - loss: 0.5076 - accuracy: 0.7515 - val_loss: 0.6605 - val_accuracy: 0.7083\n",
            "Epoch 69/200\n",
            "72/72 [==============================] - 0s 2ms/step - loss: 0.5311 - accuracy: 0.7395 - val_loss: 0.7989 - val_accuracy: 0.6771\n",
            "Epoch 70/200\n",
            "72/72 [==============================] - 0s 2ms/step - loss: 0.5163 - accuracy: 0.7675 - val_loss: 0.6331 - val_accuracy: 0.6771\n",
            "Epoch 71/200\n",
            "72/72 [==============================] - 0s 2ms/step - loss: 0.4989 - accuracy: 0.7826 - val_loss: 0.6706 - val_accuracy: 0.6979\n",
            "Epoch 72/200\n",
            "72/72 [==============================] - 0s 2ms/step - loss: 0.5073 - accuracy: 0.7590 - val_loss: 0.6521 - val_accuracy: 0.7240\n",
            "Epoch 73/200\n",
            "72/72 [==============================] - 0s 2ms/step - loss: 0.4765 - accuracy: 0.7872 - val_loss: 0.6552 - val_accuracy: 0.6875\n",
            "Epoch 74/200\n",
            "72/72 [==============================] - 0s 3ms/step - loss: 0.5096 - accuracy: 0.7900 - val_loss: 0.7268 - val_accuracy: 0.7135\n",
            "Epoch 75/200\n",
            "72/72 [==============================] - 0s 2ms/step - loss: 0.4782 - accuracy: 0.7538 - val_loss: 0.6433 - val_accuracy: 0.7344\n",
            "Epoch 76/200\n",
            "72/72 [==============================] - 0s 2ms/step - loss: 0.4652 - accuracy: 0.7846 - val_loss: 0.6365 - val_accuracy: 0.6823\n",
            "Epoch 77/200\n",
            "72/72 [==============================] - 0s 3ms/step - loss: 0.4825 - accuracy: 0.7548 - val_loss: 0.6526 - val_accuracy: 0.7240\n",
            "Epoch 78/200\n",
            "72/72 [==============================] - 0s 2ms/step - loss: 0.4789 - accuracy: 0.7964 - val_loss: 0.6873 - val_accuracy: 0.6979\n",
            "Epoch 79/200\n",
            "72/72 [==============================] - 0s 2ms/step - loss: 0.4648 - accuracy: 0.7991 - val_loss: 0.6444 - val_accuracy: 0.7083\n",
            "Epoch 80/200\n",
            "72/72 [==============================] - 0s 2ms/step - loss: 0.5225 - accuracy: 0.7643 - val_loss: 0.6363 - val_accuracy: 0.7031\n",
            "Epoch 81/200\n",
            "72/72 [==============================] - 0s 2ms/step - loss: 0.4580 - accuracy: 0.8032 - val_loss: 0.6527 - val_accuracy: 0.7240\n",
            "Epoch 82/200\n",
            "72/72 [==============================] - 0s 3ms/step - loss: 0.5027 - accuracy: 0.7534 - val_loss: 0.6626 - val_accuracy: 0.6979\n",
            "Epoch 83/200\n",
            "72/72 [==============================] - 0s 3ms/step - loss: 0.5099 - accuracy: 0.7824 - val_loss: 0.6285 - val_accuracy: 0.7188\n",
            "Epoch 84/200\n",
            "72/72 [==============================] - 0s 2ms/step - loss: 0.5029 - accuracy: 0.7695 - val_loss: 0.6340 - val_accuracy: 0.7188\n",
            "Epoch 85/200\n",
            "72/72 [==============================] - 0s 2ms/step - loss: 0.4723 - accuracy: 0.7424 - val_loss: 0.6660 - val_accuracy: 0.6510\n",
            "Epoch 86/200\n",
            "72/72 [==============================] - 0s 2ms/step - loss: 0.4955 - accuracy: 0.7910 - val_loss: 0.6420 - val_accuracy: 0.6979\n",
            "Epoch 87/200\n",
            "72/72 [==============================] - 0s 2ms/step - loss: 0.4799 - accuracy: 0.7911 - val_loss: 0.6615 - val_accuracy: 0.6927\n",
            "Epoch 88/200\n",
            "72/72 [==============================] - 0s 2ms/step - loss: 0.4847 - accuracy: 0.7731 - val_loss: 0.8824 - val_accuracy: 0.6042\n",
            "Epoch 89/200\n",
            "72/72 [==============================] - 0s 2ms/step - loss: 0.5902 - accuracy: 0.7198 - val_loss: 0.6972 - val_accuracy: 0.6719\n",
            "Epoch 90/200\n",
            "72/72 [==============================] - 0s 2ms/step - loss: 0.4815 - accuracy: 0.7616 - val_loss: 0.6936 - val_accuracy: 0.7031\n",
            "Epoch 91/200\n",
            "72/72 [==============================] - 0s 2ms/step - loss: 0.4633 - accuracy: 0.7683 - val_loss: 0.6590 - val_accuracy: 0.7031\n",
            "Epoch 92/200\n",
            "72/72 [==============================] - 0s 2ms/step - loss: 0.4937 - accuracy: 0.7605 - val_loss: 0.6818 - val_accuracy: 0.6823\n",
            "Epoch 93/200\n",
            "72/72 [==============================] - 0s 3ms/step - loss: 0.4445 - accuracy: 0.7965 - val_loss: 0.6547 - val_accuracy: 0.6979\n",
            "Epoch 94/200\n",
            "72/72 [==============================] - 0s 2ms/step - loss: 0.4109 - accuracy: 0.7975 - val_loss: 0.7328 - val_accuracy: 0.7031\n",
            "Epoch 95/200\n",
            "72/72 [==============================] - 0s 2ms/step - loss: 0.4940 - accuracy: 0.7652 - val_loss: 0.7211 - val_accuracy: 0.7135\n",
            "Epoch 96/200\n",
            "72/72 [==============================] - 0s 2ms/step - loss: 0.4673 - accuracy: 0.7938 - val_loss: 0.6585 - val_accuracy: 0.6823\n",
            "Epoch 97/200\n",
            "72/72 [==============================] - 0s 2ms/step - loss: 0.5267 - accuracy: 0.7532 - val_loss: 0.6837 - val_accuracy: 0.6719\n",
            "Epoch 98/200\n",
            "72/72 [==============================] - 0s 2ms/step - loss: 0.4763 - accuracy: 0.7879 - val_loss: 0.6807 - val_accuracy: 0.7031\n",
            "Epoch 99/200\n",
            "72/72 [==============================] - 0s 2ms/step - loss: 0.4971 - accuracy: 0.7593 - val_loss: 0.7383 - val_accuracy: 0.6771\n",
            "Epoch 100/200\n",
            "72/72 [==============================] - 0s 2ms/step - loss: 0.5378 - accuracy: 0.7388 - val_loss: 0.6345 - val_accuracy: 0.6927\n",
            "Epoch 101/200\n",
            "72/72 [==============================] - 0s 2ms/step - loss: 0.4694 - accuracy: 0.7754 - val_loss: 0.6864 - val_accuracy: 0.7083\n",
            "Epoch 102/200\n",
            "72/72 [==============================] - 0s 2ms/step - loss: 0.5003 - accuracy: 0.7634 - val_loss: 0.6895 - val_accuracy: 0.6927\n",
            "Epoch 103/200\n",
            "72/72 [==============================] - 0s 2ms/step - loss: 0.4703 - accuracy: 0.7610 - val_loss: 0.7631 - val_accuracy: 0.7031\n",
            "Epoch 104/200\n",
            "72/72 [==============================] - 0s 2ms/step - loss: 0.5183 - accuracy: 0.7416 - val_loss: 0.6495 - val_accuracy: 0.6927\n",
            "Epoch 105/200\n",
            "72/72 [==============================] - 0s 2ms/step - loss: 0.4709 - accuracy: 0.7803 - val_loss: 0.6583 - val_accuracy: 0.7083\n",
            "Epoch 106/200\n",
            "72/72 [==============================] - 0s 2ms/step - loss: 0.4745 - accuracy: 0.7547 - val_loss: 0.6338 - val_accuracy: 0.7240\n",
            "Epoch 107/200\n",
            "72/72 [==============================] - 0s 2ms/step - loss: 0.4755 - accuracy: 0.7898 - val_loss: 0.6818 - val_accuracy: 0.6875\n",
            "Epoch 108/200\n",
            "72/72 [==============================] - 0s 2ms/step - loss: 0.4487 - accuracy: 0.7825 - val_loss: 0.6928 - val_accuracy: 0.6719\n",
            "Epoch 109/200\n",
            "72/72 [==============================] - 0s 2ms/step - loss: 0.4559 - accuracy: 0.7763 - val_loss: 0.6498 - val_accuracy: 0.6979\n",
            "Epoch 110/200\n",
            "72/72 [==============================] - 0s 2ms/step - loss: 0.5380 - accuracy: 0.7434 - val_loss: 0.6436 - val_accuracy: 0.6979\n",
            "Epoch 111/200\n",
            "72/72 [==============================] - 0s 2ms/step - loss: 0.4593 - accuracy: 0.7917 - val_loss: 0.7337 - val_accuracy: 0.6927\n",
            "Epoch 112/200\n",
            "72/72 [==============================] - 0s 2ms/step - loss: 0.4869 - accuracy: 0.7508 - val_loss: 0.6576 - val_accuracy: 0.7135\n",
            "Epoch 113/200\n",
            "72/72 [==============================] - 0s 2ms/step - loss: 0.4571 - accuracy: 0.7701 - val_loss: 0.6648 - val_accuracy: 0.7240\n",
            "Epoch 114/200\n",
            "72/72 [==============================] - 0s 3ms/step - loss: 0.4908 - accuracy: 0.7475 - val_loss: 0.6832 - val_accuracy: 0.7031\n",
            "Epoch 115/200\n",
            "72/72 [==============================] - 0s 2ms/step - loss: 0.4566 - accuracy: 0.7827 - val_loss: 0.7959 - val_accuracy: 0.6771\n",
            "Epoch 116/200\n",
            "72/72 [==============================] - 0s 3ms/step - loss: 0.4655 - accuracy: 0.7637 - val_loss: 0.6599 - val_accuracy: 0.7135\n",
            "Epoch 117/200\n",
            "72/72 [==============================] - 0s 2ms/step - loss: 0.4864 - accuracy: 0.7716 - val_loss: 0.6611 - val_accuracy: 0.7135\n",
            "Epoch 118/200\n",
            "72/72 [==============================] - 0s 2ms/step - loss: 0.4316 - accuracy: 0.8036 - val_loss: 0.6831 - val_accuracy: 0.7135\n",
            "Epoch 119/200\n",
            "72/72 [==============================] - 0s 2ms/step - loss: 0.4937 - accuracy: 0.7369 - val_loss: 0.6913 - val_accuracy: 0.7135\n",
            "Epoch 120/200\n",
            "72/72 [==============================] - 0s 2ms/step - loss: 0.4568 - accuracy: 0.7742 - val_loss: 0.6574 - val_accuracy: 0.6875\n",
            "Epoch 121/200\n",
            "72/72 [==============================] - 0s 2ms/step - loss: 0.4355 - accuracy: 0.7897 - val_loss: 0.6650 - val_accuracy: 0.7292\n",
            "Epoch 122/200\n",
            "72/72 [==============================] - 0s 2ms/step - loss: 0.4588 - accuracy: 0.7821 - val_loss: 0.6819 - val_accuracy: 0.6510\n",
            "Epoch 123/200\n",
            "72/72 [==============================] - 0s 2ms/step - loss: 0.4838 - accuracy: 0.7709 - val_loss: 0.6905 - val_accuracy: 0.7188\n",
            "Epoch 124/200\n",
            "72/72 [==============================] - 0s 2ms/step - loss: 0.4875 - accuracy: 0.7634 - val_loss: 0.6995 - val_accuracy: 0.6615\n",
            "Epoch 125/200\n",
            "72/72 [==============================] - 0s 2ms/step - loss: 0.4750 - accuracy: 0.7679 - val_loss: 0.6721 - val_accuracy: 0.6979\n",
            "Epoch 126/200\n",
            "72/72 [==============================] - 0s 2ms/step - loss: 0.5153 - accuracy: 0.7454 - val_loss: 0.7531 - val_accuracy: 0.6354\n",
            "Epoch 127/200\n",
            "72/72 [==============================] - 0s 2ms/step - loss: 0.4836 - accuracy: 0.7793 - val_loss: 0.6634 - val_accuracy: 0.6719\n",
            "Epoch 128/200\n",
            "72/72 [==============================] - 0s 2ms/step - loss: 0.4517 - accuracy: 0.7838 - val_loss: 0.6982 - val_accuracy: 0.6927\n",
            "Epoch 129/200\n",
            "72/72 [==============================] - 0s 2ms/step - loss: 0.4685 - accuracy: 0.7928 - val_loss: 0.6696 - val_accuracy: 0.6823\n",
            "Epoch 130/200\n",
            "72/72 [==============================] - 0s 2ms/step - loss: 0.4228 - accuracy: 0.8050 - val_loss: 0.7467 - val_accuracy: 0.7083\n",
            "Epoch 131/200\n",
            "72/72 [==============================] - 0s 2ms/step - loss: 0.4417 - accuracy: 0.7834 - val_loss: 0.6430 - val_accuracy: 0.7396\n",
            "Epoch 132/200\n",
            "72/72 [==============================] - 0s 2ms/step - loss: 0.4282 - accuracy: 0.7998 - val_loss: 0.6752 - val_accuracy: 0.6927\n",
            "Epoch 133/200\n",
            "72/72 [==============================] - 0s 2ms/step - loss: 0.4470 - accuracy: 0.7850 - val_loss: 0.7088 - val_accuracy: 0.6927\n",
            "Epoch 134/200\n",
            "72/72 [==============================] - 0s 2ms/step - loss: 0.4576 - accuracy: 0.7661 - val_loss: 0.6904 - val_accuracy: 0.7031\n",
            "Epoch 135/200\n",
            "72/72 [==============================] - 0s 2ms/step - loss: 0.4525 - accuracy: 0.8046 - val_loss: 0.7615 - val_accuracy: 0.6927\n",
            "Epoch 136/200\n",
            "72/72 [==============================] - 0s 2ms/step - loss: 0.4658 - accuracy: 0.8097 - val_loss: 0.7065 - val_accuracy: 0.7188\n",
            "Epoch 137/200\n",
            "72/72 [==============================] - 0s 3ms/step - loss: 0.4599 - accuracy: 0.7748 - val_loss: 0.6641 - val_accuracy: 0.7031\n",
            "Epoch 138/200\n",
            "72/72 [==============================] - 0s 2ms/step - loss: 0.4346 - accuracy: 0.7965 - val_loss: 0.6732 - val_accuracy: 0.7083\n",
            "Epoch 139/200\n",
            "72/72 [==============================] - 0s 2ms/step - loss: 0.4550 - accuracy: 0.7902 - val_loss: 0.6596 - val_accuracy: 0.7292\n",
            "Epoch 140/200\n",
            "72/72 [==============================] - 0s 2ms/step - loss: 0.4294 - accuracy: 0.7804 - val_loss: 0.6862 - val_accuracy: 0.6979\n",
            "Epoch 141/200\n",
            "72/72 [==============================] - 0s 3ms/step - loss: 0.4328 - accuracy: 0.7964 - val_loss: 0.6961 - val_accuracy: 0.7135\n",
            "Epoch 142/200\n",
            "72/72 [==============================] - 0s 2ms/step - loss: 0.4116 - accuracy: 0.8010 - val_loss: 0.6745 - val_accuracy: 0.7083\n",
            "Epoch 143/200\n",
            "72/72 [==============================] - 0s 2ms/step - loss: 0.4328 - accuracy: 0.8085 - val_loss: 0.6728 - val_accuracy: 0.7083\n",
            "Epoch 144/200\n",
            "72/72 [==============================] - 0s 2ms/step - loss: 0.4280 - accuracy: 0.7918 - val_loss: 0.7023 - val_accuracy: 0.6510\n",
            "Epoch 145/200\n",
            "72/72 [==============================] - 0s 2ms/step - loss: 0.4315 - accuracy: 0.8222 - val_loss: 0.7226 - val_accuracy: 0.7135\n",
            "Epoch 146/200\n",
            "72/72 [==============================] - 0s 2ms/step - loss: 0.4895 - accuracy: 0.7586 - val_loss: 0.6678 - val_accuracy: 0.7083\n",
            "Epoch 147/200\n",
            "72/72 [==============================] - 0s 2ms/step - loss: 0.4933 - accuracy: 0.7670 - val_loss: 0.6633 - val_accuracy: 0.7031\n",
            "Epoch 148/200\n",
            "72/72 [==============================] - 0s 3ms/step - loss: 0.4306 - accuracy: 0.7979 - val_loss: 0.6932 - val_accuracy: 0.7031\n",
            "Epoch 149/200\n",
            "72/72 [==============================] - 0s 2ms/step - loss: 0.4391 - accuracy: 0.7881 - val_loss: 0.7816 - val_accuracy: 0.6875\n",
            "Epoch 150/200\n",
            "72/72 [==============================] - 0s 2ms/step - loss: 0.5004 - accuracy: 0.7481 - val_loss: 0.6979 - val_accuracy: 0.6927\n",
            "Epoch 151/200\n",
            "72/72 [==============================] - 0s 2ms/step - loss: 0.4820 - accuracy: 0.7758 - val_loss: 0.7053 - val_accuracy: 0.6927\n",
            "Epoch 152/200\n",
            "72/72 [==============================] - 0s 2ms/step - loss: 0.4752 - accuracy: 0.7756 - val_loss: 0.7432 - val_accuracy: 0.6927\n",
            "Epoch 153/200\n",
            "72/72 [==============================] - 0s 2ms/step - loss: 0.5161 - accuracy: 0.7369 - val_loss: 0.7007 - val_accuracy: 0.7031\n",
            "Epoch 154/200\n",
            "72/72 [==============================] - 0s 3ms/step - loss: 0.4668 - accuracy: 0.7576 - val_loss: 0.7821 - val_accuracy: 0.6719\n",
            "Epoch 155/200\n",
            "72/72 [==============================] - 0s 2ms/step - loss: 0.3957 - accuracy: 0.8447 - val_loss: 0.7011 - val_accuracy: 0.6979\n",
            "Epoch 156/200\n",
            "72/72 [==============================] - 0s 2ms/step - loss: 0.4735 - accuracy: 0.7698 - val_loss: 0.7847 - val_accuracy: 0.7083\n",
            "Epoch 157/200\n",
            "72/72 [==============================] - 0s 3ms/step - loss: 0.4376 - accuracy: 0.7801 - val_loss: 0.6824 - val_accuracy: 0.7031\n",
            "Epoch 158/200\n",
            "72/72 [==============================] - 0s 3ms/step - loss: 0.4226 - accuracy: 0.7999 - val_loss: 0.6858 - val_accuracy: 0.7188\n",
            "Epoch 159/200\n",
            "72/72 [==============================] - 0s 2ms/step - loss: 0.4295 - accuracy: 0.8072 - val_loss: 0.6870 - val_accuracy: 0.6927\n",
            "Epoch 160/200\n",
            "72/72 [==============================] - 0s 3ms/step - loss: 0.4661 - accuracy: 0.7744 - val_loss: 0.7011 - val_accuracy: 0.6719\n",
            "Epoch 161/200\n",
            "72/72 [==============================] - 0s 2ms/step - loss: 0.4570 - accuracy: 0.7702 - val_loss: 0.8381 - val_accuracy: 0.6771\n",
            "Epoch 162/200\n",
            "72/72 [==============================] - 0s 2ms/step - loss: 0.4899 - accuracy: 0.7703 - val_loss: 0.7000 - val_accuracy: 0.7083\n",
            "Epoch 163/200\n",
            "72/72 [==============================] - 0s 2ms/step - loss: 0.4564 - accuracy: 0.7784 - val_loss: 0.6921 - val_accuracy: 0.6979\n",
            "Epoch 164/200\n",
            "72/72 [==============================] - 0s 2ms/step - loss: 0.4347 - accuracy: 0.7923 - val_loss: 0.7071 - val_accuracy: 0.6875\n",
            "Epoch 165/200\n",
            "72/72 [==============================] - 0s 2ms/step - loss: 0.4302 - accuracy: 0.8279 - val_loss: 0.6913 - val_accuracy: 0.7135\n",
            "Epoch 166/200\n",
            "72/72 [==============================] - 0s 2ms/step - loss: 0.4191 - accuracy: 0.7955 - val_loss: 0.6839 - val_accuracy: 0.7083\n",
            "Epoch 167/200\n",
            "72/72 [==============================] - 0s 2ms/step - loss: 0.4537 - accuracy: 0.7880 - val_loss: 0.6786 - val_accuracy: 0.7083\n",
            "Epoch 168/200\n",
            "72/72 [==============================] - 0s 3ms/step - loss: 0.4508 - accuracy: 0.7890 - val_loss: 0.7550 - val_accuracy: 0.6771\n",
            "Epoch 169/200\n",
            "72/72 [==============================] - 0s 2ms/step - loss: 0.4164 - accuracy: 0.8178 - val_loss: 0.6822 - val_accuracy: 0.6719\n",
            "Epoch 170/200\n",
            "72/72 [==============================] - 0s 2ms/step - loss: 0.4385 - accuracy: 0.7926 - val_loss: 0.6814 - val_accuracy: 0.7083\n",
            "Epoch 171/200\n",
            "72/72 [==============================] - 0s 2ms/step - loss: 0.4748 - accuracy: 0.7810 - val_loss: 0.6974 - val_accuracy: 0.6823\n",
            "Epoch 172/200\n",
            "72/72 [==============================] - 0s 2ms/step - loss: 0.4283 - accuracy: 0.7902 - val_loss: 0.6826 - val_accuracy: 0.7083\n",
            "Epoch 173/200\n",
            "72/72 [==============================] - 0s 3ms/step - loss: 0.4458 - accuracy: 0.7910 - val_loss: 0.6903 - val_accuracy: 0.6719\n",
            "Epoch 174/200\n",
            "72/72 [==============================] - 0s 2ms/step - loss: 0.4040 - accuracy: 0.7936 - val_loss: 0.7478 - val_accuracy: 0.6979\n",
            "Epoch 175/200\n",
            "72/72 [==============================] - 0s 2ms/step - loss: 0.4121 - accuracy: 0.8105 - val_loss: 0.6919 - val_accuracy: 0.6823\n",
            "Epoch 176/200\n",
            "72/72 [==============================] - 0s 2ms/step - loss: 0.4457 - accuracy: 0.7986 - val_loss: 0.7407 - val_accuracy: 0.6875\n",
            "Epoch 177/200\n",
            "72/72 [==============================] - 0s 2ms/step - loss: 0.4224 - accuracy: 0.8144 - val_loss: 0.7148 - val_accuracy: 0.7188\n",
            "Epoch 178/200\n",
            "72/72 [==============================] - 0s 2ms/step - loss: 0.4524 - accuracy: 0.7892 - val_loss: 0.7228 - val_accuracy: 0.6771\n",
            "Epoch 179/200\n",
            "72/72 [==============================] - 0s 3ms/step - loss: 0.4586 - accuracy: 0.7905 - val_loss: 0.7130 - val_accuracy: 0.7031\n",
            "Epoch 180/200\n",
            "72/72 [==============================] - 0s 2ms/step - loss: 0.4379 - accuracy: 0.7880 - val_loss: 0.7442 - val_accuracy: 0.6823\n",
            "Epoch 181/200\n",
            "72/72 [==============================] - 0s 3ms/step - loss: 0.4462 - accuracy: 0.7860 - val_loss: 0.7103 - val_accuracy: 0.6875\n",
            "Epoch 182/200\n",
            "72/72 [==============================] - 0s 2ms/step - loss: 0.4678 - accuracy: 0.7674 - val_loss: 0.6990 - val_accuracy: 0.7031\n",
            "Epoch 183/200\n",
            "72/72 [==============================] - 0s 3ms/step - loss: 0.3960 - accuracy: 0.8122 - val_loss: 0.7838 - val_accuracy: 0.6719\n",
            "Epoch 184/200\n",
            "72/72 [==============================] - 0s 2ms/step - loss: 0.4407 - accuracy: 0.8072 - val_loss: 0.6950 - val_accuracy: 0.7031\n",
            "Epoch 185/200\n",
            "72/72 [==============================] - 0s 2ms/step - loss: 0.4087 - accuracy: 0.8406 - val_loss: 0.7499 - val_accuracy: 0.6875\n",
            "Epoch 186/200\n",
            "72/72 [==============================] - 0s 2ms/step - loss: 0.4210 - accuracy: 0.8061 - val_loss: 0.7130 - val_accuracy: 0.7083\n",
            "Epoch 187/200\n",
            "72/72 [==============================] - 0s 2ms/step - loss: 0.4037 - accuracy: 0.8253 - val_loss: 0.6908 - val_accuracy: 0.7031\n",
            "Epoch 188/200\n",
            "72/72 [==============================] - 0s 2ms/step - loss: 0.3849 - accuracy: 0.8182 - val_loss: 0.7589 - val_accuracy: 0.6927\n",
            "Epoch 189/200\n",
            "72/72 [==============================] - 0s 3ms/step - loss: 0.4541 - accuracy: 0.7979 - val_loss: 0.7161 - val_accuracy: 0.7240\n",
            "Epoch 190/200\n",
            "72/72 [==============================] - 0s 2ms/step - loss: 0.4425 - accuracy: 0.7967 - val_loss: 0.7135 - val_accuracy: 0.7188\n",
            "Epoch 191/200\n",
            "72/72 [==============================] - 0s 2ms/step - loss: 0.4308 - accuracy: 0.7902 - val_loss: 0.7160 - val_accuracy: 0.7240\n",
            "Epoch 192/200\n",
            "72/72 [==============================] - 0s 2ms/step - loss: 0.4236 - accuracy: 0.7657 - val_loss: 0.7106 - val_accuracy: 0.6927\n",
            "Epoch 193/200\n",
            "72/72 [==============================] - 0s 2ms/step - loss: 0.4491 - accuracy: 0.8132 - val_loss: 0.7214 - val_accuracy: 0.6823\n",
            "Epoch 194/200\n",
            "72/72 [==============================] - 0s 2ms/step - loss: 0.4216 - accuracy: 0.8074 - val_loss: 0.7139 - val_accuracy: 0.6927\n",
            "Epoch 195/200\n",
            "72/72 [==============================] - 0s 2ms/step - loss: 0.4492 - accuracy: 0.7879 - val_loss: 0.7381 - val_accuracy: 0.6667\n",
            "Epoch 196/200\n",
            "72/72 [==============================] - 0s 2ms/step - loss: 0.4384 - accuracy: 0.7593 - val_loss: 0.7404 - val_accuracy: 0.6615\n",
            "Epoch 197/200\n",
            "72/72 [==============================] - 0s 2ms/step - loss: 0.4236 - accuracy: 0.8019 - val_loss: 0.7276 - val_accuracy: 0.6771\n",
            "Epoch 198/200\n",
            "72/72 [==============================] - 0s 2ms/step - loss: 0.4045 - accuracy: 0.8219 - val_loss: 0.7332 - val_accuracy: 0.6510\n",
            "Epoch 199/200\n",
            "72/72 [==============================] - 0s 2ms/step - loss: 0.4562 - accuracy: 0.7676 - val_loss: 0.7215 - val_accuracy: 0.7188\n",
            "Epoch 200/200\n",
            "72/72 [==============================] - 0s 2ms/step - loss: 0.4059 - accuracy: 0.8091 - val_loss: 0.7261 - val_accuracy: 0.7188\n"
          ],
          "name": "stdout"
        }
      ]
    },
    {
      "cell_type": "markdown",
      "metadata": {
        "id": "t0kqMCg_lrT6"
      },
      "source": [
        "## Função Erro/loss"
      ]
    },
    {
      "cell_type": "code",
      "metadata": {
        "colab": {
          "base_uri": "https://localhost:8080/"
        },
        "id": "9y1el1TAkon8",
        "outputId": "176fe69f-4f9f-4d1e-bad3-6c28c9a72442"
      },
      "source": [
        "precisao = model.evaluate(X_test, y_test, verbose=0)\n",
        "print(\"Função de erro/loss = %.4f\" % precisao[0])"
      ],
      "execution_count": 7,
      "outputs": [
        {
          "output_type": "stream",
          "text": [
            "Função de erro/loss = 0.7261\n"
          ],
          "name": "stdout"
        }
      ]
    },
    {
      "cell_type": "markdown",
      "metadata": {
        "id": "uyKm2az5rK1l"
      },
      "source": [
        "## Análise da função loss (erro/perda)"
      ]
    },
    {
      "cell_type": "code",
      "metadata": {
        "id": "sAa0vfeorRu1",
        "colab": {
          "base_uri": "https://localhost:8080/",
          "height": 297
        },
        "outputId": "2cdfecb6-247d-4897-ccdb-ccd158966921"
      },
      "source": [
        "import matplotlib.pyplot as plt\n",
        "plt.plot(history.history['loss'])\n",
        "plt.plot(history.history['val_loss'], '')\n",
        "plt.xlabel(\"Épocas\")\n",
        "plt.ylabel('Loss')\n",
        "plt.title('Função de erro/loss durante o treinamento')\n",
        "plt.legend(['loss', 'val_loss'])\n",
        "plt.show()"
      ],
      "execution_count": 8,
      "outputs": [
        {
          "output_type": "display_data",
          "data": {
            "image/png": "[encoded data removed]",
            "text/plain": [
              "<Figure size 432x288 with 1 Axes>"
            ]
          },
          "metadata": {
            "tags": [],
            "needs_background": "light"
          }
        }
      ]
    },
    {
      "cell_type": "markdown",
      "metadata": {
        "id": "2WAubPVjrbaq"
      },
      "source": [
        "## Análise da métrica de desempenho (acurácia)"
      ]
    },
    {
      "cell_type": "code",
      "metadata": {
        "id": "DDwxEB_EsBLz",
        "colab": {
          "base_uri": "https://localhost:8080/",
          "height": 295
        },
        "outputId": "261103f1-6b4f-4cf8-9fa3-4b8d5e256691"
      },
      "source": [
        "plt.plot(history.history['accuracy'])\n",
        "plt.plot(history.history['val_accuracy'], '')\n",
        "plt.xlabel(\"Epochs\")\n",
        "plt.ylabel('accuracy')\n",
        "plt.title('Change of accuracy over Epochs')\n",
        "plt.legend(['accuracy', 'val_accuracy'])\n",
        "plt.show()"
      ],
      "execution_count": 9,
      "outputs": [
        {
          "output_type": "display_data",
          "data": {
            "image/png": "[encoded data removed]",
            "text/plain": [
              "<Figure size 432x288 with 1 Axes>"
            ]
          },
          "metadata": {
            "tags": [],
            "needs_background": "light"
          }
        }
      ]
    }
  ]
}