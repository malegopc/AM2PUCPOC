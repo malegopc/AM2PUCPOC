{
  "nbformat": 4,
  "nbformat_minor": 0,
  "metadata": {
    "kernelspec": {
      "display_name": "Python 3",
      "language": "python",
      "name": "python3"
    },
    "language_info": {
      "codemirror_mode": {
        "name": "ipython",
        "version": 3
      },
      "file_extension": ".py",
      "mimetype": "text/x-python",
      "name": "python",
      "nbconvert_exporter": "python",
      "pygments_lexer": "ipython3",
      "version": "3.7.3"
    },
    "colab": {
      "name": "Predicao_politica.ipynb",
      "provenance": [],
      "collapsed_sections": []
    }
  },
  "cells": [
    {
      "cell_type": "markdown",
      "metadata": {
        "id": "Z7K0SeDgzjL2"
      },
      "source": [
        "---\n",
        "\n",
        "\n",
        "\n",
        "---\n",
        "\n",
        "# Predição de partido político baseado em votações\n",
        "\n",
        "Este notebook implementa uma rede neural para predizer (descobrir) qual partido político de um congressista americano com base nos seus votos.\n",
        "\n",
        "Utiliza-se um conjunto de dados públicos de como os congressistas dos EUA votaram em 17 questões diferentes. \n",
        "\n",
        "Nos Estados Unidos há dois principais partidos políticos: \"Democrata\" e \"Republicano\". Nos tempos modernos, eles representam ideologias progressistas e conservadoras, respectivamente.\n",
        "\n",
        "\n",
        "---\n",
        "\n",
        "\n",
        "\n",
        "---"
      ]
    },
    {
      "cell_type": "markdown",
      "metadata": {
        "id": "PcWx36BdDBX0"
      },
      "source": [
        "## Conjunto de dados\n",
        "\n",
        "Arquivo: **votes_data.txt**:\n",
        "\n",
        "1. Banco de dados de registros de votação do Congresso dos Estados Unidos de 1984\n",
        "\n",
        "2. Informações da fonte:\n",
        "    * Fonte: Congressional Quarterly Almanac, 98º Congresso,\n",
        "                 2ª sessão 1984, Volume XL: Congressional Quarterly Inc.\n",
        "                 Washington, D.C., 1985.\n",
        "    * Doador: Jeff Schlimmer (Jeffrey.Schlimmer@a.gp.cs.cmu.edu)\n",
        "    * Data: 27 de abril de 1987\n",
        "\n",
        "3. Uso anterior\n",
        "   - Publicações\n",
        "     1. Schlimmer, J. C. (1987). Aquisição de conceito através de\n",
        "        ajuste representacional. Tese de doutorado, Departamento de\n",
        "        Informação e Ciência da Computação, Universidade da Califórnia, Irvine, CA.\n",
        "        - Resultados: cerca de 90% -95% de precisão parece ser a assíntota de STAGGER\n",
        "        - Atributo previsto: afiliação partidária (2 classes)\n",
        "\n",
        "4. Número de instâncias: 435 (267 democratas, 168 republicanos)\n",
        "\n",
        "5. Número de atributos: 16 + nome da classe/partido = 17 (todos com valor booleano)\n",
        "\n",
        "6. Informação de Atributo:\n",
        "   1. Nome da classe: (democrata, republicano)\n",
        "   2. Crianças deficientes: (y, n)\n",
        "   3. Compartilhamento de custos do projeto de água: (y, n)\n",
        "   4. Resolução de adoção do orçamento: (y, n)\n",
        "   5. Congelamento de honorários médicos: (y, n)\n",
        "   6. Ajuda El Salvador: (y, n)\n",
        "   7. Grupos religiosos nas escolas: (y, n)\n",
        "   8. Proibição de teste anti-satélite: (y, n)\n",
        "   9. Ajuda para contras nicaraguenses: (y, n)\n",
        "  10. Míssil Mx: (y, n)\n",
        "  11. Imigração: (y, n)\n",
        "  12. Corte de corporação de combustíveis Syn: (y, n)\n",
        "  13. Gastos com educação: (y, n)\n",
        "  14. Super fundo direto: (y, n)\n",
        "  15. Crime: (y, n)\n",
        "  16. Exportações com isenção de impostos: (y, n)\n",
        "  17. Exportação África do Sul: (y, n)\n",
        "\n"
      ]
    },
    {
      "cell_type": "markdown",
      "metadata": {
        "id": "LWXwGCqvIwgN"
      },
      "source": [
        "## Leitura e preparação dos dados\n",
        "\n",
        "Vamos começar importando o arquivo CSV bruto usando o Pandas e fazer um DataFrame dele inserindo rótulos (nomes) em cada coluna (atributo)"
      ]
    },
    {
      "cell_type": "code",
      "metadata": {
        "scrolled": true,
        "colab": {
          "base_uri": "https://localhost:8080/",
          "height": 411
        },
        "id": "LM6AT7tPzjL6",
        "outputId": "4c652282-22bc-404d-ea9e-4ab2f4155498"
      },
      "source": [
        "import pandas as pd\n",
        "\n",
        "# Clone do repositório de dados do GitHub\n",
        "!git clone https://github.com/malegopc/AM2PUCPOC\n",
        "# cria vetor com os rótulos de cada atributo\n",
        "nomes_atributos = ['Partido', 'Crianças deficientes', 'Compartilhamento de custos do projeto de água',\n",
        "                    'Resolução de adoção do orçamento', 'Congelamento de honorários médicos',\n",
        "                    'Ajuda El Salvador', 'Grupos religiosos nas escolas',\n",
        "                    'Proibição de teste anti-satélite', 'Ajuda a contras nicaraguenses',\n",
        "                    'Míssil MX', 'Imigração', 'Corte de corporação de combustíveis Syn',\n",
        "                    'Gastos com educação', ' Super fundo direto', 'Crime',\n",
        "                    'Exportações isentas de impostos', 'Exportação África do Sul']\n",
        "\n",
        "# lê arquivo de dados, atribue NaN para dados faltantes e rótulos em cada coluna\n",
        "dados_votacao = pd.read_csv('/content/AM2PUCPOC/Datasets/Predicao_Politica/votes_data.txt', na_values=['?'], names = nomes_atributos)\n",
        "# imprime as 5 primeiras linha dos dados montados\n",
        "dados_votacao.head()"
      ],
      "execution_count": 1,
      "outputs": [
        {
          "output_type": "stream",
          "text": [
            "Cloning into 'AM2PUCPOC'...\n",
            "remote: Enumerating objects: 35, done.\u001b[K\n",
            "remote: Counting objects: 100% (35/35), done.\u001b[K\n",
            "remote: Compressing objects: 100% (31/31), done.\u001b[K\n",
            "remote: Total 283 (delta 11), reused 0 (delta 0), pack-reused 248\u001b[K\n",
            "Receiving objects: 100% (283/283), 4.08 MiB | 9.52 MiB/s, done.\n",
            "Resolving deltas: 100% (77/77), done.\n"
          ],
          "name": "stdout"
        },
        {
          "output_type": "execute_result",
          "data": {
            "text/html": [
              "<div>\n",
              "<style scoped>\n",
              "    .dataframe tbody tr th:only-of-type {\n",
              "        vertical-align: middle;\n",
              "    }\n",
              "\n",
              "    .dataframe tbody tr th {\n",
              "        vertical-align: top;\n",
              "    }\n",
              "\n",
              "    .dataframe thead th {\n",
              "        text-align: right;\n",
              "    }\n",
              "</style>\n",
              "<table border=\"1\" class=\"dataframe\">\n",
              "  <thead>\n",
              "    <tr style=\"text-align: right;\">\n",
              "      <th></th>\n",
              "      <th>Partido</th>\n",
              "      <th>Crianças deficientes</th>\n",
              "      <th>Compartilhamento de custos do projeto de água</th>\n",
              "      <th>Resolução de adoção do orçamento</th>\n",
              "      <th>Congelamento de honorários médicos</th>\n",
              "      <th>Ajuda El Salvador</th>\n",
              "      <th>Grupos religiosos nas escolas</th>\n",
              "      <th>Proibição de teste anti-satélite</th>\n",
              "      <th>Ajuda a contras nicaraguenses</th>\n",
              "      <th>Míssil MX</th>\n",
              "      <th>Imigração</th>\n",
              "      <th>Corte de corporação de combustíveis Syn</th>\n",
              "      <th>Gastos com educação</th>\n",
              "      <th>Super fundo direto</th>\n",
              "      <th>Crime</th>\n",
              "      <th>Exportações isentas de impostos</th>\n",
              "      <th>Exportação África do Sul</th>\n",
              "    </tr>\n",
              "  </thead>\n",
              "  <tbody>\n",
              "    <tr>\n",
              "      <th>0</th>\n",
              "      <td>republican</td>\n",
              "      <td>n</td>\n",
              "      <td>y</td>\n",
              "      <td>n</td>\n",
              "      <td>y</td>\n",
              "      <td>y</td>\n",
              "      <td>y</td>\n",
              "      <td>n</td>\n",
              "      <td>n</td>\n",
              "      <td>n</td>\n",
              "      <td>y</td>\n",
              "      <td>NaN</td>\n",
              "      <td>y</td>\n",
              "      <td>y</td>\n",
              "      <td>y</td>\n",
              "      <td>n</td>\n",
              "      <td>y</td>\n",
              "    </tr>\n",
              "    <tr>\n",
              "      <th>1</th>\n",
              "      <td>republican</td>\n",
              "      <td>n</td>\n",
              "      <td>y</td>\n",
              "      <td>n</td>\n",
              "      <td>y</td>\n",
              "      <td>y</td>\n",
              "      <td>y</td>\n",
              "      <td>n</td>\n",
              "      <td>n</td>\n",
              "      <td>n</td>\n",
              "      <td>n</td>\n",
              "      <td>n</td>\n",
              "      <td>y</td>\n",
              "      <td>y</td>\n",
              "      <td>y</td>\n",
              "      <td>n</td>\n",
              "      <td>NaN</td>\n",
              "    </tr>\n",
              "    <tr>\n",
              "      <th>2</th>\n",
              "      <td>democrat</td>\n",
              "      <td>NaN</td>\n",
              "      <td>y</td>\n",
              "      <td>y</td>\n",
              "      <td>NaN</td>\n",
              "      <td>y</td>\n",
              "      <td>y</td>\n",
              "      <td>n</td>\n",
              "      <td>n</td>\n",
              "      <td>n</td>\n",
              "      <td>n</td>\n",
              "      <td>y</td>\n",
              "      <td>n</td>\n",
              "      <td>y</td>\n",
              "      <td>y</td>\n",
              "      <td>n</td>\n",
              "      <td>n</td>\n",
              "    </tr>\n",
              "    <tr>\n",
              "      <th>3</th>\n",
              "      <td>democrat</td>\n",
              "      <td>n</td>\n",
              "      <td>y</td>\n",
              "      <td>y</td>\n",
              "      <td>n</td>\n",
              "      <td>NaN</td>\n",
              "      <td>y</td>\n",
              "      <td>n</td>\n",
              "      <td>n</td>\n",
              "      <td>n</td>\n",
              "      <td>n</td>\n",
              "      <td>y</td>\n",
              "      <td>n</td>\n",
              "      <td>y</td>\n",
              "      <td>n</td>\n",
              "      <td>n</td>\n",
              "      <td>y</td>\n",
              "    </tr>\n",
              "    <tr>\n",
              "      <th>4</th>\n",
              "      <td>democrat</td>\n",
              "      <td>y</td>\n",
              "      <td>y</td>\n",
              "      <td>y</td>\n",
              "      <td>n</td>\n",
              "      <td>y</td>\n",
              "      <td>y</td>\n",
              "      <td>n</td>\n",
              "      <td>n</td>\n",
              "      <td>n</td>\n",
              "      <td>n</td>\n",
              "      <td>y</td>\n",
              "      <td>NaN</td>\n",
              "      <td>y</td>\n",
              "      <td>y</td>\n",
              "      <td>y</td>\n",
              "      <td>y</td>\n",
              "    </tr>\n",
              "  </tbody>\n",
              "</table>\n",
              "</div>"
            ],
            "text/plain": [
              "      Partido  ... Exportação África do Sul\n",
              "0  republican  ...                        y\n",
              "1  republican  ...                      NaN\n",
              "2    democrat  ...                        n\n",
              "3    democrat  ...                        y\n",
              "4    democrat  ...                        y\n",
              "\n",
              "[5 rows x 17 columns]"
            ]
          },
          "metadata": {
            "tags": []
          },
          "execution_count": 1
        }
      ]
    },
    {
      "cell_type": "markdown",
      "metadata": {
        "id": "HFsjqPh-zjL-"
      },
      "source": [
        "## Análise (estatística) descritiva dos dados\n",
        "\n",
        "Análise descritiva dos dados (resumo)."
      ]
    },
    {
      "cell_type": "code",
      "metadata": {
        "colab": {
          "base_uri": "https://localhost:8080/",
          "height": 261
        },
        "id": "d02W1HKazjL-",
        "outputId": "5263516e-cd9a-44d8-c164-0b2901c5640a"
      },
      "source": [
        "dados_votacao.describe()"
      ],
      "execution_count": 2,
      "outputs": [
        {
          "output_type": "execute_result",
          "data": {
            "text/html": [
              "<div>\n",
              "<style scoped>\n",
              "    .dataframe tbody tr th:only-of-type {\n",
              "        vertical-align: middle;\n",
              "    }\n",
              "\n",
              "    .dataframe tbody tr th {\n",
              "        vertical-align: top;\n",
              "    }\n",
              "\n",
              "    .dataframe thead th {\n",
              "        text-align: right;\n",
              "    }\n",
              "</style>\n",
              "<table border=\"1\" class=\"dataframe\">\n",
              "  <thead>\n",
              "    <tr style=\"text-align: right;\">\n",
              "      <th></th>\n",
              "      <th>Partido</th>\n",
              "      <th>Crianças deficientes</th>\n",
              "      <th>Compartilhamento de custos do projeto de água</th>\n",
              "      <th>Resolução de adoção do orçamento</th>\n",
              "      <th>Congelamento de honorários médicos</th>\n",
              "      <th>Ajuda El Salvador</th>\n",
              "      <th>Grupos religiosos nas escolas</th>\n",
              "      <th>Proibição de teste anti-satélite</th>\n",
              "      <th>Ajuda a contras nicaraguenses</th>\n",
              "      <th>Míssil MX</th>\n",
              "      <th>Imigração</th>\n",
              "      <th>Corte de corporação de combustíveis Syn</th>\n",
              "      <th>Gastos com educação</th>\n",
              "      <th>Super fundo direto</th>\n",
              "      <th>Crime</th>\n",
              "      <th>Exportações isentas de impostos</th>\n",
              "      <th>Exportação África do Sul</th>\n",
              "    </tr>\n",
              "  </thead>\n",
              "  <tbody>\n",
              "    <tr>\n",
              "      <th>count</th>\n",
              "      <td>435</td>\n",
              "      <td>423</td>\n",
              "      <td>387</td>\n",
              "      <td>424</td>\n",
              "      <td>424</td>\n",
              "      <td>420</td>\n",
              "      <td>424</td>\n",
              "      <td>421</td>\n",
              "      <td>420</td>\n",
              "      <td>413</td>\n",
              "      <td>428</td>\n",
              "      <td>414</td>\n",
              "      <td>404</td>\n",
              "      <td>410</td>\n",
              "      <td>418</td>\n",
              "      <td>407</td>\n",
              "      <td>331</td>\n",
              "    </tr>\n",
              "    <tr>\n",
              "      <th>unique</th>\n",
              "      <td>2</td>\n",
              "      <td>2</td>\n",
              "      <td>2</td>\n",
              "      <td>2</td>\n",
              "      <td>2</td>\n",
              "      <td>2</td>\n",
              "      <td>2</td>\n",
              "      <td>2</td>\n",
              "      <td>2</td>\n",
              "      <td>2</td>\n",
              "      <td>2</td>\n",
              "      <td>2</td>\n",
              "      <td>2</td>\n",
              "      <td>2</td>\n",
              "      <td>2</td>\n",
              "      <td>2</td>\n",
              "      <td>2</td>\n",
              "    </tr>\n",
              "    <tr>\n",
              "      <th>top</th>\n",
              "      <td>democrat</td>\n",
              "      <td>n</td>\n",
              "      <td>y</td>\n",
              "      <td>y</td>\n",
              "      <td>n</td>\n",
              "      <td>y</td>\n",
              "      <td>y</td>\n",
              "      <td>y</td>\n",
              "      <td>y</td>\n",
              "      <td>y</td>\n",
              "      <td>y</td>\n",
              "      <td>n</td>\n",
              "      <td>n</td>\n",
              "      <td>y</td>\n",
              "      <td>y</td>\n",
              "      <td>n</td>\n",
              "      <td>y</td>\n",
              "    </tr>\n",
              "    <tr>\n",
              "      <th>freq</th>\n",
              "      <td>267</td>\n",
              "      <td>236</td>\n",
              "      <td>195</td>\n",
              "      <td>253</td>\n",
              "      <td>247</td>\n",
              "      <td>212</td>\n",
              "      <td>272</td>\n",
              "      <td>239</td>\n",
              "      <td>242</td>\n",
              "      <td>207</td>\n",
              "      <td>216</td>\n",
              "      <td>264</td>\n",
              "      <td>233</td>\n",
              "      <td>209</td>\n",
              "      <td>248</td>\n",
              "      <td>233</td>\n",
              "      <td>269</td>\n",
              "    </tr>\n",
              "  </tbody>\n",
              "</table>\n",
              "</div>"
            ],
            "text/plain": [
              "         Partido  ... Exportação África do Sul\n",
              "count        435  ...                      331\n",
              "unique         2  ...                        2\n",
              "top     democrat  ...                        y\n",
              "freq         267  ...                      269\n",
              "\n",
              "[4 rows x 17 columns]"
            ]
          },
          "metadata": {
            "tags": []
          },
          "execution_count": 2
        }
      ]
    },
    {
      "cell_type": "markdown",
      "metadata": {
        "id": "qW6o_Dn0mB-E"
      },
      "source": [
        "## Número de instâncias"
      ]
    },
    {
      "cell_type": "code",
      "metadata": {
        "colab": {
          "base_uri": "https://localhost:8080/"
        },
        "id": "U9TOyn0Pj3tu",
        "outputId": "71647e2c-c66e-40ba-b25d-c11fbdb2b933"
      },
      "source": [
        "len(dados_votacao)"
      ],
      "execution_count": 3,
      "outputs": [
        {
          "output_type": "execute_result",
          "data": {
            "text/plain": [
              "435"
            ]
          },
          "metadata": {
            "tags": []
          },
          "execution_count": 3
        }
      ]
    },
    {
      "cell_type": "markdown",
      "metadata": {
        "id": "HVm9d_FmzjL_"
      },
      "source": [
        "## Eliminação de dados ausentes \n",
        "\n",
        "Alguns políticos se abstiveram em algumas votações ou simplesmente não estavam presentes no momento da votação. Para contornar esse problema vamos simplesmente eliminar as linhas com dados ausentes para mantê-lo simples, mas na prática é importante ter certeza de que isso não introduziu nenhum tipo de viés em sua análise (se uma parte se abstiver mais do que outra, isso poderia ser problemático)\n"
      ]
    },
    {
      "cell_type": "code",
      "metadata": {
        "colab": {
          "base_uri": "https://localhost:8080/",
          "height": 261
        },
        "id": "c6gfguVAzjL_",
        "outputId": "586fb8a8-0e2f-48be-c3e9-fc3f80df468c"
      },
      "source": [
        "# Remove dados faltantes na própria variável \n",
        "dados_votacao.dropna(inplace=True)\n",
        "dados_votacao.describe()"
      ],
      "execution_count": 4,
      "outputs": [
        {
          "output_type": "execute_result",
          "data": {
            "text/html": [
              "<div>\n",
              "<style scoped>\n",
              "    .dataframe tbody tr th:only-of-type {\n",
              "        vertical-align: middle;\n",
              "    }\n",
              "\n",
              "    .dataframe tbody tr th {\n",
              "        vertical-align: top;\n",
              "    }\n",
              "\n",
              "    .dataframe thead th {\n",
              "        text-align: right;\n",
              "    }\n",
              "</style>\n",
              "<table border=\"1\" class=\"dataframe\">\n",
              "  <thead>\n",
              "    <tr style=\"text-align: right;\">\n",
              "      <th></th>\n",
              "      <th>Partido</th>\n",
              "      <th>Crianças deficientes</th>\n",
              "      <th>Compartilhamento de custos do projeto de água</th>\n",
              "      <th>Resolução de adoção do orçamento</th>\n",
              "      <th>Congelamento de honorários médicos</th>\n",
              "      <th>Ajuda El Salvador</th>\n",
              "      <th>Grupos religiosos nas escolas</th>\n",
              "      <th>Proibição de teste anti-satélite</th>\n",
              "      <th>Ajuda a contras nicaraguenses</th>\n",
              "      <th>Míssil MX</th>\n",
              "      <th>Imigração</th>\n",
              "      <th>Corte de corporação de combustíveis Syn</th>\n",
              "      <th>Gastos com educação</th>\n",
              "      <th>Super fundo direto</th>\n",
              "      <th>Crime</th>\n",
              "      <th>Exportações isentas de impostos</th>\n",
              "      <th>Exportação África do Sul</th>\n",
              "    </tr>\n",
              "  </thead>\n",
              "  <tbody>\n",
              "    <tr>\n",
              "      <th>count</th>\n",
              "      <td>232</td>\n",
              "      <td>232</td>\n",
              "      <td>232</td>\n",
              "      <td>232</td>\n",
              "      <td>232</td>\n",
              "      <td>232</td>\n",
              "      <td>232</td>\n",
              "      <td>232</td>\n",
              "      <td>232</td>\n",
              "      <td>232</td>\n",
              "      <td>232</td>\n",
              "      <td>232</td>\n",
              "      <td>232</td>\n",
              "      <td>232</td>\n",
              "      <td>232</td>\n",
              "      <td>232</td>\n",
              "      <td>232</td>\n",
              "    </tr>\n",
              "    <tr>\n",
              "      <th>unique</th>\n",
              "      <td>2</td>\n",
              "      <td>2</td>\n",
              "      <td>2</td>\n",
              "      <td>2</td>\n",
              "      <td>2</td>\n",
              "      <td>2</td>\n",
              "      <td>2</td>\n",
              "      <td>2</td>\n",
              "      <td>2</td>\n",
              "      <td>2</td>\n",
              "      <td>2</td>\n",
              "      <td>2</td>\n",
              "      <td>2</td>\n",
              "      <td>2</td>\n",
              "      <td>2</td>\n",
              "      <td>2</td>\n",
              "      <td>2</td>\n",
              "    </tr>\n",
              "    <tr>\n",
              "      <th>top</th>\n",
              "      <td>democrat</td>\n",
              "      <td>n</td>\n",
              "      <td>n</td>\n",
              "      <td>y</td>\n",
              "      <td>n</td>\n",
              "      <td>y</td>\n",
              "      <td>y</td>\n",
              "      <td>y</td>\n",
              "      <td>y</td>\n",
              "      <td>n</td>\n",
              "      <td>y</td>\n",
              "      <td>n</td>\n",
              "      <td>n</td>\n",
              "      <td>y</td>\n",
              "      <td>y</td>\n",
              "      <td>n</td>\n",
              "      <td>y</td>\n",
              "    </tr>\n",
              "    <tr>\n",
              "      <th>freq</th>\n",
              "      <td>124</td>\n",
              "      <td>136</td>\n",
              "      <td>125</td>\n",
              "      <td>123</td>\n",
              "      <td>119</td>\n",
              "      <td>128</td>\n",
              "      <td>149</td>\n",
              "      <td>124</td>\n",
              "      <td>119</td>\n",
              "      <td>119</td>\n",
              "      <td>128</td>\n",
              "      <td>152</td>\n",
              "      <td>124</td>\n",
              "      <td>127</td>\n",
              "      <td>149</td>\n",
              "      <td>146</td>\n",
              "      <td>189</td>\n",
              "    </tr>\n",
              "  </tbody>\n",
              "</table>\n",
              "</div>"
            ],
            "text/plain": [
              "         Partido  ... Exportação África do Sul\n",
              "count        232  ...                      232\n",
              "unique         2  ...                        2\n",
              "top     democrat  ...                        y\n",
              "freq         124  ...                      189\n",
              "\n",
              "[4 rows x 17 columns]"
            ]
          },
          "metadata": {
            "tags": []
          },
          "execution_count": 4
        }
      ]
    },
    {
      "cell_type": "markdown",
      "metadata": {
        "id": "QzU81rWymGty"
      },
      "source": [
        "## Número de instâncias após eliminação de dados faltantes"
      ]
    },
    {
      "cell_type": "code",
      "metadata": {
        "colab": {
          "base_uri": "https://localhost:8080/"
        },
        "id": "iZbrJd0amTG7",
        "outputId": "e462b251-94cf-42ff-de5c-9cd93d77c3e7"
      },
      "source": [
        "len(dados_votacao)"
      ],
      "execution_count": 5,
      "outputs": [
        {
          "output_type": "execute_result",
          "data": {
            "text/plain": [
              "232"
            ]
          },
          "metadata": {
            "tags": []
          },
          "execution_count": 5
        }
      ]
    },
    {
      "cell_type": "markdown",
      "metadata": {
        "id": "f0ziTMDEzjMA"
      },
      "source": [
        "## Transforma dados categóricos (y e n) em números (1 e 0) "
      ]
    },
    {
      "cell_type": "code",
      "metadata": {
        "colab": {
          "base_uri": "https://localhost:8080/",
          "height": 292
        },
        "id": "IE4ekFOTzjMA",
        "outputId": "6a845f2b-e4e0-4b4c-9ada-380451898d96"
      },
      "source": [
        "dados_votacao.replace(('y', 'n'), (1, 0), inplace=True)\n",
        "dados_votacao.replace(('democrat', 'republican'), (1, 0), inplace=True)\n",
        "dados_votacao.head()"
      ],
      "execution_count": 6,
      "outputs": [
        {
          "output_type": "execute_result",
          "data": {
            "text/html": [
              "<div>\n",
              "<style scoped>\n",
              "    .dataframe tbody tr th:only-of-type {\n",
              "        vertical-align: middle;\n",
              "    }\n",
              "\n",
              "    .dataframe tbody tr th {\n",
              "        vertical-align: top;\n",
              "    }\n",
              "\n",
              "    .dataframe thead th {\n",
              "        text-align: right;\n",
              "    }\n",
              "</style>\n",
              "<table border=\"1\" class=\"dataframe\">\n",
              "  <thead>\n",
              "    <tr style=\"text-align: right;\">\n",
              "      <th></th>\n",
              "      <th>Partido</th>\n",
              "      <th>Crianças deficientes</th>\n",
              "      <th>Compartilhamento de custos do projeto de água</th>\n",
              "      <th>Resolução de adoção do orçamento</th>\n",
              "      <th>Congelamento de honorários médicos</th>\n",
              "      <th>Ajuda El Salvador</th>\n",
              "      <th>Grupos religiosos nas escolas</th>\n",
              "      <th>Proibição de teste anti-satélite</th>\n",
              "      <th>Ajuda a contras nicaraguenses</th>\n",
              "      <th>Míssil MX</th>\n",
              "      <th>Imigração</th>\n",
              "      <th>Corte de corporação de combustíveis Syn</th>\n",
              "      <th>Gastos com educação</th>\n",
              "      <th>Super fundo direto</th>\n",
              "      <th>Crime</th>\n",
              "      <th>Exportações isentas de impostos</th>\n",
              "      <th>Exportação África do Sul</th>\n",
              "    </tr>\n",
              "  </thead>\n",
              "  <tbody>\n",
              "    <tr>\n",
              "      <th>5</th>\n",
              "      <td>1</td>\n",
              "      <td>0</td>\n",
              "      <td>1</td>\n",
              "      <td>1</td>\n",
              "      <td>0</td>\n",
              "      <td>1</td>\n",
              "      <td>1</td>\n",
              "      <td>0</td>\n",
              "      <td>0</td>\n",
              "      <td>0</td>\n",
              "      <td>0</td>\n",
              "      <td>0</td>\n",
              "      <td>0</td>\n",
              "      <td>1</td>\n",
              "      <td>1</td>\n",
              "      <td>1</td>\n",
              "      <td>1</td>\n",
              "    </tr>\n",
              "    <tr>\n",
              "      <th>8</th>\n",
              "      <td>0</td>\n",
              "      <td>0</td>\n",
              "      <td>1</td>\n",
              "      <td>0</td>\n",
              "      <td>1</td>\n",
              "      <td>1</td>\n",
              "      <td>1</td>\n",
              "      <td>0</td>\n",
              "      <td>0</td>\n",
              "      <td>0</td>\n",
              "      <td>0</td>\n",
              "      <td>0</td>\n",
              "      <td>1</td>\n",
              "      <td>1</td>\n",
              "      <td>1</td>\n",
              "      <td>0</td>\n",
              "      <td>1</td>\n",
              "    </tr>\n",
              "    <tr>\n",
              "      <th>19</th>\n",
              "      <td>1</td>\n",
              "      <td>1</td>\n",
              "      <td>1</td>\n",
              "      <td>1</td>\n",
              "      <td>0</td>\n",
              "      <td>0</td>\n",
              "      <td>0</td>\n",
              "      <td>1</td>\n",
              "      <td>1</td>\n",
              "      <td>1</td>\n",
              "      <td>0</td>\n",
              "      <td>1</td>\n",
              "      <td>0</td>\n",
              "      <td>0</td>\n",
              "      <td>0</td>\n",
              "      <td>1</td>\n",
              "      <td>1</td>\n",
              "    </tr>\n",
              "    <tr>\n",
              "      <th>23</th>\n",
              "      <td>1</td>\n",
              "      <td>1</td>\n",
              "      <td>1</td>\n",
              "      <td>1</td>\n",
              "      <td>0</td>\n",
              "      <td>0</td>\n",
              "      <td>0</td>\n",
              "      <td>1</td>\n",
              "      <td>1</td>\n",
              "      <td>1</td>\n",
              "      <td>0</td>\n",
              "      <td>0</td>\n",
              "      <td>0</td>\n",
              "      <td>0</td>\n",
              "      <td>0</td>\n",
              "      <td>1</td>\n",
              "      <td>1</td>\n",
              "    </tr>\n",
              "    <tr>\n",
              "      <th>25</th>\n",
              "      <td>1</td>\n",
              "      <td>1</td>\n",
              "      <td>0</td>\n",
              "      <td>1</td>\n",
              "      <td>0</td>\n",
              "      <td>0</td>\n",
              "      <td>0</td>\n",
              "      <td>1</td>\n",
              "      <td>1</td>\n",
              "      <td>1</td>\n",
              "      <td>1</td>\n",
              "      <td>0</td>\n",
              "      <td>0</td>\n",
              "      <td>0</td>\n",
              "      <td>0</td>\n",
              "      <td>1</td>\n",
              "      <td>1</td>\n",
              "    </tr>\n",
              "  </tbody>\n",
              "</table>\n",
              "</div>"
            ],
            "text/plain": [
              "    Partido  ...  Exportação África do Sul\n",
              "5         1  ...                         1\n",
              "8         0  ...                         1\n",
              "19        1  ...                         1\n",
              "23        1  ...                         1\n",
              "25        1  ...                         1\n",
              "\n",
              "[5 rows x 17 columns]"
            ]
          },
          "metadata": {
            "tags": []
          },
          "execution_count": 6
        }
      ]
    },
    {
      "cell_type": "markdown",
      "metadata": {
        "id": "yabMrBvezjMC"
      },
      "source": [
        "## Separa os atributos das classes\n",
        "\n",
        "Extrai os atributos e as classes (rótulos) colocando-os em duas variáveis separadas (na forma que o Keras espera)."
      ]
    },
    {
      "cell_type": "code",
      "metadata": {
        "colab": {
          "base_uri": "https://localhost:8080/"
        },
        "id": "9pK51IcczjMC",
        "outputId": "61291304-8644-4123-daa9-45af4446cbdf"
      },
      "source": [
        "X = dados_votacao[nomes_atributos].drop('Partido', axis=1).values\n",
        "y = dados_votacao['Partido'].values\n",
        "print(X.shape)\n",
        "print(y.shape)"
      ],
      "execution_count": 7,
      "outputs": [
        {
          "output_type": "stream",
          "text": [
            "(232, 16)\n",
            "(232,)\n"
          ],
          "name": "stdout"
        }
      ]
    },
    {
      "cell_type": "markdown",
      "metadata": {
        "id": "OhhPEpwNm4z2"
      },
      "source": [
        "## Divide o conjunto de dados em treino e teste"
      ]
    },
    {
      "cell_type": "code",
      "metadata": {
        "colab": {
          "base_uri": "https://localhost:8080/"
        },
        "id": "R2rzqlBYm8CD",
        "outputId": "86d78126-047f-4885-e415-88f3f715a8f3"
      },
      "source": [
        "from sklearn.model_selection import train_test_split\n",
        "X_train, X_test, y_train, y_test = train_test_split(X,y,test_size=0.25,random_state=42)\n",
        "print(X_train.shape)\n",
        "print(X_test.shape)"
      ],
      "execution_count": 8,
      "outputs": [
        {
          "output_type": "stream",
          "text": [
            "(174, 16)\n",
            "(58, 16)\n"
          ],
          "name": "stdout"
        }
      ]
    },
    {
      "cell_type": "markdown",
      "metadata": {
        "id": "zyWHf7bCzjMD"
      },
      "source": [
        "## Criação do modelo de rede neural\n"
      ]
    },
    {
      "cell_type": "code",
      "metadata": {
        "colab": {
          "base_uri": "https://localhost:8080/"
        },
        "id": "uwpVybNDzjME",
        "outputId": "aa30b0f5-b8c7-43f2-822e-9d8881125063"
      },
      "source": [
        "from keras.layers import Dense\n",
        "from keras.models import Sequential\n",
        "from sklearn.model_selection import cross_val_score\n",
        "\n",
        "model = Sequential()\n",
        "# 1a. camada escondida com 32 neurônios - 16 entradas (atributos)\n",
        "model.add(Dense(32, input_dim=16, activation='relu'))\n",
        "# 2a. camada escondida com 16 neurônios\n",
        "model.add(Dense(16, activation='relu'))\n",
        "# Camada de saída com 01 neurônio - Classificação binária (Democrat or Republican)\n",
        "model.add(Dense(1, activation='sigmoid'))\n",
        "# Sumário do modelo\n",
        "model.summary()"
      ],
      "execution_count": 12,
      "outputs": [
        {
          "output_type": "stream",
          "text": [
            "Model: \"sequential_1\"\n",
            "_________________________________________________________________\n",
            "Layer (type)                 Output Shape              Param #   \n",
            "=================================================================\n",
            "dense_3 (Dense)              (None, 32)                544       \n",
            "_________________________________________________________________\n",
            "dense_4 (Dense)              (None, 16)                528       \n",
            "_________________________________________________________________\n",
            "dense_5 (Dense)              (None, 1)                 17        \n",
            "=================================================================\n",
            "Total params: 1,089\n",
            "Trainable params: 1,089\n",
            "Non-trainable params: 0\n",
            "_________________________________________________________________\n"
          ],
          "name": "stdout"
        }
      ]
    },
    {
      "cell_type": "markdown",
      "metadata": {
        "id": "wHhaiOZfcPR1"
      },
      "source": [
        "## Compila o modelo"
      ]
    },
    {
      "cell_type": "code",
      "metadata": {
        "id": "HWM1ThWlzjMF"
      },
      "source": [
        "model.compile(optimizer='adam', loss='binary_crossentropy', metrics=['accuracy'])"
      ],
      "execution_count": 14,
      "outputs": []
    },
    {
      "cell_type": "markdown",
      "metadata": {
        "id": "n2dOhpdZceL0"
      },
      "source": [
        "## Treina o modelo"
      ]
    },
    {
      "cell_type": "code",
      "metadata": {
        "colab": {
          "base_uri": "https://localhost:8080/"
        },
        "id": "M-OXJQ3vciV1",
        "outputId": "75d4aeec-8145-4ae1-9c9d-e77230497946"
      },
      "source": [
        "history = model.fit(X_train, y_train, epochs=100, batch_size = 8, validation_data=(X_test, y_test))"
      ],
      "execution_count": 15,
      "outputs": [
        {
          "output_type": "stream",
          "text": [
            "Epoch 1/100\n",
            "22/22 [==============================] - 1s 9ms/step - loss: 0.6596 - accuracy: 0.6305 - val_loss: 0.5423 - val_accuracy: 0.9138\n",
            "Epoch 2/100\n",
            "22/22 [==============================] - 0s 3ms/step - loss: 0.5628 - accuracy: 0.8457 - val_loss: 0.4572 - val_accuracy: 0.9483\n",
            "Epoch 3/100\n",
            "22/22 [==============================] - 0s 3ms/step - loss: 0.4983 - accuracy: 0.8647 - val_loss: 0.3787 - val_accuracy: 0.9483\n",
            "Epoch 4/100\n",
            "22/22 [==============================] - 0s 3ms/step - loss: 0.4034 - accuracy: 0.9023 - val_loss: 0.3046 - val_accuracy: 0.9655\n",
            "Epoch 5/100\n",
            "22/22 [==============================] - 0s 3ms/step - loss: 0.3780 - accuracy: 0.8830 - val_loss: 0.2504 - val_accuracy: 0.9655\n",
            "Epoch 6/100\n",
            "22/22 [==============================] - 0s 3ms/step - loss: 0.3017 - accuracy: 0.9201 - val_loss: 0.2048 - val_accuracy: 0.9483\n",
            "Epoch 7/100\n",
            "22/22 [==============================] - 0s 3ms/step - loss: 0.2853 - accuracy: 0.8871 - val_loss: 0.1651 - val_accuracy: 0.9655\n",
            "Epoch 8/100\n",
            "22/22 [==============================] - 0s 3ms/step - loss: 0.2436 - accuracy: 0.9131 - val_loss: 0.1489 - val_accuracy: 0.9828\n",
            "Epoch 9/100\n",
            "22/22 [==============================] - 0s 3ms/step - loss: 0.2368 - accuracy: 0.9221 - val_loss: 0.1288 - val_accuracy: 0.9828\n",
            "Epoch 10/100\n",
            "22/22 [==============================] - 0s 3ms/step - loss: 0.2143 - accuracy: 0.9128 - val_loss: 0.1126 - val_accuracy: 0.9828\n",
            "Epoch 11/100\n",
            "22/22 [==============================] - 0s 3ms/step - loss: 0.1449 - accuracy: 0.9553 - val_loss: 0.0967 - val_accuracy: 0.9828\n",
            "Epoch 12/100\n",
            "22/22 [==============================] - 0s 3ms/step - loss: 0.1507 - accuracy: 0.9463 - val_loss: 0.0992 - val_accuracy: 0.9828\n",
            "Epoch 13/100\n",
            "22/22 [==============================] - 0s 3ms/step - loss: 0.1360 - accuracy: 0.9568 - val_loss: 0.0918 - val_accuracy: 0.9655\n",
            "Epoch 14/100\n",
            "22/22 [==============================] - 0s 3ms/step - loss: 0.1133 - accuracy: 0.9553 - val_loss: 0.0907 - val_accuracy: 0.9655\n",
            "Epoch 15/100\n",
            "22/22 [==============================] - 0s 3ms/step - loss: 0.1206 - accuracy: 0.9553 - val_loss: 0.0814 - val_accuracy: 0.9655\n",
            "Epoch 16/100\n",
            "22/22 [==============================] - 0s 3ms/step - loss: 0.1055 - accuracy: 0.9682 - val_loss: 0.0919 - val_accuracy: 0.9655\n",
            "Epoch 17/100\n",
            "22/22 [==============================] - 0s 3ms/step - loss: 0.0753 - accuracy: 0.9811 - val_loss: 0.0822 - val_accuracy: 0.9655\n",
            "Epoch 18/100\n",
            "22/22 [==============================] - 0s 4ms/step - loss: 0.0884 - accuracy: 0.9652 - val_loss: 0.0740 - val_accuracy: 0.9655\n",
            "Epoch 19/100\n",
            "22/22 [==============================] - 0s 3ms/step - loss: 0.0705 - accuracy: 0.9842 - val_loss: 0.0878 - val_accuracy: 0.9655\n",
            "Epoch 20/100\n",
            "22/22 [==============================] - 0s 3ms/step - loss: 0.0594 - accuracy: 0.9769 - val_loss: 0.0808 - val_accuracy: 0.9655\n",
            "Epoch 21/100\n",
            "22/22 [==============================] - 0s 3ms/step - loss: 0.0480 - accuracy: 0.9916 - val_loss: 0.0781 - val_accuracy: 0.9655\n",
            "Epoch 22/100\n",
            "22/22 [==============================] - 0s 3ms/step - loss: 0.0627 - accuracy: 0.9641 - val_loss: 0.0819 - val_accuracy: 0.9655\n",
            "Epoch 23/100\n",
            "22/22 [==============================] - 0s 3ms/step - loss: 0.0522 - accuracy: 0.9864 - val_loss: 0.0831 - val_accuracy: 0.9655\n",
            "Epoch 24/100\n",
            "22/22 [==============================] - 0s 3ms/step - loss: 0.0462 - accuracy: 0.9967 - val_loss: 0.0961 - val_accuracy: 0.9655\n",
            "Epoch 25/100\n",
            "22/22 [==============================] - 0s 3ms/step - loss: 0.0432 - accuracy: 0.9845 - val_loss: 0.0771 - val_accuracy: 0.9655\n",
            "Epoch 26/100\n",
            "22/22 [==============================] - 0s 3ms/step - loss: 0.0434 - accuracy: 0.9938 - val_loss: 0.0841 - val_accuracy: 0.9655\n",
            "Epoch 27/100\n",
            "22/22 [==============================] - 0s 4ms/step - loss: 0.0274 - accuracy: 0.9977 - val_loss: 0.0978 - val_accuracy: 0.9655\n",
            "Epoch 28/100\n",
            "22/22 [==============================] - 0s 3ms/step - loss: 0.0320 - accuracy: 0.9966 - val_loss: 0.0922 - val_accuracy: 0.9655\n",
            "Epoch 29/100\n",
            "22/22 [==============================] - 0s 3ms/step - loss: 0.0373 - accuracy: 1.0000 - val_loss: 0.0883 - val_accuracy: 0.9655\n",
            "Epoch 30/100\n",
            "22/22 [==============================] - 0s 3ms/step - loss: 0.0346 - accuracy: 1.0000 - val_loss: 0.0912 - val_accuracy: 0.9655\n",
            "Epoch 31/100\n",
            "22/22 [==============================] - 0s 3ms/step - loss: 0.0260 - accuracy: 1.0000 - val_loss: 0.1024 - val_accuracy: 0.9483\n",
            "Epoch 32/100\n",
            "22/22 [==============================] - 0s 3ms/step - loss: 0.0286 - accuracy: 0.9984 - val_loss: 0.0941 - val_accuracy: 0.9483\n",
            "Epoch 33/100\n",
            "22/22 [==============================] - 0s 3ms/step - loss: 0.0355 - accuracy: 1.0000 - val_loss: 0.0968 - val_accuracy: 0.9483\n",
            "Epoch 34/100\n",
            "22/22 [==============================] - 0s 3ms/step - loss: 0.0280 - accuracy: 1.0000 - val_loss: 0.1034 - val_accuracy: 0.9483\n",
            "Epoch 35/100\n",
            "22/22 [==============================] - 0s 3ms/step - loss: 0.0226 - accuracy: 1.0000 - val_loss: 0.1019 - val_accuracy: 0.9483\n",
            "Epoch 36/100\n",
            "22/22 [==============================] - 0s 3ms/step - loss: 0.0257 - accuracy: 1.0000 - val_loss: 0.1039 - val_accuracy: 0.9483\n",
            "Epoch 37/100\n",
            "22/22 [==============================] - 0s 3ms/step - loss: 0.0138 - accuracy: 1.0000 - val_loss: 0.1009 - val_accuracy: 0.9483\n",
            "Epoch 38/100\n",
            "22/22 [==============================] - 0s 3ms/step - loss: 0.0192 - accuracy: 1.0000 - val_loss: 0.1162 - val_accuracy: 0.9310\n",
            "Epoch 39/100\n",
            "22/22 [==============================] - 0s 3ms/step - loss: 0.0162 - accuracy: 1.0000 - val_loss: 0.1057 - val_accuracy: 0.9483\n",
            "Epoch 40/100\n",
            "22/22 [==============================] - 0s 3ms/step - loss: 0.0178 - accuracy: 1.0000 - val_loss: 0.1090 - val_accuracy: 0.9483\n",
            "Epoch 41/100\n",
            "22/22 [==============================] - 0s 3ms/step - loss: 0.0168 - accuracy: 1.0000 - val_loss: 0.1219 - val_accuracy: 0.9310\n",
            "Epoch 42/100\n",
            "22/22 [==============================] - 0s 4ms/step - loss: 0.0216 - accuracy: 1.0000 - val_loss: 0.1101 - val_accuracy: 0.9310\n",
            "Epoch 43/100\n",
            "22/22 [==============================] - 0s 3ms/step - loss: 0.0142 - accuracy: 1.0000 - val_loss: 0.1238 - val_accuracy: 0.9310\n",
            "Epoch 44/100\n",
            "22/22 [==============================] - 0s 3ms/step - loss: 0.0127 - accuracy: 1.0000 - val_loss: 0.1087 - val_accuracy: 0.9483\n",
            "Epoch 45/100\n",
            "22/22 [==============================] - 0s 3ms/step - loss: 0.0149 - accuracy: 1.0000 - val_loss: 0.1199 - val_accuracy: 0.9310\n",
            "Epoch 46/100\n",
            "22/22 [==============================] - 0s 3ms/step - loss: 0.0098 - accuracy: 1.0000 - val_loss: 0.1279 - val_accuracy: 0.9310\n",
            "Epoch 47/100\n",
            "22/22 [==============================] - 0s 3ms/step - loss: 0.0099 - accuracy: 1.0000 - val_loss: 0.1175 - val_accuracy: 0.9310\n",
            "Epoch 48/100\n",
            "22/22 [==============================] - 0s 3ms/step - loss: 0.0078 - accuracy: 1.0000 - val_loss: 0.1306 - val_accuracy: 0.9310\n",
            "Epoch 49/100\n",
            "22/22 [==============================] - 0s 3ms/step - loss: 0.0115 - accuracy: 1.0000 - val_loss: 0.1217 - val_accuracy: 0.9310\n",
            "Epoch 50/100\n",
            "22/22 [==============================] - 0s 3ms/step - loss: 0.0074 - accuracy: 1.0000 - val_loss: 0.1224 - val_accuracy: 0.9310\n",
            "Epoch 51/100\n",
            "22/22 [==============================] - 0s 3ms/step - loss: 0.0089 - accuracy: 1.0000 - val_loss: 0.1423 - val_accuracy: 0.9310\n",
            "Epoch 52/100\n",
            "22/22 [==============================] - 0s 3ms/step - loss: 0.0083 - accuracy: 1.0000 - val_loss: 0.1351 - val_accuracy: 0.9310\n",
            "Epoch 53/100\n",
            "22/22 [==============================] - 0s 3ms/step - loss: 0.0128 - accuracy: 1.0000 - val_loss: 0.1180 - val_accuracy: 0.9310\n",
            "Epoch 54/100\n",
            "22/22 [==============================] - 0s 3ms/step - loss: 0.0103 - accuracy: 1.0000 - val_loss: 0.1228 - val_accuracy: 0.9310\n",
            "Epoch 55/100\n",
            "22/22 [==============================] - 0s 3ms/step - loss: 0.0057 - accuracy: 1.0000 - val_loss: 0.1410 - val_accuracy: 0.9310\n",
            "Epoch 56/100\n",
            "22/22 [==============================] - 0s 3ms/step - loss: 0.0068 - accuracy: 1.0000 - val_loss: 0.1322 - val_accuracy: 0.9310\n",
            "Epoch 57/100\n",
            "22/22 [==============================] - 0s 3ms/step - loss: 0.0071 - accuracy: 1.0000 - val_loss: 0.1345 - val_accuracy: 0.9310\n",
            "Epoch 58/100\n",
            "22/22 [==============================] - 0s 3ms/step - loss: 0.0052 - accuracy: 1.0000 - val_loss: 0.1357 - val_accuracy: 0.9310\n",
            "Epoch 59/100\n",
            "22/22 [==============================] - 0s 4ms/step - loss: 0.0069 - accuracy: 1.0000 - val_loss: 0.1435 - val_accuracy: 0.9310\n",
            "Epoch 60/100\n",
            "22/22 [==============================] - 0s 3ms/step - loss: 0.0056 - accuracy: 1.0000 - val_loss: 0.1382 - val_accuracy: 0.9310\n",
            "Epoch 61/100\n",
            "22/22 [==============================] - 0s 3ms/step - loss: 0.0064 - accuracy: 1.0000 - val_loss: 0.1628 - val_accuracy: 0.9310\n",
            "Epoch 62/100\n",
            "22/22 [==============================] - 0s 3ms/step - loss: 0.0041 - accuracy: 1.0000 - val_loss: 0.1344 - val_accuracy: 0.9310\n",
            "Epoch 63/100\n",
            "22/22 [==============================] - 0s 3ms/step - loss: 0.0064 - accuracy: 1.0000 - val_loss: 0.1465 - val_accuracy: 0.9310\n",
            "Epoch 64/100\n",
            "22/22 [==============================] - 0s 3ms/step - loss: 0.0045 - accuracy: 1.0000 - val_loss: 0.1529 - val_accuracy: 0.9310\n",
            "Epoch 65/100\n",
            "22/22 [==============================] - 0s 3ms/step - loss: 0.0047 - accuracy: 1.0000 - val_loss: 0.1464 - val_accuracy: 0.9310\n",
            "Epoch 66/100\n",
            "22/22 [==============================] - 0s 3ms/step - loss: 0.0050 - accuracy: 1.0000 - val_loss: 0.1458 - val_accuracy: 0.9310\n",
            "Epoch 67/100\n",
            "22/22 [==============================] - 0s 4ms/step - loss: 0.0051 - accuracy: 1.0000 - val_loss: 0.1445 - val_accuracy: 0.9310\n",
            "Epoch 68/100\n",
            "22/22 [==============================] - 0s 3ms/step - loss: 0.0048 - accuracy: 1.0000 - val_loss: 0.1517 - val_accuracy: 0.9310\n",
            "Epoch 69/100\n",
            "22/22 [==============================] - 0s 3ms/step - loss: 0.0041 - accuracy: 1.0000 - val_loss: 0.1597 - val_accuracy: 0.9310\n",
            "Epoch 70/100\n",
            "22/22 [==============================] - 0s 3ms/step - loss: 0.0041 - accuracy: 1.0000 - val_loss: 0.1394 - val_accuracy: 0.9310\n",
            "Epoch 71/100\n",
            "22/22 [==============================] - 0s 3ms/step - loss: 0.0048 - accuracy: 1.0000 - val_loss: 0.1651 - val_accuracy: 0.9310\n",
            "Epoch 72/100\n",
            "22/22 [==============================] - 0s 3ms/step - loss: 0.0033 - accuracy: 1.0000 - val_loss: 0.1461 - val_accuracy: 0.9310\n",
            "Epoch 73/100\n",
            "22/22 [==============================] - 0s 3ms/step - loss: 0.0036 - accuracy: 1.0000 - val_loss: 0.1534 - val_accuracy: 0.9310\n",
            "Epoch 74/100\n",
            "22/22 [==============================] - 0s 3ms/step - loss: 0.0034 - accuracy: 1.0000 - val_loss: 0.1659 - val_accuracy: 0.9310\n",
            "Epoch 75/100\n",
            "22/22 [==============================] - 0s 3ms/step - loss: 0.0050 - accuracy: 1.0000 - val_loss: 0.1476 - val_accuracy: 0.9310\n",
            "Epoch 76/100\n",
            "22/22 [==============================] - 0s 3ms/step - loss: 0.0033 - accuracy: 1.0000 - val_loss: 0.1657 - val_accuracy: 0.9310\n",
            "Epoch 77/100\n",
            "22/22 [==============================] - 0s 3ms/step - loss: 0.0045 - accuracy: 1.0000 - val_loss: 0.1573 - val_accuracy: 0.9310\n",
            "Epoch 78/100\n",
            "22/22 [==============================] - 0s 3ms/step - loss: 0.0040 - accuracy: 1.0000 - val_loss: 0.1606 - val_accuracy: 0.9310\n",
            "Epoch 79/100\n",
            "22/22 [==============================] - 0s 3ms/step - loss: 0.0040 - accuracy: 1.0000 - val_loss: 0.1613 - val_accuracy: 0.9310\n",
            "Epoch 80/100\n",
            "22/22 [==============================] - 0s 3ms/step - loss: 0.0031 - accuracy: 1.0000 - val_loss: 0.1700 - val_accuracy: 0.9310\n",
            "Epoch 81/100\n",
            "22/22 [==============================] - 0s 4ms/step - loss: 0.0039 - accuracy: 1.0000 - val_loss: 0.1609 - val_accuracy: 0.9310\n",
            "Epoch 82/100\n",
            "22/22 [==============================] - 0s 3ms/step - loss: 0.0035 - accuracy: 1.0000 - val_loss: 0.1757 - val_accuracy: 0.9310\n",
            "Epoch 83/100\n",
            "22/22 [==============================] - 0s 3ms/step - loss: 0.0027 - accuracy: 1.0000 - val_loss: 0.1582 - val_accuracy: 0.9310\n",
            "Epoch 84/100\n",
            "22/22 [==============================] - 0s 3ms/step - loss: 0.0021 - accuracy: 1.0000 - val_loss: 0.1760 - val_accuracy: 0.9310\n",
            "Epoch 85/100\n",
            "22/22 [==============================] - 0s 3ms/step - loss: 0.0028 - accuracy: 1.0000 - val_loss: 0.1679 - val_accuracy: 0.9310\n",
            "Epoch 86/100\n",
            "22/22 [==============================] - 0s 3ms/step - loss: 0.0019 - accuracy: 1.0000 - val_loss: 0.1766 - val_accuracy: 0.9310\n",
            "Epoch 87/100\n",
            "22/22 [==============================] - 0s 3ms/step - loss: 0.0027 - accuracy: 1.0000 - val_loss: 0.1669 - val_accuracy: 0.9310\n",
            "Epoch 88/100\n",
            "22/22 [==============================] - 0s 3ms/step - loss: 0.0016 - accuracy: 1.0000 - val_loss: 0.1755 - val_accuracy: 0.9310\n",
            "Epoch 89/100\n",
            "22/22 [==============================] - 0s 3ms/step - loss: 0.0021 - accuracy: 1.0000 - val_loss: 0.1802 - val_accuracy: 0.9310\n",
            "Epoch 90/100\n",
            "22/22 [==============================] - 0s 3ms/step - loss: 0.0023 - accuracy: 1.0000 - val_loss: 0.1682 - val_accuracy: 0.9310\n",
            "Epoch 91/100\n",
            "22/22 [==============================] - 0s 4ms/step - loss: 0.0021 - accuracy: 1.0000 - val_loss: 0.1727 - val_accuracy: 0.9310\n",
            "Epoch 92/100\n",
            "22/22 [==============================] - 0s 3ms/step - loss: 0.0020 - accuracy: 1.0000 - val_loss: 0.1807 - val_accuracy: 0.9310\n",
            "Epoch 93/100\n",
            "22/22 [==============================] - 0s 3ms/step - loss: 0.0021 - accuracy: 1.0000 - val_loss: 0.1840 - val_accuracy: 0.9310\n",
            "Epoch 94/100\n",
            "22/22 [==============================] - 0s 3ms/step - loss: 0.0024 - accuracy: 1.0000 - val_loss: 0.1757 - val_accuracy: 0.9310\n",
            "Epoch 95/100\n",
            "22/22 [==============================] - 0s 3ms/step - loss: 0.0019 - accuracy: 1.0000 - val_loss: 0.1805 - val_accuracy: 0.9310\n",
            "Epoch 96/100\n",
            "22/22 [==============================] - 0s 3ms/step - loss: 0.0018 - accuracy: 1.0000 - val_loss: 0.1818 - val_accuracy: 0.9310\n",
            "Epoch 97/100\n",
            "22/22 [==============================] - 0s 3ms/step - loss: 0.0031 - accuracy: 1.0000 - val_loss: 0.1855 - val_accuracy: 0.9310\n",
            "Epoch 98/100\n",
            "22/22 [==============================] - 0s 3ms/step - loss: 0.0014 - accuracy: 1.0000 - val_loss: 0.1756 - val_accuracy: 0.9310\n",
            "Epoch 99/100\n",
            "22/22 [==============================] - 0s 3ms/step - loss: 0.0019 - accuracy: 1.0000 - val_loss: 0.1829 - val_accuracy: 0.9310\n",
            "Epoch 100/100\n",
            "22/22 [==============================] - 0s 3ms/step - loss: 0.0015 - accuracy: 1.0000 - val_loss: 0.1984 - val_accuracy: 0.9310\n"
          ],
          "name": "stdout"
        }
      ]
    },
    {
      "cell_type": "markdown",
      "metadata": {
        "id": "l48BhF4PlZkM"
      },
      "source": [
        "## Análise da função *loss* (erro/perda)\n",
        "Vamos observar o comportamento da função *loss* para os dados de treino e de validação/teste."
      ]
    },
    {
      "cell_type": "code",
      "metadata": {
        "colab": {
          "base_uri": "https://localhost:8080/",
          "height": 297
        },
        "id": "oscCHzuRldf7",
        "outputId": "0d6252db-48ba-48a1-e754-112896b8c52d"
      },
      "source": [
        "import matplotlib.pyplot as plt\n",
        "plt.plot(history.history['loss'])\n",
        "plt.plot(history.history['val_loss'], '')\n",
        "plt.xlabel(\"Épocas\")\n",
        "plt.ylabel('Erro/loss')\n",
        "plt.title('Função erro/loss')\n",
        "plt.legend(['loss', 'val_loss'])\n",
        "plt.show()"
      ],
      "execution_count": 16,
      "outputs": [
        {
          "output_type": "display_data",
          "data": {
            "image/png": "[encoded data removed]",
            "text/plain": [
              "<Figure size 432x288 with 1 Axes>"
            ]
          },
          "metadata": {
            "tags": [],
            "needs_background": "light"
          }
        }
      ]
    },
    {
      "cell_type": "markdown",
      "metadata": {
        "id": "CnOywLpjliYD"
      },
      "source": [
        "## Análise da métrica de desempenho (acurácia)\n",
        "Vamos observar o desempenho (acurácia) da rede para os dados de treino e de validação/teste."
      ]
    },
    {
      "cell_type": "code",
      "metadata": {
        "colab": {
          "base_uri": "https://localhost:8080/",
          "height": 297
        },
        "id": "47nLbRc_llb9",
        "outputId": "a074e4d8-df5f-4a06-8189-240b7e9aed4f"
      },
      "source": [
        "plt.plot(history.history['accuracy'])\n",
        "plt.plot(history.history['val_accuracy'], '')\n",
        "plt.xlabel(\"Épocas\")\n",
        "plt.ylabel('Acurácia')\n",
        "plt.title('Acurácia')\n",
        "plt.legend(['acurácia', 'val_acurácia'])\n",
        "plt.show()"
      ],
      "execution_count": 17,
      "outputs": [
        {
          "output_type": "display_data",
          "data": {
            "image/png": "[encoded data removed]",
            "text/plain": [
              "<Figure size 432x288 with 1 Axes>"
            ]
          },
          "metadata": {
            "tags": [],
            "needs_background": "light"
          }
        }
      ]
    },
    {
      "cell_type": "markdown",
      "metadata": {
        "id": "UnCzp7cqefpF"
      },
      "source": [
        "## Classifica os dados de teste"
      ]
    },
    {
      "cell_type": "code",
      "metadata": {
        "id": "55GxDLXLeoJK"
      },
      "source": [
        "y_pred = model.predict(X_test)\n",
        "y_pred = (y_pred > 0.5)"
      ],
      "execution_count": 18,
      "outputs": []
    },
    {
      "cell_type": "markdown",
      "metadata": {
        "id": "lhcvQZaLe6hx"
      },
      "source": [
        "## Calcula a matriz de confusão sobre os dados de teste"
      ]
    },
    {
      "cell_type": "code",
      "metadata": {
        "colab": {
          "base_uri": "https://localhost:8080/"
        },
        "id": "XxuZT6jxfD0H",
        "outputId": "9cf922c2-2df1-4b95-f2e3-a11a43d2baed"
      },
      "source": [
        "from sklearn.metrics import confusion_matrix\n",
        "cm = confusion_matrix(y_test, y_pred)\n",
        "print(cm)"
      ],
      "execution_count": 19,
      "outputs": [
        {
          "output_type": "stream",
          "text": [
            "[[27  4]\n",
            " [ 0 27]]\n"
          ],
          "name": "stdout"
        }
      ]
    },
    {
      "cell_type": "markdown",
      "metadata": {
        "id": "1-bBUClVowa6"
      },
      "source": [
        "## Classifica o conjunto de dados inteiro"
      ]
    },
    {
      "cell_type": "code",
      "metadata": {
        "id": "ufS7LzNno3oR"
      },
      "source": [
        "y_pred2 = model.predict(X)\n",
        "y_pred2 = (y_pred2 > 0.5)"
      ],
      "execution_count": 20,
      "outputs": []
    },
    {
      "cell_type": "markdown",
      "metadata": {
        "id": "Cn9dwVGuo-8j"
      },
      "source": [
        "## Calcula a matriz de confusão sobre o conjunto inteiro de dados"
      ]
    },
    {
      "cell_type": "code",
      "metadata": {
        "colab": {
          "base_uri": "https://localhost:8080/"
        },
        "id": "oGSUOV9WpDNg",
        "outputId": "0433c5cc-ead2-4f20-adae-dd8266603a7a"
      },
      "source": [
        "from sklearn.metrics import confusion_matrix\n",
        "cm2 = confusion_matrix(y, y_pred2)\n",
        "print(cm2)"
      ],
      "execution_count": 21,
      "outputs": [
        {
          "output_type": "stream",
          "text": [
            "[[104   4]\n",
            " [  0 124]]\n"
          ],
          "name": "stdout"
        }
      ]
    },
    {
      "cell_type": "code",
      "metadata": {
        "id": "kkMaa8wmldRq",
        "colab": {
          "base_uri": "https://localhost:8080/"
        },
        "outputId": "5c749472-8f04-486d-8801-1fbf265cf11f"
      },
      "source": [
        "import numpy as np\n",
        "print(np.around(model.predict(X[:5,:])))"
      ],
      "execution_count": 22,
      "outputs": [
        {
          "output_type": "stream",
          "text": [
            "[[1.]\n",
            " [0.]\n",
            " [1.]\n",
            " [1.]\n",
            " [1.]]\n"
          ],
          "name": "stdout"
        }
      ]
    },
    {
      "cell_type": "code",
      "metadata": {
        "id": "rN1vbr1xokhd",
        "colab": {
          "base_uri": "https://localhost:8080/"
        },
        "outputId": "19e24382-917e-4d53-d47f-a89c7f0e5731"
      },
      "source": [
        "x1 = np.array([X[0]])\n",
        "pred = model.predict(x1)\n",
        "print(type(pred)) # array numpy\n",
        "print(pred)\n",
        "print(round(pred[0][0]))\n",
        "#print(np.around(pred))"
      ],
      "execution_count": 23,
      "outputs": [
        {
          "output_type": "stream",
          "text": [
            "<class 'numpy.ndarray'>\n",
            "[[0.9999618]]\n",
            "1\n"
          ],
          "name": "stdout"
        }
      ]
    }
  ]
}