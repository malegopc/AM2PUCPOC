{
  "nbformat": 4,
  "nbformat_minor": 0,
  "metadata": {
    "kernelspec": {
      "display_name": "Python 3",
      "language": "python",
      "name": "python3"
    },
    "language_info": {
      "codemirror_mode": {
        "name": "ipython",
        "version": 3
      },
      "file_extension": ".py",
      "mimetype": "text/x-python",
      "name": "python",
      "nbconvert_exporter": "python",
      "pygments_lexer": "ipython3",
      "version": "3.7.3"
    },
    "colab": {
      "name": "EarlyStopping_callback.ipynb",
      "provenance": [],
      "collapsed_sections": []
    }
  },
  "cells": [
    {
      "cell_type": "markdown",
      "metadata": {
        "id": "Z7K0SeDgzjL2"
      },
      "source": [
        "---\n",
        "\n",
        "---\n",
        "\n",
        "# Predição de diabetes\n",
        "\n",
        "Este notebook implementa uma rede neural para predizer se um paciente tem diabetes ou não com base em certas medidas diagnósticas incluídas no conjunto de dados.\n",
        "\n",
        "O conuntos de dados utilizado descreve os dados do prontuário médico do paciente dos [índios Pima](https://pt.wikipedia.org/wiki/Pima) e se eles começaram a desenvolver diabetes em cinco anos.\n",
        "\n",
        "Trata-se de um problema de classificação binária (início do diabetes como 1 ou não como 0). Todas as variáveis ​​de entrada que descrevem cada paciente são numéricas.\n",
        "\n",
        "Utiliza-se a API callback **EarlyStopping.**\n",
        "\n",
        "---\n",
        "\n",
        "\n",
        "\n",
        "---\n",
        "\n",
        "\n"
      ]
    },
    {
      "cell_type": "markdown",
      "metadata": {
        "id": "PcWx36BdDBX0"
      },
      "source": [
        "## Conjunto de dados\n",
        "\n",
        "- Fonte: https://www.kaggle.com/uciml/pima-indians-diabetes-database\n",
        "- Proprietários originais: National Institute of Diabetes and Digestive and Kidney Diseases\n",
        "- Doadores da base de dados: Vincent Sigillito (vgs@aplcen.apl.jhu.edu), \n",
        "Research Center, RMI Group Leader, Applied Physics Laboratory, The Johns Hopkins University (1990)\n",
        "\n",
        "Detalhes sobre o conjunto de dados:\n",
        "\n",
        "1. Número de instâncias: 768\n",
        "\n",
        "2. Número de atributos: 8 (mais classe target)\n",
        "\n",
        "3. Atributos: (todos com valor numérico)\n",
        "   1. Número de vezes que engravidou (*Pregnancies*)\n",
        "   2. Concentração de glicose plasmática a 2 horas em um teste de tolerância à glicose oral (*Glucose*)\n",
        "   3. Pressão arterial diastólica (mm Hg) (*BloodPressure*)\n",
        "   4. Espessura da dobra da pele do tríceps (mm) (*SkinThickness*)\n",
        "   5. Insulina sérica de 2 horas (mu U / ml) (*Insulin*)\n",
        "   6. Índice de massa corporal (peso em kg / (altura em m) ^ 2) (*BMI*)\n",
        "   7. Função de pedigree de diabetes (*DiabetesPedigreeFunction*)\n",
        "   8. Idade (anos) (*Age*)\n",
        "   \n",
        "4. Variável target (classe): 0 ou 1 (valor de classe 1 é interpretado como \"teste positivo para diabetes\")\n",
        "\n",
        "   Classe Valor Número de instâncias\n",
        "   - 500 => 0\n",
        "   - 268 => 1\n",
        "\n",
        " "
      ]
    },
    {
      "cell_type": "markdown",
      "metadata": {
        "id": "LWXwGCqvIwgN"
      },
      "source": [
        "## Leitura e preparação dos dados\n",
        "\n",
        "Vamos começar importando o arquivo CSV bruto usando o Pandas."
      ]
    },
    {
      "cell_type": "code",
      "metadata": {
        "scrolled": true,
        "colab": {
          "base_uri": "https://localhost:8080/",
          "height": 323
        },
        "id": "LM6AT7tPzjL6",
        "outputId": "a81ed654-a530-4eee-a335-7653fdac1ea4"
      },
      "source": [
        "import pandas as pd\n",
        "\n",
        "# Clone do repositório de dados do GitHub\n",
        "!git clone https://github.com/malegopc/AM2PUCPOC\n",
        "# lê arquivo de dados, atribue NaN para dados faltantes e rótulos em cada coluna\n",
        "diabetes = pd.read_csv('/content/AM2PUCPOC/Datasets/Indians_Diabetes/diabetes.csv', na_values=['?'])\n",
        "# imprime as 5 primeiras linhas dos dados montados\n",
        "diabetes.head()"
      ],
      "execution_count": 1,
      "outputs": [
        {
          "output_type": "stream",
          "text": [
            "Cloning into 'AM2PUCPOC'...\n",
            "remote: Enumerating objects: 76, done.\u001b[K\n",
            "remote: Counting objects: 100% (76/76), done.\u001b[K\n",
            "remote: Compressing objects: 100% (71/71), done.\u001b[K\n",
            "remote: Total 324 (delta 26), reused 0 (delta 0), pack-reused 248\u001b[K\n",
            "Receiving objects: 100% (324/324), 4.65 MiB | 14.84 MiB/s, done.\n",
            "Resolving deltas: 100% (92/92), done.\n"
          ],
          "name": "stdout"
        },
        {
          "output_type": "execute_result",
          "data": {
            "text/html": [
              "<div>\n",
              "<style scoped>\n",
              "    .dataframe tbody tr th:only-of-type {\n",
              "        vertical-align: middle;\n",
              "    }\n",
              "\n",
              "    .dataframe tbody tr th {\n",
              "        vertical-align: top;\n",
              "    }\n",
              "\n",
              "    .dataframe thead th {\n",
              "        text-align: right;\n",
              "    }\n",
              "</style>\n",
              "<table border=\"1\" class=\"dataframe\">\n",
              "  <thead>\n",
              "    <tr style=\"text-align: right;\">\n",
              "      <th></th>\n",
              "      <th>Pregnancies</th>\n",
              "      <th>Glucose</th>\n",
              "      <th>BloodPressure</th>\n",
              "      <th>SkinThickness</th>\n",
              "      <th>Insulin</th>\n",
              "      <th>BMI</th>\n",
              "      <th>DiabetesPedigreeFunction</th>\n",
              "      <th>Age</th>\n",
              "      <th>Outcome</th>\n",
              "    </tr>\n",
              "  </thead>\n",
              "  <tbody>\n",
              "    <tr>\n",
              "      <th>0</th>\n",
              "      <td>6</td>\n",
              "      <td>148</td>\n",
              "      <td>72</td>\n",
              "      <td>35</td>\n",
              "      <td>0</td>\n",
              "      <td>33.6</td>\n",
              "      <td>0.627</td>\n",
              "      <td>50</td>\n",
              "      <td>1</td>\n",
              "    </tr>\n",
              "    <tr>\n",
              "      <th>1</th>\n",
              "      <td>1</td>\n",
              "      <td>85</td>\n",
              "      <td>66</td>\n",
              "      <td>29</td>\n",
              "      <td>0</td>\n",
              "      <td>26.6</td>\n",
              "      <td>0.351</td>\n",
              "      <td>31</td>\n",
              "      <td>0</td>\n",
              "    </tr>\n",
              "    <tr>\n",
              "      <th>2</th>\n",
              "      <td>8</td>\n",
              "      <td>183</td>\n",
              "      <td>64</td>\n",
              "      <td>0</td>\n",
              "      <td>0</td>\n",
              "      <td>23.3</td>\n",
              "      <td>0.672</td>\n",
              "      <td>32</td>\n",
              "      <td>1</td>\n",
              "    </tr>\n",
              "    <tr>\n",
              "      <th>3</th>\n",
              "      <td>1</td>\n",
              "      <td>89</td>\n",
              "      <td>66</td>\n",
              "      <td>23</td>\n",
              "      <td>94</td>\n",
              "      <td>28.1</td>\n",
              "      <td>0.167</td>\n",
              "      <td>21</td>\n",
              "      <td>0</td>\n",
              "    </tr>\n",
              "    <tr>\n",
              "      <th>4</th>\n",
              "      <td>0</td>\n",
              "      <td>137</td>\n",
              "      <td>40</td>\n",
              "      <td>35</td>\n",
              "      <td>168</td>\n",
              "      <td>43.1</td>\n",
              "      <td>2.288</td>\n",
              "      <td>33</td>\n",
              "      <td>1</td>\n",
              "    </tr>\n",
              "  </tbody>\n",
              "</table>\n",
              "</div>"
            ],
            "text/plain": [
              "   Pregnancies  Glucose  BloodPressure  ...  DiabetesPedigreeFunction  Age  Outcome\n",
              "0            6      148             72  ...                     0.627   50        1\n",
              "1            1       85             66  ...                     0.351   31        0\n",
              "2            8      183             64  ...                     0.672   32        1\n",
              "3            1       89             66  ...                     0.167   21        0\n",
              "4            0      137             40  ...                     2.288   33        1\n",
              "\n",
              "[5 rows x 9 columns]"
            ]
          },
          "metadata": {
            "tags": []
          },
          "execution_count": 1
        }
      ]
    },
    {
      "cell_type": "markdown",
      "metadata": {
        "id": "yabMrBvezjMC"
      },
      "source": [
        "## Separa os atributos das classes\n",
        "\n",
        "Extrai os atributos e as classes (rótulos) colocando-os em duas variáveis separadas (na forma que o Keras espera)."
      ]
    },
    {
      "cell_type": "code",
      "metadata": {
        "colab": {
          "base_uri": "https://localhost:8080/"
        },
        "id": "9pK51IcczjMC",
        "outputId": "041ea5a4-a83e-4bad-8240-23b8f0e1f528"
      },
      "source": [
        "X = diabetes.drop('Outcome', axis=1).values\n",
        "y = diabetes['Outcome'].values\n",
        "print(X.shape)\n",
        "print(y.shape)"
      ],
      "execution_count": 2,
      "outputs": [
        {
          "output_type": "stream",
          "text": [
            "(768, 8)\n",
            "(768,)\n"
          ],
          "name": "stdout"
        }
      ]
    },
    {
      "cell_type": "markdown",
      "metadata": {
        "id": "4FDcvELVsUKP"
      },
      "source": [
        "## Divide o conjunto de dados em treino e teste"
      ]
    },
    {
      "cell_type": "code",
      "metadata": {
        "colab": {
          "base_uri": "https://localhost:8080/"
        },
        "id": "sw238KjusYNf",
        "outputId": "693304b5-5cbc-475e-ecb3-aed9de916a5d"
      },
      "source": [
        "from sklearn.model_selection import train_test_split\n",
        "X_train, X_test, y_train, y_test = train_test_split(X,y,test_size=0.25,random_state=42)\n",
        "print(X_train.shape)\n",
        "print(y_train.shape)\n",
        "print(X_test.shape)\n",
        "print(y_test.shape)"
      ],
      "execution_count": 3,
      "outputs": [
        {
          "output_type": "stream",
          "text": [
            "(576, 8)\n",
            "(576,)\n",
            "(192, 8)\n",
            "(192,)\n"
          ],
          "name": "stdout"
        }
      ]
    },
    {
      "cell_type": "markdown",
      "metadata": {
        "id": "zyWHf7bCzjMD"
      },
      "source": [
        "## Criação do modelo de rede neural\n",
        "\n",
        "\n"
      ]
    },
    {
      "cell_type": "code",
      "metadata": {
        "colab": {
          "base_uri": "https://localhost:8080/"
        },
        "id": "uwpVybNDzjME",
        "outputId": "b75f5327-e3ea-4ee4-e237-ba842044df3b"
      },
      "source": [
        "from keras.models import Sequential\n",
        "from keras.layers import Dense\n",
        "from keras.utils import plot_model\n",
        "\n",
        "model = Sequential()\n",
        "# 1a. camada oculta com 20 neurônios (definição das entradas)\n",
        "model.add(Dense(20, input_dim=X_train.shape[1], activation='relu'))\n",
        "# 2a. camada oculta com 10 neurônios\n",
        "model.add(Dense(10, activation='relu'))\n",
        "# camada de saída com um neurônio\n",
        "model.add(Dense(1, activation='sigmoid'))\n",
        "# sumário (resumo) do modelo\n",
        "model.summary()"
      ],
      "execution_count": 10,
      "outputs": [
        {
          "output_type": "stream",
          "text": [
            "Model: \"sequential_1\"\n",
            "_________________________________________________________________\n",
            "Layer (type)                 Output Shape              Param #   \n",
            "=================================================================\n",
            "dense_3 (Dense)              (None, 20)                180       \n",
            "_________________________________________________________________\n",
            "dense_4 (Dense)              (None, 10)                210       \n",
            "_________________________________________________________________\n",
            "dense_5 (Dense)              (None, 1)                 11        \n",
            "=================================================================\n",
            "Total params: 401\n",
            "Trainable params: 401\n",
            "Non-trainable params: 0\n",
            "_________________________________________________________________\n"
          ],
          "name": "stdout"
        }
      ]
    },
    {
      "cell_type": "markdown",
      "metadata": {
        "id": "wHhaiOZfcPR1"
      },
      "source": [
        "## Compilação do modelo"
      ]
    },
    {
      "cell_type": "code",
      "metadata": {
        "id": "HWM1ThWlzjMF"
      },
      "source": [
        "model.compile(loss='binary_crossentropy', optimizer='adam', metrics=['accuracy'])"
      ],
      "execution_count": 11,
      "outputs": []
    },
    {
      "cell_type": "markdown",
      "metadata": {
        "id": "n2dOhpdZceL0"
      },
      "source": [
        "## Treinamento do modelo"
      ]
    },
    {
      "cell_type": "code",
      "metadata": {
        "colab": {
          "base_uri": "https://localhost:8080/"
        },
        "id": "M-OXJQ3vciV1",
        "outputId": "9d36a2c7-3bb0-4b52-b6ff-93f084d25166"
      },
      "source": [
        "from keras.callbacks import EarlyStopping\n",
        "\n",
        "early_stop = EarlyStopping(monitor='val_loss', min_delta = 1e-10, patience=5, verbose=1)\n",
        "history = model.fit(X_train,y_train, validation_data=(X_test,y_test), batch_size=8, epochs=200, callbacks=[early_stop])"
      ],
      "execution_count": 12,
      "outputs": [
        {
          "output_type": "stream",
          "text": [
            "Epoch 1/200\n",
            "72/72 [==============================] - 1s 6ms/step - loss: 7.0412 - accuracy: 0.6218 - val_loss: 1.0934 - val_accuracy: 0.5365\n",
            "Epoch 2/200\n",
            "72/72 [==============================] - 0s 2ms/step - loss: 0.9219 - accuracy: 0.6164 - val_loss: 0.9429 - val_accuracy: 0.5521\n",
            "Epoch 3/200\n",
            "72/72 [==============================] - 0s 2ms/step - loss: 0.8156 - accuracy: 0.6180 - val_loss: 0.9345 - val_accuracy: 0.6094\n",
            "Epoch 4/200\n",
            "72/72 [==============================] - 0s 2ms/step - loss: 0.7344 - accuracy: 0.6368 - val_loss: 1.1855 - val_accuracy: 0.6406\n",
            "Epoch 5/200\n",
            "72/72 [==============================] - 0s 2ms/step - loss: 0.9508 - accuracy: 0.6389 - val_loss: 0.8259 - val_accuracy: 0.6250\n",
            "Epoch 6/200\n",
            "72/72 [==============================] - 0s 2ms/step - loss: 0.7537 - accuracy: 0.6146 - val_loss: 0.7168 - val_accuracy: 0.6562\n",
            "Epoch 7/200\n",
            "72/72 [==============================] - 0s 2ms/step - loss: 0.7395 - accuracy: 0.6189 - val_loss: 0.7284 - val_accuracy: 0.6771\n",
            "Epoch 8/200\n",
            "72/72 [==============================] - 0s 2ms/step - loss: 0.6294 - accuracy: 0.6950 - val_loss: 0.6897 - val_accuracy: 0.6510\n",
            "Epoch 9/200\n",
            "72/72 [==============================] - 0s 2ms/step - loss: 0.6711 - accuracy: 0.6357 - val_loss: 0.8507 - val_accuracy: 0.6146\n",
            "Epoch 10/200\n",
            "72/72 [==============================] - 0s 2ms/step - loss: 0.7015 - accuracy: 0.6662 - val_loss: 0.6605 - val_accuracy: 0.6562\n",
            "Epoch 11/200\n",
            "72/72 [==============================] - 0s 2ms/step - loss: 0.7145 - accuracy: 0.6598 - val_loss: 0.9425 - val_accuracy: 0.5677\n",
            "Epoch 12/200\n",
            "72/72 [==============================] - 0s 2ms/step - loss: 0.7211 - accuracy: 0.6527 - val_loss: 0.6507 - val_accuracy: 0.6823\n",
            "Epoch 13/200\n",
            "72/72 [==============================] - 0s 2ms/step - loss: 0.6391 - accuracy: 0.6977 - val_loss: 0.6458 - val_accuracy: 0.6667\n",
            "Epoch 14/200\n",
            "72/72 [==============================] - 0s 2ms/step - loss: 0.6480 - accuracy: 0.6528 - val_loss: 0.6994 - val_accuracy: 0.5938\n",
            "Epoch 15/200\n",
            "72/72 [==============================] - 0s 2ms/step - loss: 0.6069 - accuracy: 0.6841 - val_loss: 0.6661 - val_accuracy: 0.6823\n",
            "Epoch 16/200\n",
            "72/72 [==============================] - 0s 2ms/step - loss: 0.6093 - accuracy: 0.7070 - val_loss: 0.6255 - val_accuracy: 0.6927\n",
            "Epoch 17/200\n",
            "72/72 [==============================] - 0s 2ms/step - loss: 0.6198 - accuracy: 0.6634 - val_loss: 0.6653 - val_accuracy: 0.7083\n",
            "Epoch 18/200\n",
            "72/72 [==============================] - 0s 2ms/step - loss: 0.5686 - accuracy: 0.7184 - val_loss: 0.6276 - val_accuracy: 0.6979\n",
            "Epoch 19/200\n",
            "72/72 [==============================] - 0s 2ms/step - loss: 0.6073 - accuracy: 0.6665 - val_loss: 0.6870 - val_accuracy: 0.6406\n",
            "Epoch 20/200\n",
            "72/72 [==============================] - 0s 2ms/step - loss: 0.6683 - accuracy: 0.6855 - val_loss: 0.6785 - val_accuracy: 0.6719\n",
            "Epoch 21/200\n",
            "72/72 [==============================] - 0s 2ms/step - loss: 0.6586 - accuracy: 0.6789 - val_loss: 0.8056 - val_accuracy: 0.6562\n",
            "Epoch 00021: early stopping\n"
          ],
          "name": "stdout"
        }
      ]
    },
    {
      "cell_type": "markdown",
      "metadata": {
        "id": "t0kqMCg_lrT6"
      },
      "source": [
        "## Avaliação do modelo"
      ]
    },
    {
      "cell_type": "code",
      "metadata": {
        "colab": {
          "base_uri": "https://localhost:8080/"
        },
        "id": "9y1el1TAkon8",
        "outputId": "8f1ff14c-c56a-4d93-a4a4-f7d6147fdb00"
      },
      "source": [
        "precisao = model.evaluate(X_test, y_test, verbose=0)\n",
        "print(\"Precisão = %.2f%%\" % (precisao[1]*100))"
      ],
      "execution_count": 13,
      "outputs": [
        {
          "output_type": "stream",
          "text": [
            "Precisão = 65.62%\n"
          ],
          "name": "stdout"
        }
      ]
    },
    {
      "cell_type": "markdown",
      "metadata": {
        "id": "uyKm2az5rK1l"
      },
      "source": [
        "## Análise da função loss (erro/perda)"
      ]
    },
    {
      "cell_type": "code",
      "metadata": {
        "id": "sAa0vfeorRu1",
        "colab": {
          "base_uri": "https://localhost:8080/",
          "height": 297
        },
        "outputId": "073ae36d-81fe-49da-e801-e5aa5d8e28d8"
      },
      "source": [
        "import matplotlib.pyplot as plt\n",
        "plt.plot(history.history['loss'])\n",
        "plt.plot(history.history['val_loss'], '')\n",
        "plt.xlabel(\"Épocas\")\n",
        "plt.ylabel('Loss')\n",
        "plt.title('Função de erro/loss durante o treinamento')\n",
        "plt.legend(['loss', 'val_loss'])\n",
        "plt.show()"
      ],
      "execution_count": 15,
      "outputs": [
        {
          "output_type": "display_data",
          "data": {
            "image/png": "[encoded data removed]",
            "text/plain": [
              "<Figure size 432x288 with 1 Axes>"
            ]
          },
          "metadata": {
            "tags": [],
            "needs_background": "light"
          }
        }
      ]
    },
    {
      "cell_type": "markdown",
      "metadata": {
        "id": "2WAubPVjrbaq"
      },
      "source": [
        "## Análise da métrica de desempenho (acurácia)"
      ]
    },
    {
      "cell_type": "code",
      "metadata": {
        "id": "DDwxEB_EsBLz",
        "colab": {
          "base_uri": "https://localhost:8080/",
          "height": 295
        },
        "outputId": "4d9874aa-f0fd-4895-cb6d-08c0f61f29f3"
      },
      "source": [
        "plt.plot(history.history['accuracy'])\n",
        "plt.plot(history.history['val_accuracy'], '')\n",
        "plt.xlabel(\"Epochs\")\n",
        "plt.ylabel('accuracy')\n",
        "plt.title('Change of accuracy over Epochs')\n",
        "plt.legend(['accuracy', 'val_accuracy'])\n",
        "plt.show()"
      ],
      "execution_count": 16,
      "outputs": [
        {
          "output_type": "display_data",
          "data": {
            "image/png": "[encoded data removed]",
            "text/plain": [
              "<Figure size 432x288 with 1 Axes>"
            ]
          },
          "metadata": {
            "tags": [],
            "needs_background": "light"
          }
        }
      ]
    }
  ]
}