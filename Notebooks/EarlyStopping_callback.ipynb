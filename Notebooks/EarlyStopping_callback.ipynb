{
  "nbformat": 4,
  "nbformat_minor": 0,
  "metadata": {
    "kernelspec": {
      "display_name": "Python 3",
      "language": "python",
      "name": "python3"
    },
    "language_info": {
      "codemirror_mode": {
        "name": "ipython",
        "version": 3
      },
      "file_extension": ".py",
      "mimetype": "text/x-python",
      "name": "python",
      "nbconvert_exporter": "python",
      "pygments_lexer": "ipython3",
      "version": "3.7.3"
    },
    "colab": {
      "name": "EarlyStopping_callback.ipynb",
      "provenance": [],
      "collapsed_sections": []
    }
  },
  "cells": [
    {
      "cell_type": "markdown",
      "metadata": {
        "id": "Z7K0SeDgzjL2"
      },
      "source": [
        "---\n",
        "\n",
        "---\n",
        "\n",
        "# Predição de diabetes\n",
        "\n",
        "Este notebook aplica uma rede neural para predizer se um paciente tem diabetes ou não com base em certas medidas diagnósticas incluídas no conjunto de dados.\n",
        "\n",
        "O conjunto de dados utilizado descreve os dados do prontuário médico do paciente dos [índios Pima](https://pt.wikipedia.org/wiki/Pima) e se eles começaram a desenvolver diabetes em cinco anos.\n",
        "\n",
        "Trata-se de um problema de classificação binária (início do diabetes como 1 ou não como 0). Todas as variáveis ​​de entrada que descrevem cada paciente são numéricas.\n",
        "\n",
        "Utiliza-se a API callback **EarlyStopping.**\n",
        "\n",
        "*Obs: o modelo apresentado aqui não está otimizado uma vez que o objetivo deste notebook é o de apresentar a aplicação da função callback EarlyStopping\".*\n",
        "\n",
        "---\n",
        "\n",
        "\n",
        "\n",
        "---\n",
        "\n",
        "\n"
      ]
    },
    {
      "cell_type": "markdown",
      "metadata": {
        "id": "PcWx36BdDBX0"
      },
      "source": [
        "## Conjunto de dados\n",
        "\n",
        "- Fonte: https://www.kaggle.com/uciml/pima-indians-diabetes-database\n",
        "- Proprietários originais: National Institute of Diabetes and Digestive and Kidney Diseases\n",
        "- Doadores da base de dados: Vincent Sigillito (vgs@aplcen.apl.jhu.edu), \n",
        "Research Center, RMI Group Leader, Applied Physics Laboratory, The Johns Hopkins University (1990)\n",
        "\n",
        "Detalhes sobre o conjunto de dados:\n",
        "\n",
        "1. Número de instâncias: 768\n",
        "\n",
        "2. Número de atributos: 8 (mais classe target)\n",
        "\n",
        "3. Atributos: (todos com valor numérico)\n",
        "   1. Número de vezes que engravidou (*Pregnancies*)\n",
        "   2. Concentração de glicose plasmática a 2 horas em um teste de tolerância à glicose oral (*Glucose*)\n",
        "   3. Pressão arterial diastólica (mm Hg) (*BloodPressure*)\n",
        "   4. Espessura da dobra da pele do tríceps (mm) (*SkinThickness*)\n",
        "   5. Insulina sérica de 2 horas (mu U / ml) (*Insulin*)\n",
        "   6. Índice de massa corporal (peso em kg / (altura em m) ^ 2) (*BMI*)\n",
        "   7. Função de pedigree de diabetes (*DiabetesPedigreeFunction*)\n",
        "   8. Idade (anos) (*Age*)\n",
        "   \n",
        "4. Variável target (classe): 0 ou 1 (valor de classe 1 é interpretado como \"teste positivo para diabetes\")\n",
        "\n",
        "   Classe Valor Número de instâncias\n",
        "   - 500 => 0\n",
        "   - 268 => 1\n",
        "\n",
        " "
      ]
    },
    {
      "cell_type": "markdown",
      "metadata": {
        "id": "LWXwGCqvIwgN"
      },
      "source": [
        "## Leitura e preparação dos dados\n",
        "\n",
        "Vamos começar importando o arquivo CSV bruto usando o Pandas."
      ]
    },
    {
      "cell_type": "code",
      "metadata": {
        "scrolled": true,
        "colab": {
          "base_uri": "https://localhost:8080/",
          "height": 323
        },
        "id": "LM6AT7tPzjL6",
        "outputId": "2e4b1843-49db-4829-a4d9-ea326519b543"
      },
      "source": [
        "import pandas as pd\n",
        "\n",
        "# Clone do repositório de dados do GitHub\n",
        "!git clone https://github.com/malegopc/AM2PUCPOC\n",
        "# lê arquivo de dados, atribue NaN para dados faltantes e rótulos em cada coluna\n",
        "diabetes = pd.read_csv('/content/AM2PUCPOC/Datasets/Indians_Diabetes/diabetes.csv', na_values=['?'])\n",
        "# imprime as 5 primeiras linhas dos dados montados\n",
        "diabetes.head()"
      ],
      "execution_count": 1,
      "outputs": [
        {
          "output_type": "stream",
          "text": [
            "Cloning into 'AM2PUCPOC'...\n",
            "remote: Enumerating objects: 89, done.\u001b[K\n",
            "remote: Counting objects: 100% (89/89), done.\u001b[K\n",
            "remote: Compressing objects: 100% (84/84), done.\u001b[K\n",
            "remote: Total 337 (delta 30), reused 0 (delta 0), pack-reused 248\u001b[K\n",
            "Receiving objects: 100% (337/337), 4.82 MiB | 11.11 MiB/s, done.\n",
            "Resolving deltas: 100% (96/96), done.\n"
          ],
          "name": "stdout"
        },
        {
          "output_type": "execute_result",
          "data": {
            "text/html": [
              "<div>\n",
              "<style scoped>\n",
              "    .dataframe tbody tr th:only-of-type {\n",
              "        vertical-align: middle;\n",
              "    }\n",
              "\n",
              "    .dataframe tbody tr th {\n",
              "        vertical-align: top;\n",
              "    }\n",
              "\n",
              "    .dataframe thead th {\n",
              "        text-align: right;\n",
              "    }\n",
              "</style>\n",
              "<table border=\"1\" class=\"dataframe\">\n",
              "  <thead>\n",
              "    <tr style=\"text-align: right;\">\n",
              "      <th></th>\n",
              "      <th>Pregnancies</th>\n",
              "      <th>Glucose</th>\n",
              "      <th>BloodPressure</th>\n",
              "      <th>SkinThickness</th>\n",
              "      <th>Insulin</th>\n",
              "      <th>BMI</th>\n",
              "      <th>DiabetesPedigreeFunction</th>\n",
              "      <th>Age</th>\n",
              "      <th>Outcome</th>\n",
              "    </tr>\n",
              "  </thead>\n",
              "  <tbody>\n",
              "    <tr>\n",
              "      <th>0</th>\n",
              "      <td>6</td>\n",
              "      <td>148</td>\n",
              "      <td>72</td>\n",
              "      <td>35</td>\n",
              "      <td>0</td>\n",
              "      <td>33.6</td>\n",
              "      <td>0.627</td>\n",
              "      <td>50</td>\n",
              "      <td>1</td>\n",
              "    </tr>\n",
              "    <tr>\n",
              "      <th>1</th>\n",
              "      <td>1</td>\n",
              "      <td>85</td>\n",
              "      <td>66</td>\n",
              "      <td>29</td>\n",
              "      <td>0</td>\n",
              "      <td>26.6</td>\n",
              "      <td>0.351</td>\n",
              "      <td>31</td>\n",
              "      <td>0</td>\n",
              "    </tr>\n",
              "    <tr>\n",
              "      <th>2</th>\n",
              "      <td>8</td>\n",
              "      <td>183</td>\n",
              "      <td>64</td>\n",
              "      <td>0</td>\n",
              "      <td>0</td>\n",
              "      <td>23.3</td>\n",
              "      <td>0.672</td>\n",
              "      <td>32</td>\n",
              "      <td>1</td>\n",
              "    </tr>\n",
              "    <tr>\n",
              "      <th>3</th>\n",
              "      <td>1</td>\n",
              "      <td>89</td>\n",
              "      <td>66</td>\n",
              "      <td>23</td>\n",
              "      <td>94</td>\n",
              "      <td>28.1</td>\n",
              "      <td>0.167</td>\n",
              "      <td>21</td>\n",
              "      <td>0</td>\n",
              "    </tr>\n",
              "    <tr>\n",
              "      <th>4</th>\n",
              "      <td>0</td>\n",
              "      <td>137</td>\n",
              "      <td>40</td>\n",
              "      <td>35</td>\n",
              "      <td>168</td>\n",
              "      <td>43.1</td>\n",
              "      <td>2.288</td>\n",
              "      <td>33</td>\n",
              "      <td>1</td>\n",
              "    </tr>\n",
              "  </tbody>\n",
              "</table>\n",
              "</div>"
            ],
            "text/plain": [
              "   Pregnancies  Glucose  BloodPressure  ...  DiabetesPedigreeFunction  Age  Outcome\n",
              "0            6      148             72  ...                     0.627   50        1\n",
              "1            1       85             66  ...                     0.351   31        0\n",
              "2            8      183             64  ...                     0.672   32        1\n",
              "3            1       89             66  ...                     0.167   21        0\n",
              "4            0      137             40  ...                     2.288   33        1\n",
              "\n",
              "[5 rows x 9 columns]"
            ]
          },
          "metadata": {
            "tags": []
          },
          "execution_count": 1
        }
      ]
    },
    {
      "cell_type": "markdown",
      "metadata": {
        "id": "yabMrBvezjMC"
      },
      "source": [
        "## Separa os atributos das classes\n",
        "\n",
        "Extrai os atributos e as classes (rótulos) colocando-os em duas variáveis separadas (na forma que o Keras espera)."
      ]
    },
    {
      "cell_type": "code",
      "metadata": {
        "colab": {
          "base_uri": "https://localhost:8080/"
        },
        "id": "9pK51IcczjMC",
        "outputId": "4cafbb35-aaf3-4d65-d007-b849ab55c10f"
      },
      "source": [
        "X = diabetes.drop('Outcome', axis=1).values\n",
        "y = diabetes['Outcome'].values\n",
        "print(X.shape)\n",
        "print(y.shape)"
      ],
      "execution_count": 2,
      "outputs": [
        {
          "output_type": "stream",
          "text": [
            "(768, 8)\n",
            "(768,)\n"
          ],
          "name": "stdout"
        }
      ]
    },
    {
      "cell_type": "markdown",
      "metadata": {
        "id": "4FDcvELVsUKP"
      },
      "source": [
        "## Divide o conjunto de dados em treino e teste"
      ]
    },
    {
      "cell_type": "code",
      "metadata": {
        "colab": {
          "base_uri": "https://localhost:8080/"
        },
        "id": "sw238KjusYNf",
        "outputId": "b84a3985-125b-4d7a-b7b5-5e6f6723b157"
      },
      "source": [
        "from sklearn.model_selection import train_test_split\n",
        "X_train, X_test, y_train, y_test = train_test_split(X,y,test_size=0.25,random_state=42)\n",
        "print(X_train.shape)\n",
        "print(y_train.shape)\n",
        "print(X_test.shape)\n",
        "print(y_test.shape)"
      ],
      "execution_count": 3,
      "outputs": [
        {
          "output_type": "stream",
          "text": [
            "(576, 8)\n",
            "(576,)\n",
            "(192, 8)\n",
            "(192,)\n"
          ],
          "name": "stdout"
        }
      ]
    },
    {
      "cell_type": "markdown",
      "metadata": {
        "id": "zyWHf7bCzjMD"
      },
      "source": [
        "## Criação do modelo de rede neural\n",
        "\n",
        "\n"
      ]
    },
    {
      "cell_type": "code",
      "metadata": {
        "colab": {
          "base_uri": "https://localhost:8080/"
        },
        "id": "uwpVybNDzjME",
        "outputId": "de5d5968-3528-4c46-e695-e54e02c6fade"
      },
      "source": [
        "from keras.models import Sequential\n",
        "from keras.layers import Dense\n",
        "from keras.utils import plot_model\n",
        "\n",
        "model = Sequential()\n",
        "# 1a. camada oculta com 20 neurônios (definição das entradas)\n",
        "model.add(Dense(20, input_dim=X_train.shape[1], activation='relu'))\n",
        "# 2a. camada oculta com 10 neurônios\n",
        "model.add(Dense(10, activation='relu'))\n",
        "# camada de saída com um neurônio\n",
        "model.add(Dense(1, activation='sigmoid'))\n",
        "# sumário (resumo) do modelo\n",
        "model.summary()"
      ],
      "execution_count": 4,
      "outputs": [
        {
          "output_type": "stream",
          "text": [
            "Model: \"sequential\"\n",
            "_________________________________________________________________\n",
            "Layer (type)                 Output Shape              Param #   \n",
            "=================================================================\n",
            "dense (Dense)                (None, 20)                180       \n",
            "_________________________________________________________________\n",
            "dense_1 (Dense)              (None, 10)                210       \n",
            "_________________________________________________________________\n",
            "dense_2 (Dense)              (None, 1)                 11        \n",
            "=================================================================\n",
            "Total params: 401\n",
            "Trainable params: 401\n",
            "Non-trainable params: 0\n",
            "_________________________________________________________________\n"
          ],
          "name": "stdout"
        }
      ]
    },
    {
      "cell_type": "markdown",
      "metadata": {
        "id": "wHhaiOZfcPR1"
      },
      "source": [
        "## Compilação do modelo"
      ]
    },
    {
      "cell_type": "code",
      "metadata": {
        "id": "HWM1ThWlzjMF"
      },
      "source": [
        "model.compile(loss='binary_crossentropy', optimizer='adam', metrics=['accuracy'])"
      ],
      "execution_count": 6,
      "outputs": []
    },
    {
      "cell_type": "markdown",
      "metadata": {
        "id": "n2dOhpdZceL0"
      },
      "source": [
        "## Treinamento do modelo"
      ]
    },
    {
      "cell_type": "code",
      "metadata": {
        "colab": {
          "base_uri": "https://localhost:8080/"
        },
        "id": "M-OXJQ3vciV1",
        "outputId": "f054d9b5-4d36-43fa-8f3e-4eb3bee344cd"
      },
      "source": [
        "from keras.callbacks import EarlyStopping\n",
        "\n",
        "early_stop = EarlyStopping(monitor='val_loss', min_delta = 1e-10, patience=5, restore_best_weights = 'True', verbose=1)\n",
        "history = model.fit(X_train,y_train, validation_data=(X_test,y_test), batch_size=8, epochs=200, callbacks=[early_stop])"
      ],
      "execution_count": 7,
      "outputs": [
        {
          "output_type": "stream",
          "text": [
            "Epoch 1/200\n",
            "72/72 [==============================] - 1s 8ms/step - loss: 3.6067 - accuracy: 0.6364 - val_loss: 1.1436 - val_accuracy: 0.6406\n",
            "Epoch 2/200\n",
            "72/72 [==============================] - 0s 2ms/step - loss: 0.8614 - accuracy: 0.6594 - val_loss: 0.9213 - val_accuracy: 0.5990\n",
            "Epoch 3/200\n",
            "72/72 [==============================] - 0s 2ms/step - loss: 0.7529 - accuracy: 0.6199 - val_loss: 0.8386 - val_accuracy: 0.6354\n",
            "Epoch 4/200\n",
            "72/72 [==============================] - 0s 2ms/step - loss: 0.7459 - accuracy: 0.6385 - val_loss: 0.7886 - val_accuracy: 0.6562\n",
            "Epoch 5/200\n",
            "72/72 [==============================] - 0s 2ms/step - loss: 0.6963 - accuracy: 0.6256 - val_loss: 0.7633 - val_accuracy: 0.6562\n",
            "Epoch 6/200\n",
            "72/72 [==============================] - 0s 2ms/step - loss: 0.6810 - accuracy: 0.6803 - val_loss: 0.7571 - val_accuracy: 0.6562\n",
            "Epoch 7/200\n",
            "72/72 [==============================] - 0s 2ms/step - loss: 0.6351 - accuracy: 0.6982 - val_loss: 0.7734 - val_accuracy: 0.6719\n",
            "Epoch 8/200\n",
            "72/72 [==============================] - 0s 2ms/step - loss: 0.5976 - accuracy: 0.7055 - val_loss: 0.7263 - val_accuracy: 0.6823\n",
            "Epoch 9/200\n",
            "72/72 [==============================] - 0s 2ms/step - loss: 0.5996 - accuracy: 0.7405 - val_loss: 0.7607 - val_accuracy: 0.6250\n",
            "Epoch 10/200\n",
            "72/72 [==============================] - 0s 2ms/step - loss: 0.6049 - accuracy: 0.6904 - val_loss: 0.7301 - val_accuracy: 0.6406\n",
            "Epoch 11/200\n",
            "72/72 [==============================] - 0s 2ms/step - loss: 0.5702 - accuracy: 0.7144 - val_loss: 0.7657 - val_accuracy: 0.6875\n",
            "Epoch 12/200\n",
            "72/72 [==============================] - 0s 2ms/step - loss: 0.6394 - accuracy: 0.7010 - val_loss: 0.7130 - val_accuracy: 0.6927\n",
            "Epoch 13/200\n",
            "72/72 [==============================] - 0s 2ms/step - loss: 0.5898 - accuracy: 0.7139 - val_loss: 0.8126 - val_accuracy: 0.6615\n",
            "Epoch 14/200\n",
            "72/72 [==============================] - 0s 2ms/step - loss: 0.5888 - accuracy: 0.6726 - val_loss: 0.7499 - val_accuracy: 0.6771\n",
            "Epoch 15/200\n",
            "72/72 [==============================] - 0s 2ms/step - loss: 0.5597 - accuracy: 0.7031 - val_loss: 0.7348 - val_accuracy: 0.6354\n",
            "Epoch 16/200\n",
            "72/72 [==============================] - 0s 2ms/step - loss: 0.5404 - accuracy: 0.7307 - val_loss: 0.7134 - val_accuracy: 0.7083\n",
            "Epoch 17/200\n",
            "72/72 [==============================] - 0s 2ms/step - loss: 0.5649 - accuracy: 0.7150 - val_loss: 0.7118 - val_accuracy: 0.6667\n",
            "Epoch 18/200\n",
            "72/72 [==============================] - 0s 2ms/step - loss: 0.5604 - accuracy: 0.7112 - val_loss: 0.7193 - val_accuracy: 0.6719\n",
            "Epoch 19/200\n",
            "72/72 [==============================] - 0s 2ms/step - loss: 0.5620 - accuracy: 0.6981 - val_loss: 0.7722 - val_accuracy: 0.6719\n",
            "Epoch 20/200\n",
            "72/72 [==============================] - 0s 2ms/step - loss: 0.5479 - accuracy: 0.7333 - val_loss: 0.7220 - val_accuracy: 0.6615\n",
            "Epoch 21/200\n",
            "72/72 [==============================] - 0s 2ms/step - loss: 0.5203 - accuracy: 0.7173 - val_loss: 0.7064 - val_accuracy: 0.6406\n",
            "Epoch 22/200\n",
            "72/72 [==============================] - 0s 2ms/step - loss: 0.5580 - accuracy: 0.7187 - val_loss: 0.7133 - val_accuracy: 0.6875\n",
            "Epoch 23/200\n",
            "72/72 [==============================] - 0s 2ms/step - loss: 0.5156 - accuracy: 0.7546 - val_loss: 0.6961 - val_accuracy: 0.6875\n",
            "Epoch 24/200\n",
            "72/72 [==============================] - 0s 2ms/step - loss: 0.5161 - accuracy: 0.7645 - val_loss: 0.6828 - val_accuracy: 0.7083\n",
            "Epoch 25/200\n",
            "72/72 [==============================] - 0s 2ms/step - loss: 0.5278 - accuracy: 0.7264 - val_loss: 0.6712 - val_accuracy: 0.6875\n",
            "Epoch 26/200\n",
            "72/72 [==============================] - 0s 2ms/step - loss: 0.5257 - accuracy: 0.7473 - val_loss: 0.6969 - val_accuracy: 0.6406\n",
            "Epoch 27/200\n",
            "72/72 [==============================] - 0s 2ms/step - loss: 0.5622 - accuracy: 0.7037 - val_loss: 0.6698 - val_accuracy: 0.7031\n",
            "Epoch 28/200\n",
            "72/72 [==============================] - 0s 2ms/step - loss: 0.5511 - accuracy: 0.7311 - val_loss: 0.7175 - val_accuracy: 0.7083\n",
            "Epoch 29/200\n",
            "72/72 [==============================] - 0s 2ms/step - loss: 0.5797 - accuracy: 0.7044 - val_loss: 0.6673 - val_accuracy: 0.6719\n",
            "Epoch 30/200\n",
            "72/72 [==============================] - 0s 2ms/step - loss: 0.5690 - accuracy: 0.7213 - val_loss: 0.7034 - val_accuracy: 0.6927\n",
            "Epoch 31/200\n",
            "72/72 [==============================] - 0s 2ms/step - loss: 0.5501 - accuracy: 0.7471 - val_loss: 0.6800 - val_accuracy: 0.7188\n",
            "Epoch 32/200\n",
            "72/72 [==============================] - 0s 2ms/step - loss: 0.5270 - accuracy: 0.7509 - val_loss: 0.6573 - val_accuracy: 0.6719\n",
            "Epoch 33/200\n",
            "72/72 [==============================] - 0s 2ms/step - loss: 0.5558 - accuracy: 0.7287 - val_loss: 0.7234 - val_accuracy: 0.6302\n",
            "Epoch 34/200\n",
            "72/72 [==============================] - 0s 2ms/step - loss: 0.5573 - accuracy: 0.7188 - val_loss: 0.6737 - val_accuracy: 0.6927\n",
            "Epoch 35/200\n",
            "72/72 [==============================] - 0s 2ms/step - loss: 0.4990 - accuracy: 0.7494 - val_loss: 0.7305 - val_accuracy: 0.6927\n",
            "Epoch 36/200\n",
            "72/72 [==============================] - 0s 2ms/step - loss: 0.5857 - accuracy: 0.7272 - val_loss: 0.6702 - val_accuracy: 0.7031\n",
            "Epoch 37/200\n",
            "72/72 [==============================] - 0s 2ms/step - loss: 0.5396 - accuracy: 0.7178 - val_loss: 0.6755 - val_accuracy: 0.7031\n",
            "Restoring model weights from the end of the best epoch.\n",
            "Epoch 00037: early stopping\n"
          ],
          "name": "stdout"
        }
      ]
    },
    {
      "cell_type": "markdown",
      "metadata": {
        "id": "t0kqMCg_lrT6"
      },
      "source": [
        "## Função Erro/loss"
      ]
    },
    {
      "cell_type": "code",
      "metadata": {
        "colab": {
          "base_uri": "https://localhost:8080/"
        },
        "id": "9y1el1TAkon8",
        "outputId": "f89d2c5c-0291-4ded-b9b7-67c49832de01"
      },
      "source": [
        "precisao = model.evaluate(X_test, y_test, verbose=0)\n",
        "print(\"Função de erro/loss = %.4f\" % precisao[0])"
      ],
      "execution_count": 10,
      "outputs": [
        {
          "output_type": "stream",
          "text": [
            "Função de erro/loss = 0.6573\n"
          ],
          "name": "stdout"
        }
      ]
    },
    {
      "cell_type": "markdown",
      "metadata": {
        "id": "uyKm2az5rK1l"
      },
      "source": [
        "## Análise da função loss (erro/perda)"
      ]
    },
    {
      "cell_type": "code",
      "metadata": {
        "id": "sAa0vfeorRu1",
        "colab": {
          "base_uri": "https://localhost:8080/",
          "height": 297
        },
        "outputId": "a2a561ab-c574-4e92-d79f-65499ead1a36"
      },
      "source": [
        "import matplotlib.pyplot as plt\n",
        "plt.plot(history.history['loss'])\n",
        "plt.plot(history.history['val_loss'], '')\n",
        "plt.xlabel(\"Épocas\")\n",
        "plt.ylabel('Loss')\n",
        "plt.title('Função de erro/loss durante o treinamento')\n",
        "plt.legend(['loss', 'val_loss'])\n",
        "plt.show()"
      ],
      "execution_count": 11,
      "outputs": [
        {
          "output_type": "display_data",
          "data": {
            "image/png": "[encoded data removed]",
            "text/plain": [
              "<Figure size 432x288 with 1 Axes>"
            ]
          },
          "metadata": {
            "tags": [],
            "needs_background": "light"
          }
        }
      ]
    },
    {
      "cell_type": "markdown",
      "metadata": {
        "id": "2WAubPVjrbaq"
      },
      "source": [
        "## Análise da métrica de desempenho (acurácia)"
      ]
    },
    {
      "cell_type": "code",
      "metadata": {
        "id": "DDwxEB_EsBLz",
        "colab": {
          "base_uri": "https://localhost:8080/",
          "height": 295
        },
        "outputId": "efb9ddc9-4422-4e4e-df77-aa7926c58fa9"
      },
      "source": [
        "plt.plot(history.history['accuracy'])\n",
        "plt.plot(history.history['val_accuracy'], '')\n",
        "plt.xlabel(\"Epochs\")\n",
        "plt.ylabel('accuracy')\n",
        "plt.title('Change of accuracy over Epochs')\n",
        "plt.legend(['accuracy', 'val_accuracy'])\n",
        "plt.show()"
      ],
      "execution_count": 12,
      "outputs": [
        {
          "output_type": "display_data",
          "data": {
            "image/png": "[encoded data removed]",
            "text/plain": [
              "<Figure size 432x288 with 1 Axes>"
            ]
          },
          "metadata": {
            "tags": [],
            "needs_background": "light"
          }
        }
      ]
    }
  ]
}