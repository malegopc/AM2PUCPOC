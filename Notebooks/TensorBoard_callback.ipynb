{
  "nbformat": 4,
  "nbformat_minor": 0,
  "metadata": {
    "kernelspec": {
      "display_name": "Python 3",
      "language": "python",
      "name": "python3"
    },
    "language_info": {
      "codemirror_mode": {
        "name": "ipython",
        "version": 3
      },
      "file_extension": ".py",
      "mimetype": "text/x-python",
      "name": "python",
      "nbconvert_exporter": "python",
      "pygments_lexer": "ipython3",
      "version": "3.7.3"
    },
    "colab": {
      "name": "TensorBoard_callback.ipynb",
      "provenance": [],
      "collapsed_sections": []
    }
  },
  "cells": [
    {
      "cell_type": "markdown",
      "metadata": {
        "id": "Z7K0SeDgzjL2"
      },
      "source": [
        "---\n",
        "\n",
        "---\n",
        "\n",
        "# Predição sonar (rocha ou mina)\n",
        "\n",
        "Este notebook implementa uma rede neural para predizer se um objeto é uma mina ou uma rocha com base em sinais de um sonar obtidos em diferentes ângulos.\n",
        "\n",
        "Trata-se de um problema de classificação binária (R-rocha ou M-mina).\n",
        "\n",
        "Obs: este notebook utiliza a ferramenta de visualização **TensorBoard**.\n",
        "\n",
        "\n",
        "\n",
        "---\n",
        "\n",
        "\n",
        "\n",
        "---\n",
        "\n",
        "\n"
      ]
    },
    {
      "cell_type": "markdown",
      "metadata": {
        "id": "PcWx36BdDBX0"
      },
      "source": [
        "## Conjunto de dados\n",
        "\n",
        "- Fonte: https://archive.ics.uci.edu/ml/datasets/Connectionist+Bench+(Sonar,+Mines+vs.+Rocks)\n",
        "\n",
        "O conjunto de dados contém sinais obtidos de uma variedade de ângulos  diferentes. Cada padrão é um conjunto de 60 números no intervalo de 0,0 a 1,0. Cada número representa a energia dentro de uma determinada banda de frequência, integrada ao longo de um determinado período de tempo.\n",
        "\n",
        "Detalhes sobre o conjunto de dados:\n",
        "\n",
        "1. Número de instâncias: 208\n",
        "\n",
        "2. Número de atributos: 60 \n",
        "\n",
        "4. Variável target (classe): o rótulo associado a cada registro contém a letra “R” se o objeto for uma rocha e “M” se for uma mina (cilindro de metal)\n",
        "\n",
        " "
      ]
    },
    {
      "cell_type": "markdown",
      "metadata": {
        "id": "LWXwGCqvIwgN"
      },
      "source": [
        "## Leitura e preparação dos dados\n",
        "\n",
        "Vamos começar importando o arquivo CSV bruto usando o Pandas."
      ]
    },
    {
      "cell_type": "code",
      "metadata": {
        "scrolled": true,
        "id": "LM6AT7tPzjL6"
      },
      "source": [
        "import pandas as pd\n",
        "\n",
        "# Clone do repositório de dados do GitHub\n",
        "!git clone https://github.com/malegopc/AM2PUCPOC\n",
        "# lê arquivo de dados, atribue NaN para dados faltantes e informa cabeçalho como inexistentes (sem nomes para os atributos)\n",
        "sonar = pd.read_csv('/content/AM2PUCPOC/Datasets/Sonar/sonar.all-data.csv', na_values=['?'], header = None)\n",
        "# imprime as 5 primeiras linha dos dados montados\n",
        "sonar.head()"
      ],
      "execution_count": null,
      "outputs": []
    },
    {
      "cell_type": "markdown",
      "metadata": {
        "id": "kJQ2GfrN9UzE"
      },
      "source": [
        "## Transforma dados categóricos em números \n",
        "\n",
        "- M => 0 (mina)\n",
        "- R => 1 (rocha)"
      ]
    },
    {
      "cell_type": "code",
      "metadata": {
        "id": "ZBjbxIAe9pwr"
      },
      "source": [
        "sonar.replace(('R', 'M'), (1, 0), inplace=True)\n",
        "sonar.head()"
      ],
      "execution_count": null,
      "outputs": []
    },
    {
      "cell_type": "markdown",
      "metadata": {
        "id": "yabMrBvezjMC"
      },
      "source": [
        "## Separa os atributos das classes"
      ]
    },
    {
      "cell_type": "code",
      "metadata": {
        "id": "9pK51IcczjMC"
      },
      "source": [
        "sonar = sonar.values\n",
        "print(type(sonar))\n",
        "X = sonar[:,0:60].astype(float) # X recebe todas as colunas exceto a última\n",
        "y = sonar[:,60] # y recebe a última coluna\n",
        "print(X.shape)\n",
        "print(y.shape)"
      ],
      "execution_count": null,
      "outputs": []
    },
    {
      "cell_type": "markdown",
      "metadata": {
        "id": "4FDcvELVsUKP"
      },
      "source": [
        "## Divide o conjunto de dados em treino e teste"
      ]
    },
    {
      "cell_type": "code",
      "metadata": {
        "id": "sw238KjusYNf"
      },
      "source": [
        "from sklearn.model_selection import train_test_split\n",
        "X_train, X_test, y_train, y_test = train_test_split(X,y,test_size=0.25,random_state=42)\n",
        "print(X_train.shape)\n",
        "print(y_train.shape)\n",
        "print(X_test.shape)\n",
        "print(y_test.shape)"
      ],
      "execution_count": null,
      "outputs": []
    },
    {
      "cell_type": "markdown",
      "metadata": {
        "id": "zXORfm01A1CW"
      },
      "source": [
        "## Normaliza os dados"
      ]
    },
    {
      "cell_type": "code",
      "metadata": {
        "id": "O3oUIi2uA5MI"
      },
      "source": [
        "from sklearn.preprocessing import StandardScaler\n",
        "scaler = StandardScaler()\n",
        "X_train = scaler.fit_transform(X_train)\n",
        "X_test = scaler.transform(X_test)"
      ],
      "execution_count": null,
      "outputs": []
    },
    {
      "cell_type": "markdown",
      "metadata": {
        "id": "zyWHf7bCzjMD"
      },
      "source": [
        "## Criação do modelo de rede neural\n",
        "\n"
      ]
    },
    {
      "cell_type": "code",
      "metadata": {
        "id": "uwpVybNDzjME"
      },
      "source": [
        "from keras.models import Sequential\n",
        "from keras.layers import Dense\n",
        "from keras.layers import Dropout\n",
        "from keras.utils import plot_model\n",
        "\n",
        "model = Sequential()\n",
        "# Camada oculta com 30 neurônios (definição das entradas)\n",
        "model.add(Dense(30, input_dim=X_train.shape[1], activation='relu'))\n",
        "# Dropout Regularization\n",
        "model.add(Dropout(0.4))\n",
        "# camada de saída com um neurônio\n",
        "model.add(Dense(1, activation='sigmoid'))\n",
        "# sumário (resumo) do modelo\n",
        "model.summary()"
      ],
      "execution_count": null,
      "outputs": []
    },
    {
      "cell_type": "markdown",
      "metadata": {
        "id": "wHhaiOZfcPR1"
      },
      "source": [
        "## Compilação do modelo\n",
        "\n",
        "\n"
      ]
    },
    {
      "cell_type": "code",
      "metadata": {
        "id": "HWM1ThWlzjMF"
      },
      "source": [
        "model.compile(loss='binary_crossentropy', optimizer='adam', metrics=['accuracy'])"
      ],
      "execution_count": null,
      "outputs": []
    },
    {
      "cell_type": "markdown",
      "metadata": {
        "id": "GYOOpulC5Y_z"
      },
      "source": [
        "## Carrega o TensorBoard"
      ]
    },
    {
      "cell_type": "code",
      "metadata": {
        "id": "GFQFV8k13HGt"
      },
      "source": [
        "% load_ext tensorboard"
      ],
      "execution_count": null,
      "outputs": []
    },
    {
      "cell_type": "markdown",
      "metadata": {
        "id": "7Rryfd5c729x"
      },
      "source": [
        "### Define diretório de logs (registros) para o TensorBoard"
      ]
    },
    {
      "cell_type": "code",
      "metadata": {
        "id": "YhQTIIAcwHPu"
      },
      "source": [
        "import datetime, os\n",
        "logdir = os.path.join(\"logs\", datetime.datetime.now().strftime(\"run_%Y_%m_%d-%H_%M_%S\"))"
      ],
      "execution_count": null,
      "outputs": []
    },
    {
      "cell_type": "markdown",
      "metadata": {
        "id": "n2dOhpdZceL0"
      },
      "source": [
        "## Treinamento do modelo\n",
        "\n"
      ]
    },
    {
      "cell_type": "code",
      "metadata": {
        "id": "M-OXJQ3vciV1"
      },
      "source": [
        "from keras.callbacks import TensorBoard\n",
        "from keras.callbacks import EarlyStopping\n",
        "\n",
        "early_stop = EarlyStopping(monitor='val_loss', mode='min', verbose=1, patience=10)\n",
        "tensorboard_callback = TensorBoard(logdir, histogram_freq = 1) # callback TensorBoard\n",
        "history = model.fit(x=X_train,y=y_train, validation_data=(X_test,y_test), \n",
        "                    batch_size=5, epochs=80, \n",
        "                    callbacks=[early_stop,tensorboard_callback])"
      ],
      "execution_count": null,
      "outputs": []
    },
    {
      "cell_type": "markdown",
      "metadata": {
        "id": "qoCs6Pr6nXNW"
      },
      "source": [
        "## Executa ferramenta de visualização TensorBoard"
      ]
    },
    {
      "cell_type": "code",
      "metadata": {
        "id": "mtJfGWIQxNw7"
      },
      "source": [
        "% tensorboard --logdir logs"
      ],
      "execution_count": null,
      "outputs": []
    },
    {
      "cell_type": "markdown",
      "metadata": {
        "id": "1CmkK8sRoq0k"
      },
      "source": [
        "## Visualiza diretório de logs"
      ]
    },
    {
      "cell_type": "code",
      "metadata": {
        "id": "ZlVLf2gbou6E"
      },
      "source": [
        "!ls -l ./logs"
      ],
      "execution_count": null,
      "outputs": []
    },
    {
      "cell_type": "markdown",
      "metadata": {
        "id": "JgvmqYzRnm-z"
      },
      "source": [
        "## Remove (limpa) diretório de logs"
      ]
    },
    {
      "cell_type": "code",
      "metadata": {
        "id": "USYbasDA2wih"
      },
      "source": [
        "!rm -rf ./logs"
      ],
      "execution_count": null,
      "outputs": []
    },
    {
      "cell_type": "markdown",
      "metadata": {
        "id": "t0kqMCg_lrT6"
      },
      "source": [
        "## Avaliação do modelo"
      ]
    },
    {
      "cell_type": "code",
      "metadata": {
        "id": "9y1el1TAkon8"
      },
      "source": [
        "model.evaluate(X_test, y_test)"
      ],
      "execution_count": null,
      "outputs": []
    }
  ]
}