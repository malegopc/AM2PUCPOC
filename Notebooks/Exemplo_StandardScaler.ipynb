{
  "nbformat": 4,
  "nbformat_minor": 0,
  "metadata": {
    "colab": {
      "name": "Exemplo_StandardScaler.ipynb",
      "provenance": [],
      "collapsed_sections": []
    },
    "kernelspec": {
      "name": "python3",
      "display_name": "Python 3"
    },
    "accelerator": "GPU"
  },
  "cells": [
    {
      "cell_type": "markdown",
      "metadata": {
        "id": "nxJfRe4bfYVA"
      },
      "source": [
        "## Conjuntos de dados\n",
        "\n",
        "Fonte: https://br.financas.yahoo.com/quote/GOOG/history?p=GOOG\n",
        "\n",
        "- Dados de treinamento: valores de abertura (*Open*) da bolsa no período de 02-01-2015 até 30-12-2019 (arquivo: **GOOG_train.csv**)\n",
        "\n",
        "- Dados de teste: valores de abertura (*Open*) da bolsa no período de 02-01-2020 até 30-01-2020 (arquivo: **GOOG_train.test**)\n",
        "\n",
        "- Janela temporal (*timesteps*): 60 dias\n",
        "\n"
      ]
    },
    {
      "cell_type": "markdown",
      "metadata": {
        "id": "SgK6xTSQM9cA"
      },
      "source": [
        "## Clona repositório de dados da disciplina hospedado no GitHUb"
      ]
    },
    {
      "cell_type": "code",
      "metadata": {
        "id": "1SP-2hEvNDAA"
      },
      "source": [
        "!git clone \"https://github.com/malegopc/AM2PUCPOC\""
      ],
      "execution_count": null,
      "outputs": []
    },
    {
      "cell_type": "markdown",
      "metadata": {
        "id": "RfbvuLvTwx2w"
      },
      "source": [
        "## Leitura e preparação dos dados\n",
        "\n",
        "Vamos começar importando o arquivo CSV com os dados de treinamento usando o Pandas."
      ]
    },
    {
      "cell_type": "code",
      "metadata": {
        "id": "AIvPtcO1w2KN"
      },
      "source": [
        "import pandas as pd\n",
        "# lê arquivo de dados\n",
        "dataset_train = pd.read_csv('AM2PUCPOC/Datasets/Ações_Google/GOOG_train.csv')\n",
        "# mostra os dados\n",
        "dataset_train"
      ],
      "execution_count": null,
      "outputs": []
    },
    {
      "cell_type": "markdown",
      "metadata": {
        "id": "7j5_rnal0Jhv"
      },
      "source": [
        "## Separa os atributos de treinamento\n",
        "\n",
        "Extrai a coluna \"Open\" (valores de abertura da ação).\n"
      ]
    },
    {
      "cell_type": "code",
      "metadata": {
        "id": "yBbVG5Ju0SYP"
      },
      "source": [
        "training_set = dataset_train.iloc[:, 1:2].values # coluna 1\n",
        "print(training_set)\n",
        "print(training_set.shape)"
      ],
      "execution_count": null,
      "outputs": []
    },
    {
      "cell_type": "markdown",
      "metadata": {
        "id": "HT8_2UJegtG5"
      },
      "source": [
        "## Escalonamento dos dados\n",
        "\n",
        "Padroniza os dados para uma distribuição com média 0 e desvio-padrão 1."
      ]
    },
    {
      "cell_type": "code",
      "metadata": {
        "id": "OTrF2kR7gx9x"
      },
      "source": [
        "from sklearn.preprocessing import StandardScaler\n",
        "sc = StandardScaler()\n",
        "sc.fit(training_set)\n",
        "training_set_scaled = sc.transform(training_set)\n",
        "print(\"Média dos dados originais\",sc.mean_)\n",
        "print(\"Variância dos dados originais\",sc.var_)\n",
        "#training_set_scaled = sc.fit_transform(training_set)"
      ],
      "execution_count": null,
      "outputs": []
    },
    {
      "cell_type": "code",
      "metadata": {
        "id": "nwduXu1-JmPR"
      },
      "source": [
        "print(\"Média dos dados escalonados: \",round(training_set_scaled.mean()))\n",
        "print(\"Variância dos dados escalonados: \",round(training_set_scaled.var()))"
      ],
      "execution_count": null,
      "outputs": []
    },
    {
      "cell_type": "markdown",
      "metadata": {
        "id": "s3lS-1eX2iGs"
      },
      "source": [
        "## Gráfico dos dados originais e escalonados"
      ]
    },
    {
      "cell_type": "code",
      "metadata": {
        "id": "AlSW4nHsq__u"
      },
      "source": [
        "import matplotlib.pyplot as plt\n",
        "plt.figure(figsize=(15,5))\n",
        "plt.subplot(1, 2, 1)\n",
        "plt.title(\"Dados originais\")\n",
        "plt.plot(training_set)\n",
        "plt.grid(True)\n",
        "\n",
        "plt.subplot(1, 2, 2)\n",
        "plt.title(\"Dados escalonados (pós StandardScaler())\")\n",
        "plt.plot(training_set_scaled)\n",
        "plt.grid(True)\n",
        "plt.show()"
      ],
      "execution_count": null,
      "outputs": []
    }
  ]
}